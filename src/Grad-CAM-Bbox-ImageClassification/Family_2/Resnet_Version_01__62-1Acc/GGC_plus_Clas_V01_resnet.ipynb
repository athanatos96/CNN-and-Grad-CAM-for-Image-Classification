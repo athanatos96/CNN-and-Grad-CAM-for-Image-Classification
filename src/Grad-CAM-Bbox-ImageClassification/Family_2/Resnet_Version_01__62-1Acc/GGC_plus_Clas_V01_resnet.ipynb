{
 "cells": [
  {
   "cell_type": "code",
   "execution_count": 1,
   "id": "2dcb1ca1",
   "metadata": {},
   "outputs": [
    {
     "name": "stderr",
     "output_type": "stream",
     "text": [
      "D:\\Users\\Alex\\anaconda3\\lib\\site-packages\\scipy\\__init__.py:146: UserWarning: A NumPy version >=1.16.5 and <1.23.0 is required for this version of SciPy (detected version 1.23.4\n",
      "  warnings.warn(f\"A NumPy version >={np_minversion} and <{np_maxversion}\"\n"
     ]
    }
   ],
   "source": [
    "import os\n",
    "import time\n",
    "import numpy as np\n",
    "import pandas as pd\n",
    "from tqdm import tqdm\n",
    "\n",
    "from sklearn.model_selection import train_test_split"
   ]
  },
  {
   "cell_type": "code",
   "execution_count": 2,
   "id": "cca0c3fb",
   "metadata": {},
   "outputs": [],
   "source": [
    "import torch\n",
    "import torch.nn as nn\n",
    "#from torch.nn import functional as F\n",
    "from torch.utils.data import DataLoader\n",
    "from torchvision import models\n",
    "\n",
    "import torchvision.transforms as transforms"
   ]
  },
  {
   "cell_type": "code",
   "execution_count": 3,
   "id": "71f1c203",
   "metadata": {},
   "outputs": [],
   "source": [
    "from functions import(import_train_folder_dataset,\n",
    "                      Data,\n",
    "                      import_test_folder_dataset,\n",
    "                      Data_test,\n",
    "                      plot_loss_accuracy,\n",
    "                      save_model,\n",
    "                      save_metrics,\n",
    "                      save_predictions_as_csv\n",
    "                     )"
   ]
  },
  {
   "cell_type": "markdown",
   "id": "0718e13c",
   "metadata": {},
   "source": [
    "# Variables"
   ]
  },
  {
   "cell_type": "code",
   "execution_count": 4,
   "id": "3db7e115",
   "metadata": {},
   "outputs": [
    {
     "name": "stdout",
     "output_type": "stream",
     "text": [
      "cuda\n"
     ]
    }
   ],
   "source": [
    "model_epochs = 100 # 100\n",
    "\n",
    "lr = 0.006 # Learning rate.\n",
    "                            \n",
    "#torch.cuda.empty_cache()\n",
    "device = 'cuda' if torch.cuda.is_available() else 'cpu'\n",
    "print(device)\n",
    "\n",
    "\n",
    "TRAIN_BATCH_SIZE = 8\n",
    "TEST_BATCH_SIZE = 8\n",
    "\n",
    "checkpoints_save = 100 # Save after 50 epochs\n",
    "\n",
    "model_checkpoints = \"D:/Personal/Alex/Uni/MS IA/2 Curso/Fall 2022/Artificial Intelligence/Projects/Project 1/CheckPoints/\"\n",
    "PATH = \"D:\\\\Personal\\\\Alex\\\\Uni\\\\MS IA\\\\2 Curso\\\\Fall 2022\\Artificial Intelligence\\\\Projects\\\\Project 1\\\\Models Save\\\\GoogleNet_CAM-Plus-ImgClass\\\\\"\n",
    "\n",
    "# Path of the Data files\n",
    "train_data_path = \"D:/Personal/Alex/Uni/MS IA/2 Curso/Fall 2022/Artificial Intelligence/Projects/Project 1/data/Croped/Train\"\n",
    "test_data_path = \"D:/Personal/Alex/Uni/MS IA/2 Curso/Fall 2022/Artificial Intelligence/Projects/Project 1/data/Croped/Test\""
   ]
  },
  {
   "cell_type": "markdown",
   "id": "15fd7f21",
   "metadata": {},
   "source": [
    "# Import Data"
   ]
  },
  {
   "cell_type": "code",
   "execution_count": 5,
   "id": "87640fcf",
   "metadata": {},
   "outputs": [],
   "source": [
    "img_transform = transforms.Compose([transforms.ToPILImage(),\n",
    "                                    transforms.RandomRotation((-20,20)),\n",
    "                                    transforms.Resize((400, 400)),\n",
    "                                    transforms.RandomHorizontalFlip(),\n",
    "                                    transforms.ToTensor(),\n",
    "                                    transforms.Normalize((0.485, 0.456, 0.406), (0.229, 0.224, 0.225))])\n",
    "\n",
    "\n",
    "img_transform_val = transforms.Compose([transforms.ToPILImage(),\n",
    "                                        transforms.Resize((400, 400)),\n",
    "                                        transforms.ToTensor(),\n",
    "                                        transforms.Normalize((0.485, 0.456, 0.406), (0.229, 0.224, 0.225))])\n",
    "\n",
    "\n",
    "invTrans = transforms.Compose([ transforms.Normalize(mean = [ 0., 0., 0. ],\n",
    "                                                     std = [ 1/0.229, 1/0.224, 1/0.225 ]),\n",
    "                                transforms.Normalize(mean = [ -0.485, -0.456, -0.406 ],\n",
    "                                                     std = [ 1., 1., 1. ]),\n",
    "                               ])"
   ]
  },
  {
   "cell_type": "markdown",
   "id": "08d4aa62",
   "metadata": {},
   "source": [
    "## Train-Val data"
   ]
  },
  {
   "cell_type": "code",
   "execution_count": 6,
   "id": "8a919ef7",
   "metadata": {},
   "outputs": [
    {
     "name": "stdout",
     "output_type": "stream",
     "text": [
      "Train Dim of Data:  (1149, 400, 400, 3)\n",
      "Train Dim of Lables:  (1149,)\n"
     ]
    }
   ],
   "source": [
    "# Import the data\n",
    "train_data, train_labels = import_train_folder_dataset(train_data_path)\n",
    "print(\"Train Dim of Data: \", train_data.shape)\n",
    "print(\"Train Dim of Lables: \", train_labels.shape)"
   ]
  },
  {
   "cell_type": "code",
   "execution_count": 7,
   "id": "faef9154",
   "metadata": {},
   "outputs": [
    {
     "name": "stdout",
     "output_type": "stream",
     "text": [
      "Dim of Data:  (1034, 400, 400, 3)\n",
      "Dim of Lables:  (1034,)\n",
      "Dim of X_test:  (115, 400, 400, 3)\n",
      "Dim of y_test:  (115,)\n"
     ]
    }
   ],
   "source": [
    "# Split into Train, Validation\n",
    "X_train, X_val, y_train, y_val = train_test_split(train_data, train_labels, test_size=0.1, random_state=1)\n",
    "print(\"Dim of Data: \", X_train.shape)\n",
    "print(\"Dim of Lables: \", y_train.shape)\n",
    "print(\"Dim of X_test: \", X_val.shape)\n",
    "print(\"Dim of y_test: \", y_val.shape)"
   ]
  },
  {
   "cell_type": "code",
   "execution_count": 8,
   "id": "57ba1413",
   "metadata": {},
   "outputs": [
    {
     "name": "stdout",
     "output_type": "stream",
     "text": [
      "Train len:  1034\n",
      "Val len:  115\n"
     ]
    }
   ],
   "source": [
    "# Create the dataset object\n",
    "train_Dataset = Data(X_train, y_train, img_transform) # img_transform_2 img_transform\n",
    "val_Dataset = Data(X_val, y_val, img_transform_val)\n",
    "\n",
    "print(\"Train len: \",len(train_Dataset))\n",
    "print(\"Val len: \",len(val_Dataset))"
   ]
  },
  {
   "cell_type": "code",
   "execution_count": 9,
   "id": "84e8a189",
   "metadata": {},
   "outputs": [],
   "source": [
    "# Create the dataloaders\n",
    "train_loader = DataLoader(\n",
    "    train_Dataset, \n",
    "    batch_size=TRAIN_BATCH_SIZE,             \n",
    "    shuffle=True)\n",
    "\n",
    "valid_loader = DataLoader(\n",
    "    val_Dataset, \n",
    "    batch_size=TEST_BATCH_SIZE,\n",
    "    shuffle=False\n",
    "    )"
   ]
  },
  {
   "cell_type": "markdown",
   "id": "84335faa",
   "metadata": {},
   "source": [
    "## Test Data"
   ]
  },
  {
   "cell_type": "code",
   "execution_count": 10,
   "id": "aaa86a20",
   "metadata": {},
   "outputs": [
    {
     "name": "stdout",
     "output_type": "stream",
     "text": [
      "Test Dim of Data:  (380, 400, 400, 3)\n",
      "Test Dim of Lables:  (380,)\n"
     ]
    }
   ],
   "source": [
    "# Import the data\n",
    "test_data, test_names = import_test_folder_dataset(test_data_path)\n",
    "print(\"Test Dim of Data: \", test_data.shape)\n",
    "print(\"Test Dim of Lables: \", test_names.shape)"
   ]
  },
  {
   "cell_type": "code",
   "execution_count": 11,
   "id": "f9ce647e",
   "metadata": {},
   "outputs": [
    {
     "name": "stdout",
     "output_type": "stream",
     "text": [
      "Test len:  380\n"
     ]
    }
   ],
   "source": [
    "# Create the dataset object\n",
    "test_Dataset = Data_test(test_data, test_names, img_transform_val) # img_transform_2 img_transform\n",
    "\n",
    "print(\"Test len: \",len(test_Dataset))"
   ]
  },
  {
   "cell_type": "code",
   "execution_count": 12,
   "id": "6d05ab18",
   "metadata": {},
   "outputs": [],
   "source": [
    "# Create the dataloaders\n",
    "test_loader = DataLoader(\n",
    "    test_Dataset, \n",
    "    batch_size=1,             \n",
    "    shuffle=False)"
   ]
  },
  {
   "cell_type": "markdown",
   "id": "e5b541df",
   "metadata": {},
   "source": [
    "# Create Model"
   ]
  },
  {
   "cell_type": "code",
   "execution_count": 13,
   "id": "c7e94655",
   "metadata": {
    "scrolled": true
   },
   "outputs": [
    {
     "name": "stderr",
     "output_type": "stream",
     "text": [
      "D:\\Users\\Alex\\anaconda3\\lib\\site-packages\\torchvision\\models\\_utils.py:208: UserWarning: The parameter 'pretrained' is deprecated since 0.13 and will be removed in 0.15, please use 'weights' instead.\n",
      "  warnings.warn(\n",
      "D:\\Users\\Alex\\anaconda3\\lib\\site-packages\\torchvision\\models\\_utils.py:223: UserWarning: Arguments other than a weight enum or `None` for 'weights' are deprecated since 0.13 and will be removed in 0.15. The current behavior is equivalent to passing `weights=ResNet50_Weights.IMAGENET1K_V1`. You can also use `weights=ResNet50_Weights.DEFAULT` to get the most up-to-date weights.\n",
      "  warnings.warn(msg)\n"
     ]
    },
    {
     "data": {
      "text/plain": [
       "ClassificationNet(\n",
       "  (resnet50_fe): Sequential(\n",
       "    (0): Conv2d(3, 64, kernel_size=(7, 7), stride=(2, 2), padding=(3, 3), bias=False)\n",
       "    (1): BatchNorm2d(64, eps=1e-05, momentum=0.1, affine=True, track_running_stats=True)\n",
       "    (2): ReLU(inplace=True)\n",
       "    (3): MaxPool2d(kernel_size=3, stride=2, padding=1, dilation=1, ceil_mode=False)\n",
       "    (4): Sequential(\n",
       "      (0): Bottleneck(\n",
       "        (conv1): Conv2d(64, 64, kernel_size=(1, 1), stride=(1, 1), bias=False)\n",
       "        (bn1): BatchNorm2d(64, eps=1e-05, momentum=0.1, affine=True, track_running_stats=True)\n",
       "        (conv2): Conv2d(64, 64, kernel_size=(3, 3), stride=(1, 1), padding=(1, 1), bias=False)\n",
       "        (bn2): BatchNorm2d(64, eps=1e-05, momentum=0.1, affine=True, track_running_stats=True)\n",
       "        (conv3): Conv2d(64, 256, kernel_size=(1, 1), stride=(1, 1), bias=False)\n",
       "        (bn3): BatchNorm2d(256, eps=1e-05, momentum=0.1, affine=True, track_running_stats=True)\n",
       "        (relu): ReLU(inplace=True)\n",
       "        (downsample): Sequential(\n",
       "          (0): Conv2d(64, 256, kernel_size=(1, 1), stride=(1, 1), bias=False)\n",
       "          (1): BatchNorm2d(256, eps=1e-05, momentum=0.1, affine=True, track_running_stats=True)\n",
       "        )\n",
       "      )\n",
       "      (1): Bottleneck(\n",
       "        (conv1): Conv2d(256, 64, kernel_size=(1, 1), stride=(1, 1), bias=False)\n",
       "        (bn1): BatchNorm2d(64, eps=1e-05, momentum=0.1, affine=True, track_running_stats=True)\n",
       "        (conv2): Conv2d(64, 64, kernel_size=(3, 3), stride=(1, 1), padding=(1, 1), bias=False)\n",
       "        (bn2): BatchNorm2d(64, eps=1e-05, momentum=0.1, affine=True, track_running_stats=True)\n",
       "        (conv3): Conv2d(64, 256, kernel_size=(1, 1), stride=(1, 1), bias=False)\n",
       "        (bn3): BatchNorm2d(256, eps=1e-05, momentum=0.1, affine=True, track_running_stats=True)\n",
       "        (relu): ReLU(inplace=True)\n",
       "      )\n",
       "      (2): Bottleneck(\n",
       "        (conv1): Conv2d(256, 64, kernel_size=(1, 1), stride=(1, 1), bias=False)\n",
       "        (bn1): BatchNorm2d(64, eps=1e-05, momentum=0.1, affine=True, track_running_stats=True)\n",
       "        (conv2): Conv2d(64, 64, kernel_size=(3, 3), stride=(1, 1), padding=(1, 1), bias=False)\n",
       "        (bn2): BatchNorm2d(64, eps=1e-05, momentum=0.1, affine=True, track_running_stats=True)\n",
       "        (conv3): Conv2d(64, 256, kernel_size=(1, 1), stride=(1, 1), bias=False)\n",
       "        (bn3): BatchNorm2d(256, eps=1e-05, momentum=0.1, affine=True, track_running_stats=True)\n",
       "        (relu): ReLU(inplace=True)\n",
       "      )\n",
       "    )\n",
       "    (5): Sequential(\n",
       "      (0): Bottleneck(\n",
       "        (conv1): Conv2d(256, 128, kernel_size=(1, 1), stride=(1, 1), bias=False)\n",
       "        (bn1): BatchNorm2d(128, eps=1e-05, momentum=0.1, affine=True, track_running_stats=True)\n",
       "        (conv2): Conv2d(128, 128, kernel_size=(3, 3), stride=(2, 2), padding=(1, 1), bias=False)\n",
       "        (bn2): BatchNorm2d(128, eps=1e-05, momentum=0.1, affine=True, track_running_stats=True)\n",
       "        (conv3): Conv2d(128, 512, kernel_size=(1, 1), stride=(1, 1), bias=False)\n",
       "        (bn3): BatchNorm2d(512, eps=1e-05, momentum=0.1, affine=True, track_running_stats=True)\n",
       "        (relu): ReLU(inplace=True)\n",
       "        (downsample): Sequential(\n",
       "          (0): Conv2d(256, 512, kernel_size=(1, 1), stride=(2, 2), bias=False)\n",
       "          (1): BatchNorm2d(512, eps=1e-05, momentum=0.1, affine=True, track_running_stats=True)\n",
       "        )\n",
       "      )\n",
       "      (1): Bottleneck(\n",
       "        (conv1): Conv2d(512, 128, kernel_size=(1, 1), stride=(1, 1), bias=False)\n",
       "        (bn1): BatchNorm2d(128, eps=1e-05, momentum=0.1, affine=True, track_running_stats=True)\n",
       "        (conv2): Conv2d(128, 128, kernel_size=(3, 3), stride=(1, 1), padding=(1, 1), bias=False)\n",
       "        (bn2): BatchNorm2d(128, eps=1e-05, momentum=0.1, affine=True, track_running_stats=True)\n",
       "        (conv3): Conv2d(128, 512, kernel_size=(1, 1), stride=(1, 1), bias=False)\n",
       "        (bn3): BatchNorm2d(512, eps=1e-05, momentum=0.1, affine=True, track_running_stats=True)\n",
       "        (relu): ReLU(inplace=True)\n",
       "      )\n",
       "      (2): Bottleneck(\n",
       "        (conv1): Conv2d(512, 128, kernel_size=(1, 1), stride=(1, 1), bias=False)\n",
       "        (bn1): BatchNorm2d(128, eps=1e-05, momentum=0.1, affine=True, track_running_stats=True)\n",
       "        (conv2): Conv2d(128, 128, kernel_size=(3, 3), stride=(1, 1), padding=(1, 1), bias=False)\n",
       "        (bn2): BatchNorm2d(128, eps=1e-05, momentum=0.1, affine=True, track_running_stats=True)\n",
       "        (conv3): Conv2d(128, 512, kernel_size=(1, 1), stride=(1, 1), bias=False)\n",
       "        (bn3): BatchNorm2d(512, eps=1e-05, momentum=0.1, affine=True, track_running_stats=True)\n",
       "        (relu): ReLU(inplace=True)\n",
       "      )\n",
       "      (3): Bottleneck(\n",
       "        (conv1): Conv2d(512, 128, kernel_size=(1, 1), stride=(1, 1), bias=False)\n",
       "        (bn1): BatchNorm2d(128, eps=1e-05, momentum=0.1, affine=True, track_running_stats=True)\n",
       "        (conv2): Conv2d(128, 128, kernel_size=(3, 3), stride=(1, 1), padding=(1, 1), bias=False)\n",
       "        (bn2): BatchNorm2d(128, eps=1e-05, momentum=0.1, affine=True, track_running_stats=True)\n",
       "        (conv3): Conv2d(128, 512, kernel_size=(1, 1), stride=(1, 1), bias=False)\n",
       "        (bn3): BatchNorm2d(512, eps=1e-05, momentum=0.1, affine=True, track_running_stats=True)\n",
       "        (relu): ReLU(inplace=True)\n",
       "      )\n",
       "    )\n",
       "    (6): Sequential(\n",
       "      (0): Bottleneck(\n",
       "        (conv1): Conv2d(512, 256, kernel_size=(1, 1), stride=(1, 1), bias=False)\n",
       "        (bn1): BatchNorm2d(256, eps=1e-05, momentum=0.1, affine=True, track_running_stats=True)\n",
       "        (conv2): Conv2d(256, 256, kernel_size=(3, 3), stride=(2, 2), padding=(1, 1), bias=False)\n",
       "        (bn2): BatchNorm2d(256, eps=1e-05, momentum=0.1, affine=True, track_running_stats=True)\n",
       "        (conv3): Conv2d(256, 1024, kernel_size=(1, 1), stride=(1, 1), bias=False)\n",
       "        (bn3): BatchNorm2d(1024, eps=1e-05, momentum=0.1, affine=True, track_running_stats=True)\n",
       "        (relu): ReLU(inplace=True)\n",
       "        (downsample): Sequential(\n",
       "          (0): Conv2d(512, 1024, kernel_size=(1, 1), stride=(2, 2), bias=False)\n",
       "          (1): BatchNorm2d(1024, eps=1e-05, momentum=0.1, affine=True, track_running_stats=True)\n",
       "        )\n",
       "      )\n",
       "      (1): Bottleneck(\n",
       "        (conv1): Conv2d(1024, 256, kernel_size=(1, 1), stride=(1, 1), bias=False)\n",
       "        (bn1): BatchNorm2d(256, eps=1e-05, momentum=0.1, affine=True, track_running_stats=True)\n",
       "        (conv2): Conv2d(256, 256, kernel_size=(3, 3), stride=(1, 1), padding=(1, 1), bias=False)\n",
       "        (bn2): BatchNorm2d(256, eps=1e-05, momentum=0.1, affine=True, track_running_stats=True)\n",
       "        (conv3): Conv2d(256, 1024, kernel_size=(1, 1), stride=(1, 1), bias=False)\n",
       "        (bn3): BatchNorm2d(1024, eps=1e-05, momentum=0.1, affine=True, track_running_stats=True)\n",
       "        (relu): ReLU(inplace=True)\n",
       "      )\n",
       "      (2): Bottleneck(\n",
       "        (conv1): Conv2d(1024, 256, kernel_size=(1, 1), stride=(1, 1), bias=False)\n",
       "        (bn1): BatchNorm2d(256, eps=1e-05, momentum=0.1, affine=True, track_running_stats=True)\n",
       "        (conv2): Conv2d(256, 256, kernel_size=(3, 3), stride=(1, 1), padding=(1, 1), bias=False)\n",
       "        (bn2): BatchNorm2d(256, eps=1e-05, momentum=0.1, affine=True, track_running_stats=True)\n",
       "        (conv3): Conv2d(256, 1024, kernel_size=(1, 1), stride=(1, 1), bias=False)\n",
       "        (bn3): BatchNorm2d(1024, eps=1e-05, momentum=0.1, affine=True, track_running_stats=True)\n",
       "        (relu): ReLU(inplace=True)\n",
       "      )\n",
       "      (3): Bottleneck(\n",
       "        (conv1): Conv2d(1024, 256, kernel_size=(1, 1), stride=(1, 1), bias=False)\n",
       "        (bn1): BatchNorm2d(256, eps=1e-05, momentum=0.1, affine=True, track_running_stats=True)\n",
       "        (conv2): Conv2d(256, 256, kernel_size=(3, 3), stride=(1, 1), padding=(1, 1), bias=False)\n",
       "        (bn2): BatchNorm2d(256, eps=1e-05, momentum=0.1, affine=True, track_running_stats=True)\n",
       "        (conv3): Conv2d(256, 1024, kernel_size=(1, 1), stride=(1, 1), bias=False)\n",
       "        (bn3): BatchNorm2d(1024, eps=1e-05, momentum=0.1, affine=True, track_running_stats=True)\n",
       "        (relu): ReLU(inplace=True)\n",
       "      )\n",
       "      (4): Bottleneck(\n",
       "        (conv1): Conv2d(1024, 256, kernel_size=(1, 1), stride=(1, 1), bias=False)\n",
       "        (bn1): BatchNorm2d(256, eps=1e-05, momentum=0.1, affine=True, track_running_stats=True)\n",
       "        (conv2): Conv2d(256, 256, kernel_size=(3, 3), stride=(1, 1), padding=(1, 1), bias=False)\n",
       "        (bn2): BatchNorm2d(256, eps=1e-05, momentum=0.1, affine=True, track_running_stats=True)\n",
       "        (conv3): Conv2d(256, 1024, kernel_size=(1, 1), stride=(1, 1), bias=False)\n",
       "        (bn3): BatchNorm2d(1024, eps=1e-05, momentum=0.1, affine=True, track_running_stats=True)\n",
       "        (relu): ReLU(inplace=True)\n",
       "      )\n",
       "      (5): Bottleneck(\n",
       "        (conv1): Conv2d(1024, 256, kernel_size=(1, 1), stride=(1, 1), bias=False)\n",
       "        (bn1): BatchNorm2d(256, eps=1e-05, momentum=0.1, affine=True, track_running_stats=True)\n",
       "        (conv2): Conv2d(256, 256, kernel_size=(3, 3), stride=(1, 1), padding=(1, 1), bias=False)\n",
       "        (bn2): BatchNorm2d(256, eps=1e-05, momentum=0.1, affine=True, track_running_stats=True)\n",
       "        (conv3): Conv2d(256, 1024, kernel_size=(1, 1), stride=(1, 1), bias=False)\n",
       "        (bn3): BatchNorm2d(1024, eps=1e-05, momentum=0.1, affine=True, track_running_stats=True)\n",
       "        (relu): ReLU(inplace=True)\n",
       "      )\n",
       "    )\n",
       "    (7): Sequential(\n",
       "      (0): Bottleneck(\n",
       "        (conv1): Conv2d(1024, 512, kernel_size=(1, 1), stride=(1, 1), bias=False)\n",
       "        (bn1): BatchNorm2d(512, eps=1e-05, momentum=0.1, affine=True, track_running_stats=True)\n",
       "        (conv2): Conv2d(512, 512, kernel_size=(3, 3), stride=(2, 2), padding=(1, 1), bias=False)\n",
       "        (bn2): BatchNorm2d(512, eps=1e-05, momentum=0.1, affine=True, track_running_stats=True)\n",
       "        (conv3): Conv2d(512, 2048, kernel_size=(1, 1), stride=(1, 1), bias=False)\n",
       "        (bn3): BatchNorm2d(2048, eps=1e-05, momentum=0.1, affine=True, track_running_stats=True)\n",
       "        (relu): ReLU(inplace=True)\n",
       "        (downsample): Sequential(\n",
       "          (0): Conv2d(1024, 2048, kernel_size=(1, 1), stride=(2, 2), bias=False)\n",
       "          (1): BatchNorm2d(2048, eps=1e-05, momentum=0.1, affine=True, track_running_stats=True)\n",
       "        )\n",
       "      )\n",
       "      (1): Bottleneck(\n",
       "        (conv1): Conv2d(2048, 512, kernel_size=(1, 1), stride=(1, 1), bias=False)\n",
       "        (bn1): BatchNorm2d(512, eps=1e-05, momentum=0.1, affine=True, track_running_stats=True)\n",
       "        (conv2): Conv2d(512, 512, kernel_size=(3, 3), stride=(1, 1), padding=(1, 1), bias=False)\n",
       "        (bn2): BatchNorm2d(512, eps=1e-05, momentum=0.1, affine=True, track_running_stats=True)\n",
       "        (conv3): Conv2d(512, 2048, kernel_size=(1, 1), stride=(1, 1), bias=False)\n",
       "        (bn3): BatchNorm2d(2048, eps=1e-05, momentum=0.1, affine=True, track_running_stats=True)\n",
       "        (relu): ReLU(inplace=True)\n",
       "      )\n",
       "      (2): Bottleneck(\n",
       "        (conv1): Conv2d(2048, 512, kernel_size=(1, 1), stride=(1, 1), bias=False)\n",
       "        (bn1): BatchNorm2d(512, eps=1e-05, momentum=0.1, affine=True, track_running_stats=True)\n",
       "        (conv2): Conv2d(512, 512, kernel_size=(3, 3), stride=(1, 1), padding=(1, 1), bias=False)\n",
       "        (bn2): BatchNorm2d(512, eps=1e-05, momentum=0.1, affine=True, track_running_stats=True)\n",
       "        (conv3): Conv2d(512, 2048, kernel_size=(1, 1), stride=(1, 1), bias=False)\n",
       "        (bn3): BatchNorm2d(2048, eps=1e-05, momentum=0.1, affine=True, track_running_stats=True)\n",
       "        (relu): ReLU(inplace=True)\n",
       "      )\n",
       "    )\n",
       "    (8): AdaptiveAvgPool2d(output_size=(1, 1))\n",
       "  )\n",
       "  (flatten): Flatten(start_dim=1, end_dim=-1)\n",
       "  (last_classifier): Linear(in_features=2048, out_features=4, bias=True)\n",
       ")"
      ]
     },
     "execution_count": 13,
     "metadata": {},
     "output_type": "execute_result"
    }
   ],
   "source": [
    "#PyTorch - Building the Model\n",
    "class ClassificationNet(nn.Module):\n",
    "    def __init__(self, resnet50):\n",
    "        super(ClassificationNet, self).__init__()\n",
    "        \n",
    "        # Get the feature extractor\n",
    "        self.resnet50_fe = nn.Sequential(*list(resnet50.children())[:-1])\n",
    "\n",
    "        \n",
    "        # Flatten the FE output\n",
    "        self.flatten = nn.Flatten()\n",
    "        \n",
    "        # Add a clissifier\n",
    "        self.last_classifier =  nn.Linear(in_features=2048, out_features=4)\n",
    "        #self.last_classifier =  nn.Linear(in_features=1024, out_features=4)\n",
    "        \n",
    "    def forward(self, x): \n",
    "        x = self.resnet50_fe(x)\n",
    "        \n",
    "        x = self.flatten(x)\n",
    "        \n",
    "        x = self.last_classifier(x)\n",
    "        \n",
    "        return x\n",
    "\n",
    "modelpy = ClassificationNet(resnet50 = models.resnet50(pretrained=True)).to(device)\n",
    "\n",
    "# Loss Function\n",
    "criterion_2 = nn.CrossEntropyLoss()\n",
    "\n",
    "# Optimizer    \n",
    "trainable_parameters_2 = filter(lambda p: p.requires_grad, modelpy.parameters())\n",
    "#optimizer_2 = torch.optim.Adam(params=trainable_parameters_2, lr=lr)\n",
    "optimizer_2 = torch.optim.SGD(params=trainable_parameters_2, lr=lr, momentum=1e-5) \n",
    "\n",
    "# Check if checkpoint is available, if so, load it\n",
    "model_epoch_m2_check = 0\n",
    "previous_time = 0\n",
    "\n",
    "modelpy"
   ]
  },
  {
   "cell_type": "code",
   "execution_count": 14,
   "id": "9d13ce6c",
   "metadata": {},
   "outputs": [],
   "source": [
    "# Check if checkpoint is available, if so, load it\n",
    "model_epoch_m2_check = 0\n",
    "previous_time = 0\n",
    "names = os.listdir(model_checkpoints)\n",
    "for elem in names:\n",
    "    if(elem==\"model_ckpt_m2.pth\"):\n",
    "        print(\"Loading saved checkpoint\")\n",
    "        checkpoint = torch.load(model_checkpoints + \"model_ckpt_m2.pth\")\n",
    "        modelpy.load_state_dict(checkpoint['model_state_dict'])\n",
    "        modelpy.to(device)\n",
    "        optimizer_2.load_state_dict(checkpoint['optimizer_state_dict'])\n",
    "        model_epoch_m2_check = checkpoint['epoch']\n",
    "        criterion_2 = checkpoint['loss']\n",
    "        previous_time = checkpoint['time']\n",
    "        print(f\"Epoch of the checkpoint: {model_epoch_m2_check}\")\n"
   ]
  },
  {
   "cell_type": "code",
   "execution_count": 30,
   "id": "b589e0f0",
   "metadata": {},
   "outputs": [
    {
     "name": "stdout",
     "output_type": "stream",
     "text": [
      "Model Parameters: 23516228\n"
     ]
    }
   ],
   "source": [
    "# Model Parameters\n",
    "\n",
    "def count_parameters(model):\n",
    "    return sum(p.numel() for p in model.parameters() if p.requires_grad)\n",
    "\n",
    "\n",
    "print(f\"Model Parameters: {count_parameters(modelpy)}\")"
   ]
  },
  {
   "cell_type": "markdown",
   "id": "a686cf7a",
   "metadata": {},
   "source": [
    "# Train Model"
   ]
  },
  {
   "cell_type": "code",
   "execution_count": 15,
   "id": "f5e24431",
   "metadata": {},
   "outputs": [],
   "source": [
    "def update_optimizer(optimizer, lr):\n",
    "    for i, param_group in enumerate(optimizer.param_groups):\n",
    "        param_group[\"lr\"]=lr"
   ]
  },
  {
   "cell_type": "code",
   "execution_count": 16,
   "id": "ab810b7d",
   "metadata": {
    "scrolled": true
   },
   "outputs": [
    {
     "name": "stdout",
     "output_type": "stream",
     "text": [
      "Epoch 1 of 100\n"
     ]
    },
    {
     "name": "stderr",
     "output_type": "stream",
     "text": [
      "100%|██████████| 130/130 [02:26<00:00,  1.12s/it]\n",
      "100%|██████████| 15/15 [00:04<00:00,  3.68it/s]\n"
     ]
    },
    {
     "name": "stdout",
     "output_type": "stream",
     "text": [
      "train loss:  0.1357084984244415\n",
      "Val loss:  0.1284704783688421\n",
      "train accuracy:  0.5193423597678917\n",
      "Val accuracy:  0.5826086956521739\n",
      "Best model at the moment with Val_acc 58.26, saving...\n",
      "Current time: 2.516 minutes. Time expected till completion: 249.047 minutes\n",
      "Epoch 2 of 100\n"
     ]
    },
    {
     "name": "stderr",
     "output_type": "stream",
     "text": [
      "100%|██████████| 130/130 [01:49<00:00,  1.19it/s]\n",
      "100%|██████████| 15/15 [00:04<00:00,  3.73it/s]\n"
     ]
    },
    {
     "name": "stdout",
     "output_type": "stream",
     "text": [
      "train loss:  0.12190879175234118\n",
      "Val loss:  0.12316880174305128\n",
      "train accuracy:  0.5957446808510638\n",
      "Val accuracy:  0.5739130434782609\n",
      "Current time: 4.410 minutes. Time expected till completion: 216.087 minutes\n",
      "Epoch 3 of 100\n"
     ]
    },
    {
     "name": "stderr",
     "output_type": "stream",
     "text": [
      "100%|██████████| 130/130 [01:49<00:00,  1.19it/s]\n",
      "100%|██████████| 15/15 [00:04<00:00,  3.65it/s]\n"
     ]
    },
    {
     "name": "stdout",
     "output_type": "stream",
     "text": [
      "train loss:  0.11516277356581255\n",
      "Val loss:  0.11685902605886045\n",
      "train accuracy:  0.6063829787234043\n",
      "Val accuracy:  0.5652173913043478\n",
      "Current time: 6.302 minutes. Time expected till completion: 203.755 minutes\n",
      "Epoch 4 of 100\n"
     ]
    },
    {
     "name": "stderr",
     "output_type": "stream",
     "text": [
      "100%|██████████| 130/130 [01:50<00:00,  1.18it/s]\n",
      "100%|██████████| 15/15 [00:04<00:00,  3.68it/s]\n"
     ]
    },
    {
     "name": "stdout",
     "output_type": "stream",
     "text": [
      "train loss:  0.10882602208357023\n",
      "Val loss:  0.1132978802141936\n",
      "train accuracy:  0.6189555125725339\n",
      "Val accuracy:  0.6086956521739131\n",
      "Best model at the moment with Val_acc 60.87, saving...\n",
      "Current time: 8.218 minutes. Time expected till completion: 197.233 minutes\n",
      "Epoch 5 of 100\n"
     ]
    },
    {
     "name": "stderr",
     "output_type": "stream",
     "text": [
      "100%|██████████| 130/130 [01:50<00:00,  1.18it/s]\n",
      "100%|██████████| 15/15 [00:04<00:00,  3.68it/s]\n"
     ]
    },
    {
     "name": "stdout",
     "output_type": "stream",
     "text": [
      "train loss:  0.10911687600428177\n",
      "Val loss:  0.1121537693168806\n",
      "train accuracy:  0.6150870406189555\n",
      "Val accuracy:  0.591304347826087\n",
      "Current time: 10.120 minutes. Time expected till completion: 192.271 minutes\n",
      "Epoch 6 of 100\n"
     ]
    },
    {
     "name": "stderr",
     "output_type": "stream",
     "text": [
      "100%|██████████| 130/130 [01:49<00:00,  1.19it/s]\n",
      "100%|██████████| 15/15 [00:04<00:00,  3.66it/s]\n"
     ]
    },
    {
     "name": "stdout",
     "output_type": "stream",
     "text": [
      "train loss:  0.10900788911306651\n",
      "Val loss:  0.10964474522549172\n",
      "train accuracy:  0.6228239845261122\n",
      "Val accuracy:  0.6086956521739131\n",
      "Current time: 12.010 minutes. Time expected till completion: 188.152 minutes\n",
      "Epoch 7 of 100\n"
     ]
    },
    {
     "name": "stderr",
     "output_type": "stream",
     "text": [
      "100%|██████████| 130/130 [01:50<00:00,  1.17it/s]\n",
      "100%|██████████| 15/15 [00:04<00:00,  3.67it/s]\n"
     ]
    },
    {
     "name": "stdout",
     "output_type": "stream",
     "text": [
      "train loss:  0.10730776179228807\n",
      "Val loss:  0.10937014559040899\n",
      "train accuracy:  0.6334622823984526\n",
      "Val accuracy:  0.6260869565217392\n",
      "Best model at the moment with Val_acc 62.61, saving...\n",
      "Current time: 13.929 minutes. Time expected till completion: 185.059 minutes\n",
      "Epoch 8 of 100\n"
     ]
    },
    {
     "name": "stderr",
     "output_type": "stream",
     "text": [
      "100%|██████████| 130/130 [01:51<00:00,  1.17it/s]\n",
      "100%|██████████| 15/15 [00:04<00:00,  3.67it/s]\n"
     ]
    },
    {
     "name": "stdout",
     "output_type": "stream",
     "text": [
      "train loss:  0.10522028616480025\n",
      "Val loss:  0.10498919435169386\n",
      "train accuracy:  0.6295938104448743\n",
      "Val accuracy:  0.6086956521739131\n",
      "Current time: 15.849 minutes. Time expected till completion: 182.261 minutes\n",
      "Epoch 9 of 100\n"
     ]
    },
    {
     "name": "stderr",
     "output_type": "stream",
     "text": [
      "100%|██████████| 130/130 [01:51<00:00,  1.17it/s]\n",
      "100%|██████████| 15/15 [00:04<00:00,  3.68it/s]\n"
     ]
    },
    {
     "name": "stdout",
     "output_type": "stream",
     "text": [
      "train loss:  0.10373544707404345\n",
      "Val loss:  0.11238568140112835\n",
      "train accuracy:  0.6334622823984526\n",
      "Val accuracy:  0.6260869565217392\n",
      "Current time: 17.776 minutes. Time expected till completion: 179.736 minutes\n",
      "Epoch 10 of 100\n"
     ]
    },
    {
     "name": "stderr",
     "output_type": "stream",
     "text": [
      "100%|██████████| 130/130 [01:51<00:00,  1.16it/s]\n",
      "100%|██████████| 15/15 [00:04<00:00,  3.67it/s]\n"
     ]
    },
    {
     "name": "stdout",
     "output_type": "stream",
     "text": [
      "train loss:  0.10416804942909477\n",
      "Val loss:  0.10900090595950251\n",
      "train accuracy:  0.6450676982591876\n",
      "Val accuracy:  0.5478260869565217\n",
      "Current time: 19.708 minutes. Time expected till completion: 177.372 minutes\n",
      "Epoch 11 of 100\n"
     ]
    },
    {
     "name": "stderr",
     "output_type": "stream",
     "text": [
      "100%|██████████| 130/130 [01:51<00:00,  1.17it/s]\n",
      "100%|██████████| 15/15 [00:04<00:00,  3.66it/s]\n"
     ]
    },
    {
     "name": "stdout",
     "output_type": "stream",
     "text": [
      "train loss:  0.10360114630924203\n",
      "Val loss:  0.1067492796027142\n",
      "train accuracy:  0.6441005802707931\n",
      "Val accuracy:  0.6347826086956522\n",
      "Best model at the moment with Val_acc 63.48, saving...\n",
      "Current time: 21.643 minutes. Time expected till completion: 175.109 minutes\n",
      "Epoch 12 of 100\n"
     ]
    },
    {
     "name": "stderr",
     "output_type": "stream",
     "text": [
      "100%|██████████| 130/130 [01:52<00:00,  1.16it/s]\n",
      "100%|██████████| 15/15 [00:04<00:00,  3.66it/s]\n"
     ]
    },
    {
     "name": "stdout",
     "output_type": "stream",
     "text": [
      "train loss:  0.10360096530480818\n",
      "Val loss:  0.10813950144726298\n",
      "train accuracy:  0.6450676982591876\n",
      "Val accuracy:  0.5739130434782609\n",
      "Current time: 23.579 minutes. Time expected till completion: 172.911 minutes\n",
      "Epoch 13 of 100\n"
     ]
    },
    {
     "name": "stderr",
     "output_type": "stream",
     "text": [
      "100%|██████████| 130/130 [01:52<00:00,  1.15it/s]\n",
      "100%|██████████| 15/15 [00:04<00:00,  3.64it/s]\n"
     ]
    },
    {
     "name": "stdout",
     "output_type": "stream",
     "text": [
      "train loss:  0.10040275023338642\n",
      "Val loss:  0.10953696914341139\n",
      "train accuracy:  0.6615087040618955\n",
      "Val accuracy:  0.6608695652173913\n",
      "Best model at the moment with Val_acc 66.09, saving...\n",
      "Current time: 25.530 minutes. Time expected till completion: 170.855 minutes\n",
      "Epoch 14 of 100\n"
     ]
    },
    {
     "name": "stderr",
     "output_type": "stream",
     "text": [
      "100%|██████████| 130/130 [01:52<00:00,  1.16it/s]\n",
      "100%|██████████| 15/15 [00:04<00:00,  3.62it/s]\n"
     ]
    },
    {
     "name": "stdout",
     "output_type": "stream",
     "text": [
      "train loss:  0.09797385026569293\n",
      "Val loss:  0.10683281577151754\n",
      "train accuracy:  0.6731141199226306\n",
      "Val accuracy:  0.6173913043478261\n",
      "Current time: 27.471 minutes. Time expected till completion: 168.750 minutes\n",
      "Epoch 15 of 100\n"
     ]
    },
    {
     "name": "stderr",
     "output_type": "stream",
     "text": [
      "100%|██████████| 130/130 [01:51<00:00,  1.17it/s]\n",
      "100%|██████████| 15/15 [00:04<00:00,  3.65it/s]\n"
     ]
    },
    {
     "name": "stdout",
     "output_type": "stream",
     "text": [
      "train loss:  0.09829257097188923\n",
      "Val loss:  0.1081146434597347\n",
      "train accuracy:  0.6692456479690522\n",
      "Val accuracy:  0.5826086956521739\n",
      "Current time: 29.392 minutes. Time expected till completion: 166.556 minutes\n",
      "Epoch 16 of 100\n"
     ]
    },
    {
     "name": "stderr",
     "output_type": "stream",
     "text": [
      "100%|██████████| 130/130 [01:50<00:00,  1.18it/s]\n",
      "100%|██████████| 15/15 [00:04<00:00,  3.72it/s]\n"
     ]
    },
    {
     "name": "stdout",
     "output_type": "stream",
     "text": [
      "train loss:  0.09956405863771126\n",
      "Val loss:  0.10996559365935947\n",
      "train accuracy:  0.6586073500967118\n",
      "Val accuracy:  0.5739130434782609\n",
      "Current time: 31.297 minutes. Time expected till completion: 164.312 minutes\n",
      "Epoch 17 of 100\n"
     ]
    },
    {
     "name": "stderr",
     "output_type": "stream",
     "text": [
      "100%|██████████| 130/130 [01:50<00:00,  1.18it/s]\n",
      "100%|██████████| 15/15 [00:04<00:00,  3.72it/s]\n"
     ]
    },
    {
     "name": "stdout",
     "output_type": "stream",
     "text": [
      "train loss:  0.09560029704404753\n",
      "Val loss:  0.11282918660537056\n",
      "train accuracy:  0.690522243713733\n",
      "Val accuracy:  0.6260869565217392\n",
      "Current time: 33.201 minutes. Time expected till completion: 162.100 minutes\n",
      "Epoch 18 of 100\n"
     ]
    },
    {
     "name": "stderr",
     "output_type": "stream",
     "text": [
      "100%|██████████| 130/130 [01:49<00:00,  1.19it/s]\n",
      "100%|██████████| 15/15 [00:04<00:00,  3.73it/s]\n"
     ]
    },
    {
     "name": "stdout",
     "output_type": "stream",
     "text": [
      "train loss:  0.09541473729352194\n",
      "Val loss:  0.10837248511936354\n",
      "train accuracy:  0.6740812379110251\n",
      "Val accuracy:  0.6260869565217392\n",
      "Current time: 35.093 minutes. Time expected till completion: 159.866 minutes\n",
      "Epoch 19 of 100\n"
     ]
    },
    {
     "name": "stderr",
     "output_type": "stream",
     "text": [
      "100%|██████████| 130/130 [01:49<00:00,  1.19it/s]\n",
      "100%|██████████| 15/15 [00:04<00:00,  3.68it/s]\n"
     ]
    },
    {
     "name": "stdout",
     "output_type": "stream",
     "text": [
      "train loss:  0.09217959881635883\n",
      "Val loss:  0.10760041760361713\n",
      "train accuracy:  0.6963249516441006\n",
      "Val accuracy:  0.6\n",
      "Current time: 36.983 minutes. Time expected till completion: 157.663 minutes\n",
      "Epoch 20 of 100\n"
     ]
    },
    {
     "name": "stderr",
     "output_type": "stream",
     "text": [
      "100%|██████████| 130/130 [01:49<00:00,  1.19it/s]\n",
      "100%|██████████| 15/15 [00:04<00:00,  3.72it/s]\n"
     ]
    },
    {
     "name": "stdout",
     "output_type": "stream",
     "text": [
      "train loss:  0.09644440721497084\n",
      "Val loss:  0.11109779632609823\n",
      "train accuracy:  0.6769825918762089\n",
      "Val accuracy:  0.6608695652173913\n",
      "Current time: 38.871 minutes. Time expected till completion: 155.483 minutes\n",
      "Epoch 21 of 100\n"
     ]
    },
    {
     "name": "stderr",
     "output_type": "stream",
     "text": [
      "100%|██████████| 130/130 [01:49<00:00,  1.19it/s]\n",
      "100%|██████████| 15/15 [00:04<00:00,  3.71it/s]\n"
     ]
    },
    {
     "name": "stdout",
     "output_type": "stream",
     "text": [
      "train loss:  0.09444696258760743\n",
      "Val loss:  0.10748532699502032\n",
      "train accuracy:  0.6760154738878144\n",
      "Val accuracy:  0.6521739130434783\n",
      "Current time: 40.761 minutes. Time expected till completion: 153.340 minutes\n",
      "Epoch 22 of 100\n"
     ]
    },
    {
     "name": "stderr",
     "output_type": "stream",
     "text": [
      "100%|██████████| 130/130 [01:49<00:00,  1.19it/s]\n",
      "100%|██████████| 15/15 [00:04<00:00,  3.70it/s]\n"
     ]
    },
    {
     "name": "stdout",
     "output_type": "stream",
     "text": [
      "train loss:  0.0945833164557267\n",
      "Val loss:  0.10891954354617907\n",
      "train accuracy:  0.6789168278529981\n",
      "Val accuracy:  0.591304347826087\n",
      "Current time: 42.650 minutes. Time expected till completion: 151.214 minutes\n",
      "Epoch 23 of 100\n"
     ]
    },
    {
     "name": "stderr",
     "output_type": "stream",
     "text": [
      "100%|██████████| 130/130 [01:49<00:00,  1.19it/s]\n",
      "100%|██████████| 15/15 [00:04<00:00,  3.69it/s]\n"
     ]
    },
    {
     "name": "stdout",
     "output_type": "stream",
     "text": [
      "train loss:  0.09155645555811187\n",
      "Val loss:  0.11098372521607772\n",
      "train accuracy:  0.6847195357833655\n",
      "Val accuracy:  0.6260869565217392\n",
      "Current time: 44.541 minutes. Time expected till completion: 149.116 minutes\n",
      "Epoch 24 of 100\n"
     ]
    },
    {
     "name": "stderr",
     "output_type": "stream",
     "text": [
      "100%|██████████| 130/130 [01:49<00:00,  1.19it/s]\n",
      "100%|██████████| 15/15 [00:04<00:00,  3.67it/s]\n"
     ]
    },
    {
     "name": "stdout",
     "output_type": "stream",
     "text": [
      "train loss:  0.08994824358584572\n",
      "Val loss:  0.11149809775145157\n",
      "train accuracy:  0.7166344294003868\n",
      "Val accuracy:  0.6086956521739131\n",
      "Current time: 46.429 minutes. Time expected till completion: 147.027 minutes\n",
      "Epoch 25 of 100\n"
     ]
    },
    {
     "name": "stderr",
     "output_type": "stream",
     "text": [
      "100%|██████████| 130/130 [01:49<00:00,  1.19it/s]\n",
      "100%|██████████| 15/15 [00:04<00:00,  3.69it/s]\n"
     ]
    },
    {
     "name": "stdout",
     "output_type": "stream",
     "text": [
      "train loss:  0.08860869636503363\n",
      "Val loss:  0.10920961862025054\n",
      "train accuracy:  0.7001934235976789\n",
      "Val accuracy:  0.6260869565217392\n",
      "Current time: 48.321 minutes. Time expected till completion: 144.962 minutes\n",
      "Epoch 26 of 100\n"
     ]
    },
    {
     "name": "stderr",
     "output_type": "stream",
     "text": [
      "100%|██████████| 130/130 [01:49<00:00,  1.19it/s]\n",
      "100%|██████████| 15/15 [00:04<00:00,  3.70it/s]\n"
     ]
    },
    {
     "name": "stdout",
     "output_type": "stream",
     "text": [
      "train loss:  0.08768955636877616\n",
      "Val loss:  0.10971883198489314\n",
      "train accuracy:  0.706963249516441\n",
      "Val accuracy:  0.6347826086956522\n",
      "Current time: 50.210 minutes. Time expected till completion: 142.906 minutes\n",
      "Epoch 27 of 100\n"
     ]
    },
    {
     "name": "stderr",
     "output_type": "stream",
     "text": [
      "100%|██████████| 130/130 [01:49<00:00,  1.19it/s]\n",
      "100%|██████████| 15/15 [00:04<00:00,  3.71it/s]\n"
     ]
    },
    {
     "name": "stdout",
     "output_type": "stream",
     "text": [
      "train loss:  0.08685863773181775\n",
      "Val loss:  0.11257337228111598\n",
      "train accuracy:  0.7088974854932302\n",
      "Val accuracy:  0.6\n",
      "Current time: 52.101 minutes. Time expected till completion: 140.865 minutes\n",
      "Epoch 28 of 100\n"
     ]
    },
    {
     "name": "stderr",
     "output_type": "stream",
     "text": [
      "100%|██████████| 130/130 [01:49<00:00,  1.19it/s]\n",
      "100%|██████████| 15/15 [00:04<00:00,  3.71it/s]\n"
     ]
    },
    {
     "name": "stdout",
     "output_type": "stream",
     "text": [
      "train loss:  0.0844014710395433\n",
      "Val loss:  0.11260860536409462\n",
      "train accuracy:  0.7127659574468085\n",
      "Val accuracy:  0.6173913043478261\n",
      "Current time: 53.991 minutes. Time expected till completion: 138.835 minutes\n",
      "Epoch 29 of 100\n"
     ]
    },
    {
     "name": "stderr",
     "output_type": "stream",
     "text": [
      "100%|██████████| 130/130 [01:49<00:00,  1.19it/s]\n",
      "100%|██████████| 15/15 [00:04<00:00,  3.71it/s]\n"
     ]
    },
    {
     "name": "stdout",
     "output_type": "stream",
     "text": [
      "train loss:  0.08317939115677396\n",
      "Val loss:  0.11744469248730204\n",
      "train accuracy:  0.7427466150870407\n",
      "Val accuracy:  0.6260869565217392\n",
      "Current time: 55.881 minutes. Time expected till completion: 136.812 minutes\n",
      "Epoch 30 of 100\n"
     ]
    },
    {
     "name": "stderr",
     "output_type": "stream",
     "text": [
      "100%|██████████| 130/130 [01:49<00:00,  1.19it/s]\n",
      "100%|██████████| 15/15 [00:04<00:00,  3.71it/s]\n"
     ]
    },
    {
     "name": "stdout",
     "output_type": "stream",
     "text": [
      "train loss:  0.08119918143726179\n",
      "Val loss:  0.11188683872637542\n",
      "train accuracy:  0.7369439071566731\n",
      "Val accuracy:  0.6347826086956522\n",
      "Current time: 57.771 minutes. Time expected till completion: 134.798 minutes\n",
      "Epoch 31 of 100\n"
     ]
    },
    {
     "name": "stderr",
     "output_type": "stream",
     "text": [
      "100%|██████████| 130/130 [01:49<00:00,  1.19it/s]\n",
      "100%|██████████| 15/15 [00:04<00:00,  3.73it/s]\n"
     ]
    },
    {
     "name": "stdout",
     "output_type": "stream",
     "text": [
      "train loss:  0.08075598768558447\n",
      "Val loss:  0.11467637860256692\n",
      "train accuracy:  0.7311411992263056\n",
      "Val accuracy:  0.6260869565217392\n",
      "Current time: 59.661 minutes. Time expected till completion: 132.793 minutes\n",
      "Epoch 32 of 100\n"
     ]
    },
    {
     "name": "stderr",
     "output_type": "stream",
     "text": [
      "100%|██████████| 130/130 [01:49<00:00,  1.19it/s]\n",
      "100%|██████████| 15/15 [00:04<00:00,  3.71it/s]\n"
     ]
    },
    {
     "name": "stdout",
     "output_type": "stream",
     "text": [
      "train loss:  0.08448937048188031\n",
      "Val loss:  0.11524536609649658\n",
      "train accuracy:  0.7108317214700194\n",
      "Val accuracy:  0.6\n",
      "Current time: 61.550 minutes. Time expected till completion: 130.795 minutes\n",
      "Epoch 33 of 100\n"
     ]
    },
    {
     "name": "stderr",
     "output_type": "stream",
     "text": [
      "100%|██████████| 130/130 [01:49<00:00,  1.19it/s]\n",
      "100%|██████████| 15/15 [00:04<00:00,  3.72it/s]\n"
     ]
    },
    {
     "name": "stdout",
     "output_type": "stream",
     "text": [
      "train loss:  0.07772813993911448\n",
      "Val loss:  0.11476795284644417\n",
      "train accuracy:  0.746615087040619\n",
      "Val accuracy:  0.6347826086956522\n",
      "Current time: 63.441 minutes. Time expected till completion: 128.804 minutes\n",
      "Epoch 34 of 100\n"
     ]
    },
    {
     "name": "stderr",
     "output_type": "stream",
     "text": [
      "100%|██████████| 130/130 [01:49<00:00,  1.19it/s]\n",
      "100%|██████████| 15/15 [00:04<00:00,  3.70it/s]\n"
     ]
    },
    {
     "name": "stdout",
     "output_type": "stream",
     "text": [
      "train loss:  0.07790868467069456\n",
      "Val loss:  0.11356424987316131\n",
      "train accuracy:  0.7388781431334622\n",
      "Val accuracy:  0.6\n",
      "Current time: 65.329 minutes. Time expected till completion: 126.814 minutes\n",
      "Epoch 35 of 100\n"
     ]
    },
    {
     "name": "stderr",
     "output_type": "stream",
     "text": [
      "100%|██████████| 130/130 [01:49<00:00,  1.19it/s]\n",
      "100%|██████████| 15/15 [00:04<00:00,  3.69it/s]\n"
     ]
    },
    {
     "name": "stdout",
     "output_type": "stream",
     "text": [
      "train loss:  0.07523715174693896\n",
      "Val loss:  0.12216177219929902\n",
      "train accuracy:  0.7678916827852998\n",
      "Val accuracy:  0.6086956521739131\n",
      "Current time: 67.218 minutes. Time expected till completion: 124.834 minutes\n",
      "Epoch 36 of 100\n"
     ]
    },
    {
     "name": "stderr",
     "output_type": "stream",
     "text": [
      "100%|██████████| 130/130 [01:49<00:00,  1.19it/s]\n",
      "100%|██████████| 15/15 [00:04<00:00,  3.69it/s]\n"
     ]
    },
    {
     "name": "stdout",
     "output_type": "stream",
     "text": [
      "train loss:  0.07699921639272277\n",
      "Val loss:  0.10986613190692404\n",
      "train accuracy:  0.7495164410058027\n",
      "Val accuracy:  0.6608695652173913\n",
      "Current time: 69.108 minutes. Time expected till completion: 122.858 minutes\n",
      "Epoch 37 of 100\n"
     ]
    },
    {
     "name": "stderr",
     "output_type": "stream",
     "text": [
      "100%|██████████| 130/130 [01:49<00:00,  1.19it/s]\n",
      "100%|██████████| 15/15 [00:04<00:00,  3.71it/s]\n"
     ]
    },
    {
     "name": "stdout",
     "output_type": "stream",
     "text": [
      "train loss:  0.07755428997933057\n",
      "Val loss:  0.10685642698536749\n",
      "train accuracy:  0.7495164410058027\n",
      "Val accuracy:  0.6782608695652174\n",
      "Best model at the moment with Val_acc 67.83, saving...\n",
      "Current time: 71.002 minutes. Time expected till completion: 120.895 minutes\n",
      "Epoch 38 of 100\n"
     ]
    },
    {
     "name": "stderr",
     "output_type": "stream",
     "text": [
      "100%|██████████| 130/130 [01:49<00:00,  1.19it/s]\n",
      "100%|██████████| 15/15 [00:04<00:00,  3.69it/s]\n"
     ]
    },
    {
     "name": "stdout",
     "output_type": "stream",
     "text": [
      "train loss:  0.06879875958830521\n",
      "Val loss:  0.1243051290512085\n",
      "train accuracy:  0.7746615087040619\n",
      "Val accuracy:  0.6434782608695652\n",
      "Current time: 72.894 minutes. Time expected till completion: 118.932 minutes\n",
      "Epoch 39 of 100\n"
     ]
    },
    {
     "name": "stderr",
     "output_type": "stream",
     "text": [
      "100%|██████████| 130/130 [01:49<00:00,  1.19it/s]\n",
      "100%|██████████| 15/15 [00:04<00:00,  3.70it/s]\n"
     ]
    },
    {
     "name": "stdout",
     "output_type": "stream",
     "text": [
      "train loss:  0.06772169354056481\n",
      "Val loss:  0.13572938519975414\n",
      "train accuracy:  0.7727272727272727\n",
      "Val accuracy:  0.6173913043478261\n",
      "Current time: 74.785 minutes. Time expected till completion: 116.971 minutes\n",
      "Epoch 40 of 100\n"
     ]
    },
    {
     "name": "stderr",
     "output_type": "stream",
     "text": [
      "100%|██████████| 130/130 [01:49<00:00,  1.19it/s]\n",
      "100%|██████████| 15/15 [00:04<00:00,  3.70it/s]\n"
     ]
    },
    {
     "name": "stdout",
     "output_type": "stream",
     "text": [
      "train loss:  0.07042462815399096\n",
      "Val loss:  0.12336490076521169\n",
      "train accuracy:  0.781431334622824\n",
      "Val accuracy:  0.6347826086956522\n",
      "Current time: 76.674 minutes. Time expected till completion: 115.011 minutes\n",
      "Epoch 41 of 100\n"
     ]
    },
    {
     "name": "stderr",
     "output_type": "stream",
     "text": [
      "100%|██████████| 130/130 [01:49<00:00,  1.19it/s]\n",
      "100%|██████████| 15/15 [00:04<00:00,  3.71it/s]\n"
     ]
    },
    {
     "name": "stdout",
     "output_type": "stream",
     "text": [
      "train loss:  0.06555559945867416\n",
      "Val loss:  0.1383904112421948\n",
      "train accuracy:  0.7949709864603481\n",
      "Val accuracy:  0.5217391304347826\n",
      "Current time: 78.565 minutes. Time expected till completion: 113.057 minutes\n",
      "Epoch 42 of 100\n"
     ]
    },
    {
     "name": "stderr",
     "output_type": "stream",
     "text": [
      "100%|██████████| 130/130 [01:50<00:00,  1.17it/s]\n",
      "100%|██████████| 15/15 [00:04<00:00,  3.66it/s]\n"
     ]
    },
    {
     "name": "stdout",
     "output_type": "stream",
     "text": [
      "train loss:  0.06600285520348374\n",
      "Val loss:  0.118899281906045\n",
      "train accuracy:  0.7843326885880078\n",
      "Val accuracy:  0.6608695652173913\n",
      "Current time: 80.479 minutes. Time expected till completion: 111.137 minutes\n",
      "Epoch 43 of 100\n"
     ]
    },
    {
     "name": "stderr",
     "output_type": "stream",
     "text": [
      "100%|██████████| 130/130 [01:53<00:00,  1.15it/s]\n",
      "100%|██████████| 15/15 [00:04<00:00,  3.19it/s]\n"
     ]
    },
    {
     "name": "stdout",
     "output_type": "stream",
     "text": [
      "train loss:  0.06402144898125466\n",
      "Val loss:  0.12939681559801103\n",
      "train accuracy:  0.809477756286267\n",
      "Val accuracy:  0.6347826086956522\n",
      "Current time: 82.449 minutes. Time expected till completion: 109.293 minutes\n",
      "Epoch 44 of 100\n"
     ]
    },
    {
     "name": "stderr",
     "output_type": "stream",
     "text": [
      "100%|██████████| 130/130 [01:54<00:00,  1.14it/s]\n",
      "100%|██████████| 15/15 [00:04<00:00,  3.63it/s]\n"
     ]
    },
    {
     "name": "stdout",
     "output_type": "stream",
     "text": [
      "train loss:  0.06576296129413453\n",
      "Val loss:  0.12071984228880508\n",
      "train accuracy:  0.7920696324951644\n",
      "Val accuracy:  0.6\n",
      "Current time: 84.419 minutes. Time expected till completion: 107.443 minutes\n",
      "Epoch 45 of 100\n"
     ]
    },
    {
     "name": "stderr",
     "output_type": "stream",
     "text": [
      "100%|██████████| 130/130 [01:52<00:00,  1.16it/s]\n",
      "100%|██████████| 15/15 [00:04<00:00,  3.58it/s]\n"
     ]
    },
    {
     "name": "stdout",
     "output_type": "stream",
     "text": [
      "train loss:  0.06363493617717716\n",
      "Val loss:  0.12980662273324053\n",
      "train accuracy:  0.8017408123791102\n",
      "Val accuracy:  0.6347826086956522\n",
      "Current time: 86.363 minutes. Time expected till completion: 105.555 minutes\n",
      "Epoch 46 of 100\n"
     ]
    },
    {
     "name": "stderr",
     "output_type": "stream",
     "text": [
      "100%|██████████| 130/130 [01:53<00:00,  1.14it/s]\n",
      "100%|██████████| 15/15 [00:04<00:00,  3.66it/s]\n"
     ]
    },
    {
     "name": "stdout",
     "output_type": "stream",
     "text": [
      "train loss:  0.05947718805339858\n",
      "Val loss:  0.13422840574513312\n",
      "train accuracy:  0.8220502901353965\n",
      "Val accuracy:  0.5826086956521739\n",
      "Current time: 88.332 minutes. Time expected till completion: 103.694 minutes\n",
      "Epoch 47 of 100\n"
     ]
    },
    {
     "name": "stderr",
     "output_type": "stream",
     "text": [
      "100%|██████████| 130/130 [01:52<00:00,  1.15it/s]\n",
      "100%|██████████| 15/15 [00:04<00:00,  3.67it/s]\n"
     ]
    },
    {
     "name": "stdout",
     "output_type": "stream",
     "text": [
      "train loss:  0.058867897197056554\n",
      "Val loss:  0.1092995910540871\n",
      "train accuracy:  0.8123791102514507\n",
      "Val accuracy:  0.6782608695652174\n",
      "Current time: 90.281 minutes. Time expected till completion: 101.806 minutes\n",
      "Epoch 48 of 100\n"
     ]
    },
    {
     "name": "stderr",
     "output_type": "stream",
     "text": [
      "100%|██████████| 130/130 [01:53<00:00,  1.14it/s]\n",
      "100%|██████████| 15/15 [00:04<00:00,  3.57it/s]\n"
     ]
    },
    {
     "name": "stdout",
     "output_type": "stream",
     "text": [
      "train loss:  0.05718014699837456\n",
      "Val loss:  0.163521356848271\n",
      "train accuracy:  0.8239845261121856\n",
      "Val accuracy:  0.6521739130434783\n",
      "Current time: 92.251 minutes. Time expected till completion: 99.938 minutes\n",
      "Epoch 49 of 100\n"
     ]
    },
    {
     "name": "stderr",
     "output_type": "stream",
     "text": [
      "100%|██████████| 130/130 [01:53<00:00,  1.15it/s]\n",
      "100%|██████████| 15/15 [00:04<00:00,  3.65it/s]\n"
     ]
    },
    {
     "name": "stdout",
     "output_type": "stream",
     "text": [
      "train loss:  0.057885820366716016\n",
      "Val loss:  0.12821438701256463\n",
      "train accuracy:  0.8123791102514507\n",
      "Val accuracy:  0.591304347826087\n",
      "Current time: 94.204 minutes. Time expected till completion: 98.049 minutes\n",
      "Epoch 50 of 100\n"
     ]
    },
    {
     "name": "stderr",
     "output_type": "stream",
     "text": [
      "100%|██████████| 130/130 [01:52<00:00,  1.16it/s]\n",
      "100%|██████████| 15/15 [00:04<00:00,  3.65it/s]\n"
     ]
    },
    {
     "name": "stdout",
     "output_type": "stream",
     "text": [
      "train loss:  0.05429875613613562\n",
      "Val loss:  0.13981280645922475\n",
      "train accuracy:  0.8336557059961315\n",
      "Val accuracy:  0.6347826086956522\n",
      "Current time: 96.145 minutes. Time expected till completion: 96.145 minutes\n",
      "Epoch 51 of 100\n"
     ]
    },
    {
     "name": "stderr",
     "output_type": "stream",
     "text": [
      "100%|██████████| 130/130 [01:52<00:00,  1.15it/s]\n",
      "100%|██████████| 15/15 [00:04<00:00,  3.68it/s]\n"
     ]
    },
    {
     "name": "stdout",
     "output_type": "stream",
     "text": [
      "train loss:  0.05725547543418823\n",
      "Val loss:  0.12926764475262684\n",
      "train accuracy:  0.8230174081237911\n",
      "Val accuracy:  0.6347826086956522\n",
      "Current time: 98.090 minutes. Time expected till completion: 94.243 minutes\n",
      "Epoch 52 of 100\n"
     ]
    },
    {
     "name": "stderr",
     "output_type": "stream",
     "text": [
      "100%|██████████| 130/130 [01:52<00:00,  1.16it/s]\n",
      "100%|██████████| 15/15 [00:04<00:00,  3.59it/s]\n"
     ]
    },
    {
     "name": "stdout",
     "output_type": "stream",
     "text": [
      "train loss:  0.04912633204569669\n",
      "Val loss:  0.12717629398988642\n",
      "train accuracy:  0.8481624758220503\n",
      "Val accuracy:  0.6347826086956522\n",
      "Current time: 100.035 minutes. Time expected till completion: 92.340 minutes\n",
      "Epoch 53 of 100\n"
     ]
    },
    {
     "name": "stderr",
     "output_type": "stream",
     "text": [
      "100%|██████████| 130/130 [01:52<00:00,  1.15it/s]\n",
      "100%|██████████| 15/15 [00:04<00:00,  3.65it/s]\n"
     ]
    },
    {
     "name": "stdout",
     "output_type": "stream",
     "text": [
      "train loss:  0.053174771166747035\n",
      "Val loss:  0.1201610249021779\n",
      "train accuracy:  0.839458413926499\n",
      "Val accuracy:  0.6260869565217392\n",
      "Current time: 101.981 minutes. Time expected till completion: 90.436 minutes\n",
      "Epoch 54 of 100\n"
     ]
    },
    {
     "name": "stderr",
     "output_type": "stream",
     "text": [
      "100%|██████████| 130/130 [01:52<00:00,  1.15it/s]\n",
      "100%|██████████| 15/15 [00:04<00:00,  3.67it/s]\n"
     ]
    },
    {
     "name": "stdout",
     "output_type": "stream",
     "text": [
      "train loss:  0.0499388255625675\n",
      "Val loss:  0.14121904606404512\n",
      "train accuracy:  0.8491295938104448\n",
      "Val accuracy:  0.6608695652173913\n",
      "Current time: 103.927 minutes. Time expected till completion: 88.530 minutes\n",
      "Epoch 55 of 100\n"
     ]
    },
    {
     "name": "stderr",
     "output_type": "stream",
     "text": [
      "100%|██████████| 130/130 [01:52<00:00,  1.15it/s]\n",
      "100%|██████████| 15/15 [00:04<00:00,  3.63it/s]\n"
     ]
    },
    {
     "name": "stdout",
     "output_type": "stream",
     "text": [
      "train loss:  0.04260172227278669\n",
      "Val loss:  0.13078692879365839\n",
      "train accuracy:  0.8684719535783365\n",
      "Val accuracy:  0.6173913043478261\n",
      "Current time: 105.873 minutes. Time expected till completion: 86.624 minutes\n",
      "Epoch 56 of 100\n"
     ]
    },
    {
     "name": "stderr",
     "output_type": "stream",
     "text": [
      "100%|██████████| 130/130 [01:52<00:00,  1.16it/s]\n",
      "100%|██████████| 15/15 [00:04<00:00,  3.67it/s]\n"
     ]
    },
    {
     "name": "stdout",
     "output_type": "stream",
     "text": [
      "train loss:  0.047676014355464875\n",
      "Val loss:  0.125549374455991\n",
      "train accuracy:  0.8626692456479691\n",
      "Val accuracy:  0.6434782608695652\n",
      "Current time: 107.816 minutes. Time expected till completion: 84.713 minutes\n",
      "Epoch 57 of 100\n"
     ]
    },
    {
     "name": "stderr",
     "output_type": "stream",
     "text": [
      "100%|██████████| 130/130 [01:52<00:00,  1.15it/s]\n",
      "100%|██████████| 15/15 [00:04<00:00,  3.67it/s]\n"
     ]
    },
    {
     "name": "stdout",
     "output_type": "stream",
     "text": [
      "train loss:  0.04341518415617297\n",
      "Val loss:  0.1668066822964212\n",
      "train accuracy:  0.8665377176015474\n",
      "Val accuracy:  0.6\n",
      "Current time: 109.761 minutes. Time expected till completion: 82.802 minutes\n",
      "Epoch 58 of 100\n"
     ]
    },
    {
     "name": "stderr",
     "output_type": "stream",
     "text": [
      "100%|██████████| 130/130 [01:54<00:00,  1.14it/s]\n",
      "100%|██████████| 15/15 [00:04<00:00,  3.39it/s]\n"
     ]
    },
    {
     "name": "stdout",
     "output_type": "stream",
     "text": [
      "train loss:  0.043388649104325175\n",
      "Val loss:  0.1387435285941414\n",
      "train accuracy:  0.8800773694390716\n",
      "Val accuracy:  0.6434782608695652\n",
      "Current time: 111.739 minutes. Time expected till completion: 80.915 minutes\n",
      "Epoch 59 of 100\n"
     ]
    },
    {
     "name": "stderr",
     "output_type": "stream",
     "text": [
      "100%|██████████| 130/130 [01:56<00:00,  1.12it/s]\n",
      "100%|██████████| 15/15 [00:04<00:00,  3.53it/s]\n"
     ]
    },
    {
     "name": "stdout",
     "output_type": "stream",
     "text": [
      "train loss:  0.04044169124857139\n",
      "Val loss:  0.15762050877446715\n",
      "train accuracy:  0.8820116054158608\n",
      "Val accuracy:  0.6086956521739131\n",
      "Current time: 113.748 minutes. Time expected till completion: 79.046 minutes\n",
      "Epoch 60 of 100\n"
     ]
    },
    {
     "name": "stderr",
     "output_type": "stream",
     "text": [
      "100%|██████████| 130/130 [01:56<00:00,  1.11it/s]\n",
      "100%|██████████| 15/15 [00:04<00:00,  3.47it/s]\n"
     ]
    },
    {
     "name": "stdout",
     "output_type": "stream",
     "text": [
      "train loss:  0.04518606167149728\n",
      "Val loss:  0.1483601627142533\n",
      "train accuracy:  0.8597678916827853\n",
      "Val accuracy:  0.6434782608695652\n",
      "Current time: 115.767 minutes. Time expected till completion: 77.178 minutes\n",
      "Epoch 61 of 100\n"
     ]
    },
    {
     "name": "stderr",
     "output_type": "stream",
     "text": [
      "100%|██████████| 130/130 [01:57<00:00,  1.11it/s]\n",
      "100%|██████████| 15/15 [00:04<00:00,  3.49it/s]\n"
     ]
    },
    {
     "name": "stdout",
     "output_type": "stream",
     "text": [
      "train loss:  0.04382549637002687\n",
      "Val loss:  0.13872094931809797\n",
      "train accuracy:  0.8665377176015474\n",
      "Val accuracy:  0.5739130434782609\n",
      "Current time: 117.797 minutes. Time expected till completion: 75.313 minutes\n",
      "Epoch 62 of 100\n"
     ]
    },
    {
     "name": "stderr",
     "output_type": "stream",
     "text": [
      "100%|██████████| 130/130 [01:57<00:00,  1.11it/s]\n",
      "100%|██████████| 15/15 [00:04<00:00,  3.58it/s]\n"
     ]
    },
    {
     "name": "stdout",
     "output_type": "stream",
     "text": [
      "train loss:  0.043832025348390785\n",
      "Val loss:  0.15081642788389454\n",
      "train accuracy:  0.874274661508704\n",
      "Val accuracy:  0.6521739130434783\n",
      "Current time: 119.820 minutes. Time expected till completion: 73.438 minutes\n",
      "Epoch 63 of 100\n"
     ]
    },
    {
     "name": "stderr",
     "output_type": "stream",
     "text": [
      "100%|██████████| 130/130 [01:57<00:00,  1.11it/s]\n",
      "100%|██████████| 15/15 [00:04<00:00,  3.48it/s]\n"
     ]
    },
    {
     "name": "stdout",
     "output_type": "stream",
     "text": [
      "train loss:  0.03544704786482009\n",
      "Val loss:  0.14697961327822312\n",
      "train accuracy:  0.8936170212765957\n",
      "Val accuracy:  0.6\n",
      "Current time: 121.847 minutes. Time expected till completion: 71.561 minutes\n",
      "Epoch 64 of 100\n"
     ]
    },
    {
     "name": "stderr",
     "output_type": "stream",
     "text": [
      "100%|██████████| 130/130 [01:54<00:00,  1.14it/s]\n",
      "100%|██████████| 15/15 [00:04<00:00,  3.61it/s]\n"
     ]
    },
    {
     "name": "stdout",
     "output_type": "stream",
     "text": [
      "train loss:  0.03564459290463528\n",
      "Val loss:  0.1323668308880018\n",
      "train accuracy:  0.8887814313346228\n",
      "Val accuracy:  0.6086956521739131\n",
      "Current time: 123.824 minutes. Time expected till completion: 69.651 minutes\n",
      "Epoch 65 of 100\n"
     ]
    },
    {
     "name": "stderr",
     "output_type": "stream",
     "text": [
      "100%|██████████| 130/130 [01:54<00:00,  1.13it/s]\n",
      "100%|██████████| 15/15 [00:04<00:00,  3.43it/s]\n"
     ]
    },
    {
     "name": "stdout",
     "output_type": "stream",
     "text": [
      "train loss:  0.03810702422831921\n",
      "Val loss:  0.13494114791569503\n",
      "train accuracy:  0.9003868471953579\n",
      "Val accuracy:  0.5652173913043478\n",
      "Current time: 125.810 minutes. Time expected till completion: 67.744 minutes\n",
      "Epoch 66 of 100\n"
     ]
    },
    {
     "name": "stderr",
     "output_type": "stream",
     "text": [
      "100%|██████████| 130/130 [01:54<00:00,  1.13it/s]\n",
      "100%|██████████| 15/15 [00:04<00:00,  3.63it/s]\n"
     ]
    },
    {
     "name": "stdout",
     "output_type": "stream",
     "text": [
      "train loss:  0.035156702287711304\n",
      "Val loss:  0.12290173069290493\n",
      "train accuracy:  0.8926499032882012\n",
      "Val accuracy:  0.6695652173913044\n",
      "Current time: 127.794 minutes. Time expected till completion: 65.834 minutes\n",
      "Epoch 67 of 100\n"
     ]
    },
    {
     "name": "stderr",
     "output_type": "stream",
     "text": [
      "100%|██████████| 130/130 [01:54<00:00,  1.13it/s]\n",
      "100%|██████████| 15/15 [00:04<00:00,  3.55it/s]\n"
     ]
    },
    {
     "name": "stdout",
     "output_type": "stream",
     "text": [
      "train loss:  0.03795383260288137\n",
      "Val loss:  0.1443029611007027\n",
      "train accuracy:  0.8984526112185687\n",
      "Val accuracy:  0.591304347826087\n",
      "Current time: 129.777 minutes. Time expected till completion: 63.920 minutes\n",
      "Epoch 68 of 100\n"
     ]
    },
    {
     "name": "stderr",
     "output_type": "stream",
     "text": [
      "100%|██████████| 130/130 [01:56<00:00,  1.12it/s]\n",
      "100%|██████████| 15/15 [00:04<00:00,  3.57it/s]\n"
     ]
    },
    {
     "name": "stdout",
     "output_type": "stream",
     "text": [
      "train loss:  0.035892504301621095\n",
      "Val loss:  0.14465430184550906\n",
      "train accuracy:  0.8955512572533849\n",
      "Val accuracy:  0.6173913043478261\n",
      "Current time: 131.786 minutes. Time expected till completion: 62.017 minutes\n",
      "Epoch 69 of 100\n"
     ]
    },
    {
     "name": "stderr",
     "output_type": "stream",
     "text": [
      "100%|██████████| 130/130 [01:56<00:00,  1.12it/s]\n",
      "100%|██████████| 15/15 [00:04<00:00,  3.52it/s]\n"
     ]
    },
    {
     "name": "stdout",
     "output_type": "stream",
     "text": [
      "train loss:  0.03210297621952323\n",
      "Val loss:  0.13771614846975908\n",
      "train accuracy:  0.9158607350096711\n",
      "Val accuracy:  0.6521739130434783\n",
      "Current time: 133.792 minutes. Time expected till completion: 60.110 minutes\n",
      "Epoch 70 of 100\n"
     ]
    },
    {
     "name": "stderr",
     "output_type": "stream",
     "text": [
      "100%|██████████| 130/130 [01:55<00:00,  1.13it/s]\n",
      "100%|██████████| 15/15 [00:04<00:00,  3.61it/s]\n"
     ]
    },
    {
     "name": "stdout",
     "output_type": "stream",
     "text": [
      "train loss:  0.03121048242314872\n",
      "Val loss:  0.1478663277366887\n",
      "train accuracy:  0.9245647969052224\n",
      "Val accuracy:  0.6608695652173913\n",
      "Current time: 135.786 minutes. Time expected till completion: 58.194 minutes\n",
      "Epoch 71 of 100\n"
     ]
    },
    {
     "name": "stderr",
     "output_type": "stream",
     "text": [
      "100%|██████████| 130/130 [01:53<00:00,  1.15it/s]\n",
      "100%|██████████| 15/15 [00:04<00:00,  3.60it/s]\n"
     ]
    },
    {
     "name": "stdout",
     "output_type": "stream",
     "text": [
      "train loss:  0.030007146862722805\n",
      "Val loss:  0.1423208659109862\n",
      "train accuracy:  0.9158607350096711\n",
      "Val accuracy:  0.6521739130434783\n",
      "Current time: 137.745 minutes. Time expected till completion: 56.262 minutes\n",
      "Epoch 72 of 100\n"
     ]
    },
    {
     "name": "stderr",
     "output_type": "stream",
     "text": [
      "100%|██████████| 130/130 [01:55<00:00,  1.12it/s]\n",
      "100%|██████████| 15/15 [00:04<00:00,  3.60it/s]\n"
     ]
    },
    {
     "name": "stdout",
     "output_type": "stream",
     "text": [
      "train loss:  0.030539017410253534\n",
      "Val loss:  0.1386860403029815\n",
      "train accuracy:  0.9235976789168279\n",
      "Val accuracy:  0.6608695652173913\n",
      "Current time: 139.743 minutes. Time expected till completion: 54.345 minutes\n",
      "Epoch 73 of 100\n"
     ]
    },
    {
     "name": "stderr",
     "output_type": "stream",
     "text": [
      "100%|██████████| 130/130 [01:52<00:00,  1.15it/s]\n",
      "100%|██████████| 15/15 [00:04<00:00,  3.64it/s]\n"
     ]
    },
    {
     "name": "stdout",
     "output_type": "stream",
     "text": [
      "train loss:  0.027964284710182558\n",
      "Val loss:  0.14352119694585386\n",
      "train accuracy:  0.9168278529980658\n",
      "Val accuracy:  0.6260869565217392\n",
      "Current time: 141.693 minutes. Time expected till completion: 52.407 minutes\n",
      "Epoch 74 of 100\n"
     ]
    },
    {
     "name": "stderr",
     "output_type": "stream",
     "text": [
      "100%|██████████| 130/130 [01:53<00:00,  1.14it/s]\n",
      "100%|██████████| 15/15 [00:04<00:00,  3.63it/s]\n"
     ]
    },
    {
     "name": "stdout",
     "output_type": "stream",
     "text": [
      "train loss:  0.029216874776339625\n",
      "Val loss:  0.1486509807407856\n",
      "train accuracy:  0.9245647969052224\n",
      "Val accuracy:  0.6173913043478261\n",
      "Current time: 143.655 minutes. Time expected till completion: 50.473 minutes\n",
      "Epoch 75 of 100\n"
     ]
    },
    {
     "name": "stderr",
     "output_type": "stream",
     "text": [
      "100%|██████████| 130/130 [01:54<00:00,  1.14it/s]\n",
      "100%|██████████| 15/15 [00:04<00:00,  3.49it/s]\n"
     ]
    },
    {
     "name": "stdout",
     "output_type": "stream",
     "text": [
      "train loss:  0.02879280640024915\n",
      "Val loss:  0.17697313350179922\n",
      "train accuracy:  0.9264990328820116\n",
      "Val accuracy:  0.591304347826087\n",
      "Current time: 145.629 minutes. Time expected till completion: 48.543 minutes\n",
      "Epoch 76 of 100\n"
     ]
    },
    {
     "name": "stderr",
     "output_type": "stream",
     "text": [
      "100%|██████████| 130/130 [01:54<00:00,  1.13it/s]\n",
      "100%|██████████| 15/15 [00:04<00:00,  3.48it/s]\n"
     ]
    },
    {
     "name": "stdout",
     "output_type": "stream",
     "text": [
      "train loss:  0.029987588567151266\n",
      "Val loss:  0.17564970773199332\n",
      "train accuracy:  0.9197292069632496\n",
      "Val accuracy:  0.6347826086956522\n",
      "Current time: 147.614 minutes. Time expected till completion: 46.615 minutes\n",
      "Epoch 77 of 100\n"
     ]
    },
    {
     "name": "stderr",
     "output_type": "stream",
     "text": [
      "100%|██████████| 130/130 [01:54<00:00,  1.13it/s]\n",
      "100%|██████████| 15/15 [00:04<00:00,  3.58it/s]\n"
     ]
    },
    {
     "name": "stdout",
     "output_type": "stream",
     "text": [
      "train loss:  0.0242293298954227\n",
      "Val loss:  0.16300077308779176\n",
      "train accuracy:  0.9361702127659575\n",
      "Val accuracy:  0.6347826086956522\n",
      "Current time: 149.593 minutes. Time expected till completion: 44.684 minutes\n",
      "Epoch 78 of 100\n"
     ]
    },
    {
     "name": "stderr",
     "output_type": "stream",
     "text": [
      "100%|██████████| 130/130 [01:54<00:00,  1.14it/s]\n",
      "100%|██████████| 15/15 [00:04<00:00,  3.61it/s]\n"
     ]
    },
    {
     "name": "stdout",
     "output_type": "stream",
     "text": [
      "train loss:  0.02791325396153809\n",
      "Val loss:  0.16108250579108363\n",
      "train accuracy:  0.9284332688588007\n",
      "Val accuracy:  0.5826086956521739\n",
      "Current time: 151.572 minutes. Time expected till completion: 42.751 minutes\n",
      "Epoch 79 of 100\n"
     ]
    },
    {
     "name": "stderr",
     "output_type": "stream",
     "text": [
      "100%|██████████| 130/130 [01:54<00:00,  1.14it/s]\n",
      "100%|██████████| 15/15 [00:04<00:00,  3.64it/s]\n"
     ]
    },
    {
     "name": "stdout",
     "output_type": "stream",
     "text": [
      "train loss:  0.024305074821573968\n",
      "Val loss:  0.16018733252649722\n",
      "train accuracy:  0.9274661508704062\n",
      "Val accuracy:  0.6173913043478261\n",
      "Current time: 153.547 minutes. Time expected till completion: 40.816 minutes\n",
      "Epoch 80 of 100\n"
     ]
    },
    {
     "name": "stderr",
     "output_type": "stream",
     "text": [
      "100%|██████████| 130/130 [01:55<00:00,  1.13it/s]\n",
      "100%|██████████| 15/15 [00:04<00:00,  3.64it/s]\n"
     ]
    },
    {
     "name": "stdout",
     "output_type": "stream",
     "text": [
      "train loss:  0.022619141320692558\n",
      "Val loss:  0.18461192289124365\n",
      "train accuracy:  0.9381044487427466\n",
      "Val accuracy:  0.6173913043478261\n",
      "Current time: 155.534 minutes. Time expected till completion: 38.884 minutes\n",
      "Epoch 81 of 100\n"
     ]
    },
    {
     "name": "stderr",
     "output_type": "stream",
     "text": [
      "100%|██████████| 130/130 [01:53<00:00,  1.14it/s]\n",
      "100%|██████████| 15/15 [00:04<00:00,  3.51it/s]\n"
     ]
    },
    {
     "name": "stdout",
     "output_type": "stream",
     "text": [
      "train loss:  0.024757272659348795\n",
      "Val loss:  0.16531131137972294\n",
      "train accuracy:  0.9284332688588007\n",
      "Val accuracy:  0.6173913043478261\n",
      "Current time: 157.504 minutes. Time expected till completion: 36.945 minutes\n",
      "Epoch 82 of 100\n"
     ]
    },
    {
     "name": "stderr",
     "output_type": "stream",
     "text": [
      "100%|██████████| 130/130 [01:54<00:00,  1.13it/s]\n",
      "100%|██████████| 15/15 [00:04<00:00,  3.49it/s]\n"
     ]
    },
    {
     "name": "stdout",
     "output_type": "stream",
     "text": [
      "train loss:  0.018081409523418492\n",
      "Val loss:  0.19891635905141417\n",
      "train accuracy:  0.9477756286266924\n",
      "Val accuracy:  0.6173913043478261\n",
      "Current time: 159.488 minutes. Time expected till completion: 35.010 minutes\n",
      "Epoch 83 of 100\n"
     ]
    },
    {
     "name": "stderr",
     "output_type": "stream",
     "text": [
      "100%|██████████| 130/130 [01:55<00:00,  1.13it/s]\n",
      "100%|██████████| 15/15 [00:04<00:00,  3.54it/s]\n"
     ]
    },
    {
     "name": "stdout",
     "output_type": "stream",
     "text": [
      "train loss:  0.020890817056973852\n",
      "Val loss:  0.15834996933522433\n",
      "train accuracy:  0.9487427466150871\n",
      "Val accuracy:  0.5826086956521739\n",
      "Current time: 161.479 minutes. Time expected till completion: 33.074 minutes\n",
      "Epoch 84 of 100\n"
     ]
    },
    {
     "name": "stderr",
     "output_type": "stream",
     "text": [
      "100%|██████████| 130/130 [01:56<00:00,  1.12it/s]\n",
      "100%|██████████| 15/15 [00:04<00:00,  3.55it/s]\n"
     ]
    },
    {
     "name": "stdout",
     "output_type": "stream",
     "text": [
      "train loss:  0.023288482879387572\n",
      "Val loss:  0.17722146977549014\n",
      "train accuracy:  0.937137330754352\n",
      "Val accuracy:  0.5217391304347826\n",
      "Current time: 163.484 minutes. Time expected till completion: 31.140 minutes\n",
      "Epoch 85 of 100\n"
     ]
    },
    {
     "name": "stderr",
     "output_type": "stream",
     "text": [
      "100%|██████████| 130/130 [01:54<00:00,  1.13it/s]\n",
      "100%|██████████| 15/15 [00:04<00:00,  3.58it/s]\n"
     ]
    },
    {
     "name": "stdout",
     "output_type": "stream",
     "text": [
      "train loss:  0.020059503379369757\n",
      "Val loss:  0.17110985983972965\n",
      "train accuracy:  0.9487427466150871\n",
      "Val accuracy:  0.5739130434782609\n",
      "Current time: 165.463 minutes. Time expected till completion: 29.199 minutes\n",
      "Epoch 86 of 100\n"
     ]
    },
    {
     "name": "stderr",
     "output_type": "stream",
     "text": [
      "100%|██████████| 130/130 [01:55<00:00,  1.13it/s]\n",
      "100%|██████████| 15/15 [00:04<00:00,  3.22it/s]\n"
     ]
    },
    {
     "name": "stdout",
     "output_type": "stream",
     "text": [
      "train loss:  0.019413534650035074\n",
      "Val loss:  0.15958372231410897\n",
      "train accuracy:  0.9535783365570599\n",
      "Val accuracy:  0.6608695652173913\n",
      "Current time: 167.465 minutes. Time expected till completion: 27.262 minutes\n",
      "Epoch 87 of 100\n"
     ]
    },
    {
     "name": "stderr",
     "output_type": "stream",
     "text": [
      "100%|██████████| 130/130 [01:55<00:00,  1.13it/s]\n",
      "100%|██████████| 15/15 [00:04<00:00,  3.62it/s]\n"
     ]
    },
    {
     "name": "stdout",
     "output_type": "stream",
     "text": [
      "train loss:  0.019369941148942974\n",
      "Val loss:  0.14537587982157002\n",
      "train accuracy:  0.9429400386847195\n",
      "Val accuracy:  0.6173913043478261\n",
      "Current time: 169.453 minutes. Time expected till completion: 25.321 minutes\n",
      "Epoch 88 of 100\n"
     ]
    },
    {
     "name": "stderr",
     "output_type": "stream",
     "text": [
      "100%|██████████| 130/130 [01:55<00:00,  1.12it/s]\n",
      "100%|██████████| 15/15 [00:04<00:00,  3.55it/s]\n"
     ]
    },
    {
     "name": "stdout",
     "output_type": "stream",
     "text": [
      "train loss:  0.019069890325935826\n",
      "Val loss:  0.17369033175966014\n",
      "train accuracy:  0.9468085106382979\n",
      "Val accuracy:  0.6347826086956522\n",
      "Current time: 171.451 minutes. Time expected till completion: 23.380 minutes\n",
      "Epoch 89 of 100\n"
     ]
    },
    {
     "name": "stderr",
     "output_type": "stream",
     "text": [
      "100%|██████████| 130/130 [01:54<00:00,  1.13it/s]\n",
      "100%|██████████| 15/15 [00:04<00:00,  3.59it/s]\n"
     ]
    },
    {
     "name": "stdout",
     "output_type": "stream",
     "text": [
      "train loss:  0.015101205386451988\n",
      "Val loss:  0.17995468896368275\n",
      "train accuracy:  0.9632495164410058\n",
      "Val accuracy:  0.6173913043478261\n",
      "Current time: 173.432 minutes. Time expected till completion: 21.435 minutes\n",
      "Epoch 90 of 100\n"
     ]
    },
    {
     "name": "stderr",
     "output_type": "stream",
     "text": [
      "100%|██████████| 130/130 [01:55<00:00,  1.12it/s]\n",
      "100%|██████████| 15/15 [00:05<00:00,  2.98it/s]\n"
     ]
    },
    {
     "name": "stdout",
     "output_type": "stream",
     "text": [
      "train loss:  0.018033805394696515\n",
      "Val loss:  0.21051670675692352\n",
      "train accuracy:  0.9642166344294004\n",
      "Val accuracy:  0.6260869565217392\n",
      "Current time: 175.445 minutes. Time expected till completion: 19.494 minutes\n",
      "Epoch 91 of 100\n"
     ]
    },
    {
     "name": "stderr",
     "output_type": "stream",
     "text": [
      "100%|██████████| 130/130 [01:55<00:00,  1.13it/s]\n",
      "100%|██████████| 15/15 [00:04<00:00,  3.62it/s]\n"
     ]
    },
    {
     "name": "stdout",
     "output_type": "stream",
     "text": [
      "train loss:  0.019698228339828566\n",
      "Val loss:  0.19401048888330874\n",
      "train accuracy:  0.9564796905222437\n",
      "Val accuracy:  0.5739130434782609\n",
      "Current time: 177.437 minutes. Time expected till completion: 17.549 minutes\n",
      "Epoch 92 of 100\n"
     ]
    },
    {
     "name": "stderr",
     "output_type": "stream",
     "text": [
      "100%|██████████| 130/130 [01:53<00:00,  1.14it/s]\n",
      "100%|██████████| 15/15 [00:04<00:00,  3.64it/s]\n"
     ]
    },
    {
     "name": "stdout",
     "output_type": "stream",
     "text": [
      "train loss:  0.022667717666867798\n",
      "Val loss:  0.19308587830999624\n",
      "train accuracy:  0.9448742746615088\n",
      "Val accuracy:  0.6\n",
      "Current time: 179.401 minutes. Time expected till completion: 15.600 minutes\n",
      "Epoch 93 of 100\n"
     ]
    },
    {
     "name": "stderr",
     "output_type": "stream",
     "text": [
      "100%|██████████| 130/130 [01:55<00:00,  1.13it/s]\n",
      "100%|██████████| 15/15 [00:04<00:00,  3.34it/s]\n"
     ]
    },
    {
     "name": "stdout",
     "output_type": "stream",
     "text": [
      "train loss:  0.017531961577762517\n",
      "Val loss:  0.19237160280994747\n",
      "train accuracy:  0.9555125725338491\n",
      "Val accuracy:  0.5652173913043478\n",
      "Current time: 181.395 minutes. Time expected till completion: 13.653 minutes\n",
      "Epoch 94 of 100\n"
     ]
    },
    {
     "name": "stderr",
     "output_type": "stream",
     "text": [
      "100%|██████████| 130/130 [01:54<00:00,  1.14it/s]\n",
      "100%|██████████| 15/15 [00:04<00:00,  3.61it/s]\n"
     ]
    },
    {
     "name": "stdout",
     "output_type": "stream",
     "text": [
      "train loss:  0.016850217237863223\n",
      "Val loss:  0.20233540262864982\n",
      "train accuracy:  0.9642166344294004\n",
      "Val accuracy:  0.6173913043478261\n",
      "Current time: 183.365 minutes. Time expected till completion: 11.704 minutes\n",
      "Epoch 95 of 100\n"
     ]
    },
    {
     "name": "stderr",
     "output_type": "stream",
     "text": [
      "100%|██████████| 130/130 [01:54<00:00,  1.13it/s]\n",
      "100%|██████████| 15/15 [00:04<00:00,  3.09it/s]\n"
     ]
    },
    {
     "name": "stdout",
     "output_type": "stream",
     "text": [
      "train loss:  0.015215515419822799\n",
      "Val loss:  0.1922806478064993\n",
      "train accuracy:  0.9680851063829787\n",
      "Val accuracy:  0.5826086956521739\n",
      "Current time: 185.363 minutes. Time expected till completion: 9.756 minutes\n",
      "Epoch 96 of 100\n"
     ]
    },
    {
     "name": "stderr",
     "output_type": "stream",
     "text": [
      "100%|██████████| 130/130 [01:54<00:00,  1.13it/s]\n",
      "100%|██████████| 15/15 [00:04<00:00,  3.63it/s]\n"
     ]
    },
    {
     "name": "stdout",
     "output_type": "stream",
     "text": [
      "train loss:  0.015916471392082004\n",
      "Val loss:  0.1841060265250828\n",
      "train accuracy:  0.9622823984526112\n",
      "Val accuracy:  0.5826086956521739\n",
      "Current time: 187.348 minutes. Time expected till completion: 7.806 minutes\n",
      "Epoch 97 of 100\n"
     ]
    },
    {
     "name": "stderr",
     "output_type": "stream",
     "text": [
      "100%|██████████| 130/130 [01:55<00:00,  1.13it/s]\n",
      "100%|██████████| 15/15 [00:04<00:00,  3.53it/s]\n"
     ]
    },
    {
     "name": "stdout",
     "output_type": "stream",
     "text": [
      "train loss:  0.01458331477077141\n",
      "Val loss:  0.17199537741101306\n",
      "train accuracy:  0.9632495164410058\n",
      "Val accuracy:  0.6173913043478261\n",
      "Current time: 189.338 minutes. Time expected till completion: 5.856 minutes\n",
      "Epoch 98 of 100\n"
     ]
    },
    {
     "name": "stderr",
     "output_type": "stream",
     "text": [
      "100%|██████████| 130/130 [01:54<00:00,  1.14it/s]\n",
      "100%|██████████| 15/15 [00:04<00:00,  3.48it/s]\n"
     ]
    },
    {
     "name": "stdout",
     "output_type": "stream",
     "text": [
      "train loss:  0.01658312591626822\n",
      "Val loss:  0.18812430449154066\n",
      "train accuracy:  0.9632495164410058\n",
      "Val accuracy:  0.5826086956521739\n",
      "Current time: 191.313 minutes. Time expected till completion: 3.904 minutes\n",
      "Epoch 99 of 100\n"
     ]
    },
    {
     "name": "stderr",
     "output_type": "stream",
     "text": [
      "100%|██████████| 130/130 [01:54<00:00,  1.14it/s]\n",
      "100%|██████████| 15/15 [00:04<00:00,  3.57it/s]\n"
     ]
    },
    {
     "name": "stdout",
     "output_type": "stream",
     "text": [
      "train loss:  0.016523206815919775\n",
      "Val loss:  0.16716636432253795\n",
      "train accuracy:  0.9574468085106383\n",
      "Val accuracy:  0.6434782608695652\n",
      "Current time: 193.288 minutes. Time expected till completion: 1.952 minutes\n",
      "Epoch 100 of 100\n"
     ]
    },
    {
     "name": "stderr",
     "output_type": "stream",
     "text": [
      "100%|██████████| 130/130 [01:53<00:00,  1.14it/s]\n",
      "100%|██████████| 15/15 [00:04<00:00,  3.57it/s]\n"
     ]
    },
    {
     "name": "stdout",
     "output_type": "stream",
     "text": [
      "train loss:  0.013422804818861546\n",
      "Val loss:  0.17519395791965983\n",
      "train accuracy:  0.9729206963249516\n",
      "Val accuracy:  0.6347826086956522\n",
      "Saving model 2 checkpoint\n"
     ]
    },
    {
     "data": {
      "image/png": "[encoded data removed]",
      "text/plain": [
       "<Figure size 1500x600 with 2 Axes>"
      ]
     },
     "metadata": {},
     "output_type": "display_data"
    },
    {
     "data": {
      "image/png": "[encoded data removed]",
      "text/plain": [
       "<Figure size 1500x600 with 2 Axes>"
      ]
     },
     "metadata": {},
     "output_type": "display_data"
    },
    {
     "name": "stdout",
     "output_type": "stream",
     "text": [
      "Current time: 195.859 minutes. Time expected till completion: 0.000 minutes\n",
      "Finished training in: 195.871 minutes\n"
     ]
    }
   ],
   "source": [
    "\n",
    "best_model_val_acc = -1\n",
    "\n",
    "train_loss, val_loss = [], []\n",
    "train_accuracy, val_accuracy = [], []\n",
    "\n",
    "# Load checkpoints\n",
    "names = os.listdir(model_checkpoints)\n",
    "for elem in names:\n",
    "    if(elem==\"metrics_losss_accuracy_m2.csv\"):\n",
    "        print(\"Loading Metrics\")\n",
    "        dd = pd.read_csv(model_checkpoints + \"metrics_losss_accuracy_m2.csv\")\n",
    "        train_loss = dd[\"train_loss\"].tolist()\n",
    "        val_loss = dd[\"val_loss\"].tolist()\n",
    "        train_accuracy = dd[\"train_accuracy\"].tolist()\n",
    "        val_accuracy = dd[\"val_accuracy\"].tolist()\n",
    "\n",
    "# count time\n",
    "start = time.time()\n",
    "for epoch in range(model_epoch_m2_check, model_epochs):\n",
    "    # Print current epoch\n",
    "    print(f\"Epoch {epoch + 1} of {model_epochs}\")\n",
    "    \n",
    "    if(epoch%10 == 0):\n",
    "        update_optimizer(optimizer_2, 0.001)\n",
    "        \n",
    "    ############################################################################\n",
    "    ################################ Train model ############################### \n",
    "    ############################################################################\n",
    "    modelpy.train()\n",
    "    running_loss=0\n",
    "    total=0\n",
    "    correct=0\n",
    "    # loop for every training batch (one epoch)\n",
    "    for bi, data in tqdm(enumerate(train_loader), total=len(train_loader)): # use tqdm package to track running time\n",
    "        \n",
    "        # Get the tensors\n",
    "        images = data[0].to(device)# use the gpu\n",
    "        labels = data[1].to(device)# use the gpu\n",
    "        \n",
    "        # Optimize second model\n",
    "        \n",
    "        #create the output from the CNN base on the give batch images\n",
    "        out_m2 = modelpy(images)\n",
    "        # count the loss function \n",
    "        loss_2 = criterion_2(out_m2, labels)    \n",
    "        \n",
    "        # BackPropagate on model 2\n",
    "        ######################\n",
    "        optimizer_2.zero_grad()\n",
    "        ######################\n",
    "        # count the backpropagation\n",
    "        loss_2.backward()\n",
    "        # learning\n",
    "        optimizer_2.step()\n",
    "        \n",
    "        \n",
    "        \n",
    "        # add new value to the main loss\n",
    "        running_loss += loss_2.item()\n",
    "        \n",
    "        # calculate accuracy\n",
    "        predictions = torch.argmax(out_m2, dim=1)\n",
    "        total += labels.size(0)\n",
    "        correct +=(predictions == labels).sum().item()\n",
    "        \n",
    "        \n",
    "    train_epoch_loss = running_loss/len(train_loader.dataset)\n",
    "    \n",
    "    train_epoch_accuracy = correct/total\n",
    "    \n",
    "    ############################################################################\n",
    "    ################################ Eval model ################################ \n",
    "    ############################################################################\n",
    "    modelpy.eval()\n",
    "    running_loss = 0.0\n",
    "    correct=0\n",
    "    total=0\n",
    "    with torch.no_grad():\n",
    "        for bi, data in tqdm(enumerate(valid_loader), total=len(valid_loader)):\n",
    "            # Get the tensors\n",
    "            images = data[0].to(device)# use the gpu\n",
    "            label = data[1].to(device)# use the gpu\n",
    "            \n",
    "            #create the output from the CNN base on the give batch images\n",
    "            outputs = modelpy(images)\n",
    "            # count the loss function\n",
    "            loss = criterion_2(outputs, label)\n",
    "            \n",
    "            # Add loss of each item (total items in a batch = batch size) .\n",
    "            running_loss += loss.item()\n",
    "            \n",
    "            # calculate accuracy\n",
    "            predictions = torch.argmax(outputs, dim=1)\n",
    "            total += label.size(0)\n",
    "            correct +=(predictions == label).sum().item()\n",
    "            \n",
    "    val_epoch_loss = running_loss/len(valid_loader.dataset) \n",
    "    val_epoch_accuracy = correct/total\n",
    "    \n",
    "    \n",
    "    print(\"train loss: \", train_epoch_loss)\n",
    "    print(\"Val loss: \", val_epoch_loss)\n",
    "    print(\"train accuracy: \", train_epoch_accuracy)\n",
    "    print(\"Val accuracy: \", val_epoch_accuracy)\n",
    "\n",
    "    \n",
    "    # save results\n",
    "    train_loss.append(train_epoch_loss)\n",
    "    val_loss.append(val_epoch_loss)\n",
    "    train_accuracy.append(train_epoch_accuracy)\n",
    "    val_accuracy.append(val_epoch_accuracy)\n",
    "    \n",
    "    # Save best model\n",
    "    if(best_model_val_acc < val_epoch_accuracy):\n",
    "        print(f\"Best model at the moment with Val_acc {round(val_epoch_accuracy*100,2)}, saving...\")\n",
    "        # Save Model\n",
    "        bestmodel_name = \"model_2_bestModel.pt\"\n",
    "        torch.save(modelpy, PATH+bestmodel_name)\n",
    "        best_model_val_acc = val_epoch_accuracy\n",
    "    \n",
    "    # Save model with all information every 100 epochs. Can be used \n",
    "    # resuming training. optim\n",
    "    if (epoch+1) % checkpoints_save == 0: # checkpoints_save\n",
    "        \n",
    "        end = time.time()\n",
    "        time_elapsed = (end-start)+previous_time\n",
    "        \n",
    "        # Save Model\n",
    "        print(\"Saving model 2 checkpoint\")\n",
    "        save_model(epoch, time_elapsed, modelpy, optimizer_2, criterion_2, path = model_checkpoints + \"model_ckpt_m2.pth\")\n",
    "        # save the metrics\n",
    "        save_metrics(train_loss, val_loss, train_accuracy, val_accuracy, path = model_checkpoints + \"metrics_losss_accuracy_m2.csv\")\n",
    "        \n",
    "        # save model at epoch\n",
    "        save_model(epoch, time_elapsed, modelpy, optimizer_2, criterion_2, path = model_checkpoints + \"model_ckpt_m2_\"+str(epoch+1)+\".pth\")\n",
    "        \n",
    "        \n",
    "        # Check the evolution at this point\n",
    "        plot_loss_accuracy(train_loss, val_loss, train_accuracy, val_accuracy)\n",
    "        \n",
    "        \n",
    "    ep_time = time.time()\n",
    "    print(f\"Current time: {(((ep_time-start)+previous_time)/60):.3f} minutes. Time expected till completion: {(((((ep_time-start)+previous_time)/(epoch + 1)) * (model_epochs-(epoch + 1)))/60):.3f} minutes\")\n",
    "    \n",
    "end = time.time()\n",
    "print(f\"Finished training in: {(((end-start)+previous_time)/60):.3f} minutes\") "
   ]
  },
  {
   "cell_type": "code",
   "execution_count": 17,
   "id": "4e5ed21a",
   "metadata": {},
   "outputs": [
    {
     "data": {
      "text/plain": [
       "0.6782608695652174"
      ]
     },
     "execution_count": 17,
     "metadata": {},
     "output_type": "execute_result"
    }
   ],
   "source": [
    "best_model_val_acc"
   ]
  },
  {
   "cell_type": "code",
   "execution_count": 18,
   "id": "ed221571",
   "metadata": {},
   "outputs": [
    {
     "data": {
      "image/png": "[encoded data removed]",
      "text/plain": [
       "<Figure size 1500x600 with 2 Axes>"
      ]
     },
     "metadata": {},
     "output_type": "display_data"
    },
    {
     "data": {
      "image/png": "[encoded data removed]",
      "text/plain": [
       "<Figure size 1500x600 with 2 Axes>"
      ]
     },
     "metadata": {},
     "output_type": "display_data"
    }
   ],
   "source": [
    "plot_loss_accuracy(train_loss, val_loss, train_accuracy, val_accuracy)"
   ]
  },
  {
   "cell_type": "markdown",
   "id": "bd64aa02",
   "metadata": {},
   "source": [
    "## Save model"
   ]
  },
  {
   "cell_type": "code",
   "execution_count": 19,
   "id": "1372dc3b",
   "metadata": {},
   "outputs": [],
   "source": [
    "# Save Model\n",
    "NAME2 = \"model_2.pt\"\n",
    "\n",
    "torch.save(modelpy, PATH+NAME2)"
   ]
  },
  {
   "cell_type": "markdown",
   "id": "659394e6",
   "metadata": {},
   "source": [
    "# Load Last Model"
   ]
  },
  {
   "cell_type": "code",
   "execution_count": 20,
   "id": "cec94a4a",
   "metadata": {},
   "outputs": [
    {
     "data": {
      "text/plain": [
       "ClassificationNet(\n",
       "  (resnet50_fe): Sequential(\n",
       "    (0): Conv2d(3, 64, kernel_size=(7, 7), stride=(2, 2), padding=(3, 3), bias=False)\n",
       "    (1): BatchNorm2d(64, eps=1e-05, momentum=0.1, affine=True, track_running_stats=True)\n",
       "    (2): ReLU(inplace=True)\n",
       "    (3): MaxPool2d(kernel_size=3, stride=2, padding=1, dilation=1, ceil_mode=False)\n",
       "    (4): Sequential(\n",
       "      (0): Bottleneck(\n",
       "        (conv1): Conv2d(64, 64, kernel_size=(1, 1), stride=(1, 1), bias=False)\n",
       "        (bn1): BatchNorm2d(64, eps=1e-05, momentum=0.1, affine=True, track_running_stats=True)\n",
       "        (conv2): Conv2d(64, 64, kernel_size=(3, 3), stride=(1, 1), padding=(1, 1), bias=False)\n",
       "        (bn2): BatchNorm2d(64, eps=1e-05, momentum=0.1, affine=True, track_running_stats=True)\n",
       "        (conv3): Conv2d(64, 256, kernel_size=(1, 1), stride=(1, 1), bias=False)\n",
       "        (bn3): BatchNorm2d(256, eps=1e-05, momentum=0.1, affine=True, track_running_stats=True)\n",
       "        (relu): ReLU(inplace=True)\n",
       "        (downsample): Sequential(\n",
       "          (0): Conv2d(64, 256, kernel_size=(1, 1), stride=(1, 1), bias=False)\n",
       "          (1): BatchNorm2d(256, eps=1e-05, momentum=0.1, affine=True, track_running_stats=True)\n",
       "        )\n",
       "      )\n",
       "      (1): Bottleneck(\n",
       "        (conv1): Conv2d(256, 64, kernel_size=(1, 1), stride=(1, 1), bias=False)\n",
       "        (bn1): BatchNorm2d(64, eps=1e-05, momentum=0.1, affine=True, track_running_stats=True)\n",
       "        (conv2): Conv2d(64, 64, kernel_size=(3, 3), stride=(1, 1), padding=(1, 1), bias=False)\n",
       "        (bn2): BatchNorm2d(64, eps=1e-05, momentum=0.1, affine=True, track_running_stats=True)\n",
       "        (conv3): Conv2d(64, 256, kernel_size=(1, 1), stride=(1, 1), bias=False)\n",
       "        (bn3): BatchNorm2d(256, eps=1e-05, momentum=0.1, affine=True, track_running_stats=True)\n",
       "        (relu): ReLU(inplace=True)\n",
       "      )\n",
       "      (2): Bottleneck(\n",
       "        (conv1): Conv2d(256, 64, kernel_size=(1, 1), stride=(1, 1), bias=False)\n",
       "        (bn1): BatchNorm2d(64, eps=1e-05, momentum=0.1, affine=True, track_running_stats=True)\n",
       "        (conv2): Conv2d(64, 64, kernel_size=(3, 3), stride=(1, 1), padding=(1, 1), bias=False)\n",
       "        (bn2): BatchNorm2d(64, eps=1e-05, momentum=0.1, affine=True, track_running_stats=True)\n",
       "        (conv3): Conv2d(64, 256, kernel_size=(1, 1), stride=(1, 1), bias=False)\n",
       "        (bn3): BatchNorm2d(256, eps=1e-05, momentum=0.1, affine=True, track_running_stats=True)\n",
       "        (relu): ReLU(inplace=True)\n",
       "      )\n",
       "    )\n",
       "    (5): Sequential(\n",
       "      (0): Bottleneck(\n",
       "        (conv1): Conv2d(256, 128, kernel_size=(1, 1), stride=(1, 1), bias=False)\n",
       "        (bn1): BatchNorm2d(128, eps=1e-05, momentum=0.1, affine=True, track_running_stats=True)\n",
       "        (conv2): Conv2d(128, 128, kernel_size=(3, 3), stride=(2, 2), padding=(1, 1), bias=False)\n",
       "        (bn2): BatchNorm2d(128, eps=1e-05, momentum=0.1, affine=True, track_running_stats=True)\n",
       "        (conv3): Conv2d(128, 512, kernel_size=(1, 1), stride=(1, 1), bias=False)\n",
       "        (bn3): BatchNorm2d(512, eps=1e-05, momentum=0.1, affine=True, track_running_stats=True)\n",
       "        (relu): ReLU(inplace=True)\n",
       "        (downsample): Sequential(\n",
       "          (0): Conv2d(256, 512, kernel_size=(1, 1), stride=(2, 2), bias=False)\n",
       "          (1): BatchNorm2d(512, eps=1e-05, momentum=0.1, affine=True, track_running_stats=True)\n",
       "        )\n",
       "      )\n",
       "      (1): Bottleneck(\n",
       "        (conv1): Conv2d(512, 128, kernel_size=(1, 1), stride=(1, 1), bias=False)\n",
       "        (bn1): BatchNorm2d(128, eps=1e-05, momentum=0.1, affine=True, track_running_stats=True)\n",
       "        (conv2): Conv2d(128, 128, kernel_size=(3, 3), stride=(1, 1), padding=(1, 1), bias=False)\n",
       "        (bn2): BatchNorm2d(128, eps=1e-05, momentum=0.1, affine=True, track_running_stats=True)\n",
       "        (conv3): Conv2d(128, 512, kernel_size=(1, 1), stride=(1, 1), bias=False)\n",
       "        (bn3): BatchNorm2d(512, eps=1e-05, momentum=0.1, affine=True, track_running_stats=True)\n",
       "        (relu): ReLU(inplace=True)\n",
       "      )\n",
       "      (2): Bottleneck(\n",
       "        (conv1): Conv2d(512, 128, kernel_size=(1, 1), stride=(1, 1), bias=False)\n",
       "        (bn1): BatchNorm2d(128, eps=1e-05, momentum=0.1, affine=True, track_running_stats=True)\n",
       "        (conv2): Conv2d(128, 128, kernel_size=(3, 3), stride=(1, 1), padding=(1, 1), bias=False)\n",
       "        (bn2): BatchNorm2d(128, eps=1e-05, momentum=0.1, affine=True, track_running_stats=True)\n",
       "        (conv3): Conv2d(128, 512, kernel_size=(1, 1), stride=(1, 1), bias=False)\n",
       "        (bn3): BatchNorm2d(512, eps=1e-05, momentum=0.1, affine=True, track_running_stats=True)\n",
       "        (relu): ReLU(inplace=True)\n",
       "      )\n",
       "      (3): Bottleneck(\n",
       "        (conv1): Conv2d(512, 128, kernel_size=(1, 1), stride=(1, 1), bias=False)\n",
       "        (bn1): BatchNorm2d(128, eps=1e-05, momentum=0.1, affine=True, track_running_stats=True)\n",
       "        (conv2): Conv2d(128, 128, kernel_size=(3, 3), stride=(1, 1), padding=(1, 1), bias=False)\n",
       "        (bn2): BatchNorm2d(128, eps=1e-05, momentum=0.1, affine=True, track_running_stats=True)\n",
       "        (conv3): Conv2d(128, 512, kernel_size=(1, 1), stride=(1, 1), bias=False)\n",
       "        (bn3): BatchNorm2d(512, eps=1e-05, momentum=0.1, affine=True, track_running_stats=True)\n",
       "        (relu): ReLU(inplace=True)\n",
       "      )\n",
       "    )\n",
       "    (6): Sequential(\n",
       "      (0): Bottleneck(\n",
       "        (conv1): Conv2d(512, 256, kernel_size=(1, 1), stride=(1, 1), bias=False)\n",
       "        (bn1): BatchNorm2d(256, eps=1e-05, momentum=0.1, affine=True, track_running_stats=True)\n",
       "        (conv2): Conv2d(256, 256, kernel_size=(3, 3), stride=(2, 2), padding=(1, 1), bias=False)\n",
       "        (bn2): BatchNorm2d(256, eps=1e-05, momentum=0.1, affine=True, track_running_stats=True)\n",
       "        (conv3): Conv2d(256, 1024, kernel_size=(1, 1), stride=(1, 1), bias=False)\n",
       "        (bn3): BatchNorm2d(1024, eps=1e-05, momentum=0.1, affine=True, track_running_stats=True)\n",
       "        (relu): ReLU(inplace=True)\n",
       "        (downsample): Sequential(\n",
       "          (0): Conv2d(512, 1024, kernel_size=(1, 1), stride=(2, 2), bias=False)\n",
       "          (1): BatchNorm2d(1024, eps=1e-05, momentum=0.1, affine=True, track_running_stats=True)\n",
       "        )\n",
       "      )\n",
       "      (1): Bottleneck(\n",
       "        (conv1): Conv2d(1024, 256, kernel_size=(1, 1), stride=(1, 1), bias=False)\n",
       "        (bn1): BatchNorm2d(256, eps=1e-05, momentum=0.1, affine=True, track_running_stats=True)\n",
       "        (conv2): Conv2d(256, 256, kernel_size=(3, 3), stride=(1, 1), padding=(1, 1), bias=False)\n",
       "        (bn2): BatchNorm2d(256, eps=1e-05, momentum=0.1, affine=True, track_running_stats=True)\n",
       "        (conv3): Conv2d(256, 1024, kernel_size=(1, 1), stride=(1, 1), bias=False)\n",
       "        (bn3): BatchNorm2d(1024, eps=1e-05, momentum=0.1, affine=True, track_running_stats=True)\n",
       "        (relu): ReLU(inplace=True)\n",
       "      )\n",
       "      (2): Bottleneck(\n",
       "        (conv1): Conv2d(1024, 256, kernel_size=(1, 1), stride=(1, 1), bias=False)\n",
       "        (bn1): BatchNorm2d(256, eps=1e-05, momentum=0.1, affine=True, track_running_stats=True)\n",
       "        (conv2): Conv2d(256, 256, kernel_size=(3, 3), stride=(1, 1), padding=(1, 1), bias=False)\n",
       "        (bn2): BatchNorm2d(256, eps=1e-05, momentum=0.1, affine=True, track_running_stats=True)\n",
       "        (conv3): Conv2d(256, 1024, kernel_size=(1, 1), stride=(1, 1), bias=False)\n",
       "        (bn3): BatchNorm2d(1024, eps=1e-05, momentum=0.1, affine=True, track_running_stats=True)\n",
       "        (relu): ReLU(inplace=True)\n",
       "      )\n",
       "      (3): Bottleneck(\n",
       "        (conv1): Conv2d(1024, 256, kernel_size=(1, 1), stride=(1, 1), bias=False)\n",
       "        (bn1): BatchNorm2d(256, eps=1e-05, momentum=0.1, affine=True, track_running_stats=True)\n",
       "        (conv2): Conv2d(256, 256, kernel_size=(3, 3), stride=(1, 1), padding=(1, 1), bias=False)\n",
       "        (bn2): BatchNorm2d(256, eps=1e-05, momentum=0.1, affine=True, track_running_stats=True)\n",
       "        (conv3): Conv2d(256, 1024, kernel_size=(1, 1), stride=(1, 1), bias=False)\n",
       "        (bn3): BatchNorm2d(1024, eps=1e-05, momentum=0.1, affine=True, track_running_stats=True)\n",
       "        (relu): ReLU(inplace=True)\n",
       "      )\n",
       "      (4): Bottleneck(\n",
       "        (conv1): Conv2d(1024, 256, kernel_size=(1, 1), stride=(1, 1), bias=False)\n",
       "        (bn1): BatchNorm2d(256, eps=1e-05, momentum=0.1, affine=True, track_running_stats=True)\n",
       "        (conv2): Conv2d(256, 256, kernel_size=(3, 3), stride=(1, 1), padding=(1, 1), bias=False)\n",
       "        (bn2): BatchNorm2d(256, eps=1e-05, momentum=0.1, affine=True, track_running_stats=True)\n",
       "        (conv3): Conv2d(256, 1024, kernel_size=(1, 1), stride=(1, 1), bias=False)\n",
       "        (bn3): BatchNorm2d(1024, eps=1e-05, momentum=0.1, affine=True, track_running_stats=True)\n",
       "        (relu): ReLU(inplace=True)\n",
       "      )\n",
       "      (5): Bottleneck(\n",
       "        (conv1): Conv2d(1024, 256, kernel_size=(1, 1), stride=(1, 1), bias=False)\n",
       "        (bn1): BatchNorm2d(256, eps=1e-05, momentum=0.1, affine=True, track_running_stats=True)\n",
       "        (conv2): Conv2d(256, 256, kernel_size=(3, 3), stride=(1, 1), padding=(1, 1), bias=False)\n",
       "        (bn2): BatchNorm2d(256, eps=1e-05, momentum=0.1, affine=True, track_running_stats=True)\n",
       "        (conv3): Conv2d(256, 1024, kernel_size=(1, 1), stride=(1, 1), bias=False)\n",
       "        (bn3): BatchNorm2d(1024, eps=1e-05, momentum=0.1, affine=True, track_running_stats=True)\n",
       "        (relu): ReLU(inplace=True)\n",
       "      )\n",
       "    )\n",
       "    (7): Sequential(\n",
       "      (0): Bottleneck(\n",
       "        (conv1): Conv2d(1024, 512, kernel_size=(1, 1), stride=(1, 1), bias=False)\n",
       "        (bn1): BatchNorm2d(512, eps=1e-05, momentum=0.1, affine=True, track_running_stats=True)\n",
       "        (conv2): Conv2d(512, 512, kernel_size=(3, 3), stride=(2, 2), padding=(1, 1), bias=False)\n",
       "        (bn2): BatchNorm2d(512, eps=1e-05, momentum=0.1, affine=True, track_running_stats=True)\n",
       "        (conv3): Conv2d(512, 2048, kernel_size=(1, 1), stride=(1, 1), bias=False)\n",
       "        (bn3): BatchNorm2d(2048, eps=1e-05, momentum=0.1, affine=True, track_running_stats=True)\n",
       "        (relu): ReLU(inplace=True)\n",
       "        (downsample): Sequential(\n",
       "          (0): Conv2d(1024, 2048, kernel_size=(1, 1), stride=(2, 2), bias=False)\n",
       "          (1): BatchNorm2d(2048, eps=1e-05, momentum=0.1, affine=True, track_running_stats=True)\n",
       "        )\n",
       "      )\n",
       "      (1): Bottleneck(\n",
       "        (conv1): Conv2d(2048, 512, kernel_size=(1, 1), stride=(1, 1), bias=False)\n",
       "        (bn1): BatchNorm2d(512, eps=1e-05, momentum=0.1, affine=True, track_running_stats=True)\n",
       "        (conv2): Conv2d(512, 512, kernel_size=(3, 3), stride=(1, 1), padding=(1, 1), bias=False)\n",
       "        (bn2): BatchNorm2d(512, eps=1e-05, momentum=0.1, affine=True, track_running_stats=True)\n",
       "        (conv3): Conv2d(512, 2048, kernel_size=(1, 1), stride=(1, 1), bias=False)\n",
       "        (bn3): BatchNorm2d(2048, eps=1e-05, momentum=0.1, affine=True, track_running_stats=True)\n",
       "        (relu): ReLU(inplace=True)\n",
       "      )\n",
       "      (2): Bottleneck(\n",
       "        (conv1): Conv2d(2048, 512, kernel_size=(1, 1), stride=(1, 1), bias=False)\n",
       "        (bn1): BatchNorm2d(512, eps=1e-05, momentum=0.1, affine=True, track_running_stats=True)\n",
       "        (conv2): Conv2d(512, 512, kernel_size=(3, 3), stride=(1, 1), padding=(1, 1), bias=False)\n",
       "        (bn2): BatchNorm2d(512, eps=1e-05, momentum=0.1, affine=True, track_running_stats=True)\n",
       "        (conv3): Conv2d(512, 2048, kernel_size=(1, 1), stride=(1, 1), bias=False)\n",
       "        (bn3): BatchNorm2d(2048, eps=1e-05, momentum=0.1, affine=True, track_running_stats=True)\n",
       "        (relu): ReLU(inplace=True)\n",
       "      )\n",
       "    )\n",
       "    (8): AdaptiveAvgPool2d(output_size=(1, 1))\n",
       "  )\n",
       "  (flatten): Flatten(start_dim=1, end_dim=-1)\n",
       "  (last_classifier): Linear(in_features=2048, out_features=4, bias=True)\n",
       ")"
      ]
     },
     "execution_count": 20,
     "metadata": {},
     "output_type": "execute_result"
    }
   ],
   "source": [
    "# Load the model\n",
    "NAME = \"model_2.pt\"\n",
    "modelpy = torch.load(PATH+NAME, map_location=device)\n",
    "modelpy.eval()"
   ]
  },
  {
   "cell_type": "markdown",
   "id": "c59a28ee",
   "metadata": {},
   "source": [
    "## Evaluate Last Model"
   ]
  },
  {
   "cell_type": "code",
   "execution_count": 21,
   "id": "f3ae8b5b",
   "metadata": {},
   "outputs": [],
   "source": [
    "def accuracy_given_set(mm2, valid_loader, device, name=\"Validation\"):\n",
    "    # Evaluate the Validation Set\n",
    "    mm2.eval()\n",
    "    correct = 0\n",
    "    total = 0\n",
    "    with torch.no_grad():\n",
    "        for bi, data in tqdm(enumerate(valid_loader), total=len(valid_loader)):\n",
    "            new_images = data[0].to(device)\n",
    "\n",
    "            outputs = mm2(new_images)\n",
    "            predictions = torch.argmax(outputs, dim=1)\n",
    "\n",
    "            total += data[1].size(0)\n",
    "            correct +=(predictions == data[1].to(device)).sum().item()\n",
    "        \n",
    "    print(f'Accuracy of the network on the {total} {name} instances: {100 * correct / total}%')"
   ]
  },
  {
   "cell_type": "code",
   "execution_count": 22,
   "id": "22395e00",
   "metadata": {},
   "outputs": [
    {
     "name": "stderr",
     "output_type": "stream",
     "text": [
      "100%|██████████| 130/130 [00:38<00:00,  3.39it/s]\n"
     ]
    },
    {
     "name": "stdout",
     "output_type": "stream",
     "text": [
      "Accuracy of the network on the 1034 Train instances: 99.22630560928434%\n"
     ]
    },
    {
     "name": "stderr",
     "output_type": "stream",
     "text": [
      "100%|██████████| 15/15 [00:04<00:00,  3.68it/s]"
     ]
    },
    {
     "name": "stdout",
     "output_type": "stream",
     "text": [
      "Accuracy of the network on the 115 Validation instances: 63.47826086956522%\n"
     ]
    },
    {
     "name": "stderr",
     "output_type": "stream",
     "text": [
      "\n"
     ]
    }
   ],
   "source": [
    "# Calculate accuracy for Validation and Train sets\n",
    "accuracy_given_set(modelpy, train_loader, device, name=\"Train\")\n",
    "accuracy_given_set(modelpy, valid_loader, device, name=\"Validation\")"
   ]
  },
  {
   "cell_type": "markdown",
   "id": "684ca86a",
   "metadata": {},
   "source": [
    "## Test Predictions Last Model"
   ]
  },
  {
   "cell_type": "code",
   "execution_count": 23,
   "id": "bf9cecb3",
   "metadata": {},
   "outputs": [],
   "source": [
    "def make_predictions(mm2, loader, device):\n",
    "    # Evaluate the Validation Set\n",
    "    mm2.eval()\n",
    "    predictions_list = []\n",
    "    name_list = []\n",
    "    \n",
    "    with torch.no_grad():\n",
    "        for bi, data in tqdm(enumerate(loader), total=len(loader)):\n",
    "            new_images = data[0].to(device)\n",
    "        \n",
    "            outputs = mm2(new_images)\n",
    "            predictions = torch.argmax(outputs, dim=1)\n",
    "        \n",
    "            predictions_list.append(predictions[0].item())\n",
    "            name_list.append(data[1][0])\n",
    "        \n",
    "    return(predictions_list, name_list)"
   ]
  },
  {
   "cell_type": "code",
   "execution_count": 24,
   "id": "9e74681b",
   "metadata": {},
   "outputs": [
    {
     "name": "stderr",
     "output_type": "stream",
     "text": [
      "100%|██████████| 380/380 [00:23<00:00, 16.36it/s]\n"
     ]
    },
    {
     "data": {
      "text/plain": [
       "(array([0, 1, 2, 3]), array([152, 163,  61,   4], dtype=int64))"
      ]
     },
     "execution_count": 24,
     "metadata": {},
     "output_type": "execute_result"
    }
   ],
   "source": [
    "pred, names = make_predictions(modelpy, test_loader, device)\n",
    "\n",
    "np.unique(np.array(pred),return_counts=True)"
   ]
  },
  {
   "cell_type": "code",
   "execution_count": 25,
   "id": "7c810cb5",
   "metadata": {},
   "outputs": [],
   "source": [
    "save_predictions_as_csv(names, pred, name=\"GGC_plus_clas_v01_ResNet_prediction.csv\")"
   ]
  },
  {
   "attachments": {
    "image.png": {
     "image/png": "[encoded data removed]"
    }
   },
   "cell_type": "markdown",
   "id": "de614b36",
   "metadata": {},
   "source": [
    "![image.png](attachment:image.png)"
   ]
  },
  {
   "cell_type": "markdown",
   "id": "40cafa2a",
   "metadata": {},
   "source": [
    "# Load Best Model"
   ]
  },
  {
   "cell_type": "code",
   "execution_count": 26,
   "id": "7ec7342e",
   "metadata": {},
   "outputs": [
    {
     "data": {
      "text/plain": [
       "ClassificationNet(\n",
       "  (resnet50_fe): Sequential(\n",
       "    (0): Conv2d(3, 64, kernel_size=(7, 7), stride=(2, 2), padding=(3, 3), bias=False)\n",
       "    (1): BatchNorm2d(64, eps=1e-05, momentum=0.1, affine=True, track_running_stats=True)\n",
       "    (2): ReLU(inplace=True)\n",
       "    (3): MaxPool2d(kernel_size=3, stride=2, padding=1, dilation=1, ceil_mode=False)\n",
       "    (4): Sequential(\n",
       "      (0): Bottleneck(\n",
       "        (conv1): Conv2d(64, 64, kernel_size=(1, 1), stride=(1, 1), bias=False)\n",
       "        (bn1): BatchNorm2d(64, eps=1e-05, momentum=0.1, affine=True, track_running_stats=True)\n",
       "        (conv2): Conv2d(64, 64, kernel_size=(3, 3), stride=(1, 1), padding=(1, 1), bias=False)\n",
       "        (bn2): BatchNorm2d(64, eps=1e-05, momentum=0.1, affine=True, track_running_stats=True)\n",
       "        (conv3): Conv2d(64, 256, kernel_size=(1, 1), stride=(1, 1), bias=False)\n",
       "        (bn3): BatchNorm2d(256, eps=1e-05, momentum=0.1, affine=True, track_running_stats=True)\n",
       "        (relu): ReLU(inplace=True)\n",
       "        (downsample): Sequential(\n",
       "          (0): Conv2d(64, 256, kernel_size=(1, 1), stride=(1, 1), bias=False)\n",
       "          (1): BatchNorm2d(256, eps=1e-05, momentum=0.1, affine=True, track_running_stats=True)\n",
       "        )\n",
       "      )\n",
       "      (1): Bottleneck(\n",
       "        (conv1): Conv2d(256, 64, kernel_size=(1, 1), stride=(1, 1), bias=False)\n",
       "        (bn1): BatchNorm2d(64, eps=1e-05, momentum=0.1, affine=True, track_running_stats=True)\n",
       "        (conv2): Conv2d(64, 64, kernel_size=(3, 3), stride=(1, 1), padding=(1, 1), bias=False)\n",
       "        (bn2): BatchNorm2d(64, eps=1e-05, momentum=0.1, affine=True, track_running_stats=True)\n",
       "        (conv3): Conv2d(64, 256, kernel_size=(1, 1), stride=(1, 1), bias=False)\n",
       "        (bn3): BatchNorm2d(256, eps=1e-05, momentum=0.1, affine=True, track_running_stats=True)\n",
       "        (relu): ReLU(inplace=True)\n",
       "      )\n",
       "      (2): Bottleneck(\n",
       "        (conv1): Conv2d(256, 64, kernel_size=(1, 1), stride=(1, 1), bias=False)\n",
       "        (bn1): BatchNorm2d(64, eps=1e-05, momentum=0.1, affine=True, track_running_stats=True)\n",
       "        (conv2): Conv2d(64, 64, kernel_size=(3, 3), stride=(1, 1), padding=(1, 1), bias=False)\n",
       "        (bn2): BatchNorm2d(64, eps=1e-05, momentum=0.1, affine=True, track_running_stats=True)\n",
       "        (conv3): Conv2d(64, 256, kernel_size=(1, 1), stride=(1, 1), bias=False)\n",
       "        (bn3): BatchNorm2d(256, eps=1e-05, momentum=0.1, affine=True, track_running_stats=True)\n",
       "        (relu): ReLU(inplace=True)\n",
       "      )\n",
       "    )\n",
       "    (5): Sequential(\n",
       "      (0): Bottleneck(\n",
       "        (conv1): Conv2d(256, 128, kernel_size=(1, 1), stride=(1, 1), bias=False)\n",
       "        (bn1): BatchNorm2d(128, eps=1e-05, momentum=0.1, affine=True, track_running_stats=True)\n",
       "        (conv2): Conv2d(128, 128, kernel_size=(3, 3), stride=(2, 2), padding=(1, 1), bias=False)\n",
       "        (bn2): BatchNorm2d(128, eps=1e-05, momentum=0.1, affine=True, track_running_stats=True)\n",
       "        (conv3): Conv2d(128, 512, kernel_size=(1, 1), stride=(1, 1), bias=False)\n",
       "        (bn3): BatchNorm2d(512, eps=1e-05, momentum=0.1, affine=True, track_running_stats=True)\n",
       "        (relu): ReLU(inplace=True)\n",
       "        (downsample): Sequential(\n",
       "          (0): Conv2d(256, 512, kernel_size=(1, 1), stride=(2, 2), bias=False)\n",
       "          (1): BatchNorm2d(512, eps=1e-05, momentum=0.1, affine=True, track_running_stats=True)\n",
       "        )\n",
       "      )\n",
       "      (1): Bottleneck(\n",
       "        (conv1): Conv2d(512, 128, kernel_size=(1, 1), stride=(1, 1), bias=False)\n",
       "        (bn1): BatchNorm2d(128, eps=1e-05, momentum=0.1, affine=True, track_running_stats=True)\n",
       "        (conv2): Conv2d(128, 128, kernel_size=(3, 3), stride=(1, 1), padding=(1, 1), bias=False)\n",
       "        (bn2): BatchNorm2d(128, eps=1e-05, momentum=0.1, affine=True, track_running_stats=True)\n",
       "        (conv3): Conv2d(128, 512, kernel_size=(1, 1), stride=(1, 1), bias=False)\n",
       "        (bn3): BatchNorm2d(512, eps=1e-05, momentum=0.1, affine=True, track_running_stats=True)\n",
       "        (relu): ReLU(inplace=True)\n",
       "      )\n",
       "      (2): Bottleneck(\n",
       "        (conv1): Conv2d(512, 128, kernel_size=(1, 1), stride=(1, 1), bias=False)\n",
       "        (bn1): BatchNorm2d(128, eps=1e-05, momentum=0.1, affine=True, track_running_stats=True)\n",
       "        (conv2): Conv2d(128, 128, kernel_size=(3, 3), stride=(1, 1), padding=(1, 1), bias=False)\n",
       "        (bn2): BatchNorm2d(128, eps=1e-05, momentum=0.1, affine=True, track_running_stats=True)\n",
       "        (conv3): Conv2d(128, 512, kernel_size=(1, 1), stride=(1, 1), bias=False)\n",
       "        (bn3): BatchNorm2d(512, eps=1e-05, momentum=0.1, affine=True, track_running_stats=True)\n",
       "        (relu): ReLU(inplace=True)\n",
       "      )\n",
       "      (3): Bottleneck(\n",
       "        (conv1): Conv2d(512, 128, kernel_size=(1, 1), stride=(1, 1), bias=False)\n",
       "        (bn1): BatchNorm2d(128, eps=1e-05, momentum=0.1, affine=True, track_running_stats=True)\n",
       "        (conv2): Conv2d(128, 128, kernel_size=(3, 3), stride=(1, 1), padding=(1, 1), bias=False)\n",
       "        (bn2): BatchNorm2d(128, eps=1e-05, momentum=0.1, affine=True, track_running_stats=True)\n",
       "        (conv3): Conv2d(128, 512, kernel_size=(1, 1), stride=(1, 1), bias=False)\n",
       "        (bn3): BatchNorm2d(512, eps=1e-05, momentum=0.1, affine=True, track_running_stats=True)\n",
       "        (relu): ReLU(inplace=True)\n",
       "      )\n",
       "    )\n",
       "    (6): Sequential(\n",
       "      (0): Bottleneck(\n",
       "        (conv1): Conv2d(512, 256, kernel_size=(1, 1), stride=(1, 1), bias=False)\n",
       "        (bn1): BatchNorm2d(256, eps=1e-05, momentum=0.1, affine=True, track_running_stats=True)\n",
       "        (conv2): Conv2d(256, 256, kernel_size=(3, 3), stride=(2, 2), padding=(1, 1), bias=False)\n",
       "        (bn2): BatchNorm2d(256, eps=1e-05, momentum=0.1, affine=True, track_running_stats=True)\n",
       "        (conv3): Conv2d(256, 1024, kernel_size=(1, 1), stride=(1, 1), bias=False)\n",
       "        (bn3): BatchNorm2d(1024, eps=1e-05, momentum=0.1, affine=True, track_running_stats=True)\n",
       "        (relu): ReLU(inplace=True)\n",
       "        (downsample): Sequential(\n",
       "          (0): Conv2d(512, 1024, kernel_size=(1, 1), stride=(2, 2), bias=False)\n",
       "          (1): BatchNorm2d(1024, eps=1e-05, momentum=0.1, affine=True, track_running_stats=True)\n",
       "        )\n",
       "      )\n",
       "      (1): Bottleneck(\n",
       "        (conv1): Conv2d(1024, 256, kernel_size=(1, 1), stride=(1, 1), bias=False)\n",
       "        (bn1): BatchNorm2d(256, eps=1e-05, momentum=0.1, affine=True, track_running_stats=True)\n",
       "        (conv2): Conv2d(256, 256, kernel_size=(3, 3), stride=(1, 1), padding=(1, 1), bias=False)\n",
       "        (bn2): BatchNorm2d(256, eps=1e-05, momentum=0.1, affine=True, track_running_stats=True)\n",
       "        (conv3): Conv2d(256, 1024, kernel_size=(1, 1), stride=(1, 1), bias=False)\n",
       "        (bn3): BatchNorm2d(1024, eps=1e-05, momentum=0.1, affine=True, track_running_stats=True)\n",
       "        (relu): ReLU(inplace=True)\n",
       "      )\n",
       "      (2): Bottleneck(\n",
       "        (conv1): Conv2d(1024, 256, kernel_size=(1, 1), stride=(1, 1), bias=False)\n",
       "        (bn1): BatchNorm2d(256, eps=1e-05, momentum=0.1, affine=True, track_running_stats=True)\n",
       "        (conv2): Conv2d(256, 256, kernel_size=(3, 3), stride=(1, 1), padding=(1, 1), bias=False)\n",
       "        (bn2): BatchNorm2d(256, eps=1e-05, momentum=0.1, affine=True, track_running_stats=True)\n",
       "        (conv3): Conv2d(256, 1024, kernel_size=(1, 1), stride=(1, 1), bias=False)\n",
       "        (bn3): BatchNorm2d(1024, eps=1e-05, momentum=0.1, affine=True, track_running_stats=True)\n",
       "        (relu): ReLU(inplace=True)\n",
       "      )\n",
       "      (3): Bottleneck(\n",
       "        (conv1): Conv2d(1024, 256, kernel_size=(1, 1), stride=(1, 1), bias=False)\n",
       "        (bn1): BatchNorm2d(256, eps=1e-05, momentum=0.1, affine=True, track_running_stats=True)\n",
       "        (conv2): Conv2d(256, 256, kernel_size=(3, 3), stride=(1, 1), padding=(1, 1), bias=False)\n",
       "        (bn2): BatchNorm2d(256, eps=1e-05, momentum=0.1, affine=True, track_running_stats=True)\n",
       "        (conv3): Conv2d(256, 1024, kernel_size=(1, 1), stride=(1, 1), bias=False)\n",
       "        (bn3): BatchNorm2d(1024, eps=1e-05, momentum=0.1, affine=True, track_running_stats=True)\n",
       "        (relu): ReLU(inplace=True)\n",
       "      )\n",
       "      (4): Bottleneck(\n",
       "        (conv1): Conv2d(1024, 256, kernel_size=(1, 1), stride=(1, 1), bias=False)\n",
       "        (bn1): BatchNorm2d(256, eps=1e-05, momentum=0.1, affine=True, track_running_stats=True)\n",
       "        (conv2): Conv2d(256, 256, kernel_size=(3, 3), stride=(1, 1), padding=(1, 1), bias=False)\n",
       "        (bn2): BatchNorm2d(256, eps=1e-05, momentum=0.1, affine=True, track_running_stats=True)\n",
       "        (conv3): Conv2d(256, 1024, kernel_size=(1, 1), stride=(1, 1), bias=False)\n",
       "        (bn3): BatchNorm2d(1024, eps=1e-05, momentum=0.1, affine=True, track_running_stats=True)\n",
       "        (relu): ReLU(inplace=True)\n",
       "      )\n",
       "      (5): Bottleneck(\n",
       "        (conv1): Conv2d(1024, 256, kernel_size=(1, 1), stride=(1, 1), bias=False)\n",
       "        (bn1): BatchNorm2d(256, eps=1e-05, momentum=0.1, affine=True, track_running_stats=True)\n",
       "        (conv2): Conv2d(256, 256, kernel_size=(3, 3), stride=(1, 1), padding=(1, 1), bias=False)\n",
       "        (bn2): BatchNorm2d(256, eps=1e-05, momentum=0.1, affine=True, track_running_stats=True)\n",
       "        (conv3): Conv2d(256, 1024, kernel_size=(1, 1), stride=(1, 1), bias=False)\n",
       "        (bn3): BatchNorm2d(1024, eps=1e-05, momentum=0.1, affine=True, track_running_stats=True)\n",
       "        (relu): ReLU(inplace=True)\n",
       "      )\n",
       "    )\n",
       "    (7): Sequential(\n",
       "      (0): Bottleneck(\n",
       "        (conv1): Conv2d(1024, 512, kernel_size=(1, 1), stride=(1, 1), bias=False)\n",
       "        (bn1): BatchNorm2d(512, eps=1e-05, momentum=0.1, affine=True, track_running_stats=True)\n",
       "        (conv2): Conv2d(512, 512, kernel_size=(3, 3), stride=(2, 2), padding=(1, 1), bias=False)\n",
       "        (bn2): BatchNorm2d(512, eps=1e-05, momentum=0.1, affine=True, track_running_stats=True)\n",
       "        (conv3): Conv2d(512, 2048, kernel_size=(1, 1), stride=(1, 1), bias=False)\n",
       "        (bn3): BatchNorm2d(2048, eps=1e-05, momentum=0.1, affine=True, track_running_stats=True)\n",
       "        (relu): ReLU(inplace=True)\n",
       "        (downsample): Sequential(\n",
       "          (0): Conv2d(1024, 2048, kernel_size=(1, 1), stride=(2, 2), bias=False)\n",
       "          (1): BatchNorm2d(2048, eps=1e-05, momentum=0.1, affine=True, track_running_stats=True)\n",
       "        )\n",
       "      )\n",
       "      (1): Bottleneck(\n",
       "        (conv1): Conv2d(2048, 512, kernel_size=(1, 1), stride=(1, 1), bias=False)\n",
       "        (bn1): BatchNorm2d(512, eps=1e-05, momentum=0.1, affine=True, track_running_stats=True)\n",
       "        (conv2): Conv2d(512, 512, kernel_size=(3, 3), stride=(1, 1), padding=(1, 1), bias=False)\n",
       "        (bn2): BatchNorm2d(512, eps=1e-05, momentum=0.1, affine=True, track_running_stats=True)\n",
       "        (conv3): Conv2d(512, 2048, kernel_size=(1, 1), stride=(1, 1), bias=False)\n",
       "        (bn3): BatchNorm2d(2048, eps=1e-05, momentum=0.1, affine=True, track_running_stats=True)\n",
       "        (relu): ReLU(inplace=True)\n",
       "      )\n",
       "      (2): Bottleneck(\n",
       "        (conv1): Conv2d(2048, 512, kernel_size=(1, 1), stride=(1, 1), bias=False)\n",
       "        (bn1): BatchNorm2d(512, eps=1e-05, momentum=0.1, affine=True, track_running_stats=True)\n",
       "        (conv2): Conv2d(512, 512, kernel_size=(3, 3), stride=(1, 1), padding=(1, 1), bias=False)\n",
       "        (bn2): BatchNorm2d(512, eps=1e-05, momentum=0.1, affine=True, track_running_stats=True)\n",
       "        (conv3): Conv2d(512, 2048, kernel_size=(1, 1), stride=(1, 1), bias=False)\n",
       "        (bn3): BatchNorm2d(2048, eps=1e-05, momentum=0.1, affine=True, track_running_stats=True)\n",
       "        (relu): ReLU(inplace=True)\n",
       "      )\n",
       "    )\n",
       "    (8): AdaptiveAvgPool2d(output_size=(1, 1))\n",
       "  )\n",
       "  (flatten): Flatten(start_dim=1, end_dim=-1)\n",
       "  (last_classifier): Linear(in_features=2048, out_features=4, bias=True)\n",
       ")"
      ]
     },
     "execution_count": 26,
     "metadata": {},
     "output_type": "execute_result"
    }
   ],
   "source": [
    "# Load the model\n",
    "NAME = \"model_2_bestModel.pt\"\n",
    "modelpy_bestModel = torch.load(PATH+NAME, map_location=device)\n",
    "modelpy_bestModel.eval()"
   ]
  },
  {
   "cell_type": "markdown",
   "id": "f0364695",
   "metadata": {},
   "source": [
    "## Evaluate Best Model"
   ]
  },
  {
   "cell_type": "code",
   "execution_count": 27,
   "id": "bea07e43",
   "metadata": {},
   "outputs": [
    {
     "name": "stderr",
     "output_type": "stream",
     "text": [
      "100%|██████████| 130/130 [00:38<00:00,  3.40it/s]\n"
     ]
    },
    {
     "name": "stdout",
     "output_type": "stream",
     "text": [
      "Accuracy of the network on the 1034 Train instances: 82.7852998065764%\n"
     ]
    },
    {
     "name": "stderr",
     "output_type": "stream",
     "text": [
      "100%|██████████| 15/15 [00:04<00:00,  3.65it/s]"
     ]
    },
    {
     "name": "stdout",
     "output_type": "stream",
     "text": [
      "Accuracy of the network on the 115 Validation instances: 67.82608695652173%\n"
     ]
    },
    {
     "name": "stderr",
     "output_type": "stream",
     "text": [
      "\n"
     ]
    }
   ],
   "source": [
    "# Calculate accuracy for Validation and Train sets\n",
    "accuracy_given_set(modelpy_bestModel, train_loader, device, name=\"Train\")\n",
    "accuracy_given_set(modelpy_bestModel, valid_loader, device, name=\"Validation\")"
   ]
  },
  {
   "cell_type": "markdown",
   "id": "d9849f30",
   "metadata": {},
   "source": [
    "## Test Predictions Best Model"
   ]
  },
  {
   "cell_type": "code",
   "execution_count": 28,
   "id": "6ab75bc9",
   "metadata": {},
   "outputs": [
    {
     "name": "stderr",
     "output_type": "stream",
     "text": [
      "100%|██████████| 380/380 [00:17<00:00, 21.65it/s]\n"
     ]
    },
    {
     "data": {
      "text/plain": [
       "(array([0, 1, 2]), array([144, 180,  56], dtype=int64))"
      ]
     },
     "execution_count": 28,
     "metadata": {},
     "output_type": "execute_result"
    }
   ],
   "source": [
    "pred, names = make_predictions(modelpy_bestModel, test_loader, device)\n",
    "\n",
    "np.unique(np.array(pred),return_counts=True)"
   ]
  },
  {
   "cell_type": "code",
   "execution_count": 29,
   "id": "0e32a2e4",
   "metadata": {},
   "outputs": [],
   "source": [
    "save_predictions_as_csv(names, pred, name=\"GGC_plus_clas_v01_ResNet_best_prediction.csv\")"
   ]
  },
  {
   "attachments": {
    "image.png": {
     "image/png": "[encoded data removed]"
    }
   },
   "cell_type": "markdown",
   "id": "f60af6e1",
   "metadata": {},
   "source": [
    "![image.png](attachment:image.png)"
   ]
  }
 ],
 "metadata": {
  "kernelspec": {
   "display_name": "Python 3 (ipykernel)",
   "language": "python",
   "name": "python3"
  },
  "language_info": {
   "codemirror_mode": {
    "name": "ipython",
    "version": 3
   },
   "file_extension": ".py",
   "mimetype": "text/x-python",
   "name": "python",
   "nbconvert_exporter": "python",
   "pygments_lexer": "ipython3",
   "version": "3.8.13"
  }
 },
 "nbformat": 4,
 "nbformat_minor": 5
}
