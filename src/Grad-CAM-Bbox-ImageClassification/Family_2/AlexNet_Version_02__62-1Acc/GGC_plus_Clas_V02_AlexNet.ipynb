{
 "cells": [
  {
   "cell_type": "code",
   "execution_count": 1,
   "id": "2dcb1ca1",
   "metadata": {},
   "outputs": [
    {
     "name": "stderr",
     "output_type": "stream",
     "text": [
      "D:\\Users\\Alex\\anaconda3\\lib\\site-packages\\scipy\\__init__.py:146: UserWarning: A NumPy version >=1.16.5 and <1.23.0 is required for this version of SciPy (detected version 1.23.4\n",
      "  warnings.warn(f\"A NumPy version >={np_minversion} and <{np_maxversion}\"\n"
     ]
    }
   ],
   "source": [
    "import os\n",
    "import time\n",
    "import numpy as np\n",
    "import pandas as pd\n",
    "from tqdm import tqdm\n",
    "\n",
    "from sklearn.model_selection import train_test_split"
   ]
  },
  {
   "cell_type": "code",
   "execution_count": 2,
   "id": "cca0c3fb",
   "metadata": {},
   "outputs": [],
   "source": [
    "import torch\n",
    "import torch.nn as nn\n",
    "#from torch.nn import functional as F\n",
    "from torch.utils.data import DataLoader\n",
    "from torchvision import models\n",
    "\n",
    "import torchvision.transforms as transforms"
   ]
  },
  {
   "cell_type": "code",
   "execution_count": 3,
   "id": "71f1c203",
   "metadata": {},
   "outputs": [],
   "source": [
    "from functions import(import_train_folder_dataset,\n",
    "                      Data,\n",
    "                      import_test_folder_dataset,\n",
    "                      Data_test,\n",
    "                      plot_loss_accuracy,\n",
    "                      save_model,\n",
    "                      save_metrics,\n",
    "                      save_predictions_as_csv\n",
    "                     )"
   ]
  },
  {
   "cell_type": "markdown",
   "id": "0718e13c",
   "metadata": {},
   "source": [
    "# Variables"
   ]
  },
  {
   "cell_type": "code",
   "execution_count": 4,
   "id": "3db7e115",
   "metadata": {},
   "outputs": [
    {
     "name": "stdout",
     "output_type": "stream",
     "text": [
      "cuda\n"
     ]
    }
   ],
   "source": [
    "model_epochs = 100 # 100\n",
    "\n",
    "lr = 0.006 # Learning rate.\n",
    "                            \n",
    "#torch.cuda.empty_cache()\n",
    "device = 'cuda' if torch.cuda.is_available() else 'cpu'\n",
    "print(device)\n",
    "\n",
    "\n",
    "TRAIN_BATCH_SIZE = 8\n",
    "TEST_BATCH_SIZE = 8\n",
    "\n",
    "checkpoints_save = 100 # Save after 50 epochs\n",
    "\n",
    "model_checkpoints = \"D:/Personal/Alex/Uni/MS IA/2 Curso/Fall 2022/Artificial Intelligence/Projects/Project 1/CheckPoints/\"\n",
    "PATH = \"D:\\\\Personal\\\\Alex\\\\Uni\\\\MS IA\\\\2 Curso\\\\Fall 2022\\Artificial Intelligence\\\\Projects\\\\Project 1\\\\Models Save\\\\GoogleNet_CAM-Plus-ImgClass\\\\\"\n",
    "\n",
    "# Path of the Data files\n",
    "train_data_path = \"D:/Personal/Alex/Uni/MS IA/2 Curso/Fall 2022/Artificial Intelligence/Projects/Project 1/data/Croped/Train\"\n",
    "test_data_path = \"D:/Personal/Alex/Uni/MS IA/2 Curso/Fall 2022/Artificial Intelligence/Projects/Project 1/data/Croped/Test\""
   ]
  },
  {
   "cell_type": "markdown",
   "id": "15fd7f21",
   "metadata": {},
   "source": [
    "# Import Data"
   ]
  },
  {
   "cell_type": "code",
   "execution_count": 5,
   "id": "87640fcf",
   "metadata": {},
   "outputs": [],
   "source": [
    "\n",
    "img_transform_val = transforms.Compose([transforms.ToPILImage(),\n",
    "                                        transforms.Resize((400, 400)),\n",
    "                                        transforms.ToTensor(),\n",
    "                                        transforms.Normalize((0.485, 0.456, 0.406), (0.229, 0.224, 0.225))])\n",
    "\n",
    "\n",
    "invTrans = transforms.Compose([ transforms.Normalize(mean = [ 0., 0., 0. ],\n",
    "                                                     std = [ 1/0.229, 1/0.224, 1/0.225 ]),\n",
    "                                transforms.Normalize(mean = [ -0.485, -0.456, -0.406 ],\n",
    "                                                     std = [ 1., 1., 1. ]),\n",
    "                               ])"
   ]
  },
  {
   "cell_type": "markdown",
   "id": "08d4aa62",
   "metadata": {},
   "source": [
    "## Train-Val data"
   ]
  },
  {
   "cell_type": "code",
   "execution_count": 6,
   "id": "8a919ef7",
   "metadata": {},
   "outputs": [
    {
     "name": "stdout",
     "output_type": "stream",
     "text": [
      "Train Dim of Data:  (1149, 400, 400, 3)\n",
      "Train Dim of Lables:  (1149,)\n"
     ]
    }
   ],
   "source": [
    "# Import the data\n",
    "train_data, train_labels = import_train_folder_dataset(train_data_path)\n",
    "print(\"Train Dim of Data: \", train_data.shape)\n",
    "print(\"Train Dim of Lables: \", train_labels.shape)"
   ]
  },
  {
   "cell_type": "code",
   "execution_count": 7,
   "id": "faef9154",
   "metadata": {},
   "outputs": [
    {
     "name": "stdout",
     "output_type": "stream",
     "text": [
      "Dim of Data:  (1034, 400, 400, 3)\n",
      "Dim of Lables:  (1034,)\n",
      "Dim of X_test:  (115, 400, 400, 3)\n",
      "Dim of y_test:  (115,)\n"
     ]
    }
   ],
   "source": [
    "# Split into Train, Validation\n",
    "X_train, X_val, y_train, y_val = train_test_split(train_data, train_labels, test_size=0.1, random_state=1)\n",
    "print(\"Dim of Data: \", X_train.shape)\n",
    "print(\"Dim of Lables: \", y_train.shape)\n",
    "print(\"Dim of X_test: \", X_val.shape)\n",
    "print(\"Dim of y_test: \", y_val.shape)"
   ]
  },
  {
   "cell_type": "code",
   "execution_count": 8,
   "id": "57ba1413",
   "metadata": {},
   "outputs": [
    {
     "name": "stdout",
     "output_type": "stream",
     "text": [
      "Train len:  1034\n",
      "Val len:  115\n"
     ]
    }
   ],
   "source": [
    "# Create the dataset object\n",
    "train_Dataset = Data(X_train, y_train, img_transform_val) # img_transform\n",
    "val_Dataset = Data(X_val, y_val, img_transform_val)\n",
    "\n",
    "print(\"Train len: \",len(train_Dataset))\n",
    "print(\"Val len: \",len(val_Dataset))"
   ]
  },
  {
   "cell_type": "code",
   "execution_count": 9,
   "id": "84e8a189",
   "metadata": {},
   "outputs": [],
   "source": [
    "# Create the dataloaders\n",
    "train_loader = DataLoader(\n",
    "    train_Dataset, \n",
    "    batch_size=TRAIN_BATCH_SIZE,             \n",
    "    shuffle=True)\n",
    "\n",
    "valid_loader = DataLoader(\n",
    "    val_Dataset, \n",
    "    batch_size=TEST_BATCH_SIZE,\n",
    "    shuffle=False\n",
    "    )"
   ]
  },
  {
   "cell_type": "markdown",
   "id": "84335faa",
   "metadata": {},
   "source": [
    "## Test Data"
   ]
  },
  {
   "cell_type": "code",
   "execution_count": 10,
   "id": "aaa86a20",
   "metadata": {},
   "outputs": [
    {
     "name": "stdout",
     "output_type": "stream",
     "text": [
      "Test Dim of Data:  (380, 400, 400, 3)\n",
      "Test Dim of Lables:  (380,)\n"
     ]
    }
   ],
   "source": [
    "# Import the data\n",
    "test_data, test_names = import_test_folder_dataset(test_data_path)\n",
    "print(\"Test Dim of Data: \", test_data.shape)\n",
    "print(\"Test Dim of Lables: \", test_names.shape)"
   ]
  },
  {
   "cell_type": "code",
   "execution_count": 11,
   "id": "f9ce647e",
   "metadata": {},
   "outputs": [
    {
     "name": "stdout",
     "output_type": "stream",
     "text": [
      "Test len:  380\n"
     ]
    }
   ],
   "source": [
    "# Create the dataset object\n",
    "test_Dataset = Data_test(test_data, test_names, img_transform_val) # img_transform\n",
    "\n",
    "print(\"Test len: \",len(test_Dataset))"
   ]
  },
  {
   "cell_type": "code",
   "execution_count": 12,
   "id": "6d05ab18",
   "metadata": {},
   "outputs": [],
   "source": [
    "# Create the dataloaders\n",
    "test_loader = DataLoader(\n",
    "    test_Dataset, \n",
    "    batch_size=1,             \n",
    "    shuffle=False)"
   ]
  },
  {
   "cell_type": "markdown",
   "id": "e5b541df",
   "metadata": {},
   "source": [
    "# Create Model"
   ]
  },
  {
   "cell_type": "code",
   "execution_count": 13,
   "id": "c7e94655",
   "metadata": {
    "scrolled": true
   },
   "outputs": [
    {
     "name": "stderr",
     "output_type": "stream",
     "text": [
      "D:\\Users\\Alex\\anaconda3\\lib\\site-packages\\torchvision\\models\\_utils.py:208: UserWarning: The parameter 'pretrained' is deprecated since 0.13 and will be removed in 0.15, please use 'weights' instead.\n",
      "  warnings.warn(\n",
      "D:\\Users\\Alex\\anaconda3\\lib\\site-packages\\torchvision\\models\\_utils.py:223: UserWarning: Arguments other than a weight enum or `None` for 'weights' are deprecated since 0.13 and will be removed in 0.15. The current behavior is equivalent to passing `weights=AlexNet_Weights.IMAGENET1K_V1`. You can also use `weights=AlexNet_Weights.DEFAULT` to get the most up-to-date weights.\n",
      "  warnings.warn(msg)\n"
     ]
    },
    {
     "data": {
      "text/plain": [
       "ClassificationNet(\n",
       "  (model_fe): Sequential(\n",
       "    (0): Sequential(\n",
       "      (0): Conv2d(3, 64, kernel_size=(11, 11), stride=(4, 4), padding=(2, 2))\n",
       "      (1): ReLU(inplace=True)\n",
       "      (2): MaxPool2d(kernel_size=3, stride=2, padding=0, dilation=1, ceil_mode=False)\n",
       "      (3): Conv2d(64, 192, kernel_size=(5, 5), stride=(1, 1), padding=(2, 2))\n",
       "      (4): ReLU(inplace=True)\n",
       "      (5): MaxPool2d(kernel_size=3, stride=2, padding=0, dilation=1, ceil_mode=False)\n",
       "      (6): Conv2d(192, 384, kernel_size=(3, 3), stride=(1, 1), padding=(1, 1))\n",
       "      (7): ReLU(inplace=True)\n",
       "      (8): Conv2d(384, 256, kernel_size=(3, 3), stride=(1, 1), padding=(1, 1))\n",
       "      (9): ReLU(inplace=True)\n",
       "      (10): Conv2d(256, 256, kernel_size=(3, 3), stride=(1, 1), padding=(1, 1))\n",
       "      (11): ReLU(inplace=True)\n",
       "      (12): MaxPool2d(kernel_size=3, stride=2, padding=0, dilation=1, ceil_mode=False)\n",
       "    )\n",
       "    (1): AdaptiveAvgPool2d(output_size=(6, 6))\n",
       "  )\n",
       "  (flatten): Flatten(start_dim=1, end_dim=-1)\n",
       "  (last_classifier): Linear(in_features=9216, out_features=4, bias=True)\n",
       ")"
      ]
     },
     "execution_count": 13,
     "metadata": {},
     "output_type": "execute_result"
    }
   ],
   "source": [
    "#PyTorch - Building the Model\n",
    "class ClassificationNet(nn.Module):\n",
    "    def __init__(self, model):\n",
    "        super(ClassificationNet, self).__init__()\n",
    "        # get the pretrained googlenet network\n",
    "        #self.googlenet = models.googlenet(pretrained=True)\n",
    "        #self.resnet50 = models.resnet50(pretrained=True)\n",
    "        \n",
    "        # Get the feature extractor\n",
    "        self.model_fe = nn.Sequential(*list(model.children())[:-1])\n",
    "        #self.resnet50_fe = nn.Sequential(*list(self.resnet50.children())[:-1])\n",
    "        \n",
    "        # Flatten the FE output\n",
    "        self.flatten = nn.Flatten()\n",
    "        \n",
    "        # Add a clissifier\n",
    "        self.last_classifier =  nn.Linear(in_features=9216, out_features=4)\n",
    "        \n",
    "    def forward(self, x): \n",
    "        #x = self.resnet50_fe(x)\n",
    "        x = self.model_fe(x)\n",
    "        \n",
    "        x = self.flatten(x)\n",
    "        \n",
    "        x = self.last_classifier(x)\n",
    "        \n",
    "        return x\n",
    "\n",
    "modelpy = ClassificationNet(model = models.alexnet(pretrained=True)).to(device)\n",
    "\n",
    "# Loss Function\n",
    "criterion_2 = nn.CrossEntropyLoss()\n",
    "\n",
    "# Optimizer    \n",
    "trainable_parameters_2 = filter(lambda p: p.requires_grad, modelpy.parameters())\n",
    "#optimizer_2 = torch.optim.Adam(params=trainable_parameters_2, lr=lr)\n",
    "optimizer_2 = torch.optim.SGD(params=trainable_parameters_2, lr=lr, momentum=1e-5) \n",
    "\n",
    "# Check if checkpoint is available, if so, load it\n",
    "model_epoch_m2_check = 0\n",
    "previous_time = 0\n",
    "\n",
    "modelpy"
   ]
  },
  {
   "cell_type": "code",
   "execution_count": 14,
   "id": "9d13ce6c",
   "metadata": {},
   "outputs": [],
   "source": [
    "# Check if checkpoint is available, if so, load it\n",
    "model_epoch_m2_check = 0\n",
    "previous_time = 0\n",
    "names = os.listdir(model_checkpoints)\n",
    "for elem in names:\n",
    "    if(elem==\"model_ckpt_m2.pth\"):\n",
    "        print(\"Loading saved checkpoint\")\n",
    "        checkpoint = torch.load(model_checkpoints + \"model_ckpt_m2.pth\")\n",
    "        modelpy.load_state_dict(checkpoint['model_state_dict'])\n",
    "        modelpy.to(device)\n",
    "        optimizer_2.load_state_dict(checkpoint['optimizer_state_dict'])\n",
    "        model_epoch_m2_check = checkpoint['epoch']\n",
    "        criterion_2 = checkpoint['loss']\n",
    "        previous_time = checkpoint['time']\n",
    "        print(f\"Epoch of the checkpoint: {model_epoch_m2_check}\")\n"
   ]
  },
  {
   "cell_type": "code",
   "execution_count": 15,
   "id": "deaed3a3",
   "metadata": {},
   "outputs": [
    {
     "name": "stdout",
     "output_type": "stream",
     "text": [
      "Model Parameters: 2506564\n"
     ]
    }
   ],
   "source": [
    "# Model Parameters\n",
    "\n",
    "def count_parameters(model):\n",
    "    return sum(p.numel() for p in model.parameters() if p.requires_grad)\n",
    "\n",
    "\n",
    "print(f\"Model Parameters: {count_parameters(modelpy)}\")"
   ]
  },
  {
   "cell_type": "markdown",
   "id": "a686cf7a",
   "metadata": {},
   "source": [
    "# Train Model"
   ]
  },
  {
   "cell_type": "code",
   "execution_count": 16,
   "id": "f5e24431",
   "metadata": {},
   "outputs": [],
   "source": [
    "def update_optimizer(optimizer, lr):\n",
    "    for i, param_group in enumerate(optimizer.param_groups):\n",
    "        param_group[\"lr\"]=lr"
   ]
  },
  {
   "cell_type": "code",
   "execution_count": 17,
   "id": "ab810b7d",
   "metadata": {
    "scrolled": true
   },
   "outputs": [
    {
     "name": "stdout",
     "output_type": "stream",
     "text": [
      "Epoch 1 of 100\n"
     ]
    },
    {
     "name": "stderr",
     "output_type": "stream",
     "text": [
      "100%|██████████| 130/130 [02:07<00:00,  1.02it/s] \n",
      "100%|██████████| 15/15 [00:01<00:00, 13.37it/s]\n"
     ]
    },
    {
     "name": "stdout",
     "output_type": "stream",
     "text": [
      "train loss:  0.12101263819510978\n",
      "Val loss:  0.13147103423657625\n",
      "train accuracy:  0.5822050290135397\n",
      "Val accuracy:  0.5739130434782609\n",
      "Best model at the moment with Val_acc 57.39, saving...\n",
      "Current time: 2.167 minutes. Time expected till completion: 214.568 minutes\n",
      "Epoch 2 of 100\n"
     ]
    },
    {
     "name": "stderr",
     "output_type": "stream",
     "text": [
      "100%|██████████| 130/130 [00:15<00:00,  8.34it/s]\n",
      "100%|██████████| 15/15 [00:01<00:00, 12.89it/s]\n"
     ]
    },
    {
     "name": "stdout",
     "output_type": "stream",
     "text": [
      "train loss:  0.10475018995181735\n",
      "Val loss:  0.12288702467213507\n",
      "train accuracy:  0.6402321083172147\n",
      "Val accuracy:  0.5652173913043478\n",
      "Current time: 2.447 minutes. Time expected till completion: 119.885 minutes\n",
      "Epoch 3 of 100\n"
     ]
    },
    {
     "name": "stderr",
     "output_type": "stream",
     "text": [
      "100%|██████████| 130/130 [00:15<00:00,  8.26it/s]\n",
      "100%|██████████| 15/15 [00:01<00:00, 15.00it/s]\n"
     ]
    },
    {
     "name": "stdout",
     "output_type": "stream",
     "text": [
      "train loss:  0.10018104496384958\n",
      "Val loss:  0.11952686646710271\n",
      "train accuracy:  0.6499032882011605\n",
      "Val accuracy:  0.6\n",
      "Best model at the moment with Val_acc 60.0, saving...\n",
      "Current time: 2.726 minutes. Time expected till completion: 88.153 minutes\n",
      "Epoch 4 of 100\n"
     ]
    },
    {
     "name": "stderr",
     "output_type": "stream",
     "text": [
      "100%|██████████| 130/130 [00:14<00:00,  8.70it/s]\n",
      "100%|██████████| 15/15 [00:00<00:00, 15.07it/s]\n"
     ]
    },
    {
     "name": "stdout",
     "output_type": "stream",
     "text": [
      "train loss:  0.09404885056978038\n",
      "Val loss:  0.12196739963863207\n",
      "train accuracy:  0.6673114119922631\n",
      "Val accuracy:  0.6\n",
      "Current time: 2.992 minutes. Time expected till completion: 71.810 minutes\n",
      "Epoch 5 of 100\n"
     ]
    },
    {
     "name": "stderr",
     "output_type": "stream",
     "text": [
      "100%|██████████| 130/130 [00:15<00:00,  8.65it/s]\n",
      "100%|██████████| 15/15 [00:01<00:00, 15.00it/s]\n"
     ]
    },
    {
     "name": "stdout",
     "output_type": "stream",
     "text": [
      "train loss:  0.0887902897117908\n",
      "Val loss:  0.14805462593617646\n",
      "train accuracy:  0.6963249516441006\n",
      "Val accuracy:  0.5739130434782609\n",
      "Current time: 3.259 minutes. Time expected till completion: 61.930 minutes\n",
      "Epoch 6 of 100\n"
     ]
    },
    {
     "name": "stderr",
     "output_type": "stream",
     "text": [
      "100%|██████████| 130/130 [00:15<00:00,  8.58it/s]\n",
      "100%|██████████| 15/15 [00:00<00:00, 15.16it/s]\n"
     ]
    },
    {
     "name": "stdout",
     "output_type": "stream",
     "text": [
      "train loss:  0.08637266755968735\n",
      "Val loss:  0.16841304198555324\n",
      "train accuracy:  0.6963249516441006\n",
      "Val accuracy:  0.5478260869565217\n",
      "Current time: 3.529 minutes. Time expected till completion: 55.284 minutes\n",
      "Epoch 7 of 100\n"
     ]
    },
    {
     "name": "stderr",
     "output_type": "stream",
     "text": [
      "100%|██████████| 130/130 [00:15<00:00,  8.38it/s]\n",
      "100%|██████████| 15/15 [00:01<00:00, 13.38it/s]\n"
     ]
    },
    {
     "name": "stdout",
     "output_type": "stream",
     "text": [
      "train loss:  0.08156730447908435\n",
      "Val loss:  0.13924243268759354\n",
      "train accuracy:  0.730174081237911\n",
      "Val accuracy:  0.5565217391304348\n",
      "Current time: 3.806 minutes. Time expected till completion: 50.569 minutes\n",
      "Epoch 8 of 100\n"
     ]
    },
    {
     "name": "stderr",
     "output_type": "stream",
     "text": [
      "100%|██████████| 130/130 [00:16<00:00,  7.72it/s]\n",
      "100%|██████████| 15/15 [00:01<00:00, 11.79it/s]\n"
     ]
    },
    {
     "name": "stdout",
     "output_type": "stream",
     "text": [
      "train loss:  0.07781315936456566\n",
      "Val loss:  0.12382908230242522\n",
      "train accuracy:  0.7437137330754352\n",
      "Val accuracy:  0.591304347826087\n",
      "Current time: 4.108 minutes. Time expected till completion: 47.247 minutes\n",
      "Epoch 9 of 100\n"
     ]
    },
    {
     "name": "stderr",
     "output_type": "stream",
     "text": [
      "100%|██████████| 130/130 [00:18<00:00,  7.06it/s]\n",
      "100%|██████████| 15/15 [00:01<00:00, 12.51it/s]\n"
     ]
    },
    {
     "name": "stdout",
     "output_type": "stream",
     "text": [
      "train loss:  0.07493477030810351\n",
      "Val loss:  0.13585486567538718\n",
      "train accuracy:  0.7495164410058027\n",
      "Val accuracy:  0.5565217391304348\n",
      "Current time: 4.436 minutes. Time expected till completion: 44.849 minutes\n",
      "Epoch 10 of 100\n"
     ]
    },
    {
     "name": "stderr",
     "output_type": "stream",
     "text": [
      "100%|██████████| 130/130 [00:15<00:00,  8.25it/s]\n",
      "100%|██████████| 15/15 [00:01<00:00, 11.17it/s]\n"
     ]
    },
    {
     "name": "stdout",
     "output_type": "stream",
     "text": [
      "train loss:  0.0702084090625525\n",
      "Val loss:  0.14311747291813726\n",
      "train accuracy:  0.7717601547388782\n",
      "Val accuracy:  0.5739130434782609\n",
      "Current time: 4.721 minutes. Time expected till completion: 42.486 minutes\n",
      "Epoch 11 of 100\n"
     ]
    },
    {
     "name": "stderr",
     "output_type": "stream",
     "text": [
      "100%|██████████| 130/130 [00:16<00:00,  7.75it/s]\n",
      "100%|██████████| 15/15 [00:01<00:00, 11.89it/s]\n"
     ]
    },
    {
     "name": "stdout",
     "output_type": "stream",
     "text": [
      "train loss:  0.06801328483457376\n",
      "Val loss:  0.1377606176811716\n",
      "train accuracy:  0.7862669245647969\n",
      "Val accuracy:  0.6086956521739131\n",
      "Best model at the moment with Val_acc 60.87, saving...\n",
      "Current time: 5.022 minutes. Time expected till completion: 40.632 minutes\n",
      "Epoch 12 of 100\n"
     ]
    },
    {
     "name": "stderr",
     "output_type": "stream",
     "text": [
      "100%|██████████| 130/130 [00:16<00:00,  8.12it/s]\n",
      "100%|██████████| 15/15 [00:01<00:00, 14.42it/s]\n"
     ]
    },
    {
     "name": "stdout",
     "output_type": "stream",
     "text": [
      "train loss:  0.0647237983890728\n",
      "Val loss:  0.13212384892546614\n",
      "train accuracy:  0.811411992263056\n",
      "Val accuracy:  0.5826086956521739\n",
      "Current time: 5.306 minutes. Time expected till completion: 38.912 minutes\n",
      "Epoch 13 of 100\n"
     ]
    },
    {
     "name": "stderr",
     "output_type": "stream",
     "text": [
      "100%|██████████| 130/130 [00:15<00:00,  8.50it/s]\n",
      "100%|██████████| 15/15 [00:01<00:00, 14.42it/s]\n"
     ]
    },
    {
     "name": "stdout",
     "output_type": "stream",
     "text": [
      "train loss:  0.061225029151720976\n",
      "Val loss:  0.19342762076336403\n",
      "train accuracy:  0.8017408123791102\n",
      "Val accuracy:  0.46956521739130436\n",
      "Current time: 5.578 minutes. Time expected till completion: 37.333 minutes\n",
      "Epoch 14 of 100\n"
     ]
    },
    {
     "name": "stderr",
     "output_type": "stream",
     "text": [
      "100%|██████████| 130/130 [00:15<00:00,  8.29it/s]\n",
      "100%|██████████| 15/15 [00:01<00:00, 13.90it/s]\n"
     ]
    },
    {
     "name": "stdout",
     "output_type": "stream",
     "text": [
      "train loss:  0.059951815710941644\n",
      "Val loss:  0.15905459160390106\n",
      "train accuracy:  0.8007736943907157\n",
      "Val accuracy:  0.46956521739130436\n",
      "Current time: 5.858 minutes. Time expected till completion: 35.985 minutes\n",
      "Epoch 15 of 100\n"
     ]
    },
    {
     "name": "stderr",
     "output_type": "stream",
     "text": [
      "100%|██████████| 130/130 [00:15<00:00,  8.37it/s]\n",
      "100%|██████████| 15/15 [00:01<00:00, 14.07it/s]\n"
     ]
    },
    {
     "name": "stdout",
     "output_type": "stream",
     "text": [
      "train loss:  0.05632907513896548\n",
      "Val loss:  0.21889254463755567\n",
      "train accuracy:  0.8317214700193424\n",
      "Val accuracy:  0.4434782608695652\n",
      "Current time: 6.135 minutes. Time expected till completion: 34.765 minutes\n",
      "Epoch 16 of 100\n"
     ]
    },
    {
     "name": "stderr",
     "output_type": "stream",
     "text": [
      "100%|██████████| 130/130 [00:15<00:00,  8.50it/s]\n",
      "100%|██████████| 15/15 [00:01<00:00, 14.16it/s]\n"
     ]
    },
    {
     "name": "stdout",
     "output_type": "stream",
     "text": [
      "train loss:  0.0539260523274858\n",
      "Val loss:  0.1623996428821398\n",
      "train accuracy:  0.8423597678916828\n",
      "Val accuracy:  0.5391304347826087\n",
      "Current time: 6.408 minutes. Time expected till completion: 33.641 minutes\n",
      "Epoch 17 of 100\n"
     ]
    },
    {
     "name": "stderr",
     "output_type": "stream",
     "text": [
      "100%|██████████| 130/130 [00:15<00:00,  8.38it/s]\n",
      "100%|██████████| 15/15 [00:01<00:00, 14.03it/s]\n"
     ]
    },
    {
     "name": "stdout",
     "output_type": "stream",
     "text": [
      "train loss:  0.051174149843116565\n",
      "Val loss:  0.16855388542880181\n",
      "train accuracy:  0.8423597678916828\n",
      "Val accuracy:  0.5478260869565217\n",
      "Current time: 6.684 minutes. Time expected till completion: 32.635 minutes\n",
      "Epoch 18 of 100\n"
     ]
    },
    {
     "name": "stderr",
     "output_type": "stream",
     "text": [
      "100%|██████████| 130/130 [00:15<00:00,  8.18it/s]\n",
      "100%|██████████| 15/15 [00:01<00:00, 13.35it/s]\n"
     ]
    },
    {
     "name": "stdout",
     "output_type": "stream",
     "text": [
      "train loss:  0.04899776043510875\n",
      "Val loss:  0.24846887951311858\n",
      "train accuracy:  0.8539651837524178\n",
      "Val accuracy:  0.4782608695652174\n",
      "Current time: 6.968 minutes. Time expected till completion: 31.743 minutes\n",
      "Epoch 19 of 100\n"
     ]
    },
    {
     "name": "stderr",
     "output_type": "stream",
     "text": [
      "100%|██████████| 130/130 [00:16<00:00,  8.12it/s]\n",
      "100%|██████████| 15/15 [00:01<00:00, 13.90it/s]\n"
     ]
    },
    {
     "name": "stdout",
     "output_type": "stream",
     "text": [
      "train loss:  0.04716775453752141\n",
      "Val loss:  0.16495633060517517\n",
      "train accuracy:  0.8520309477756286\n",
      "Val accuracy:  0.591304347826087\n",
      "Current time: 7.253 minutes. Time expected till completion: 30.921 minutes\n",
      "Epoch 20 of 100\n"
     ]
    },
    {
     "name": "stderr",
     "output_type": "stream",
     "text": [
      "100%|██████████| 130/130 [00:17<00:00,  7.56it/s]\n",
      "100%|██████████| 15/15 [00:01<00:00, 13.86it/s]\n"
     ]
    },
    {
     "name": "stdout",
     "output_type": "stream",
     "text": [
      "train loss:  0.042798231952108544\n",
      "Val loss:  0.17179960906505584\n",
      "train accuracy:  0.8646034816247582\n",
      "Val accuracy:  0.5391304347826087\n",
      "Current time: 7.558 minutes. Time expected till completion: 30.232 minutes\n",
      "Epoch 21 of 100\n"
     ]
    },
    {
     "name": "stderr",
     "output_type": "stream",
     "text": [
      "100%|██████████| 130/130 [00:16<00:00,  7.83it/s]\n",
      "100%|██████████| 15/15 [00:01<00:00, 13.66it/s]\n"
     ]
    },
    {
     "name": "stdout",
     "output_type": "stream",
     "text": [
      "train loss:  0.04078410911721464\n",
      "Val loss:  0.17063069861868155\n",
      "train accuracy:  0.8907156673114119\n",
      "Val accuracy:  0.591304347826087\n",
      "Current time: 7.853 minutes. Time expected till completion: 29.542 minutes\n",
      "Epoch 22 of 100\n"
     ]
    },
    {
     "name": "stderr",
     "output_type": "stream",
     "text": [
      "100%|██████████| 130/130 [00:16<00:00,  7.91it/s]\n",
      "100%|██████████| 15/15 [00:01<00:00, 13.90it/s]\n"
     ]
    },
    {
     "name": "stdout",
     "output_type": "stream",
     "text": [
      "train loss:  0.03869338760537958\n",
      "Val loss:  0.22375698452410492\n",
      "train accuracy:  0.8897485493230174\n",
      "Val accuracy:  0.5043478260869565\n",
      "Current time: 8.145 minutes. Time expected till completion: 28.878 minutes\n",
      "Epoch 23 of 100\n"
     ]
    },
    {
     "name": "stderr",
     "output_type": "stream",
     "text": [
      "100%|██████████| 130/130 [00:16<00:00,  7.75it/s]\n",
      "100%|██████████| 15/15 [00:01<00:00, 14.05it/s]\n"
     ]
    },
    {
     "name": "stdout",
     "output_type": "stream",
     "text": [
      "train loss:  0.0358391978401453\n",
      "Val loss:  0.17435055711995\n",
      "train accuracy:  0.8916827852998066\n",
      "Val accuracy:  0.6\n",
      "Current time: 8.443 minutes. Time expected till completion: 28.264 minutes\n",
      "Epoch 24 of 100\n"
     ]
    },
    {
     "name": "stderr",
     "output_type": "stream",
     "text": [
      "100%|██████████| 130/130 [00:15<00:00,  8.28it/s]\n",
      "100%|██████████| 15/15 [00:01<00:00, 14.69it/s]\n"
     ]
    },
    {
     "name": "stdout",
     "output_type": "stream",
     "text": [
      "train loss:  0.036326232285200974\n",
      "Val loss:  0.19706980586051942\n",
      "train accuracy:  0.8868471953578336\n",
      "Val accuracy:  0.591304347826087\n",
      "Current time: 8.722 minutes. Time expected till completion: 27.618 minutes\n",
      "Epoch 25 of 100\n"
     ]
    },
    {
     "name": "stderr",
     "output_type": "stream",
     "text": [
      "100%|██████████| 130/130 [00:16<00:00,  7.85it/s]\n",
      "100%|██████████| 15/15 [00:01<00:00, 14.43it/s]\n"
     ]
    },
    {
     "name": "stdout",
     "output_type": "stream",
     "text": [
      "train loss:  0.030327563646035106\n",
      "Val loss:  0.20464291624400927\n",
      "train accuracy:  0.9168278529980658\n",
      "Val accuracy:  0.591304347826087\n",
      "Current time: 9.015 minutes. Time expected till completion: 27.046 minutes\n",
      "Epoch 26 of 100\n"
     ]
    },
    {
     "name": "stderr",
     "output_type": "stream",
     "text": [
      "100%|██████████| 130/130 [00:15<00:00,  8.39it/s]\n",
      "100%|██████████| 15/15 [00:00<00:00, 15.22it/s]\n"
     ]
    },
    {
     "name": "stdout",
     "output_type": "stream",
     "text": [
      "train loss:  0.031000545406912234\n",
      "Val loss:  0.3259586926387704\n",
      "train accuracy:  0.9177949709864603\n",
      "Val accuracy:  0.4782608695652174\n",
      "Current time: 9.290 minutes. Time expected till completion: 26.441 minutes\n",
      "Epoch 27 of 100\n"
     ]
    },
    {
     "name": "stderr",
     "output_type": "stream",
     "text": [
      "100%|██████████| 130/130 [00:15<00:00,  8.43it/s]\n",
      "100%|██████████| 15/15 [00:01<00:00, 14.46it/s]\n"
     ]
    },
    {
     "name": "stdout",
     "output_type": "stream",
     "text": [
      "train loss:  0.03411363799402371\n",
      "Val loss:  0.29116243434988937\n",
      "train accuracy:  0.913926499032882\n",
      "Val accuracy:  0.48695652173913045\n",
      "Current time: 9.565 minutes. Time expected till completion: 25.860 minutes\n",
      "Epoch 28 of 100\n"
     ]
    },
    {
     "name": "stderr",
     "output_type": "stream",
     "text": [
      "100%|██████████| 130/130 [00:19<00:00,  6.62it/s]\n",
      "100%|██████████| 15/15 [00:01<00:00, 10.47it/s]\n"
     ]
    },
    {
     "name": "stdout",
     "output_type": "stream",
     "text": [
      "train loss:  0.029744652339493284\n",
      "Val loss:  0.19535875398179758\n",
      "train accuracy:  0.925531914893617\n",
      "Val accuracy:  0.591304347826087\n",
      "Current time: 9.916 minutes. Time expected till completion: 25.498 minutes\n",
      "Epoch 29 of 100\n"
     ]
    },
    {
     "name": "stderr",
     "output_type": "stream",
     "text": [
      "100%|██████████| 130/130 [00:17<00:00,  7.40it/s]\n",
      "100%|██████████| 15/15 [00:01<00:00, 10.36it/s]\n"
     ]
    },
    {
     "name": "stdout",
     "output_type": "stream",
     "text": [
      "train loss:  0.023772383221322437\n",
      "Val loss:  0.22785915071549623\n",
      "train accuracy:  0.9439071566731141\n",
      "Val accuracy:  0.5652173913043478\n",
      "Current time: 10.233 minutes. Time expected till completion: 25.053 minutes\n",
      "Epoch 30 of 100\n"
     ]
    },
    {
     "name": "stderr",
     "output_type": "stream",
     "text": [
      "100%|██████████| 130/130 [00:18<00:00,  7.16it/s]\n",
      "100%|██████████| 15/15 [00:01<00:00, 11.86it/s]\n"
     ]
    },
    {
     "name": "stdout",
     "output_type": "stream",
     "text": [
      "train loss:  0.024218436834948207\n",
      "Val loss:  0.2226559755594834\n",
      "train accuracy:  0.9381044487427466\n",
      "Val accuracy:  0.5478260869565217\n",
      "Current time: 10.557 minutes. Time expected till completion: 24.633 minutes\n",
      "Epoch 31 of 100\n"
     ]
    },
    {
     "name": "stderr",
     "output_type": "stream",
     "text": [
      "100%|██████████| 130/130 [00:19<00:00,  6.71it/s]\n",
      "100%|██████████| 15/15 [00:01<00:00, 11.14it/s]\n"
     ]
    },
    {
     "name": "stdout",
     "output_type": "stream",
     "text": [
      "train loss:  0.020873907918373492\n",
      "Val loss:  0.20904875449512317\n",
      "train accuracy:  0.9535783365570599\n",
      "Val accuracy:  0.5565217391304348\n",
      "Current time: 10.902 minutes. Time expected till completion: 24.267 minutes\n",
      "Epoch 32 of 100\n"
     ]
    },
    {
     "name": "stderr",
     "output_type": "stream",
     "text": [
      "100%|██████████| 130/130 [00:15<00:00,  8.15it/s]\n",
      "100%|██████████| 15/15 [00:01<00:00, 13.10it/s]\n"
     ]
    },
    {
     "name": "stdout",
     "output_type": "stream",
     "text": [
      "train loss:  0.019489362264841045\n",
      "Val loss:  0.2191990904186083\n",
      "train accuracy:  0.9526112185686654\n",
      "Val accuracy:  0.5565217391304348\n",
      "Current time: 11.187 minutes. Time expected till completion: 23.773 minutes\n",
      "Epoch 33 of 100\n"
     ]
    },
    {
     "name": "stderr",
     "output_type": "stream",
     "text": [
      "100%|██████████| 130/130 [00:15<00:00,  8.39it/s]\n",
      "100%|██████████| 15/15 [00:01<00:00, 10.45it/s]\n"
     ]
    },
    {
     "name": "stdout",
     "output_type": "stream",
     "text": [
      "train loss:  0.02132784306050082\n",
      "Val loss:  0.3326236622489017\n",
      "train accuracy:  0.9487427466150871\n",
      "Val accuracy:  0.5565217391304348\n",
      "Current time: 11.470 minutes. Time expected till completion: 23.287 minutes\n",
      "Epoch 34 of 100\n"
     ]
    },
    {
     "name": "stderr",
     "output_type": "stream",
     "text": [
      "100%|██████████| 130/130 [00:15<00:00,  8.26it/s]\n",
      "100%|██████████| 15/15 [00:01<00:00, 13.85it/s]\n"
     ]
    },
    {
     "name": "stdout",
     "output_type": "stream",
     "text": [
      "train loss:  0.025049515192377123\n",
      "Val loss:  0.22082529625167016\n",
      "train accuracy:  0.9352030947775629\n",
      "Val accuracy:  0.5739130434782609\n",
      "Current time: 11.751 minutes. Time expected till completion: 22.810 minutes\n",
      "Epoch 35 of 100\n"
     ]
    },
    {
     "name": "stderr",
     "output_type": "stream",
     "text": [
      "100%|██████████| 130/130 [00:15<00:00,  8.49it/s]\n",
      "100%|██████████| 15/15 [00:01<00:00, 13.81it/s]\n"
     ]
    },
    {
     "name": "stdout",
     "output_type": "stream",
     "text": [
      "train loss:  0.019847552389324404\n",
      "Val loss:  0.2573077778453412\n",
      "train accuracy:  0.9545454545454546\n",
      "Val accuracy:  0.5478260869565217\n",
      "Current time: 12.024 minutes. Time expected till completion: 22.330 minutes\n",
      "Epoch 36 of 100\n"
     ]
    },
    {
     "name": "stderr",
     "output_type": "stream",
     "text": [
      "100%|██████████| 130/130 [00:15<00:00,  8.52it/s]\n",
      "100%|██████████| 15/15 [00:01<00:00, 14.02it/s]\n"
     ]
    },
    {
     "name": "stdout",
     "output_type": "stream",
     "text": [
      "train loss:  0.015907969296170395\n",
      "Val loss:  0.3067886690082757\n",
      "train accuracy:  0.9632495164410058\n",
      "Val accuracy:  0.46956521739130436\n",
      "Current time: 12.296 minutes. Time expected till completion: 21.860 minutes\n",
      "Epoch 37 of 100\n"
     ]
    },
    {
     "name": "stderr",
     "output_type": "stream",
     "text": [
      "100%|██████████| 130/130 [00:15<00:00,  8.48it/s]\n",
      "100%|██████████| 15/15 [00:01<00:00, 14.00it/s]\n"
     ]
    },
    {
     "name": "stdout",
     "output_type": "stream",
     "text": [
      "train loss:  0.016558488422006773\n",
      "Val loss:  0.28194870845131254\n",
      "train accuracy:  0.9690522243713733\n",
      "Val accuracy:  0.5217391304347826\n",
      "Current time: 12.570 minutes. Time expected till completion: 21.403 minutes\n",
      "Epoch 38 of 100\n"
     ]
    },
    {
     "name": "stderr",
     "output_type": "stream",
     "text": [
      "100%|██████████| 130/130 [00:15<00:00,  8.41it/s]\n",
      "100%|██████████| 15/15 [00:01<00:00, 14.08it/s]\n"
     ]
    },
    {
     "name": "stdout",
     "output_type": "stream",
     "text": [
      "train loss:  0.015087572394328001\n",
      "Val loss:  0.2868237863416257\n",
      "train accuracy:  0.9661508704061895\n",
      "Val accuracy:  0.5391304347826087\n",
      "Current time: 12.846 minutes. Time expected till completion: 20.959 minutes\n",
      "Epoch 39 of 100\n"
     ]
    },
    {
     "name": "stderr",
     "output_type": "stream",
     "text": [
      "100%|██████████| 130/130 [00:15<00:00,  8.50it/s]\n",
      "100%|██████████| 15/15 [00:01<00:00, 14.59it/s]\n"
     ]
    },
    {
     "name": "stdout",
     "output_type": "stream",
     "text": [
      "train loss:  0.01436068521807154\n",
      "Val loss:  0.29071399627820305\n",
      "train accuracy:  0.9709864603481625\n",
      "Val accuracy:  0.5391304347826087\n",
      "Current time: 13.118 minutes. Time expected till completion: 20.518 minutes\n",
      "Epoch 40 of 100\n"
     ]
    },
    {
     "name": "stderr",
     "output_type": "stream",
     "text": [
      "100%|██████████| 130/130 [00:15<00:00,  8.51it/s]\n",
      "100%|██████████| 15/15 [00:00<00:00, 15.01it/s]\n"
     ]
    },
    {
     "name": "stdout",
     "output_type": "stream",
     "text": [
      "train loss:  0.019454417852468688\n",
      "Val loss:  0.25371769264988275\n",
      "train accuracy:  0.9526112185686654\n",
      "Val accuracy:  0.5652173913043478\n",
      "Current time: 13.389 minutes. Time expected till completion: 20.084 minutes\n",
      "Epoch 41 of 100\n"
     ]
    },
    {
     "name": "stderr",
     "output_type": "stream",
     "text": [
      "100%|██████████| 130/130 [00:15<00:00,  8.34it/s]\n",
      "100%|██████████| 15/15 [00:01<00:00, 14.97it/s]\n"
     ]
    },
    {
     "name": "stdout",
     "output_type": "stream",
     "text": [
      "train loss:  0.01188667011135384\n",
      "Val loss:  0.28774430803630663\n",
      "train accuracy:  0.9758220502901354\n",
      "Val accuracy:  0.5391304347826087\n",
      "Current time: 13.666 minutes. Time expected till completion: 19.666 minutes\n",
      "Epoch 42 of 100\n"
     ]
    },
    {
     "name": "stderr",
     "output_type": "stream",
     "text": [
      "100%|██████████| 130/130 [00:15<00:00,  8.42it/s]\n",
      "100%|██████████| 15/15 [00:01<00:00, 14.77it/s]\n"
     ]
    },
    {
     "name": "stdout",
     "output_type": "stream",
     "text": [
      "train loss:  0.01199528537294332\n",
      "Val loss:  0.27480139602785525\n",
      "train accuracy:  0.9709864603481625\n",
      "Val accuracy:  0.5565217391304348\n",
      "Current time: 13.940 minutes. Time expected till completion: 19.251 minutes\n",
      "Epoch 43 of 100\n"
     ]
    },
    {
     "name": "stderr",
     "output_type": "stream",
     "text": [
      "100%|██████████| 130/130 [00:15<00:00,  8.44it/s]\n",
      "100%|██████████| 15/15 [00:01<00:00, 14.43it/s]\n"
     ]
    },
    {
     "name": "stdout",
     "output_type": "stream",
     "text": [
      "train loss:  0.011551422970837822\n",
      "Val loss:  0.28450705279474675\n",
      "train accuracy:  0.9806576402321083\n",
      "Val accuracy:  0.591304347826087\n",
      "Current time: 14.215 minutes. Time expected till completion: 18.843 minutes\n",
      "Epoch 44 of 100\n"
     ]
    },
    {
     "name": "stderr",
     "output_type": "stream",
     "text": [
      "100%|██████████| 130/130 [00:15<00:00,  8.47it/s]\n",
      "100%|██████████| 15/15 [00:01<00:00, 14.79it/s]\n"
     ]
    },
    {
     "name": "stdout",
     "output_type": "stream",
     "text": [
      "train loss:  0.010164451157148185\n",
      "Val loss:  0.3244224602761476\n",
      "train accuracy:  0.988394584139265\n",
      "Val accuracy:  0.5130434782608696\n",
      "Current time: 14.487 minutes. Time expected till completion: 18.438 minutes\n",
      "Epoch 45 of 100\n"
     ]
    },
    {
     "name": "stderr",
     "output_type": "stream",
     "text": [
      "100%|██████████| 130/130 [00:17<00:00,  7.57it/s]\n",
      "100%|██████████| 15/15 [00:01<00:00, 10.40it/s]\n"
     ]
    },
    {
     "name": "stdout",
     "output_type": "stream",
     "text": [
      "train loss:  0.010863434107221187\n",
      "Val loss:  0.2917777600495712\n",
      "train accuracy:  0.9816247582205029\n",
      "Val accuracy:  0.5652173913043478\n",
      "Current time: 14.798 minutes. Time expected till completion: 18.086 minutes\n",
      "Epoch 46 of 100\n"
     ]
    },
    {
     "name": "stderr",
     "output_type": "stream",
     "text": [
      "100%|██████████| 130/130 [00:18<00:00,  6.95it/s]\n",
      "100%|██████████| 15/15 [00:01<00:00,  9.87it/s]\n"
     ]
    },
    {
     "name": "stdout",
     "output_type": "stream",
     "text": [
      "train loss:  0.009907503194077485\n",
      "Val loss:  0.30604563549808833\n",
      "train accuracy:  0.9787234042553191\n",
      "Val accuracy:  0.5652173913043478\n",
      "Current time: 15.135 minutes. Time expected till completion: 17.767 minutes\n",
      "Epoch 47 of 100\n"
     ]
    },
    {
     "name": "stderr",
     "output_type": "stream",
     "text": [
      "100%|██████████| 130/130 [00:18<00:00,  7.12it/s]\n",
      "100%|██████████| 15/15 [00:01<00:00, 12.75it/s]\n"
     ]
    },
    {
     "name": "stdout",
     "output_type": "stream",
     "text": [
      "train loss:  0.009313249004787695\n",
      "Val loss:  0.29911343001801033\n",
      "train accuracy:  0.9854932301740812\n",
      "Val accuracy:  0.5565217391304348\n",
      "Current time: 15.459 minutes. Time expected till completion: 17.433 minutes\n",
      "Epoch 48 of 100\n"
     ]
    },
    {
     "name": "stderr",
     "output_type": "stream",
     "text": [
      "100%|██████████| 130/130 [00:16<00:00,  8.03it/s]\n",
      "100%|██████████| 15/15 [00:01<00:00, 11.80it/s]\n"
     ]
    },
    {
     "name": "stdout",
     "output_type": "stream",
     "text": [
      "train loss:  0.0074671758734342454\n",
      "Val loss:  0.2900214143421339\n",
      "train accuracy:  0.9941972920696325\n",
      "Val accuracy:  0.5478260869565217\n",
      "Current time: 15.750 minutes. Time expected till completion: 17.063 minutes\n",
      "Epoch 49 of 100\n"
     ]
    },
    {
     "name": "stderr",
     "output_type": "stream",
     "text": [
      "100%|██████████| 130/130 [00:18<00:00,  6.96it/s]\n",
      "100%|██████████| 15/15 [00:01<00:00, 14.15it/s]\n"
     ]
    },
    {
     "name": "stdout",
     "output_type": "stream",
     "text": [
      "train loss:  0.014277843718607937\n",
      "Val loss:  0.30470196125300036\n",
      "train accuracy:  0.965183752417795\n",
      "Val accuracy:  0.591304347826087\n",
      "Current time: 16.079 minutes. Time expected till completion: 16.736 minutes\n",
      "Epoch 50 of 100\n"
     ]
    },
    {
     "name": "stderr",
     "output_type": "stream",
     "text": [
      "100%|██████████| 130/130 [00:16<00:00,  7.88it/s]\n",
      "100%|██████████| 15/15 [00:01<00:00, 14.60it/s]\n"
     ]
    },
    {
     "name": "stdout",
     "output_type": "stream",
     "text": [
      "train loss:  0.008231318352777309\n",
      "Val loss:  0.29119167522243833\n",
      "train accuracy:  0.9893617021276596\n",
      "Val accuracy:  0.5739130434782609\n",
      "Current time: 16.371 minutes. Time expected till completion: 16.371 minutes\n",
      "Epoch 51 of 100\n"
     ]
    },
    {
     "name": "stderr",
     "output_type": "stream",
     "text": [
      "100%|██████████| 130/130 [00:15<00:00,  8.26it/s]\n",
      "100%|██████████| 15/15 [00:01<00:00, 14.43it/s]\n"
     ]
    },
    {
     "name": "stdout",
     "output_type": "stream",
     "text": [
      "train loss:  0.006603984207584121\n",
      "Val loss:  0.3073512546394182\n",
      "train accuracy:  0.9961315280464217\n",
      "Val accuracy:  0.591304347826087\n",
      "Current time: 16.651 minutes. Time expected till completion: 15.998 minutes\n",
      "Epoch 52 of 100\n"
     ]
    },
    {
     "name": "stderr",
     "output_type": "stream",
     "text": [
      "100%|██████████| 130/130 [00:15<00:00,  8.36it/s]\n",
      "100%|██████████| 15/15 [00:01<00:00, 13.54it/s]\n"
     ]
    },
    {
     "name": "stdout",
     "output_type": "stream",
     "text": [
      "train loss:  0.007678719402049493\n",
      "Val loss:  0.2920903392136097\n",
      "train accuracy:  0.9903288201160542\n",
      "Val accuracy:  0.5739130434782609\n",
      "Current time: 16.929 minutes. Time expected till completion: 15.627 minutes\n",
      "Epoch 53 of 100\n"
     ]
    },
    {
     "name": "stderr",
     "output_type": "stream",
     "text": [
      "100%|██████████| 130/130 [00:15<00:00,  8.52it/s]\n",
      "100%|██████████| 15/15 [00:00<00:00, 15.04it/s]\n"
     ]
    },
    {
     "name": "stdout",
     "output_type": "stream",
     "text": [
      "train loss:  0.008964723119581105\n",
      "Val loss:  0.31433107438294783\n",
      "train accuracy:  0.9825918762088974\n",
      "Val accuracy:  0.5391304347826087\n",
      "Current time: 17.200 minutes. Time expected till completion: 15.253 minutes\n",
      "Epoch 54 of 100\n"
     ]
    },
    {
     "name": "stderr",
     "output_type": "stream",
     "text": [
      "100%|██████████| 130/130 [00:15<00:00,  8.44it/s]\n",
      "100%|██████████| 15/15 [00:01<00:00, 14.89it/s]\n"
     ]
    },
    {
     "name": "stdout",
     "output_type": "stream",
     "text": [
      "train loss:  0.009187538721134824\n",
      "Val loss:  0.3004070471162381\n",
      "train accuracy:  0.9864603481624759\n",
      "Val accuracy:  0.5565217391304348\n",
      "Current time: 17.474 minutes. Time expected till completion: 14.885 minutes\n",
      "Epoch 55 of 100\n"
     ]
    },
    {
     "name": "stderr",
     "output_type": "stream",
     "text": [
      "100%|██████████| 130/130 [00:15<00:00,  8.31it/s]\n",
      "100%|██████████| 15/15 [00:01<00:00, 14.95it/s]\n"
     ]
    },
    {
     "name": "stdout",
     "output_type": "stream",
     "text": [
      "train loss:  0.006135103500599485\n",
      "Val loss:  0.32211653642032456\n",
      "train accuracy:  0.9932301740812379\n",
      "Val accuracy:  0.5826086956521739\n",
      "Current time: 17.751 minutes. Time expected till completion: 14.524 minutes\n",
      "Epoch 56 of 100\n"
     ]
    },
    {
     "name": "stderr",
     "output_type": "stream",
     "text": [
      "100%|██████████| 130/130 [00:16<00:00,  7.72it/s]\n",
      "100%|██████████| 15/15 [00:01<00:00, 13.53it/s]\n"
     ]
    },
    {
     "name": "stdout",
     "output_type": "stream",
     "text": [
      "train loss:  0.004746801672988379\n",
      "Val loss:  0.3186161523927813\n",
      "train accuracy:  0.9980657640232108\n",
      "Val accuracy:  0.5739130434782609\n",
      "Current time: 18.051 minutes. Time expected till completion: 14.183 minutes\n",
      "Epoch 57 of 100\n"
     ]
    },
    {
     "name": "stderr",
     "output_type": "stream",
     "text": [
      "100%|██████████| 130/130 [00:16<00:00,  8.06it/s]\n",
      "100%|██████████| 15/15 [00:01<00:00, 14.53it/s]\n"
     ]
    },
    {
     "name": "stdout",
     "output_type": "stream",
     "text": [
      "train loss:  0.004154969290722111\n",
      "Val loss:  0.3285621518674104\n",
      "train accuracy:  0.995164410058027\n",
      "Val accuracy:  0.5478260869565217\n",
      "Current time: 18.337 minutes. Time expected till completion: 13.833 minutes\n",
      "Epoch 58 of 100\n"
     ]
    },
    {
     "name": "stderr",
     "output_type": "stream",
     "text": [
      "100%|██████████| 130/130 [00:15<00:00,  8.52it/s]\n",
      "100%|██████████| 15/15 [00:01<00:00, 14.85it/s]\n"
     ]
    },
    {
     "name": "stdout",
     "output_type": "stream",
     "text": [
      "train loss:  0.006522728490050544\n",
      "Val loss:  0.30398102007482364\n",
      "train accuracy:  0.9893617021276596\n",
      "Val accuracy:  0.5565217391304348\n",
      "Current time: 18.608 minutes. Time expected till completion: 13.475 minutes\n",
      "Epoch 59 of 100\n"
     ]
    },
    {
     "name": "stderr",
     "output_type": "stream",
     "text": [
      "100%|██████████| 130/130 [00:15<00:00,  8.52it/s]\n",
      "100%|██████████| 15/15 [00:01<00:00, 14.57it/s]\n"
     ]
    },
    {
     "name": "stdout",
     "output_type": "stream",
     "text": [
      "train loss:  0.005678231940333186\n",
      "Val loss:  0.32947368991115816\n",
      "train accuracy:  0.995164410058027\n",
      "Val accuracy:  0.5478260869565217\n",
      "Current time: 18.880 minutes. Time expected till completion: 13.120 minutes\n",
      "Epoch 60 of 100\n"
     ]
    },
    {
     "name": "stderr",
     "output_type": "stream",
     "text": [
      "100%|██████████| 130/130 [00:15<00:00,  8.56it/s]\n",
      "100%|██████████| 15/15 [00:00<00:00, 15.35it/s]\n"
     ]
    },
    {
     "name": "stdout",
     "output_type": "stream",
     "text": [
      "train loss:  0.004495224150920438\n",
      "Val loss:  0.36401186365148297\n",
      "train accuracy:  0.9961315280464217\n",
      "Val accuracy:  0.5304347826086957\n",
      "Current time: 19.150 minutes. Time expected till completion: 12.766 minutes\n",
      "Epoch 61 of 100\n"
     ]
    },
    {
     "name": "stderr",
     "output_type": "stream",
     "text": [
      "100%|██████████| 130/130 [00:15<00:00,  8.52it/s]\n",
      "100%|██████████| 15/15 [00:00<00:00, 15.41it/s]\n"
     ]
    },
    {
     "name": "stdout",
     "output_type": "stream",
     "text": [
      "train loss:  0.0039022929658635917\n",
      "Val loss:  0.32665374991686447\n",
      "train accuracy:  0.9961315280464217\n",
      "Val accuracy:  0.5565217391304348\n",
      "Current time: 19.420 minutes. Time expected till completion: 12.416 minutes\n",
      "Epoch 62 of 100\n"
     ]
    },
    {
     "name": "stderr",
     "output_type": "stream",
     "text": [
      "100%|██████████| 130/130 [00:15<00:00,  8.58it/s]\n",
      "100%|██████████| 15/15 [00:01<00:00, 14.98it/s]\n"
     ]
    },
    {
     "name": "stdout",
     "output_type": "stream",
     "text": [
      "train loss:  0.005516047241234124\n",
      "Val loss:  0.3381511861863344\n",
      "train accuracy:  0.9961315280464217\n",
      "Val accuracy:  0.5478260869565217\n",
      "Current time: 19.690 minutes. Time expected till completion: 12.068 minutes\n",
      "Epoch 63 of 100\n"
     ]
    },
    {
     "name": "stderr",
     "output_type": "stream",
     "text": [
      "100%|██████████| 130/130 [00:15<00:00,  8.54it/s]\n",
      "100%|██████████| 15/15 [00:01<00:00, 14.62it/s]\n"
     ]
    },
    {
     "name": "stdout",
     "output_type": "stream",
     "text": [
      "train loss:  0.00391126292617181\n",
      "Val loss:  0.3438564008344775\n",
      "train accuracy:  0.995164410058027\n",
      "Val accuracy:  0.5217391304347826\n",
      "Current time: 19.961 minutes. Time expected till completion: 11.723 minutes\n",
      "Epoch 64 of 100\n"
     ]
    },
    {
     "name": "stderr",
     "output_type": "stream",
     "text": [
      "100%|██████████| 130/130 [00:15<00:00,  8.54it/s]\n",
      "100%|██████████| 15/15 [00:01<00:00, 14.97it/s]\n"
     ]
    },
    {
     "name": "stdout",
     "output_type": "stream",
     "text": [
      "train loss:  0.004778473780181856\n",
      "Val loss:  0.34890040172182996\n",
      "train accuracy:  0.9941972920696325\n",
      "Val accuracy:  0.5739130434782609\n",
      "Current time: 20.231 minutes. Time expected till completion: 11.380 minutes\n",
      "Epoch 65 of 100\n"
     ]
    },
    {
     "name": "stderr",
     "output_type": "stream",
     "text": [
      "100%|██████████| 130/130 [00:15<00:00,  8.58it/s]\n",
      "100%|██████████| 15/15 [00:00<00:00, 15.12it/s]\n"
     ]
    },
    {
     "name": "stdout",
     "output_type": "stream",
     "text": [
      "train loss:  0.0053145553651493226\n",
      "Val loss:  0.33465354986812756\n",
      "train accuracy:  0.9932301740812379\n",
      "Val accuracy:  0.5652173913043478\n",
      "Current time: 20.501 minutes. Time expected till completion: 11.039 minutes\n",
      "Epoch 66 of 100\n"
     ]
    },
    {
     "name": "stderr",
     "output_type": "stream",
     "text": [
      "100%|██████████| 130/130 [00:15<00:00,  8.59it/s]\n",
      "100%|██████████| 15/15 [00:00<00:00, 15.35it/s]\n"
     ]
    },
    {
     "name": "stdout",
     "output_type": "stream",
     "text": [
      "train loss:  0.0045909389868789355\n",
      "Val loss:  0.38058754419503005\n",
      "train accuracy:  0.995164410058027\n",
      "Val accuracy:  0.5478260869565217\n",
      "Current time: 20.769 minutes. Time expected till completion: 10.699 minutes\n",
      "Epoch 67 of 100\n"
     ]
    },
    {
     "name": "stderr",
     "output_type": "stream",
     "text": [
      "100%|██████████| 130/130 [00:15<00:00,  8.53it/s]\n",
      "100%|██████████| 15/15 [00:01<00:00, 14.67it/s]\n"
     ]
    },
    {
     "name": "stdout",
     "output_type": "stream",
     "text": [
      "train loss:  0.00566796835709401\n",
      "Val loss:  0.39361945675766985\n",
      "train accuracy:  0.9912959381044487\n",
      "Val accuracy:  0.5391304347826087\n",
      "Current time: 21.041 minutes. Time expected till completion: 10.363 minutes\n",
      "Epoch 68 of 100\n"
     ]
    },
    {
     "name": "stderr",
     "output_type": "stream",
     "text": [
      "100%|██████████| 130/130 [00:15<00:00,  8.56it/s]\n",
      "100%|██████████| 15/15 [00:01<00:00, 14.34it/s]\n"
     ]
    },
    {
     "name": "stdout",
     "output_type": "stream",
     "text": [
      "train loss:  0.010852668312730851\n",
      "Val loss:  0.33622731689525687\n",
      "train accuracy:  0.9835589941972921\n",
      "Val accuracy:  0.5478260869565217\n",
      "Current time: 21.311 minutes. Time expected till completion: 10.029 minutes\n",
      "Epoch 69 of 100\n"
     ]
    },
    {
     "name": "stderr",
     "output_type": "stream",
     "text": [
      "100%|██████████| 130/130 [00:15<00:00,  8.51it/s]\n",
      "100%|██████████| 15/15 [00:01<00:00, 13.79it/s]\n"
     ]
    },
    {
     "name": "stdout",
     "output_type": "stream",
     "text": [
      "train loss:  0.004747082503279221\n",
      "Val loss:  0.3676684646502785\n",
      "train accuracy:  0.995164410058027\n",
      "Val accuracy:  0.5391304347826087\n",
      "Current time: 21.584 minutes. Time expected till completion: 9.697 minutes\n",
      "Epoch 70 of 100\n"
     ]
    },
    {
     "name": "stderr",
     "output_type": "stream",
     "text": [
      "100%|██████████| 130/130 [00:15<00:00,  8.57it/s]\n",
      "100%|██████████| 15/15 [00:01<00:00, 14.20it/s]\n"
     ]
    },
    {
     "name": "stdout",
     "output_type": "stream",
     "text": [
      "train loss:  0.003281403918121446\n",
      "Val loss:  0.383705742203671\n",
      "train accuracy:  0.9970986460348162\n",
      "Val accuracy:  0.5391304347826087\n",
      "Current time: 21.855 minutes. Time expected till completion: 9.366 minutes\n",
      "Epoch 71 of 100\n"
     ]
    },
    {
     "name": "stderr",
     "output_type": "stream",
     "text": [
      "100%|██████████| 130/130 [00:15<00:00,  8.55it/s]\n",
      "100%|██████████| 15/15 [00:01<00:00, 14.42it/s]\n"
     ]
    },
    {
     "name": "stdout",
     "output_type": "stream",
     "text": [
      "train loss:  0.0027301899163994572\n",
      "Val loss:  0.3569796450760054\n",
      "train accuracy:  0.9990328820116054\n",
      "Val accuracy:  0.5478260869565217\n",
      "Current time: 22.126 minutes. Time expected till completion: 9.037 minutes\n",
      "Epoch 72 of 100\n"
     ]
    },
    {
     "name": "stderr",
     "output_type": "stream",
     "text": [
      "100%|██████████| 130/130 [00:15<00:00,  8.57it/s]\n",
      "100%|██████████| 15/15 [00:01<00:00, 14.79it/s]\n"
     ]
    },
    {
     "name": "stdout",
     "output_type": "stream",
     "text": [
      "train loss:  0.002476019268201095\n",
      "Val loss:  0.38843430669411366\n",
      "train accuracy:  0.9980657640232108\n",
      "Val accuracy:  0.5217391304347826\n",
      "Current time: 22.396 minutes. Time expected till completion: 8.709 minutes\n",
      "Epoch 73 of 100\n"
     ]
    },
    {
     "name": "stderr",
     "output_type": "stream",
     "text": [
      "100%|██████████| 130/130 [00:15<00:00,  8.53it/s]\n",
      "100%|██████████| 15/15 [00:01<00:00, 14.30it/s]\n"
     ]
    },
    {
     "name": "stdout",
     "output_type": "stream",
     "text": [
      "train loss:  0.00411751106803844\n",
      "Val loss:  0.3587398561446563\n",
      "train accuracy:  0.9961315280464217\n",
      "Val accuracy:  0.5739130434782609\n",
      "Current time: 22.667 minutes. Time expected till completion: 8.384 minutes\n",
      "Epoch 74 of 100\n"
     ]
    },
    {
     "name": "stderr",
     "output_type": "stream",
     "text": [
      "100%|██████████| 130/130 [00:15<00:00,  8.55it/s]\n",
      "100%|██████████| 15/15 [00:01<00:00, 14.57it/s]\n"
     ]
    },
    {
     "name": "stdout",
     "output_type": "stream",
     "text": [
      "train loss:  0.004009888557490214\n",
      "Val loss:  0.36880347003107483\n",
      "train accuracy:  0.995164410058027\n",
      "Val accuracy:  0.5478260869565217\n",
      "Current time: 22.938 minutes. Time expected till completion: 8.059 minutes\n",
      "Epoch 75 of 100\n"
     ]
    },
    {
     "name": "stderr",
     "output_type": "stream",
     "text": [
      "100%|██████████| 130/130 [00:15<00:00,  8.50it/s]\n",
      "100%|██████████| 15/15 [00:01<00:00, 13.56it/s]\n"
     ]
    },
    {
     "name": "stdout",
     "output_type": "stream",
     "text": [
      "train loss:  0.003983366749892497\n",
      "Val loss:  0.35240917192853016\n",
      "train accuracy:  0.9961315280464217\n",
      "Val accuracy:  0.5304347826086957\n",
      "Current time: 23.212 minutes. Time expected till completion: 7.737 minutes\n",
      "Epoch 76 of 100\n"
     ]
    },
    {
     "name": "stderr",
     "output_type": "stream",
     "text": [
      "100%|██████████| 130/130 [00:15<00:00,  8.50it/s]\n",
      "100%|██████████| 15/15 [00:01<00:00, 14.04it/s]\n"
     ]
    },
    {
     "name": "stdout",
     "output_type": "stream",
     "text": [
      "train loss:  0.002140704872279394\n",
      "Val loss:  0.3875869590303172\n",
      "train accuracy:  0.9990328820116054\n",
      "Val accuracy:  0.5391304347826087\n",
      "Current time: 23.485 minutes. Time expected till completion: 7.416 minutes\n",
      "Epoch 77 of 100\n"
     ]
    },
    {
     "name": "stderr",
     "output_type": "stream",
     "text": [
      "100%|██████████| 130/130 [00:15<00:00,  8.52it/s]\n",
      "100%|██████████| 15/15 [00:01<00:00, 14.02it/s]\n"
     ]
    },
    {
     "name": "stdout",
     "output_type": "stream",
     "text": [
      "train loss:  0.0037504611375860555\n",
      "Val loss:  0.3676292506249055\n",
      "train accuracy:  0.9970986460348162\n",
      "Val accuracy:  0.5652173913043478\n",
      "Current time: 23.757 minutes. Time expected till completion: 7.096 minutes\n",
      "Epoch 78 of 100\n"
     ]
    },
    {
     "name": "stderr",
     "output_type": "stream",
     "text": [
      "100%|██████████| 130/130 [00:15<00:00,  8.57it/s]\n",
      "100%|██████████| 15/15 [00:01<00:00, 14.04it/s]\n"
     ]
    },
    {
     "name": "stdout",
     "output_type": "stream",
     "text": [
      "train loss:  0.0019297285403277657\n",
      "Val loss:  0.3805227129355721\n",
      "train accuracy:  0.9990328820116054\n",
      "Val accuracy:  0.5217391304347826\n",
      "Current time: 24.028 minutes. Time expected till completion: 6.777 minutes\n",
      "Epoch 79 of 100\n"
     ]
    },
    {
     "name": "stderr",
     "output_type": "stream",
     "text": [
      "100%|██████████| 130/130 [00:15<00:00,  8.54it/s]\n",
      "100%|██████████| 15/15 [00:01<00:00, 13.93it/s]\n"
     ]
    },
    {
     "name": "stdout",
     "output_type": "stream",
     "text": [
      "train loss:  0.001940803781802076\n",
      "Val loss:  0.3860600327667983\n",
      "train accuracy:  0.9990328820116054\n",
      "Val accuracy:  0.5478260869565217\n",
      "Current time: 24.300 minutes. Time expected till completion: 6.459 minutes\n",
      "Epoch 80 of 100\n"
     ]
    },
    {
     "name": "stderr",
     "output_type": "stream",
     "text": [
      "100%|██████████| 130/130 [00:15<00:00,  8.51it/s]\n",
      "100%|██████████| 15/15 [00:01<00:00, 13.81it/s]\n"
     ]
    },
    {
     "name": "stdout",
     "output_type": "stream",
     "text": [
      "train loss:  0.002893001357072287\n",
      "Val loss:  0.38782957338768503\n",
      "train accuracy:  0.9980657640232108\n",
      "Val accuracy:  0.5478260869565217\n",
      "Current time: 24.573 minutes. Time expected till completion: 6.143 minutes\n",
      "Epoch 81 of 100\n"
     ]
    },
    {
     "name": "stderr",
     "output_type": "stream",
     "text": [
      "100%|██████████| 130/130 [00:15<00:00,  8.37it/s]\n",
      "100%|██████████| 15/15 [00:01<00:00, 13.10it/s]\n"
     ]
    },
    {
     "name": "stdout",
     "output_type": "stream",
     "text": [
      "train loss:  0.002623190456187097\n",
      "Val loss:  0.35921020183874214\n",
      "train accuracy:  0.9980657640232108\n",
      "Val accuracy:  0.5652173913043478\n",
      "Current time: 24.851 minutes. Time expected till completion: 5.829 minutes\n",
      "Epoch 82 of 100\n"
     ]
    },
    {
     "name": "stderr",
     "output_type": "stream",
     "text": [
      "100%|██████████| 130/130 [00:15<00:00,  8.20it/s]\n",
      "100%|██████████| 15/15 [00:01<00:00, 14.12it/s]\n"
     ]
    },
    {
     "name": "stdout",
     "output_type": "stream",
     "text": [
      "train loss:  0.002684331493832962\n",
      "Val loss:  0.3870685612377913\n",
      "train accuracy:  0.9980657640232108\n",
      "Val accuracy:  0.5478260869565217\n",
      "Current time: 25.133 minutes. Time expected till completion: 5.517 minutes\n",
      "Epoch 83 of 100\n"
     ]
    },
    {
     "name": "stderr",
     "output_type": "stream",
     "text": [
      "100%|██████████| 130/130 [00:15<00:00,  8.55it/s]\n",
      "100%|██████████| 15/15 [00:01<00:00, 14.88it/s]\n"
     ]
    },
    {
     "name": "stdout",
     "output_type": "stream",
     "text": [
      "train loss:  0.002463586657892708\n",
      "Val loss:  0.38129893917104474\n",
      "train accuracy:  0.9980657640232108\n",
      "Val accuracy:  0.5478260869565217\n",
      "Current time: 25.403 minutes. Time expected till completion: 5.203 minutes\n",
      "Epoch 84 of 100\n"
     ]
    },
    {
     "name": "stderr",
     "output_type": "stream",
     "text": [
      "100%|██████████| 130/130 [00:15<00:00,  8.54it/s]\n",
      "100%|██████████| 15/15 [00:01<00:00, 14.95it/s]\n"
     ]
    },
    {
     "name": "stdout",
     "output_type": "stream",
     "text": [
      "train loss:  0.0028590760541519346\n",
      "Val loss:  0.3846494701893433\n",
      "train accuracy:  0.9970986460348162\n",
      "Val accuracy:  0.5739130434782609\n",
      "Current time: 25.674 minutes. Time expected till completion: 4.890 minutes\n",
      "Epoch 85 of 100\n"
     ]
    },
    {
     "name": "stderr",
     "output_type": "stream",
     "text": [
      "100%|██████████| 130/130 [00:15<00:00,  8.55it/s]\n",
      "100%|██████████| 15/15 [00:00<00:00, 15.18it/s]\n"
     ]
    },
    {
     "name": "stdout",
     "output_type": "stream",
     "text": [
      "train loss:  0.0024429130963184035\n",
      "Val loss:  0.38458555755407914\n",
      "train accuracy:  0.9970986460348162\n",
      "Val accuracy:  0.5478260869565217\n",
      "Current time: 25.944 minutes. Time expected till completion: 4.578 minutes\n",
      "Epoch 86 of 100\n"
     ]
    },
    {
     "name": "stderr",
     "output_type": "stream",
     "text": [
      "100%|██████████| 130/130 [00:15<00:00,  8.57it/s]\n",
      "100%|██████████| 15/15 [00:00<00:00, 15.35it/s]\n"
     ]
    },
    {
     "name": "stdout",
     "output_type": "stream",
     "text": [
      "train loss:  0.0024745685778291083\n",
      "Val loss:  0.374573963491813\n",
      "train accuracy:  0.9980657640232108\n",
      "Val accuracy:  0.5565217391304348\n",
      "Current time: 26.213 minutes. Time expected till completion: 4.267 minutes\n",
      "Epoch 87 of 100\n"
     ]
    },
    {
     "name": "stderr",
     "output_type": "stream",
     "text": [
      "100%|██████████| 130/130 [00:15<00:00,  8.57it/s]\n",
      "100%|██████████| 15/15 [00:00<00:00, 15.25it/s]\n"
     ]
    },
    {
     "name": "stdout",
     "output_type": "stream",
     "text": [
      "train loss:  0.002265622864128991\n",
      "Val loss:  0.3743549213461254\n",
      "train accuracy:  0.9980657640232108\n",
      "Val accuracy:  0.5478260869565217\n",
      "Current time: 26.482 minutes. Time expected till completion: 3.957 minutes\n",
      "Epoch 88 of 100\n"
     ]
    },
    {
     "name": "stderr",
     "output_type": "stream",
     "text": [
      "100%|██████████| 130/130 [00:15<00:00,  8.52it/s]\n",
      "100%|██████████| 15/15 [00:00<00:00, 15.01it/s]\n"
     ]
    },
    {
     "name": "stdout",
     "output_type": "stream",
     "text": [
      "train loss:  0.0014276195815030297\n",
      "Val loss:  0.37475716212521426\n",
      "train accuracy:  0.9990328820116054\n",
      "Val accuracy:  0.5391304347826087\n",
      "Current time: 26.753 minutes. Time expected till completion: 3.648 minutes\n",
      "Epoch 89 of 100\n"
     ]
    },
    {
     "name": "stderr",
     "output_type": "stream",
     "text": [
      "100%|██████████| 130/130 [00:15<00:00,  8.57it/s]\n",
      "100%|██████████| 15/15 [00:00<00:00, 15.01it/s]\n"
     ]
    },
    {
     "name": "stdout",
     "output_type": "stream",
     "text": [
      "train loss:  0.0013881309954163563\n",
      "Val loss:  0.38229875383169754\n",
      "train accuracy:  0.9990328820116054\n",
      "Val accuracy:  0.5565217391304348\n",
      "Current time: 27.023 minutes. Time expected till completion: 3.340 minutes\n",
      "Epoch 90 of 100\n"
     ]
    },
    {
     "name": "stderr",
     "output_type": "stream",
     "text": [
      "100%|██████████| 130/130 [00:15<00:00,  8.35it/s]\n",
      "100%|██████████| 15/15 [00:00<00:00, 15.15it/s]\n"
     ]
    },
    {
     "name": "stdout",
     "output_type": "stream",
     "text": [
      "train loss:  0.0015785855970362212\n",
      "Val loss:  0.38833922257889875\n",
      "train accuracy:  0.9990328820116054\n",
      "Val accuracy:  0.5652173913043478\n",
      "Current time: 27.299 minutes. Time expected till completion: 3.033 minutes\n",
      "Epoch 91 of 100\n"
     ]
    },
    {
     "name": "stderr",
     "output_type": "stream",
     "text": [
      "100%|██████████| 130/130 [00:15<00:00,  8.41it/s]\n",
      "100%|██████████| 15/15 [00:01<00:00, 13.14it/s]\n"
     ]
    },
    {
     "name": "stdout",
     "output_type": "stream",
     "text": [
      "train loss:  0.0021827357716572866\n",
      "Val loss:  0.37919449274954586\n",
      "train accuracy:  0.9980657640232108\n",
      "Val accuracy:  0.5739130434782609\n",
      "Current time: 27.576 minutes. Time expected till completion: 2.727 minutes\n",
      "Epoch 92 of 100\n"
     ]
    },
    {
     "name": "stderr",
     "output_type": "stream",
     "text": [
      "100%|██████████| 130/130 [00:15<00:00,  8.35it/s]\n",
      "100%|██████████| 15/15 [00:01<00:00, 14.89it/s]\n"
     ]
    },
    {
     "name": "stdout",
     "output_type": "stream",
     "text": [
      "train loss:  0.0020874086420243827\n",
      "Val loss:  0.3828108768100324\n",
      "train accuracy:  0.9980657640232108\n",
      "Val accuracy:  0.5304347826086957\n",
      "Current time: 27.853 minutes. Time expected till completion: 2.422 minutes\n",
      "Epoch 93 of 100\n"
     ]
    },
    {
     "name": "stderr",
     "output_type": "stream",
     "text": [
      "100%|██████████| 130/130 [00:15<00:00,  8.22it/s]\n",
      "100%|██████████| 15/15 [00:01<00:00, 14.64it/s]\n"
     ]
    },
    {
     "name": "stdout",
     "output_type": "stream",
     "text": [
      "train loss:  0.0021240624121056572\n",
      "Val loss:  0.38242197691098506\n",
      "train accuracy:  0.9980657640232108\n",
      "Val accuracy:  0.5565217391304348\n",
      "Current time: 28.133 minutes. Time expected till completion: 2.118 minutes\n",
      "Epoch 94 of 100\n"
     ]
    },
    {
     "name": "stderr",
     "output_type": "stream",
     "text": [
      "100%|██████████| 130/130 [00:15<00:00,  8.13it/s]\n",
      "100%|██████████| 15/15 [00:01<00:00, 14.43it/s]\n"
     ]
    },
    {
     "name": "stdout",
     "output_type": "stream",
     "text": [
      "train loss:  0.0019252568467759312\n",
      "Val loss:  0.3897499764095182\n",
      "train accuracy:  0.9980657640232108\n",
      "Val accuracy:  0.5391304347826087\n",
      "Current time: 28.417 minutes. Time expected till completion: 1.814 minutes\n",
      "Epoch 95 of 100\n"
     ]
    },
    {
     "name": "stderr",
     "output_type": "stream",
     "text": [
      "100%|██████████| 130/130 [00:15<00:00,  8.23it/s]\n",
      "100%|██████████| 15/15 [00:01<00:00, 14.36it/s]\n"
     ]
    },
    {
     "name": "stdout",
     "output_type": "stream",
     "text": [
      "train loss:  0.0012209318436298751\n",
      "Val loss:  0.38351212273473323\n",
      "train accuracy:  0.9990328820116054\n",
      "Val accuracy:  0.5652173913043478\n",
      "Current time: 28.698 minutes. Time expected till completion: 1.510 minutes\n",
      "Epoch 96 of 100\n"
     ]
    },
    {
     "name": "stderr",
     "output_type": "stream",
     "text": [
      "100%|██████████| 130/130 [00:16<00:00,  8.08it/s]\n",
      "100%|██████████| 15/15 [00:01<00:00, 13.46it/s]\n"
     ]
    },
    {
     "name": "stdout",
     "output_type": "stream",
     "text": [
      "train loss:  0.0013030644115425351\n",
      "Val loss:  0.3977125206719274\n",
      "train accuracy:  0.9990328820116054\n",
      "Val accuracy:  0.5478260869565217\n",
      "Current time: 28.985 minutes. Time expected till completion: 1.208 minutes\n",
      "Epoch 97 of 100\n"
     ]
    },
    {
     "name": "stderr",
     "output_type": "stream",
     "text": [
      "100%|██████████| 130/130 [00:16<00:00,  7.83it/s]\n",
      "100%|██████████| 15/15 [00:01<00:00, 12.68it/s]\n"
     ]
    },
    {
     "name": "stdout",
     "output_type": "stream",
     "text": [
      "train loss:  0.0012738692142314414\n",
      "Val loss:  0.3996190581632697\n",
      "train accuracy:  0.9990328820116054\n",
      "Val accuracy:  0.5478260869565217\n",
      "Current time: 29.282 minutes. Time expected till completion: 0.906 minutes\n",
      "Epoch 98 of 100\n"
     ]
    },
    {
     "name": "stderr",
     "output_type": "stream",
     "text": [
      "100%|██████████| 130/130 [00:16<00:00,  7.86it/s]\n",
      "100%|██████████| 15/15 [00:01<00:00, 14.39it/s]\n"
     ]
    },
    {
     "name": "stdout",
     "output_type": "stream",
     "text": [
      "train loss:  0.0019291156840254417\n",
      "Val loss:  0.39472285327704054\n",
      "train accuracy:  0.9980657640232108\n",
      "Val accuracy:  0.5478260869565217\n",
      "Current time: 29.575 minutes. Time expected till completion: 0.604 minutes\n",
      "Epoch 99 of 100\n"
     ]
    },
    {
     "name": "stderr",
     "output_type": "stream",
     "text": [
      "100%|██████████| 130/130 [00:15<00:00,  8.40it/s]\n",
      "100%|██████████| 15/15 [00:01<00:00, 13.93it/s]\n"
     ]
    },
    {
     "name": "stdout",
     "output_type": "stream",
     "text": [
      "train loss:  0.0010586041138826948\n",
      "Val loss:  0.41318259783413097\n",
      "train accuracy:  0.9990328820116054\n",
      "Val accuracy:  0.5304347826086957\n",
      "Current time: 29.851 minutes. Time expected till completion: 0.302 minutes\n",
      "Epoch 100 of 100\n"
     ]
    },
    {
     "name": "stderr",
     "output_type": "stream",
     "text": [
      "100%|██████████| 130/130 [00:15<00:00,  8.25it/s]\n",
      "100%|██████████| 15/15 [00:01<00:00, 10.13it/s]\n"
     ]
    },
    {
     "name": "stdout",
     "output_type": "stream",
     "text": [
      "train loss:  0.0015592862628234822\n",
      "Val loss:  0.3869271993637085\n",
      "train accuracy:  0.9980657640232108\n",
      "Val accuracy:  0.5565217391304348\n",
      "Saving model 2 checkpoint\n"
     ]
    },
    {
     "data": {
      "image/png": "[encoded data removed]",
      "text/plain": [
       "<Figure size 1500x600 with 2 Axes>"
      ]
     },
     "metadata": {},
     "output_type": "display_data"
    },
    {
     "data": {
      "image/png": "[encoded data removed]",
      "text/plain": [
       "<Figure size 1500x600 with 2 Axes>"
      ]
     },
     "metadata": {},
     "output_type": "display_data"
    },
    {
     "name": "stdout",
     "output_type": "stream",
     "text": [
      "Current time: 30.380 minutes. Time expected till completion: 0.000 minutes\n",
      "Finished training in: 30.380 minutes\n"
     ]
    }
   ],
   "source": [
    "\n",
    "best_model_val_acc = -1\n",
    "\n",
    "train_loss, val_loss = [], []\n",
    "train_accuracy, val_accuracy = [], []\n",
    "\n",
    "# Load checkpoints\n",
    "names = os.listdir(model_checkpoints)\n",
    "for elem in names:\n",
    "    if(elem==\"metrics_losss_accuracy_m2.csv\"):\n",
    "        print(\"Loading Metrics\")\n",
    "        dd = pd.read_csv(model_checkpoints + \"metrics_losss_accuracy_m2.csv\")\n",
    "        train_loss = dd[\"train_loss\"].tolist()\n",
    "        val_loss = dd[\"val_loss\"].tolist()\n",
    "        train_accuracy = dd[\"train_accuracy\"].tolist()\n",
    "        val_accuracy = dd[\"val_accuracy\"].tolist()\n",
    "\n",
    "# count time\n",
    "start = time.time()\n",
    "for epoch in range(model_epoch_m2_check, model_epochs):\n",
    "    # Print current epoch\n",
    "    print(f\"Epoch {epoch + 1} of {model_epochs}\")\n",
    "    \n",
    "    if(epoch%10 == 0):\n",
    "        update_optimizer(optimizer_2, 0.001)\n",
    "        \n",
    "    ############################################################################\n",
    "    ################################ Train model ############################### \n",
    "    ############################################################################\n",
    "    modelpy.train()\n",
    "    running_loss=0\n",
    "    total=0\n",
    "    correct=0\n",
    "    # loop for every training batch (one epoch)\n",
    "    for bi, data in tqdm(enumerate(train_loader), total=len(train_loader)): # use tqdm package to track running time\n",
    "        \n",
    "        # Get the tensors\n",
    "        images = data[0].to(device)# use the gpu\n",
    "        labels = data[1].to(device)# use the gpu\n",
    "        \n",
    "        # Optimize second model\n",
    "        \n",
    "        #create the output from the CNN base on the give batch images\n",
    "        out_m2 = modelpy(images)\n",
    "        # count the loss function \n",
    "        loss_2 = criterion_2(out_m2, labels)    \n",
    "        \n",
    "        # BackPropagate on model 2\n",
    "        ######################\n",
    "        optimizer_2.zero_grad()\n",
    "        ######################\n",
    "        # count the backpropagation\n",
    "        loss_2.backward()\n",
    "        # learning\n",
    "        optimizer_2.step()\n",
    "        \n",
    "        \n",
    "        \n",
    "        # add new value to the main loss\n",
    "        running_loss += loss_2.item()\n",
    "        \n",
    "        # calculate accuracy\n",
    "        predictions = torch.argmax(out_m2, dim=1)\n",
    "        total += labels.size(0)\n",
    "        correct +=(predictions == labels).sum().item()\n",
    "        \n",
    "        \n",
    "    train_epoch_loss = running_loss/len(train_loader.dataset)\n",
    "    \n",
    "    train_epoch_accuracy = correct/total\n",
    "    \n",
    "    ############################################################################\n",
    "    ################################ Eval model ################################ \n",
    "    ############################################################################\n",
    "    modelpy.eval()\n",
    "    running_loss = 0.0\n",
    "    correct=0\n",
    "    total=0\n",
    "    with torch.no_grad():\n",
    "        for bi, data in tqdm(enumerate(valid_loader), total=len(valid_loader)):\n",
    "            # Get the tensors\n",
    "            images = data[0].to(device)# use the gpu\n",
    "            label = data[1].to(device)# use the gpu\n",
    "            \n",
    "            #create the output from the CNN base on the give batch images\n",
    "            outputs = modelpy(images)\n",
    "            # count the loss function\n",
    "            loss = criterion_2(outputs, label)\n",
    "            \n",
    "            # Add loss of each item (total items in a batch = batch size) .\n",
    "            running_loss += loss.item()\n",
    "            \n",
    "            # calculate accuracy\n",
    "            predictions = torch.argmax(outputs, dim=1)\n",
    "            total += label.size(0)\n",
    "            correct +=(predictions == label).sum().item()\n",
    "            \n",
    "    val_epoch_loss = running_loss/len(valid_loader.dataset) \n",
    "    val_epoch_accuracy = correct/total\n",
    "    \n",
    "    \n",
    "    print(\"train loss: \", train_epoch_loss)\n",
    "    print(\"Val loss: \", val_epoch_loss)\n",
    "    print(\"train accuracy: \", train_epoch_accuracy)\n",
    "    print(\"Val accuracy: \", val_epoch_accuracy)\n",
    "\n",
    "    \n",
    "    # save results\n",
    "    train_loss.append(train_epoch_loss)\n",
    "    val_loss.append(val_epoch_loss)\n",
    "    train_accuracy.append(train_epoch_accuracy)\n",
    "    val_accuracy.append(val_epoch_accuracy)\n",
    "    \n",
    "    # Save best model\n",
    "    if(best_model_val_acc < val_epoch_accuracy):\n",
    "        print(f\"Best model at the moment with Val_acc {round(val_epoch_accuracy*100,2)}, saving...\")\n",
    "        # Save Model\n",
    "        bestmodel_name = \"model_2_bestModel.pt\"\n",
    "        torch.save(modelpy, PATH+bestmodel_name)\n",
    "        best_model_val_acc = val_epoch_accuracy\n",
    "    \n",
    "    # Save model with all information every 100 epochs. Can be used \n",
    "    # resuming training. optim\n",
    "    if (epoch+1) % checkpoints_save == 0: # checkpoints_save\n",
    "        \n",
    "        end = time.time()\n",
    "        time_elapsed = (end-start)+previous_time\n",
    "        \n",
    "        # Save Model\n",
    "        print(\"Saving model 2 checkpoint\")\n",
    "        save_model(epoch, time_elapsed, modelpy, optimizer_2, criterion_2, path = model_checkpoints + \"model_ckpt_m2.pth\")\n",
    "        # save the metrics\n",
    "        save_metrics(train_loss, val_loss, train_accuracy, val_accuracy, path = model_checkpoints + \"metrics_losss_accuracy_m2.csv\")\n",
    "        \n",
    "        # save model at epoch\n",
    "        save_model(epoch, time_elapsed, modelpy, optimizer_2, criterion_2, path = model_checkpoints + \"model_ckpt_m2_\"+str(epoch+1)+\".pth\")\n",
    "        \n",
    "        \n",
    "        # Check the evolution at this point\n",
    "        plot_loss_accuracy(train_loss, val_loss, train_accuracy, val_accuracy)\n",
    "        \n",
    "        \n",
    "    ep_time = time.time()\n",
    "    print(f\"Current time: {(((ep_time-start)+previous_time)/60):.3f} minutes. Time expected till completion: {(((((ep_time-start)+previous_time)/(epoch + 1)) * (model_epochs-(epoch + 1)))/60):.3f} minutes\")\n",
    "    \n",
    "end = time.time()\n",
    "print(f\"Finished training in: {(((end-start)+previous_time)/60):.3f} minutes\") "
   ]
  },
  {
   "cell_type": "code",
   "execution_count": 18,
   "id": "4e5ed21a",
   "metadata": {},
   "outputs": [
    {
     "data": {
      "text/plain": [
       "0.6086956521739131"
      ]
     },
     "execution_count": 18,
     "metadata": {},
     "output_type": "execute_result"
    }
   ],
   "source": [
    "best_model_val_acc"
   ]
  },
  {
   "cell_type": "code",
   "execution_count": 19,
   "id": "ed221571",
   "metadata": {},
   "outputs": [
    {
     "data": {
      "image/png": "[encoded data removed]",
      "text/plain": [
       "<Figure size 1500x600 with 2 Axes>"
      ]
     },
     "metadata": {},
     "output_type": "display_data"
    },
    {
     "data": {
      "image/png": "[encoded data removed]",
      "text/plain": [
       "<Figure size 1500x600 with 2 Axes>"
      ]
     },
     "metadata": {},
     "output_type": "display_data"
    }
   ],
   "source": [
    "plot_loss_accuracy(train_loss, val_loss, train_accuracy, val_accuracy)"
   ]
  },
  {
   "cell_type": "markdown",
   "id": "bd64aa02",
   "metadata": {},
   "source": [
    "## Save model"
   ]
  },
  {
   "cell_type": "code",
   "execution_count": 20,
   "id": "1372dc3b",
   "metadata": {},
   "outputs": [],
   "source": [
    "# Save Model\n",
    "NAME2 = \"model_2.pt\"\n",
    "\n",
    "torch.save(modelpy, PATH+NAME2)"
   ]
  },
  {
   "cell_type": "markdown",
   "id": "659394e6",
   "metadata": {},
   "source": [
    "# Load Last Model"
   ]
  },
  {
   "cell_type": "code",
   "execution_count": 21,
   "id": "cec94a4a",
   "metadata": {},
   "outputs": [
    {
     "data": {
      "text/plain": [
       "ClassificationNet(\n",
       "  (model_fe): Sequential(\n",
       "    (0): Sequential(\n",
       "      (0): Conv2d(3, 64, kernel_size=(11, 11), stride=(4, 4), padding=(2, 2))\n",
       "      (1): ReLU(inplace=True)\n",
       "      (2): MaxPool2d(kernel_size=3, stride=2, padding=0, dilation=1, ceil_mode=False)\n",
       "      (3): Conv2d(64, 192, kernel_size=(5, 5), stride=(1, 1), padding=(2, 2))\n",
       "      (4): ReLU(inplace=True)\n",
       "      (5): MaxPool2d(kernel_size=3, stride=2, padding=0, dilation=1, ceil_mode=False)\n",
       "      (6): Conv2d(192, 384, kernel_size=(3, 3), stride=(1, 1), padding=(1, 1))\n",
       "      (7): ReLU(inplace=True)\n",
       "      (8): Conv2d(384, 256, kernel_size=(3, 3), stride=(1, 1), padding=(1, 1))\n",
       "      (9): ReLU(inplace=True)\n",
       "      (10): Conv2d(256, 256, kernel_size=(3, 3), stride=(1, 1), padding=(1, 1))\n",
       "      (11): ReLU(inplace=True)\n",
       "      (12): MaxPool2d(kernel_size=3, stride=2, padding=0, dilation=1, ceil_mode=False)\n",
       "    )\n",
       "    (1): AdaptiveAvgPool2d(output_size=(6, 6))\n",
       "  )\n",
       "  (flatten): Flatten(start_dim=1, end_dim=-1)\n",
       "  (last_classifier): Linear(in_features=9216, out_features=4, bias=True)\n",
       ")"
      ]
     },
     "execution_count": 21,
     "metadata": {},
     "output_type": "execute_result"
    }
   ],
   "source": [
    "# Load the model\n",
    "NAME = \"model_2.pt\"\n",
    "modelpy = torch.load(PATH+NAME, map_location=device)\n",
    "modelpy.eval()"
   ]
  },
  {
   "cell_type": "markdown",
   "id": "c59a28ee",
   "metadata": {},
   "source": [
    "## Evaluate Last Model"
   ]
  },
  {
   "cell_type": "code",
   "execution_count": 22,
   "id": "f3ae8b5b",
   "metadata": {},
   "outputs": [],
   "source": [
    "def accuracy_given_set(mm2, valid_loader, device, name=\"Validation\"):\n",
    "    # Evaluate the Validation Set\n",
    "    mm2.eval()\n",
    "    correct = 0\n",
    "    total = 0\n",
    "    with torch.no_grad():\n",
    "        for bi, data in tqdm(enumerate(valid_loader), total=len(valid_loader)):\n",
    "            new_images = data[0].to(device)\n",
    "\n",
    "            outputs = mm2(new_images)\n",
    "            predictions = torch.argmax(outputs, dim=1)\n",
    "\n",
    "            total += data[1].size(0)\n",
    "            correct +=(predictions == data[1].to(device)).sum().item()\n",
    "        \n",
    "    print(f'Accuracy of the network on the {total} {name} instances: {100 * correct / total}%')"
   ]
  },
  {
   "cell_type": "code",
   "execution_count": 23,
   "id": "22395e00",
   "metadata": {},
   "outputs": [
    {
     "name": "stderr",
     "output_type": "stream",
     "text": [
      "100%|██████████| 130/130 [00:09<00:00, 14.30it/s]\n"
     ]
    },
    {
     "name": "stdout",
     "output_type": "stream",
     "text": [
      "Accuracy of the network on the 1034 Train instances: 99.90328820116054%\n"
     ]
    },
    {
     "name": "stderr",
     "output_type": "stream",
     "text": [
      "100%|██████████| 15/15 [00:00<00:00, 15.06it/s]"
     ]
    },
    {
     "name": "stdout",
     "output_type": "stream",
     "text": [
      "Accuracy of the network on the 115 Validation instances: 55.65217391304348%\n"
     ]
    },
    {
     "name": "stderr",
     "output_type": "stream",
     "text": [
      "\n"
     ]
    }
   ],
   "source": [
    "# Calculate accuracy for Validation and Train sets\n",
    "accuracy_given_set(modelpy, train_loader, device, name=\"Train\")\n",
    "accuracy_given_set(modelpy, valid_loader, device, name=\"Validation\")"
   ]
  },
  {
   "cell_type": "markdown",
   "id": "684ca86a",
   "metadata": {},
   "source": [
    "## Test Predictions Last Model"
   ]
  },
  {
   "cell_type": "code",
   "execution_count": 24,
   "id": "bf9cecb3",
   "metadata": {},
   "outputs": [],
   "source": [
    "def make_predictions(mm2, loader, device):\n",
    "    # Evaluate the Validation Set\n",
    "    mm2.eval()\n",
    "    predictions_list = []\n",
    "    name_list = []\n",
    "    \n",
    "    with torch.no_grad():\n",
    "        for bi, data in tqdm(enumerate(loader), total=len(loader)):\n",
    "            new_images = data[0].to(device)\n",
    "        \n",
    "            outputs = mm2(new_images)\n",
    "            predictions = torch.argmax(outputs, dim=1)\n",
    "        \n",
    "            predictions_list.append(predictions[0].item())\n",
    "            name_list.append(data[1][0])\n",
    "        \n",
    "    return(predictions_list, name_list)"
   ]
  },
  {
   "cell_type": "code",
   "execution_count": 25,
   "id": "9e74681b",
   "metadata": {},
   "outputs": [
    {
     "name": "stderr",
     "output_type": "stream",
     "text": [
      "100%|██████████| 380/380 [00:09<00:00, 38.49it/s]\n"
     ]
    },
    {
     "data": {
      "text/plain": [
       "(array([0, 1, 2, 3]), array([164, 160,  52,   4], dtype=int64))"
      ]
     },
     "execution_count": 25,
     "metadata": {},
     "output_type": "execute_result"
    }
   ],
   "source": [
    "pred, names = make_predictions(modelpy, test_loader, device)\n",
    "\n",
    "np.unique(np.array(pred),return_counts=True)"
   ]
  },
  {
   "cell_type": "code",
   "execution_count": 26,
   "id": "7c810cb5",
   "metadata": {},
   "outputs": [],
   "source": [
    "save_predictions_as_csv(names, pred, name=\"GGC_plus_clas_v02_AlexNet_prediction.csv\")"
   ]
  },
  {
   "attachments": {
    "image.png": {
     "image/png": "[encoded data removed]"
    }
   },
   "cell_type": "markdown",
   "id": "de614b36",
   "metadata": {},
   "source": [
    "![image.png](attachment:image.png)"
   ]
  },
  {
   "cell_type": "markdown",
   "id": "40cafa2a",
   "metadata": {},
   "source": [
    "# Load Best Model"
   ]
  },
  {
   "cell_type": "code",
   "execution_count": 27,
   "id": "7ec7342e",
   "metadata": {},
   "outputs": [
    {
     "data": {
      "text/plain": [
       "ClassificationNet(\n",
       "  (model_fe): Sequential(\n",
       "    (0): Sequential(\n",
       "      (0): Conv2d(3, 64, kernel_size=(11, 11), stride=(4, 4), padding=(2, 2))\n",
       "      (1): ReLU(inplace=True)\n",
       "      (2): MaxPool2d(kernel_size=3, stride=2, padding=0, dilation=1, ceil_mode=False)\n",
       "      (3): Conv2d(64, 192, kernel_size=(5, 5), stride=(1, 1), padding=(2, 2))\n",
       "      (4): ReLU(inplace=True)\n",
       "      (5): MaxPool2d(kernel_size=3, stride=2, padding=0, dilation=1, ceil_mode=False)\n",
       "      (6): Conv2d(192, 384, kernel_size=(3, 3), stride=(1, 1), padding=(1, 1))\n",
       "      (7): ReLU(inplace=True)\n",
       "      (8): Conv2d(384, 256, kernel_size=(3, 3), stride=(1, 1), padding=(1, 1))\n",
       "      (9): ReLU(inplace=True)\n",
       "      (10): Conv2d(256, 256, kernel_size=(3, 3), stride=(1, 1), padding=(1, 1))\n",
       "      (11): ReLU(inplace=True)\n",
       "      (12): MaxPool2d(kernel_size=3, stride=2, padding=0, dilation=1, ceil_mode=False)\n",
       "    )\n",
       "    (1): AdaptiveAvgPool2d(output_size=(6, 6))\n",
       "  )\n",
       "  (flatten): Flatten(start_dim=1, end_dim=-1)\n",
       "  (last_classifier): Linear(in_features=9216, out_features=4, bias=True)\n",
       ")"
      ]
     },
     "execution_count": 27,
     "metadata": {},
     "output_type": "execute_result"
    }
   ],
   "source": [
    "# Load the model\n",
    "NAME = \"model_2_bestModel.pt\"\n",
    "modelpy_bestModel = torch.load(PATH+NAME, map_location=device)\n",
    "modelpy_bestModel.eval()"
   ]
  },
  {
   "cell_type": "markdown",
   "id": "f0364695",
   "metadata": {},
   "source": [
    "## Evaluate Best Model"
   ]
  },
  {
   "cell_type": "code",
   "execution_count": 28,
   "id": "bea07e43",
   "metadata": {},
   "outputs": [
    {
     "name": "stderr",
     "output_type": "stream",
     "text": [
      "100%|██████████| 130/130 [00:09<00:00, 13.88it/s]\n"
     ]
    },
    {
     "name": "stdout",
     "output_type": "stream",
     "text": [
      "Accuracy of the network on the 1034 Train instances: 82.1083172147002%\n"
     ]
    },
    {
     "name": "stderr",
     "output_type": "stream",
     "text": [
      "100%|██████████| 15/15 [00:01<00:00, 13.12it/s]"
     ]
    },
    {
     "name": "stdout",
     "output_type": "stream",
     "text": [
      "Accuracy of the network on the 115 Validation instances: 60.869565217391305%\n"
     ]
    },
    {
     "name": "stderr",
     "output_type": "stream",
     "text": [
      "\n"
     ]
    }
   ],
   "source": [
    "# Calculate accuracy for Validation and Train sets\n",
    "accuracy_given_set(modelpy_bestModel, train_loader, device, name=\"Train\")\n",
    "accuracy_given_set(modelpy_bestModel, valid_loader, device, name=\"Validation\")"
   ]
  },
  {
   "cell_type": "markdown",
   "id": "d9849f30",
   "metadata": {},
   "source": [
    "## Test Predictions Best Model"
   ]
  },
  {
   "cell_type": "code",
   "execution_count": 29,
   "id": "6ab75bc9",
   "metadata": {},
   "outputs": [
    {
     "name": "stderr",
     "output_type": "stream",
     "text": [
      "100%|██████████| 380/380 [00:04<00:00, 77.98it/s]\n"
     ]
    },
    {
     "data": {
      "text/plain": [
       "(array([0, 1, 2]), array([188, 157,  35], dtype=int64))"
      ]
     },
     "execution_count": 29,
     "metadata": {},
     "output_type": "execute_result"
    }
   ],
   "source": [
    "pred, names = make_predictions(modelpy_bestModel, test_loader, device)\n",
    "\n",
    "np.unique(np.array(pred),return_counts=True)"
   ]
  },
  {
   "cell_type": "code",
   "execution_count": 30,
   "id": "0e32a2e4",
   "metadata": {},
   "outputs": [],
   "source": [
    "save_predictions_as_csv(names, pred, name=\"GGC_plus_clas_v02_AlexNet_best_prediction.csv\")"
   ]
  },
  {
   "attachments": {
    "image.png": {
     "image/png": "[encoded data removed]"
    }
   },
   "cell_type": "markdown",
   "id": "f60af6e1",
   "metadata": {},
   "source": [
    "![image.png](attachment:image.png)"
   ]
  },
  {
   "cell_type": "code",
   "execution_count": null,
   "id": "801e8f11",
   "metadata": {},
   "outputs": [],
   "source": []
  }
 ],
 "metadata": {
  "kernelspec": {
   "display_name": "Python 3 (ipykernel)",
   "language": "python",
   "name": "python3"
  },
  "language_info": {
   "codemirror_mode": {
    "name": "ipython",
    "version": 3
   },
   "file_extension": ".py",
   "mimetype": "text/x-python",
   "name": "python",
   "nbconvert_exporter": "python",
   "pygments_lexer": "ipython3",
   "version": "3.8.13"
  }
 },
 "nbformat": 4,
 "nbformat_minor": 5
}
