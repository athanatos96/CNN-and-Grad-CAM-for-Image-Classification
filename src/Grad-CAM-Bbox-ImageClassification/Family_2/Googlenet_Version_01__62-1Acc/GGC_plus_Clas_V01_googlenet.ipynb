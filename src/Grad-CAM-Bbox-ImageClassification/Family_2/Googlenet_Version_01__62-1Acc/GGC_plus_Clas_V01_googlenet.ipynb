{
 "cells": [
  {
   "cell_type": "code",
   "execution_count": 1,
   "id": "2dcb1ca1",
   "metadata": {},
   "outputs": [
    {
     "name": "stderr",
     "output_type": "stream",
     "text": [
      "D:\\Users\\Alex\\anaconda3\\lib\\site-packages\\scipy\\__init__.py:146: UserWarning: A NumPy version >=1.16.5 and <1.23.0 is required for this version of SciPy (detected version 1.23.4\n",
      "  warnings.warn(f\"A NumPy version >={np_minversion} and <{np_maxversion}\"\n"
     ]
    }
   ],
   "source": [
    "import os\n",
    "import time\n",
    "import numpy as np\n",
    "import pandas as pd\n",
    "from tqdm import tqdm\n",
    "\n",
    "from sklearn.model_selection import train_test_split"
   ]
  },
  {
   "cell_type": "code",
   "execution_count": 2,
   "id": "cca0c3fb",
   "metadata": {},
   "outputs": [],
   "source": [
    "import torch\n",
    "import torch.nn as nn\n",
    "#from torch.nn import functional as F\n",
    "from torch.utils.data import DataLoader\n",
    "from torchvision import models\n",
    "\n",
    "import torchvision.transforms as transforms"
   ]
  },
  {
   "cell_type": "code",
   "execution_count": 3,
   "id": "71f1c203",
   "metadata": {},
   "outputs": [],
   "source": [
    "from functions import(import_train_folder_dataset,\n",
    "                      Data,\n",
    "                      import_test_folder_dataset,\n",
    "                      Data_test,\n",
    "                      plot_loss_accuracy,\n",
    "                      save_model,\n",
    "                      save_metrics,\n",
    "                      save_predictions_as_csv\n",
    "                     )"
   ]
  },
  {
   "cell_type": "markdown",
   "id": "0718e13c",
   "metadata": {},
   "source": [
    "# Variables"
   ]
  },
  {
   "cell_type": "code",
   "execution_count": 4,
   "id": "3db7e115",
   "metadata": {},
   "outputs": [
    {
     "name": "stdout",
     "output_type": "stream",
     "text": [
      "cuda\n"
     ]
    }
   ],
   "source": [
    "model_epochs = 100 # 100\n",
    "\n",
    "lr = 0.006 # Learning rate.\n",
    "                            \n",
    "#torch.cuda.empty_cache()\n",
    "device = 'cuda' if torch.cuda.is_available() else 'cpu'\n",
    "print(device)\n",
    "\n",
    "\n",
    "TRAIN_BATCH_SIZE = 8\n",
    "TEST_BATCH_SIZE = 8\n",
    "\n",
    "checkpoints_save = 100 # Save after 50 epochs\n",
    "\n",
    "model_checkpoints = \"D:/Personal/Alex/Uni/MS IA/2 Curso/Fall 2022/Artificial Intelligence/Projects/Project 1/CheckPoints/\"\n",
    "PATH = \"D:\\\\Personal\\\\Alex\\\\Uni\\\\MS IA\\\\2 Curso\\\\Fall 2022\\Artificial Intelligence\\\\Projects\\\\Project 1\\\\Models Save\\\\GoogleNet_CAM-Plus-ImgClass\\\\\"\n",
    "\n",
    "# Path of the Data files\n",
    "train_data_path = \"D:/Personal/Alex/Uni/MS IA/2 Curso/Fall 2022/Artificial Intelligence/Projects/Project 1/data/Croped/Train\"\n",
    "test_data_path = \"D:/Personal/Alex/Uni/MS IA/2 Curso/Fall 2022/Artificial Intelligence/Projects/Project 1/data/Croped/Test\""
   ]
  },
  {
   "cell_type": "markdown",
   "id": "15fd7f21",
   "metadata": {},
   "source": [
    "# Import Data"
   ]
  },
  {
   "cell_type": "code",
   "execution_count": 5,
   "id": "87640fcf",
   "metadata": {},
   "outputs": [],
   "source": [
    "img_transform = transforms.Compose([transforms.ToPILImage(),\n",
    "                                    transforms.RandomRotation((-20,20)),\n",
    "                                    transforms.Resize((400, 400)),\n",
    "                                    transforms.RandomHorizontalFlip(),\n",
    "                                    transforms.ToTensor(),\n",
    "                                    transforms.Normalize((0.485, 0.456, 0.406), (0.229, 0.224, 0.225))])\n",
    "\n",
    "\n",
    "img_transform_val = transforms.Compose([transforms.ToPILImage(),\n",
    "                                        transforms.Resize((400, 400)),\n",
    "                                        transforms.ToTensor(),\n",
    "                                        transforms.Normalize((0.485, 0.456, 0.406), (0.229, 0.224, 0.225))])\n",
    "\n",
    "\n",
    "invTrans = transforms.Compose([ transforms.Normalize(mean = [ 0., 0., 0. ],\n",
    "                                                     std = [ 1/0.229, 1/0.224, 1/0.225 ]),\n",
    "                                transforms.Normalize(mean = [ -0.485, -0.456, -0.406 ],\n",
    "                                                     std = [ 1., 1., 1. ]),\n",
    "                               ])"
   ]
  },
  {
   "cell_type": "markdown",
   "id": "08d4aa62",
   "metadata": {},
   "source": [
    "## Train-Val data"
   ]
  },
  {
   "cell_type": "code",
   "execution_count": 6,
   "id": "8a919ef7",
   "metadata": {},
   "outputs": [
    {
     "name": "stdout",
     "output_type": "stream",
     "text": [
      "Train Dim of Data:  (1149, 400, 400, 3)\n",
      "Train Dim of Lables:  (1149,)\n"
     ]
    }
   ],
   "source": [
    "# Import the data\n",
    "train_data, train_labels = import_train_folder_dataset(train_data_path)\n",
    "print(\"Train Dim of Data: \", train_data.shape)\n",
    "print(\"Train Dim of Lables: \", train_labels.shape)"
   ]
  },
  {
   "cell_type": "code",
   "execution_count": 7,
   "id": "faef9154",
   "metadata": {},
   "outputs": [
    {
     "name": "stdout",
     "output_type": "stream",
     "text": [
      "Dim of Data:  (1034, 400, 400, 3)\n",
      "Dim of Lables:  (1034,)\n",
      "Dim of X_test:  (115, 400, 400, 3)\n",
      "Dim of y_test:  (115,)\n"
     ]
    }
   ],
   "source": [
    "# Split into Train, Validation\n",
    "X_train, X_val, y_train, y_val = train_test_split(train_data, train_labels, test_size=0.1, random_state=1)\n",
    "print(\"Dim of Data: \", X_train.shape)\n",
    "print(\"Dim of Lables: \", y_train.shape)\n",
    "print(\"Dim of X_test: \", X_val.shape)\n",
    "print(\"Dim of y_test: \", y_val.shape)"
   ]
  },
  {
   "cell_type": "code",
   "execution_count": 8,
   "id": "57ba1413",
   "metadata": {},
   "outputs": [
    {
     "name": "stdout",
     "output_type": "stream",
     "text": [
      "Train len:  1034\n",
      "Val len:  115\n"
     ]
    }
   ],
   "source": [
    "# Create the dataset object\n",
    "train_Dataset = Data(X_train, y_train, img_transform) # img_transform_2 img_transform\n",
    "val_Dataset = Data(X_val, y_val, img_transform_val)\n",
    "\n",
    "print(\"Train len: \",len(train_Dataset))\n",
    "print(\"Val len: \",len(val_Dataset))"
   ]
  },
  {
   "cell_type": "code",
   "execution_count": 9,
   "id": "84e8a189",
   "metadata": {},
   "outputs": [],
   "source": [
    "# Create the dataloaders\n",
    "train_loader = DataLoader(\n",
    "    train_Dataset, \n",
    "    batch_size=TRAIN_BATCH_SIZE,             \n",
    "    shuffle=True)\n",
    "\n",
    "valid_loader = DataLoader(\n",
    "    val_Dataset, \n",
    "    batch_size=TEST_BATCH_SIZE,\n",
    "    shuffle=False\n",
    "    )"
   ]
  },
  {
   "cell_type": "markdown",
   "id": "84335faa",
   "metadata": {},
   "source": [
    "## Test Data"
   ]
  },
  {
   "cell_type": "code",
   "execution_count": 10,
   "id": "aaa86a20",
   "metadata": {},
   "outputs": [
    {
     "name": "stdout",
     "output_type": "stream",
     "text": [
      "Test Dim of Data:  (380, 400, 400, 3)\n",
      "Test Dim of Lables:  (380,)\n"
     ]
    }
   ],
   "source": [
    "# Import the data\n",
    "test_data, test_names = import_test_folder_dataset(test_data_path)\n",
    "print(\"Test Dim of Data: \", test_data.shape)\n",
    "print(\"Test Dim of Lables: \", test_names.shape)"
   ]
  },
  {
   "cell_type": "code",
   "execution_count": 11,
   "id": "f9ce647e",
   "metadata": {},
   "outputs": [
    {
     "name": "stdout",
     "output_type": "stream",
     "text": [
      "Test len:  380\n"
     ]
    }
   ],
   "source": [
    "# Create the dataset object\n",
    "test_Dataset = Data_test(test_data, test_names, img_transform_val) # img_transform_2 img_transform\n",
    "\n",
    "print(\"Test len: \",len(test_Dataset))"
   ]
  },
  {
   "cell_type": "code",
   "execution_count": 12,
   "id": "6d05ab18",
   "metadata": {},
   "outputs": [],
   "source": [
    "# Create the dataloaders\n",
    "test_loader = DataLoader(\n",
    "    test_Dataset, \n",
    "    batch_size=1,             \n",
    "    shuffle=False)"
   ]
  },
  {
   "cell_type": "markdown",
   "id": "e5b541df",
   "metadata": {},
   "source": [
    "# Create Model"
   ]
  },
  {
   "cell_type": "code",
   "execution_count": 13,
   "id": "c7e94655",
   "metadata": {
    "scrolled": true
   },
   "outputs": [
    {
     "name": "stderr",
     "output_type": "stream",
     "text": [
      "D:\\Users\\Alex\\anaconda3\\lib\\site-packages\\torchvision\\models\\_utils.py:208: UserWarning: The parameter 'pretrained' is deprecated since 0.13 and will be removed in 0.15, please use 'weights' instead.\n",
      "  warnings.warn(\n",
      "D:\\Users\\Alex\\anaconda3\\lib\\site-packages\\torchvision\\models\\_utils.py:223: UserWarning: Arguments other than a weight enum or `None` for 'weights' are deprecated since 0.13 and will be removed in 0.15. The current behavior is equivalent to passing `weights=GoogLeNet_Weights.IMAGENET1K_V1`. You can also use `weights=GoogLeNet_Weights.DEFAULT` to get the most up-to-date weights.\n",
      "  warnings.warn(msg)\n"
     ]
    },
    {
     "data": {
      "text/plain": [
       "ClassificationNet(\n",
       "  (googlenet_fe): Sequential(\n",
       "    (0): BasicConv2d(\n",
       "      (conv): Conv2d(3, 64, kernel_size=(7, 7), stride=(2, 2), padding=(3, 3), bias=False)\n",
       "      (bn): BatchNorm2d(64, eps=0.001, momentum=0.1, affine=True, track_running_stats=True)\n",
       "    )\n",
       "    (1): MaxPool2d(kernel_size=3, stride=2, padding=0, dilation=1, ceil_mode=True)\n",
       "    (2): BasicConv2d(\n",
       "      (conv): Conv2d(64, 64, kernel_size=(1, 1), stride=(1, 1), bias=False)\n",
       "      (bn): BatchNorm2d(64, eps=0.001, momentum=0.1, affine=True, track_running_stats=True)\n",
       "    )\n",
       "    (3): BasicConv2d(\n",
       "      (conv): Conv2d(64, 192, kernel_size=(3, 3), stride=(1, 1), padding=(1, 1), bias=False)\n",
       "      (bn): BatchNorm2d(192, eps=0.001, momentum=0.1, affine=True, track_running_stats=True)\n",
       "    )\n",
       "    (4): MaxPool2d(kernel_size=3, stride=2, padding=0, dilation=1, ceil_mode=True)\n",
       "    (5): Inception(\n",
       "      (branch1): BasicConv2d(\n",
       "        (conv): Conv2d(192, 64, kernel_size=(1, 1), stride=(1, 1), bias=False)\n",
       "        (bn): BatchNorm2d(64, eps=0.001, momentum=0.1, affine=True, track_running_stats=True)\n",
       "      )\n",
       "      (branch2): Sequential(\n",
       "        (0): BasicConv2d(\n",
       "          (conv): Conv2d(192, 96, kernel_size=(1, 1), stride=(1, 1), bias=False)\n",
       "          (bn): BatchNorm2d(96, eps=0.001, momentum=0.1, affine=True, track_running_stats=True)\n",
       "        )\n",
       "        (1): BasicConv2d(\n",
       "          (conv): Conv2d(96, 128, kernel_size=(3, 3), stride=(1, 1), padding=(1, 1), bias=False)\n",
       "          (bn): BatchNorm2d(128, eps=0.001, momentum=0.1, affine=True, track_running_stats=True)\n",
       "        )\n",
       "      )\n",
       "      (branch3): Sequential(\n",
       "        (0): BasicConv2d(\n",
       "          (conv): Conv2d(192, 16, kernel_size=(1, 1), stride=(1, 1), bias=False)\n",
       "          (bn): BatchNorm2d(16, eps=0.001, momentum=0.1, affine=True, track_running_stats=True)\n",
       "        )\n",
       "        (1): BasicConv2d(\n",
       "          (conv): Conv2d(16, 32, kernel_size=(3, 3), stride=(1, 1), padding=(1, 1), bias=False)\n",
       "          (bn): BatchNorm2d(32, eps=0.001, momentum=0.1, affine=True, track_running_stats=True)\n",
       "        )\n",
       "      )\n",
       "      (branch4): Sequential(\n",
       "        (0): MaxPool2d(kernel_size=3, stride=1, padding=1, dilation=1, ceil_mode=True)\n",
       "        (1): BasicConv2d(\n",
       "          (conv): Conv2d(192, 32, kernel_size=(1, 1), stride=(1, 1), bias=False)\n",
       "          (bn): BatchNorm2d(32, eps=0.001, momentum=0.1, affine=True, track_running_stats=True)\n",
       "        )\n",
       "      )\n",
       "    )\n",
       "    (6): Inception(\n",
       "      (branch1): BasicConv2d(\n",
       "        (conv): Conv2d(256, 128, kernel_size=(1, 1), stride=(1, 1), bias=False)\n",
       "        (bn): BatchNorm2d(128, eps=0.001, momentum=0.1, affine=True, track_running_stats=True)\n",
       "      )\n",
       "      (branch2): Sequential(\n",
       "        (0): BasicConv2d(\n",
       "          (conv): Conv2d(256, 128, kernel_size=(1, 1), stride=(1, 1), bias=False)\n",
       "          (bn): BatchNorm2d(128, eps=0.001, momentum=0.1, affine=True, track_running_stats=True)\n",
       "        )\n",
       "        (1): BasicConv2d(\n",
       "          (conv): Conv2d(128, 192, kernel_size=(3, 3), stride=(1, 1), padding=(1, 1), bias=False)\n",
       "          (bn): BatchNorm2d(192, eps=0.001, momentum=0.1, affine=True, track_running_stats=True)\n",
       "        )\n",
       "      )\n",
       "      (branch3): Sequential(\n",
       "        (0): BasicConv2d(\n",
       "          (conv): Conv2d(256, 32, kernel_size=(1, 1), stride=(1, 1), bias=False)\n",
       "          (bn): BatchNorm2d(32, eps=0.001, momentum=0.1, affine=True, track_running_stats=True)\n",
       "        )\n",
       "        (1): BasicConv2d(\n",
       "          (conv): Conv2d(32, 96, kernel_size=(3, 3), stride=(1, 1), padding=(1, 1), bias=False)\n",
       "          (bn): BatchNorm2d(96, eps=0.001, momentum=0.1, affine=True, track_running_stats=True)\n",
       "        )\n",
       "      )\n",
       "      (branch4): Sequential(\n",
       "        (0): MaxPool2d(kernel_size=3, stride=1, padding=1, dilation=1, ceil_mode=True)\n",
       "        (1): BasicConv2d(\n",
       "          (conv): Conv2d(256, 64, kernel_size=(1, 1), stride=(1, 1), bias=False)\n",
       "          (bn): BatchNorm2d(64, eps=0.001, momentum=0.1, affine=True, track_running_stats=True)\n",
       "        )\n",
       "      )\n",
       "    )\n",
       "    (7): MaxPool2d(kernel_size=3, stride=2, padding=0, dilation=1, ceil_mode=True)\n",
       "    (8): Inception(\n",
       "      (branch1): BasicConv2d(\n",
       "        (conv): Conv2d(480, 192, kernel_size=(1, 1), stride=(1, 1), bias=False)\n",
       "        (bn): BatchNorm2d(192, eps=0.001, momentum=0.1, affine=True, track_running_stats=True)\n",
       "      )\n",
       "      (branch2): Sequential(\n",
       "        (0): BasicConv2d(\n",
       "          (conv): Conv2d(480, 96, kernel_size=(1, 1), stride=(1, 1), bias=False)\n",
       "          (bn): BatchNorm2d(96, eps=0.001, momentum=0.1, affine=True, track_running_stats=True)\n",
       "        )\n",
       "        (1): BasicConv2d(\n",
       "          (conv): Conv2d(96, 208, kernel_size=(3, 3), stride=(1, 1), padding=(1, 1), bias=False)\n",
       "          (bn): BatchNorm2d(208, eps=0.001, momentum=0.1, affine=True, track_running_stats=True)\n",
       "        )\n",
       "      )\n",
       "      (branch3): Sequential(\n",
       "        (0): BasicConv2d(\n",
       "          (conv): Conv2d(480, 16, kernel_size=(1, 1), stride=(1, 1), bias=False)\n",
       "          (bn): BatchNorm2d(16, eps=0.001, momentum=0.1, affine=True, track_running_stats=True)\n",
       "        )\n",
       "        (1): BasicConv2d(\n",
       "          (conv): Conv2d(16, 48, kernel_size=(3, 3), stride=(1, 1), padding=(1, 1), bias=False)\n",
       "          (bn): BatchNorm2d(48, eps=0.001, momentum=0.1, affine=True, track_running_stats=True)\n",
       "        )\n",
       "      )\n",
       "      (branch4): Sequential(\n",
       "        (0): MaxPool2d(kernel_size=3, stride=1, padding=1, dilation=1, ceil_mode=True)\n",
       "        (1): BasicConv2d(\n",
       "          (conv): Conv2d(480, 64, kernel_size=(1, 1), stride=(1, 1), bias=False)\n",
       "          (bn): BatchNorm2d(64, eps=0.001, momentum=0.1, affine=True, track_running_stats=True)\n",
       "        )\n",
       "      )\n",
       "    )\n",
       "    (9): Inception(\n",
       "      (branch1): BasicConv2d(\n",
       "        (conv): Conv2d(512, 160, kernel_size=(1, 1), stride=(1, 1), bias=False)\n",
       "        (bn): BatchNorm2d(160, eps=0.001, momentum=0.1, affine=True, track_running_stats=True)\n",
       "      )\n",
       "      (branch2): Sequential(\n",
       "        (0): BasicConv2d(\n",
       "          (conv): Conv2d(512, 112, kernel_size=(1, 1), stride=(1, 1), bias=False)\n",
       "          (bn): BatchNorm2d(112, eps=0.001, momentum=0.1, affine=True, track_running_stats=True)\n",
       "        )\n",
       "        (1): BasicConv2d(\n",
       "          (conv): Conv2d(112, 224, kernel_size=(3, 3), stride=(1, 1), padding=(1, 1), bias=False)\n",
       "          (bn): BatchNorm2d(224, eps=0.001, momentum=0.1, affine=True, track_running_stats=True)\n",
       "        )\n",
       "      )\n",
       "      (branch3): Sequential(\n",
       "        (0): BasicConv2d(\n",
       "          (conv): Conv2d(512, 24, kernel_size=(1, 1), stride=(1, 1), bias=False)\n",
       "          (bn): BatchNorm2d(24, eps=0.001, momentum=0.1, affine=True, track_running_stats=True)\n",
       "        )\n",
       "        (1): BasicConv2d(\n",
       "          (conv): Conv2d(24, 64, kernel_size=(3, 3), stride=(1, 1), padding=(1, 1), bias=False)\n",
       "          (bn): BatchNorm2d(64, eps=0.001, momentum=0.1, affine=True, track_running_stats=True)\n",
       "        )\n",
       "      )\n",
       "      (branch4): Sequential(\n",
       "        (0): MaxPool2d(kernel_size=3, stride=1, padding=1, dilation=1, ceil_mode=True)\n",
       "        (1): BasicConv2d(\n",
       "          (conv): Conv2d(512, 64, kernel_size=(1, 1), stride=(1, 1), bias=False)\n",
       "          (bn): BatchNorm2d(64, eps=0.001, momentum=0.1, affine=True, track_running_stats=True)\n",
       "        )\n",
       "      )\n",
       "    )\n",
       "    (10): Inception(\n",
       "      (branch1): BasicConv2d(\n",
       "        (conv): Conv2d(512, 128, kernel_size=(1, 1), stride=(1, 1), bias=False)\n",
       "        (bn): BatchNorm2d(128, eps=0.001, momentum=0.1, affine=True, track_running_stats=True)\n",
       "      )\n",
       "      (branch2): Sequential(\n",
       "        (0): BasicConv2d(\n",
       "          (conv): Conv2d(512, 128, kernel_size=(1, 1), stride=(1, 1), bias=False)\n",
       "          (bn): BatchNorm2d(128, eps=0.001, momentum=0.1, affine=True, track_running_stats=True)\n",
       "        )\n",
       "        (1): BasicConv2d(\n",
       "          (conv): Conv2d(128, 256, kernel_size=(3, 3), stride=(1, 1), padding=(1, 1), bias=False)\n",
       "          (bn): BatchNorm2d(256, eps=0.001, momentum=0.1, affine=True, track_running_stats=True)\n",
       "        )\n",
       "      )\n",
       "      (branch3): Sequential(\n",
       "        (0): BasicConv2d(\n",
       "          (conv): Conv2d(512, 24, kernel_size=(1, 1), stride=(1, 1), bias=False)\n",
       "          (bn): BatchNorm2d(24, eps=0.001, momentum=0.1, affine=True, track_running_stats=True)\n",
       "        )\n",
       "        (1): BasicConv2d(\n",
       "          (conv): Conv2d(24, 64, kernel_size=(3, 3), stride=(1, 1), padding=(1, 1), bias=False)\n",
       "          (bn): BatchNorm2d(64, eps=0.001, momentum=0.1, affine=True, track_running_stats=True)\n",
       "        )\n",
       "      )\n",
       "      (branch4): Sequential(\n",
       "        (0): MaxPool2d(kernel_size=3, stride=1, padding=1, dilation=1, ceil_mode=True)\n",
       "        (1): BasicConv2d(\n",
       "          (conv): Conv2d(512, 64, kernel_size=(1, 1), stride=(1, 1), bias=False)\n",
       "          (bn): BatchNorm2d(64, eps=0.001, momentum=0.1, affine=True, track_running_stats=True)\n",
       "        )\n",
       "      )\n",
       "    )\n",
       "    (11): Inception(\n",
       "      (branch1): BasicConv2d(\n",
       "        (conv): Conv2d(512, 112, kernel_size=(1, 1), stride=(1, 1), bias=False)\n",
       "        (bn): BatchNorm2d(112, eps=0.001, momentum=0.1, affine=True, track_running_stats=True)\n",
       "      )\n",
       "      (branch2): Sequential(\n",
       "        (0): BasicConv2d(\n",
       "          (conv): Conv2d(512, 144, kernel_size=(1, 1), stride=(1, 1), bias=False)\n",
       "          (bn): BatchNorm2d(144, eps=0.001, momentum=0.1, affine=True, track_running_stats=True)\n",
       "        )\n",
       "        (1): BasicConv2d(\n",
       "          (conv): Conv2d(144, 288, kernel_size=(3, 3), stride=(1, 1), padding=(1, 1), bias=False)\n",
       "          (bn): BatchNorm2d(288, eps=0.001, momentum=0.1, affine=True, track_running_stats=True)\n",
       "        )\n",
       "      )\n",
       "      (branch3): Sequential(\n",
       "        (0): BasicConv2d(\n",
       "          (conv): Conv2d(512, 32, kernel_size=(1, 1), stride=(1, 1), bias=False)\n",
       "          (bn): BatchNorm2d(32, eps=0.001, momentum=0.1, affine=True, track_running_stats=True)\n",
       "        )\n",
       "        (1): BasicConv2d(\n",
       "          (conv): Conv2d(32, 64, kernel_size=(3, 3), stride=(1, 1), padding=(1, 1), bias=False)\n",
       "          (bn): BatchNorm2d(64, eps=0.001, momentum=0.1, affine=True, track_running_stats=True)\n",
       "        )\n",
       "      )\n",
       "      (branch4): Sequential(\n",
       "        (0): MaxPool2d(kernel_size=3, stride=1, padding=1, dilation=1, ceil_mode=True)\n",
       "        (1): BasicConv2d(\n",
       "          (conv): Conv2d(512, 64, kernel_size=(1, 1), stride=(1, 1), bias=False)\n",
       "          (bn): BatchNorm2d(64, eps=0.001, momentum=0.1, affine=True, track_running_stats=True)\n",
       "        )\n",
       "      )\n",
       "    )\n",
       "    (12): Inception(\n",
       "      (branch1): BasicConv2d(\n",
       "        (conv): Conv2d(528, 256, kernel_size=(1, 1), stride=(1, 1), bias=False)\n",
       "        (bn): BatchNorm2d(256, eps=0.001, momentum=0.1, affine=True, track_running_stats=True)\n",
       "      )\n",
       "      (branch2): Sequential(\n",
       "        (0): BasicConv2d(\n",
       "          (conv): Conv2d(528, 160, kernel_size=(1, 1), stride=(1, 1), bias=False)\n",
       "          (bn): BatchNorm2d(160, eps=0.001, momentum=0.1, affine=True, track_running_stats=True)\n",
       "        )\n",
       "        (1): BasicConv2d(\n",
       "          (conv): Conv2d(160, 320, kernel_size=(3, 3), stride=(1, 1), padding=(1, 1), bias=False)\n",
       "          (bn): BatchNorm2d(320, eps=0.001, momentum=0.1, affine=True, track_running_stats=True)\n",
       "        )\n",
       "      )\n",
       "      (branch3): Sequential(\n",
       "        (0): BasicConv2d(\n",
       "          (conv): Conv2d(528, 32, kernel_size=(1, 1), stride=(1, 1), bias=False)\n",
       "          (bn): BatchNorm2d(32, eps=0.001, momentum=0.1, affine=True, track_running_stats=True)\n",
       "        )\n",
       "        (1): BasicConv2d(\n",
       "          (conv): Conv2d(32, 128, kernel_size=(3, 3), stride=(1, 1), padding=(1, 1), bias=False)\n",
       "          (bn): BatchNorm2d(128, eps=0.001, momentum=0.1, affine=True, track_running_stats=True)\n",
       "        )\n",
       "      )\n",
       "      (branch4): Sequential(\n",
       "        (0): MaxPool2d(kernel_size=3, stride=1, padding=1, dilation=1, ceil_mode=True)\n",
       "        (1): BasicConv2d(\n",
       "          (conv): Conv2d(528, 128, kernel_size=(1, 1), stride=(1, 1), bias=False)\n",
       "          (bn): BatchNorm2d(128, eps=0.001, momentum=0.1, affine=True, track_running_stats=True)\n",
       "        )\n",
       "      )\n",
       "    )\n",
       "    (13): MaxPool2d(kernel_size=2, stride=2, padding=0, dilation=1, ceil_mode=True)\n",
       "    (14): Inception(\n",
       "      (branch1): BasicConv2d(\n",
       "        (conv): Conv2d(832, 256, kernel_size=(1, 1), stride=(1, 1), bias=False)\n",
       "        (bn): BatchNorm2d(256, eps=0.001, momentum=0.1, affine=True, track_running_stats=True)\n",
       "      )\n",
       "      (branch2): Sequential(\n",
       "        (0): BasicConv2d(\n",
       "          (conv): Conv2d(832, 160, kernel_size=(1, 1), stride=(1, 1), bias=False)\n",
       "          (bn): BatchNorm2d(160, eps=0.001, momentum=0.1, affine=True, track_running_stats=True)\n",
       "        )\n",
       "        (1): BasicConv2d(\n",
       "          (conv): Conv2d(160, 320, kernel_size=(3, 3), stride=(1, 1), padding=(1, 1), bias=False)\n",
       "          (bn): BatchNorm2d(320, eps=0.001, momentum=0.1, affine=True, track_running_stats=True)\n",
       "        )\n",
       "      )\n",
       "      (branch3): Sequential(\n",
       "        (0): BasicConv2d(\n",
       "          (conv): Conv2d(832, 32, kernel_size=(1, 1), stride=(1, 1), bias=False)\n",
       "          (bn): BatchNorm2d(32, eps=0.001, momentum=0.1, affine=True, track_running_stats=True)\n",
       "        )\n",
       "        (1): BasicConv2d(\n",
       "          (conv): Conv2d(32, 128, kernel_size=(3, 3), stride=(1, 1), padding=(1, 1), bias=False)\n",
       "          (bn): BatchNorm2d(128, eps=0.001, momentum=0.1, affine=True, track_running_stats=True)\n",
       "        )\n",
       "      )\n",
       "      (branch4): Sequential(\n",
       "        (0): MaxPool2d(kernel_size=3, stride=1, padding=1, dilation=1, ceil_mode=True)\n",
       "        (1): BasicConv2d(\n",
       "          (conv): Conv2d(832, 128, kernel_size=(1, 1), stride=(1, 1), bias=False)\n",
       "          (bn): BatchNorm2d(128, eps=0.001, momentum=0.1, affine=True, track_running_stats=True)\n",
       "        )\n",
       "      )\n",
       "    )\n",
       "    (15): Inception(\n",
       "      (branch1): BasicConv2d(\n",
       "        (conv): Conv2d(832, 384, kernel_size=(1, 1), stride=(1, 1), bias=False)\n",
       "        (bn): BatchNorm2d(384, eps=0.001, momentum=0.1, affine=True, track_running_stats=True)\n",
       "      )\n",
       "      (branch2): Sequential(\n",
       "        (0): BasicConv2d(\n",
       "          (conv): Conv2d(832, 192, kernel_size=(1, 1), stride=(1, 1), bias=False)\n",
       "          (bn): BatchNorm2d(192, eps=0.001, momentum=0.1, affine=True, track_running_stats=True)\n",
       "        )\n",
       "        (1): BasicConv2d(\n",
       "          (conv): Conv2d(192, 384, kernel_size=(3, 3), stride=(1, 1), padding=(1, 1), bias=False)\n",
       "          (bn): BatchNorm2d(384, eps=0.001, momentum=0.1, affine=True, track_running_stats=True)\n",
       "        )\n",
       "      )\n",
       "      (branch3): Sequential(\n",
       "        (0): BasicConv2d(\n",
       "          (conv): Conv2d(832, 48, kernel_size=(1, 1), stride=(1, 1), bias=False)\n",
       "          (bn): BatchNorm2d(48, eps=0.001, momentum=0.1, affine=True, track_running_stats=True)\n",
       "        )\n",
       "        (1): BasicConv2d(\n",
       "          (conv): Conv2d(48, 128, kernel_size=(3, 3), stride=(1, 1), padding=(1, 1), bias=False)\n",
       "          (bn): BatchNorm2d(128, eps=0.001, momentum=0.1, affine=True, track_running_stats=True)\n",
       "        )\n",
       "      )\n",
       "      (branch4): Sequential(\n",
       "        (0): MaxPool2d(kernel_size=3, stride=1, padding=1, dilation=1, ceil_mode=True)\n",
       "        (1): BasicConv2d(\n",
       "          (conv): Conv2d(832, 128, kernel_size=(1, 1), stride=(1, 1), bias=False)\n",
       "          (bn): BatchNorm2d(128, eps=0.001, momentum=0.1, affine=True, track_running_stats=True)\n",
       "        )\n",
       "      )\n",
       "    )\n",
       "    (16): AdaptiveAvgPool2d(output_size=(1, 1))\n",
       "    (17): Dropout(p=0.2, inplace=False)\n",
       "  )\n",
       "  (flatten): Flatten(start_dim=1, end_dim=-1)\n",
       "  (last_classifier): Linear(in_features=1024, out_features=4, bias=True)\n",
       ")"
      ]
     },
     "execution_count": 13,
     "metadata": {},
     "output_type": "execute_result"
    }
   ],
   "source": [
    "#PyTorch - Building the Model\n",
    "class ClassificationNet(nn.Module):\n",
    "    def __init__(self, googlenet):\n",
    "        super(ClassificationNet, self).__init__()\n",
    "        # get the pretrained googlenet network\n",
    "        #self.googlenet = models.googlenet(pretrained=True)\n",
    "        #self.resnet50 = models.resnet50(pretrained=True)\n",
    "        \n",
    "        # Get the feature extractor\n",
    "        self.googlenet_fe = nn.Sequential(*list(googlenet.children())[:-1])\n",
    "        #self.resnet50_fe = nn.Sequential(*list(self.resnet50.children())[:-1])\n",
    "        \n",
    "        # Flatten the FE output\n",
    "        self.flatten = nn.Flatten()\n",
    "        \n",
    "        # Add a clissifier\n",
    "        #self.last_classifier =  nn.Linear(in_features=2048, out_features=4)\n",
    "        self.last_classifier =  nn.Linear(in_features=1024, out_features=4)\n",
    "        \n",
    "    def forward(self, x): \n",
    "        #x = self.resnet50_fe(x)\n",
    "        x = self.googlenet_fe(x)\n",
    "        \n",
    "        x = self.flatten(x)\n",
    "        \n",
    "        x = self.last_classifier(x)\n",
    "        \n",
    "        return x\n",
    "\n",
    "modelpy = ClassificationNet(googlenet = models.googlenet(pretrained=True)).to(device)\n",
    "\n",
    "# Loss Function\n",
    "criterion_2 = nn.CrossEntropyLoss()\n",
    "\n",
    "# Optimizer    \n",
    "trainable_parameters_2 = filter(lambda p: p.requires_grad, modelpy.parameters())\n",
    "#optimizer_2 = torch.optim.Adam(params=trainable_parameters_2, lr=lr)\n",
    "optimizer_2 = torch.optim.SGD(params=trainable_parameters_2, lr=lr, momentum=1e-5) \n",
    "\n",
    "# Check if checkpoint is available, if so, load it\n",
    "model_epoch_m2_check = 0\n",
    "previous_time = 0\n",
    "\n",
    "modelpy"
   ]
  },
  {
   "cell_type": "code",
   "execution_count": 14,
   "id": "9d13ce6c",
   "metadata": {},
   "outputs": [],
   "source": [
    "# Check if checkpoint is available, if so, load it\n",
    "model_epoch_m2_check = 0\n",
    "previous_time = 0\n",
    "names = os.listdir(model_checkpoints)\n",
    "for elem in names:\n",
    "    if(elem==\"model_ckpt_m2.pth\"):\n",
    "        print(\"Loading saved checkpoint\")\n",
    "        checkpoint = torch.load(model_checkpoints + \"model_ckpt_m2.pth\")\n",
    "        modelpy.load_state_dict(checkpoint['model_state_dict'])\n",
    "        modelpy.to(device)\n",
    "        optimizer_2.load_state_dict(checkpoint['optimizer_state_dict'])\n",
    "        model_epoch_m2_check = checkpoint['epoch']\n",
    "        criterion_2 = checkpoint['loss']\n",
    "        previous_time = checkpoint['time']\n",
    "        print(f\"Epoch of the checkpoint: {model_epoch_m2_check}\")\n"
   ]
  },
  {
   "cell_type": "markdown",
   "id": "a686cf7a",
   "metadata": {},
   "source": [
    "# Train Model"
   ]
  },
  {
   "cell_type": "code",
   "execution_count": 15,
   "id": "f5e24431",
   "metadata": {},
   "outputs": [],
   "source": [
    "def update_optimizer(optimizer, lr):\n",
    "    for i, param_group in enumerate(optimizer.param_groups):\n",
    "        param_group[\"lr\"]=lr"
   ]
  },
  {
   "cell_type": "code",
   "execution_count": 16,
   "id": "ab810b7d",
   "metadata": {
    "scrolled": true
   },
   "outputs": [
    {
     "name": "stdout",
     "output_type": "stream",
     "text": [
      "Epoch 1 of 100\n"
     ]
    },
    {
     "name": "stderr",
     "output_type": "stream",
     "text": [
      "100%|██████████| 130/130 [00:55<00:00,  2.36it/s]\n",
      "100%|██████████| 15/15 [00:02<00:00,  6.78it/s]\n"
     ]
    },
    {
     "name": "stdout",
     "output_type": "stream",
     "text": [
      "train loss:  0.14540997758594196\n",
      "Val loss:  0.13953136102012967\n",
      "train accuracy:  0.4448742746615087\n",
      "Val accuracy:  0.5652173913043478\n",
      "Best model at the moment with Val_acc 56.52, saving...\n",
      "Current time: 0.958 minutes. Time expected till completion: 94.800 minutes\n",
      "Epoch 2 of 100\n"
     ]
    },
    {
     "name": "stderr",
     "output_type": "stream",
     "text": [
      "100%|██████████| 130/130 [00:51<00:00,  2.54it/s]\n",
      "100%|██████████| 15/15 [00:02<00:00,  7.10it/s]\n"
     ]
    },
    {
     "name": "stdout",
     "output_type": "stream",
     "text": [
      "train loss:  0.13292423011717067\n",
      "Val loss:  0.13344573870949122\n",
      "train accuracy:  0.539651837524178\n",
      "Val accuracy:  0.5130434782608696\n",
      "Current time: 1.845 minutes. Time expected till completion: 90.384 minutes\n",
      "Epoch 3 of 100\n"
     ]
    },
    {
     "name": "stderr",
     "output_type": "stream",
     "text": [
      "100%|██████████| 130/130 [00:50<00:00,  2.55it/s]\n",
      "100%|██████████| 15/15 [00:02<00:00,  7.12it/s]\n"
     ]
    },
    {
     "name": "stdout",
     "output_type": "stream",
     "text": [
      "train loss:  0.12976396792861894\n",
      "Val loss:  0.12967784197434135\n",
      "train accuracy:  0.5502901353965184\n",
      "Val accuracy:  0.5304347826086957\n",
      "Current time: 2.730 minutes. Time expected till completion: 88.268 minutes\n",
      "Epoch 4 of 100\n"
     ]
    },
    {
     "name": "stderr",
     "output_type": "stream",
     "text": [
      "100%|██████████| 130/130 [00:51<00:00,  2.54it/s]\n",
      "100%|██████████| 15/15 [00:02<00:00,  6.86it/s]\n"
     ]
    },
    {
     "name": "stdout",
     "output_type": "stream",
     "text": [
      "train loss:  0.12480825779516416\n",
      "Val loss:  0.12563413848047672\n",
      "train accuracy:  0.6015473887814313\n",
      "Val accuracy:  0.5565217391304348\n",
      "Current time: 3.618 minutes. Time expected till completion: 86.838 minutes\n",
      "Epoch 5 of 100\n"
     ]
    },
    {
     "name": "stderr",
     "output_type": "stream",
     "text": [
      "100%|██████████| 130/130 [00:51<00:00,  2.55it/s]\n",
      "100%|██████████| 15/15 [00:02<00:00,  6.97it/s]\n"
     ]
    },
    {
     "name": "stdout",
     "output_type": "stream",
     "text": [
      "train loss:  0.12089302386490473\n",
      "Val loss:  0.12256373426188594\n",
      "train accuracy:  0.5986460348162476\n",
      "Val accuracy:  0.5130434782608696\n",
      "Current time: 4.506 minutes. Time expected till completion: 85.608 minutes\n",
      "Epoch 6 of 100\n"
     ]
    },
    {
     "name": "stderr",
     "output_type": "stream",
     "text": [
      "100%|██████████| 130/130 [00:50<00:00,  2.56it/s]\n",
      "100%|██████████| 15/15 [00:02<00:00,  7.17it/s]\n"
     ]
    },
    {
     "name": "stdout",
     "output_type": "stream",
     "text": [
      "train loss:  0.11991291650259288\n",
      "Val loss:  0.11995944665825885\n",
      "train accuracy:  0.6005802707930368\n",
      "Val accuracy:  0.5478260869565217\n",
      "Current time: 5.389 minutes. Time expected till completion: 84.421 minutes\n",
      "Epoch 7 of 100\n"
     ]
    },
    {
     "name": "stderr",
     "output_type": "stream",
     "text": [
      "100%|██████████| 130/130 [00:50<00:00,  2.55it/s]\n",
      "100%|██████████| 15/15 [00:02<00:00,  7.07it/s]\n"
     ]
    },
    {
     "name": "stdout",
     "output_type": "stream",
     "text": [
      "train loss:  0.11657388730252043\n",
      "Val loss:  0.11837021941724031\n",
      "train accuracy:  0.6083172147001934\n",
      "Val accuracy:  0.5304347826086957\n",
      "Current time: 6.273 minutes. Time expected till completion: 83.343 minutes\n",
      "Epoch 8 of 100\n"
     ]
    },
    {
     "name": "stderr",
     "output_type": "stream",
     "text": [
      "100%|██████████| 130/130 [00:50<00:00,  2.56it/s]\n",
      "100%|██████████| 15/15 [00:02<00:00,  7.21it/s]\n"
     ]
    },
    {
     "name": "stdout",
     "output_type": "stream",
     "text": [
      "train loss:  0.11310583223341973\n",
      "Val loss:  0.11697438022364741\n",
      "train accuracy:  0.6131528046421664\n",
      "Val accuracy:  0.5304347826086957\n",
      "Current time: 7.155 minutes. Time expected till completion: 82.288 minutes\n",
      "Epoch 9 of 100\n"
     ]
    },
    {
     "name": "stderr",
     "output_type": "stream",
     "text": [
      "100%|██████████| 130/130 [00:50<00:00,  2.56it/s]\n",
      "100%|██████████| 15/15 [00:02<00:00,  7.13it/s]\n"
     ]
    },
    {
     "name": "stdout",
     "output_type": "stream",
     "text": [
      "train loss:  0.11251191293363184\n",
      "Val loss:  0.11543897079384845\n",
      "train accuracy:  0.6199226305609284\n",
      "Val accuracy:  0.5304347826086957\n",
      "Current time: 8.039 minutes. Time expected till completion: 81.279 minutes\n",
      "Epoch 10 of 100\n"
     ]
    },
    {
     "name": "stderr",
     "output_type": "stream",
     "text": [
      "100%|██████████| 130/130 [00:50<00:00,  2.56it/s]\n",
      "100%|██████████| 15/15 [00:02<00:00,  7.07it/s]\n"
     ]
    },
    {
     "name": "stdout",
     "output_type": "stream",
     "text": [
      "train loss:  0.11101285346587346\n",
      "Val loss:  0.11516826152801514\n",
      "train accuracy:  0.6218568665377177\n",
      "Val accuracy:  0.5391304347826087\n",
      "Current time: 8.921 minutes. Time expected till completion: 80.290 minutes\n",
      "Epoch 11 of 100\n"
     ]
    },
    {
     "name": "stderr",
     "output_type": "stream",
     "text": [
      "100%|██████████| 130/130 [00:50<00:00,  2.56it/s]\n",
      "100%|██████████| 15/15 [00:02<00:00,  7.05it/s]\n"
     ]
    },
    {
     "name": "stdout",
     "output_type": "stream",
     "text": [
      "train loss:  0.1099919442454897\n",
      "Val loss:  0.11397584624912428\n",
      "train accuracy:  0.6160541586073501\n",
      "Val accuracy:  0.5478260869565217\n",
      "Current time: 9.804 minutes. Time expected till completion: 79.327 minutes\n",
      "Epoch 12 of 100\n"
     ]
    },
    {
     "name": "stderr",
     "output_type": "stream",
     "text": [
      "100%|██████████| 130/130 [00:50<00:00,  2.56it/s]\n",
      "100%|██████████| 15/15 [00:02<00:00,  7.12it/s]\n"
     ]
    },
    {
     "name": "stdout",
     "output_type": "stream",
     "text": [
      "train loss:  0.11044603419027199\n",
      "Val loss:  0.11143321265345034\n",
      "train accuracy:  0.6189555125725339\n",
      "Val accuracy:  0.6086956521739131\n",
      "Best model at the moment with Val_acc 60.87, saving...\n",
      "Current time: 10.689 minutes. Time expected till completion: 78.383 minutes\n",
      "Epoch 13 of 100\n"
     ]
    },
    {
     "name": "stderr",
     "output_type": "stream",
     "text": [
      "100%|██████████| 130/130 [00:50<00:00,  2.55it/s]\n",
      "100%|██████████| 15/15 [00:02<00:00,  7.08it/s]\n"
     ]
    },
    {
     "name": "stdout",
     "output_type": "stream",
     "text": [
      "train loss:  0.10971144709296568\n",
      "Val loss:  0.11184939768003381\n",
      "train accuracy:  0.6121856866537717\n",
      "Val accuracy:  0.5739130434782609\n",
      "Current time: 11.573 minutes. Time expected till completion: 77.449 minutes\n",
      "Epoch 14 of 100\n"
     ]
    },
    {
     "name": "stderr",
     "output_type": "stream",
     "text": [
      "100%|██████████| 130/130 [00:50<00:00,  2.57it/s]\n",
      "100%|██████████| 15/15 [00:02<00:00,  7.12it/s]\n"
     ]
    },
    {
     "name": "stdout",
     "output_type": "stream",
     "text": [
      "train loss:  0.10992857199918832\n",
      "Val loss:  0.11211600666460783\n",
      "train accuracy:  0.6247582205029013\n",
      "Val accuracy:  0.5652173913043478\n",
      "Current time: 12.453 minutes. Time expected till completion: 76.496 minutes\n",
      "Epoch 15 of 100\n"
     ]
    },
    {
     "name": "stderr",
     "output_type": "stream",
     "text": [
      "100%|██████████| 130/130 [00:50<00:00,  2.56it/s]\n",
      "100%|██████████| 15/15 [00:02<00:00,  7.04it/s]\n"
     ]
    },
    {
     "name": "stdout",
     "output_type": "stream",
     "text": [
      "train loss:  0.10960352709030506\n",
      "Val loss:  0.1111451752807783\n",
      "train accuracy:  0.6315280464216635\n",
      "Val accuracy:  0.5826086956521739\n",
      "Current time: 13.336 minutes. Time expected till completion: 75.572 minutes\n",
      "Epoch 16 of 100\n"
     ]
    },
    {
     "name": "stderr",
     "output_type": "stream",
     "text": [
      "100%|██████████| 130/130 [00:50<00:00,  2.55it/s]\n",
      "100%|██████████| 15/15 [00:02<00:00,  7.04it/s]\n"
     ]
    },
    {
     "name": "stdout",
     "output_type": "stream",
     "text": [
      "train loss:  0.10740971622891306\n",
      "Val loss:  0.10855922025182972\n",
      "train accuracy:  0.6266924564796905\n",
      "Val accuracy:  0.6\n",
      "Current time: 14.222 minutes. Time expected till completion: 74.664 minutes\n",
      "Epoch 17 of 100\n"
     ]
    },
    {
     "name": "stderr",
     "output_type": "stream",
     "text": [
      "100%|██████████| 130/130 [00:50<00:00,  2.56it/s]\n",
      "100%|██████████| 15/15 [00:02<00:00,  6.77it/s]\n"
     ]
    },
    {
     "name": "stdout",
     "output_type": "stream",
     "text": [
      "train loss:  0.10605021164080622\n",
      "Val loss:  0.10848931385123212\n",
      "train accuracy:  0.6537717601547389\n",
      "Val accuracy:  0.6086956521739131\n",
      "Current time: 15.106 minutes. Time expected till completion: 73.755 minutes\n",
      "Epoch 18 of 100\n"
     ]
    },
    {
     "name": "stderr",
     "output_type": "stream",
     "text": [
      "100%|██████████| 130/130 [00:50<00:00,  2.55it/s]\n",
      "100%|██████████| 15/15 [00:02<00:00,  7.13it/s]\n"
     ]
    },
    {
     "name": "stdout",
     "output_type": "stream",
     "text": [
      "train loss:  0.10683596975798763\n",
      "Val loss:  0.1079604560914247\n",
      "train accuracy:  0.6228239845261122\n",
      "Val accuracy:  0.6173913043478261\n",
      "Best model at the moment with Val_acc 61.74, saving...\n",
      "Current time: 15.994 minutes. Time expected till completion: 72.862 minutes\n",
      "Epoch 19 of 100\n"
     ]
    },
    {
     "name": "stderr",
     "output_type": "stream",
     "text": [
      "100%|██████████| 130/130 [00:50<00:00,  2.55it/s]\n",
      "100%|██████████| 15/15 [00:02<00:00,  7.08it/s]\n"
     ]
    },
    {
     "name": "stdout",
     "output_type": "stream",
     "text": [
      "train loss:  0.1049501579723229\n",
      "Val loss:  0.1095566433408986\n",
      "train accuracy:  0.632495164410058\n",
      "Val accuracy:  0.591304347826087\n",
      "Current time: 16.878 minutes. Time expected till completion: 71.952 minutes\n",
      "Epoch 20 of 100\n"
     ]
    },
    {
     "name": "stderr",
     "output_type": "stream",
     "text": [
      "100%|██████████| 130/130 [00:50<00:00,  2.55it/s]\n",
      "100%|██████████| 15/15 [00:02<00:00,  6.76it/s]\n"
     ]
    },
    {
     "name": "stdout",
     "output_type": "stream",
     "text": [
      "train loss:  0.10504192955489315\n",
      "Val loss:  0.10730809387953386\n",
      "train accuracy:  0.6382978723404256\n",
      "Val accuracy:  0.6347826086956522\n",
      "Best model at the moment with Val_acc 63.48, saving...\n",
      "Current time: 17.767 minutes. Time expected till completion: 71.070 minutes\n",
      "Epoch 21 of 100\n"
     ]
    },
    {
     "name": "stderr",
     "output_type": "stream",
     "text": [
      "100%|██████████| 130/130 [00:51<00:00,  2.52it/s]\n",
      "100%|██████████| 15/15 [00:02<00:00,  7.05it/s]\n"
     ]
    },
    {
     "name": "stdout",
     "output_type": "stream",
     "text": [
      "train loss:  0.10325658491432552\n",
      "Val loss:  0.10471817229105079\n",
      "train accuracy:  0.6295938104448743\n",
      "Val accuracy:  0.591304347826087\n",
      "Current time: 18.663 minutes. Time expected till completion: 70.210 minutes\n",
      "Epoch 22 of 100\n"
     ]
    },
    {
     "name": "stderr",
     "output_type": "stream",
     "text": [
      "100%|██████████| 130/130 [00:50<00:00,  2.55it/s]\n",
      "100%|██████████| 15/15 [00:02<00:00,  7.05it/s]\n"
     ]
    },
    {
     "name": "stdout",
     "output_type": "stream",
     "text": [
      "train loss:  0.10458188214315897\n",
      "Val loss:  0.1027289823345516\n",
      "train accuracy:  0.6344294003868471\n",
      "Val accuracy:  0.6260869565217392\n",
      "Current time: 19.549 minutes. Time expected till completion: 69.309 minutes\n",
      "Epoch 23 of 100\n"
     ]
    },
    {
     "name": "stderr",
     "output_type": "stream",
     "text": [
      "100%|██████████| 130/130 [00:51<00:00,  2.55it/s]\n",
      "100%|██████████| 15/15 [00:02<00:00,  6.69it/s]\n"
     ]
    },
    {
     "name": "stdout",
     "output_type": "stream",
     "text": [
      "train loss:  0.10439180468913434\n",
      "Val loss:  0.10666852878487629\n",
      "train accuracy:  0.6334622823984526\n",
      "Val accuracy:  0.6260869565217392\n",
      "Current time: 20.438 minutes. Time expected till completion: 68.422 minutes\n",
      "Epoch 24 of 100\n"
     ]
    },
    {
     "name": "stderr",
     "output_type": "stream",
     "text": [
      "100%|██████████| 130/130 [00:51<00:00,  2.53it/s]\n",
      "100%|██████████| 15/15 [00:02<00:00,  7.02it/s]\n"
     ]
    },
    {
     "name": "stdout",
     "output_type": "stream",
     "text": [
      "train loss:  0.10139788499883803\n",
      "Val loss:  0.10336617931075719\n",
      "train accuracy:  0.6479690522243714\n",
      "Val accuracy:  0.6260869565217392\n",
      "Current time: 21.329 minutes. Time expected till completion: 67.540 minutes\n",
      "Epoch 25 of 100\n"
     ]
    },
    {
     "name": "stderr",
     "output_type": "stream",
     "text": [
      "100%|██████████| 130/130 [00:53<00:00,  2.42it/s]\n",
      "100%|██████████| 15/15 [00:02<00:00,  5.00it/s]\n"
     ]
    },
    {
     "name": "stdout",
     "output_type": "stream",
     "text": [
      "train loss:  0.10329887775318766\n",
      "Val loss:  0.10358831752901491\n",
      "train accuracy:  0.6353965183752418\n",
      "Val accuracy:  0.6173913043478261\n",
      "Current time: 22.274 minutes. Time expected till completion: 66.823 minutes\n",
      "Epoch 26 of 100\n"
     ]
    },
    {
     "name": "stderr",
     "output_type": "stream",
     "text": [
      "100%|██████████| 130/130 [00:53<00:00,  2.44it/s]\n",
      "100%|██████████| 15/15 [00:02<00:00,  6.72it/s]\n"
     ]
    },
    {
     "name": "stdout",
     "output_type": "stream",
     "text": [
      "train loss:  0.10138619730043688\n",
      "Val loss:  0.10218291749124941\n",
      "train accuracy:  0.6411992263056093\n",
      "Val accuracy:  0.6347826086956522\n",
      "Current time: 23.199 minutes. Time expected till completion: 66.028 minutes\n",
      "Epoch 27 of 100\n"
     ]
    },
    {
     "name": "stderr",
     "output_type": "stream",
     "text": [
      "100%|██████████| 130/130 [00:52<00:00,  2.46it/s]\n",
      "100%|██████████| 15/15 [00:02<00:00,  6.64it/s]\n"
     ]
    },
    {
     "name": "stdout",
     "output_type": "stream",
     "text": [
      "train loss:  0.10153492685674007\n",
      "Val loss:  0.10731430623842322\n",
      "train accuracy:  0.6566731141199227\n",
      "Val accuracy:  0.6260869565217392\n",
      "Current time: 24.116 minutes. Time expected till completion: 65.202 minutes\n",
      "Epoch 28 of 100\n"
     ]
    },
    {
     "name": "stderr",
     "output_type": "stream",
     "text": [
      "100%|██████████| 130/130 [00:53<00:00,  2.44it/s]\n",
      "100%|██████████| 15/15 [00:02<00:00,  6.99it/s]\n"
     ]
    },
    {
     "name": "stdout",
     "output_type": "stream",
     "text": [
      "train loss:  0.10306722747172793\n",
      "Val loss:  0.10246333635371664\n",
      "train accuracy:  0.6421663442940039\n",
      "Val accuracy:  0.6347826086956522\n",
      "Current time: 25.041 minutes. Time expected till completion: 64.390 minutes\n",
      "Epoch 29 of 100\n"
     ]
    },
    {
     "name": "stderr",
     "output_type": "stream",
     "text": [
      "100%|██████████| 130/130 [00:52<00:00,  2.47it/s]\n",
      "100%|██████████| 15/15 [00:02<00:00,  6.45it/s]\n"
     ]
    },
    {
     "name": "stdout",
     "output_type": "stream",
     "text": [
      "train loss:  0.10340886282044638\n",
      "Val loss:  0.10320575107698855\n",
      "train accuracy:  0.6353965183752418\n",
      "Val accuracy:  0.6260869565217392\n",
      "Current time: 25.958 minutes. Time expected till completion: 63.553 minutes\n",
      "Epoch 30 of 100\n"
     ]
    },
    {
     "name": "stderr",
     "output_type": "stream",
     "text": [
      "100%|██████████| 130/130 [00:54<00:00,  2.39it/s]\n",
      "100%|██████████| 15/15 [00:02<00:00,  6.90it/s]\n"
     ]
    },
    {
     "name": "stdout",
     "output_type": "stream",
     "text": [
      "train loss:  0.1021339937727502\n",
      "Val loss:  0.10311296167580977\n",
      "train accuracy:  0.6353965183752418\n",
      "Val accuracy:  0.6173913043478261\n",
      "Current time: 26.901 minutes. Time expected till completion: 62.769 minutes\n",
      "Epoch 31 of 100\n"
     ]
    },
    {
     "name": "stderr",
     "output_type": "stream",
     "text": [
      "100%|██████████| 130/130 [00:57<00:00,  2.28it/s]\n",
      "100%|██████████| 15/15 [00:02<00:00,  6.58it/s]\n"
     ]
    },
    {
     "name": "stdout",
     "output_type": "stream",
     "text": [
      "train loss:  0.09911201225604495\n",
      "Val loss:  0.10157192401264024\n",
      "train accuracy:  0.6615087040618955\n",
      "Val accuracy:  0.6347826086956522\n",
      "Current time: 27.890 minutes. Time expected till completion: 62.078 minutes\n",
      "Epoch 32 of 100\n"
     ]
    },
    {
     "name": "stderr",
     "output_type": "stream",
     "text": [
      "100%|██████████| 130/130 [00:57<00:00,  2.27it/s]\n",
      "100%|██████████| 15/15 [00:02<00:00,  6.91it/s]\n"
     ]
    },
    {
     "name": "stdout",
     "output_type": "stream",
     "text": [
      "train loss:  0.09956456233731091\n",
      "Val loss:  0.10309467859890149\n",
      "train accuracy:  0.6798839458413927\n",
      "Val accuracy:  0.6173913043478261\n",
      "Current time: 28.882 minutes. Time expected till completion: 61.374 minutes\n",
      "Epoch 33 of 100\n"
     ]
    },
    {
     "name": "stderr",
     "output_type": "stream",
     "text": [
      "100%|██████████| 130/130 [00:52<00:00,  2.48it/s]\n",
      "100%|██████████| 15/15 [00:02<00:00,  6.61it/s]\n"
     ]
    },
    {
     "name": "stdout",
     "output_type": "stream",
     "text": [
      "train loss:  0.09669390130550304\n",
      "Val loss:  0.10451436172360959\n",
      "train accuracy:  0.6711798839458414\n",
      "Val accuracy:  0.6173913043478261\n",
      "Current time: 29.793 minutes. Time expected till completion: 60.488 minutes\n",
      "Epoch 34 of 100\n"
     ]
    },
    {
     "name": "stderr",
     "output_type": "stream",
     "text": [
      "100%|██████████| 130/130 [00:52<00:00,  2.50it/s]\n",
      "100%|██████████| 15/15 [00:02<00:00,  7.01it/s]\n"
     ]
    },
    {
     "name": "stdout",
     "output_type": "stream",
     "text": [
      "train loss:  0.09875779312168836\n",
      "Val loss:  0.10593408216600833\n",
      "train accuracy:  0.6740812379110251\n",
      "Val accuracy:  0.6434782608695652\n",
      "Best model at the moment with Val_acc 64.35, saving...\n",
      "Current time: 30.699 minutes. Time expected till completion: 59.592 minutes\n",
      "Epoch 35 of 100\n"
     ]
    },
    {
     "name": "stderr",
     "output_type": "stream",
     "text": [
      "100%|██████████| 130/130 [00:53<00:00,  2.43it/s]\n",
      "100%|██████████| 15/15 [00:02<00:00,  6.32it/s]\n"
     ]
    },
    {
     "name": "stdout",
     "output_type": "stream",
     "text": [
      "train loss:  0.09868274568589099\n",
      "Val loss:  0.10496075257011082\n",
      "train accuracy:  0.6508704061895552\n",
      "Val accuracy:  0.6521739130434783\n",
      "Best model at the moment with Val_acc 65.22, saving...\n",
      "Current time: 31.634 minutes. Time expected till completion: 58.750 minutes\n",
      "Epoch 36 of 100\n"
     ]
    },
    {
     "name": "stderr",
     "output_type": "stream",
     "text": [
      "100%|██████████| 130/130 [00:53<00:00,  2.41it/s]\n",
      "100%|██████████| 15/15 [00:02<00:00,  6.39it/s]\n"
     ]
    },
    {
     "name": "stdout",
     "output_type": "stream",
     "text": [
      "train loss:  0.09570750150274723\n",
      "Val loss:  0.0987476646900177\n",
      "train accuracy:  0.6721470019342359\n",
      "Val accuracy:  0.6434782608695652\n",
      "Current time: 32.571 minutes. Time expected till completion: 57.904 minutes\n",
      "Epoch 37 of 100\n"
     ]
    },
    {
     "name": "stderr",
     "output_type": "stream",
     "text": [
      "100%|██████████| 130/130 [00:53<00:00,  2.43it/s]\n",
      "100%|██████████| 15/15 [00:02<00:00,  6.20it/s]\n"
     ]
    },
    {
     "name": "stdout",
     "output_type": "stream",
     "text": [
      "train loss:  0.0969454219539576\n",
      "Val loss:  0.10335905240929645\n",
      "train accuracy:  0.6769825918762089\n",
      "Val accuracy:  0.6\n",
      "Current time: 33.504 minutes. Time expected till completion: 57.048 minutes\n",
      "Epoch 38 of 100\n"
     ]
    },
    {
     "name": "stderr",
     "output_type": "stream",
     "text": [
      "100%|██████████| 130/130 [00:56<00:00,  2.32it/s]\n",
      "100%|██████████| 15/15 [00:02<00:00,  5.47it/s]\n"
     ]
    },
    {
     "name": "stdout",
     "output_type": "stream",
     "text": [
      "train loss:  0.09729826349469634\n",
      "Val loss:  0.10083521500877712\n",
      "train accuracy:  0.6537717601547389\n",
      "Val accuracy:  0.6695652173913044\n",
      "Best model at the moment with Val_acc 66.96, saving...\n",
      "Current time: 34.492 minutes. Time expected till completion: 56.277 minutes\n",
      "Epoch 39 of 100\n"
     ]
    },
    {
     "name": "stderr",
     "output_type": "stream",
     "text": [
      "100%|██████████| 130/130 [00:53<00:00,  2.41it/s]\n",
      "100%|██████████| 15/15 [00:02<00:00,  6.50it/s]\n"
     ]
    },
    {
     "name": "stdout",
     "output_type": "stream",
     "text": [
      "train loss:  0.09606480895320037\n",
      "Val loss:  0.10494392980699954\n",
      "train accuracy:  0.6682785299806576\n",
      "Val accuracy:  0.5826086956521739\n",
      "Current time: 35.431 minutes. Time expected till completion: 55.418 minutes\n",
      "Epoch 40 of 100\n"
     ]
    },
    {
     "name": "stderr",
     "output_type": "stream",
     "text": [
      "100%|██████████| 130/130 [00:53<00:00,  2.42it/s]\n",
      "100%|██████████| 15/15 [00:02<00:00,  6.75it/s]\n"
     ]
    },
    {
     "name": "stdout",
     "output_type": "stream",
     "text": [
      "train loss:  0.09450584070710195\n",
      "Val loss:  0.10527813745581585\n",
      "train accuracy:  0.6731141199226306\n",
      "Val accuracy:  0.6\n",
      "Current time: 36.364 minutes. Time expected till completion: 54.546 minutes\n",
      "Epoch 41 of 100\n"
     ]
    },
    {
     "name": "stderr",
     "output_type": "stream",
     "text": [
      "100%|██████████| 130/130 [00:53<00:00,  2.42it/s]\n",
      "100%|██████████| 15/15 [00:02<00:00,  5.78it/s]\n"
     ]
    },
    {
     "name": "stdout",
     "output_type": "stream",
     "text": [
      "train loss:  0.09577028202595517\n",
      "Val loss:  0.10403945394184279\n",
      "train accuracy:  0.6595744680851063\n",
      "Val accuracy:  0.591304347826087\n",
      "Current time: 37.303 minutes. Time expected till completion: 53.680 minutes\n",
      "Epoch 42 of 100\n"
     ]
    },
    {
     "name": "stderr",
     "output_type": "stream",
     "text": [
      "100%|██████████| 130/130 [00:53<00:00,  2.45it/s]\n",
      "100%|██████████| 15/15 [00:02<00:00,  6.84it/s]\n"
     ]
    },
    {
     "name": "stdout",
     "output_type": "stream",
     "text": [
      "train loss:  0.09479593195929056\n",
      "Val loss:  0.10519692845966505\n",
      "train accuracy:  0.6798839458413927\n",
      "Val accuracy:  0.6347826086956522\n",
      "Current time: 38.223 minutes. Time expected till completion: 52.785 minutes\n",
      "Epoch 43 of 100\n"
     ]
    },
    {
     "name": "stderr",
     "output_type": "stream",
     "text": [
      "100%|██████████| 130/130 [00:54<00:00,  2.39it/s]\n",
      "100%|██████████| 15/15 [00:02<00:00,  6.26it/s]\n"
     ]
    },
    {
     "name": "stdout",
     "output_type": "stream",
     "text": [
      "train loss:  0.09353278784848736\n",
      "Val loss:  0.10336385628451472\n",
      "train accuracy:  0.695357833655706\n",
      "Val accuracy:  0.6347826086956522\n",
      "Current time: 39.171 minutes. Time expected till completion: 51.924 minutes\n",
      "Epoch 44 of 100\n"
     ]
    },
    {
     "name": "stderr",
     "output_type": "stream",
     "text": [
      "100%|██████████| 130/130 [00:53<00:00,  2.42it/s]\n",
      "100%|██████████| 15/15 [00:02<00:00,  7.01it/s]\n"
     ]
    },
    {
     "name": "stdout",
     "output_type": "stream",
     "text": [
      "train loss:  0.0921026371433841\n",
      "Val loss:  0.10430283131806747\n",
      "train accuracy:  0.6769825918762089\n",
      "Val accuracy:  0.6260869565217392\n",
      "Current time: 40.100 minutes. Time expected till completion: 51.037 minutes\n",
      "Epoch 45 of 100\n"
     ]
    },
    {
     "name": "stderr",
     "output_type": "stream",
     "text": [
      "100%|██████████| 130/130 [00:54<00:00,  2.41it/s]\n",
      "100%|██████████| 15/15 [00:02<00:00,  5.92it/s]\n"
     ]
    },
    {
     "name": "stdout",
     "output_type": "stream",
     "text": [
      "train loss:  0.09223953627294913\n",
      "Val loss:  0.1040265775245169\n",
      "train accuracy:  0.6972920696324951\n",
      "Val accuracy:  0.6347826086956522\n",
      "Current time: 41.043 minutes. Time expected till completion: 50.164 minutes\n",
      "Epoch 46 of 100\n"
     ]
    },
    {
     "name": "stderr",
     "output_type": "stream",
     "text": [
      "100%|██████████| 130/130 [00:53<00:00,  2.43it/s]\n",
      "100%|██████████| 15/15 [00:02<00:00,  6.54it/s]\n"
     ]
    },
    {
     "name": "stdout",
     "output_type": "stream",
     "text": [
      "train loss:  0.09516064681444224\n",
      "Val loss:  0.10546200767807339\n",
      "train accuracy:  0.6682785299806576\n",
      "Val accuracy:  0.6086956521739131\n",
      "Current time: 41.974 minutes. Time expected till completion: 49.273 minutes\n",
      "Epoch 47 of 100\n"
     ]
    },
    {
     "name": "stderr",
     "output_type": "stream",
     "text": [
      "100%|██████████| 130/130 [00:53<00:00,  2.44it/s]\n",
      "100%|██████████| 15/15 [00:02<00:00,  6.93it/s]\n"
     ]
    },
    {
     "name": "stdout",
     "output_type": "stream",
     "text": [
      "train loss:  0.09611341311115361\n",
      "Val loss:  0.10146184874617535\n",
      "train accuracy:  0.6827852998065764\n",
      "Val accuracy:  0.6086956521739131\n",
      "Current time: 42.896 minutes. Time expected till completion: 48.373 minutes\n",
      "Epoch 48 of 100\n"
     ]
    },
    {
     "name": "stderr",
     "output_type": "stream",
     "text": [
      "100%|██████████| 130/130 [00:51<00:00,  2.51it/s]\n",
      "100%|██████████| 15/15 [00:02<00:00,  5.24it/s]\n"
     ]
    },
    {
     "name": "stdout",
     "output_type": "stream",
     "text": [
      "train loss:  0.09267489424757155\n",
      "Val loss:  0.10352558208548504\n",
      "train accuracy:  0.6847195357833655\n",
      "Val accuracy:  0.6173913043478261\n",
      "Current time: 43.809 minutes. Time expected till completion: 47.460 minutes\n",
      "Epoch 49 of 100\n"
     ]
    },
    {
     "name": "stderr",
     "output_type": "stream",
     "text": [
      "100%|██████████| 130/130 [00:54<00:00,  2.41it/s]\n",
      "100%|██████████| 15/15 [00:02<00:00,  6.85it/s]\n"
     ]
    },
    {
     "name": "stdout",
     "output_type": "stream",
     "text": [
      "train loss:  0.08941236028818836\n",
      "Val loss:  0.10621517404266026\n",
      "train accuracy:  0.7030947775628626\n",
      "Val accuracy:  0.6260869565217392\n",
      "Current time: 44.746 minutes. Time expected till completion: 46.573 minutes\n",
      "Epoch 50 of 100\n"
     ]
    },
    {
     "name": "stderr",
     "output_type": "stream",
     "text": [
      "100%|██████████| 130/130 [00:51<00:00,  2.50it/s]\n",
      "100%|██████████| 15/15 [00:02<00:00,  7.01it/s]\n"
     ]
    },
    {
     "name": "stdout",
     "output_type": "stream",
     "text": [
      "train loss:  0.08887794593662543\n",
      "Val loss:  0.10530579090118408\n",
      "train accuracy:  0.7040618955512572\n",
      "Val accuracy:  0.6434782608695652\n",
      "Current time: 45.649 minutes. Time expected till completion: 45.649 minutes\n",
      "Epoch 51 of 100\n"
     ]
    },
    {
     "name": "stderr",
     "output_type": "stream",
     "text": [
      "100%|██████████| 130/130 [00:52<00:00,  2.49it/s]\n",
      "100%|██████████| 15/15 [00:02<00:00,  5.77it/s]\n"
     ]
    },
    {
     "name": "stdout",
     "output_type": "stream",
     "text": [
      "train loss:  0.09272443271121389\n",
      "Val loss:  0.1026514320269875\n",
      "train accuracy:  0.6856866537717602\n",
      "Val accuracy:  0.6434782608695652\n",
      "Current time: 46.563 minutes. Time expected till completion: 44.737 minutes\n",
      "Epoch 52 of 100\n"
     ]
    },
    {
     "name": "stderr",
     "output_type": "stream",
     "text": [
      "100%|██████████| 130/130 [00:53<00:00,  2.42it/s]\n",
      "100%|██████████| 15/15 [00:02<00:00,  6.05it/s]\n"
     ]
    },
    {
     "name": "stdout",
     "output_type": "stream",
     "text": [
      "train loss:  0.09027085964868793\n",
      "Val loss:  0.10294642500255419\n",
      "train accuracy:  0.695357833655706\n",
      "Val accuracy:  0.591304347826087\n",
      "Current time: 47.499 minutes. Time expected till completion: 43.846 minutes\n",
      "Epoch 53 of 100\n"
     ]
    },
    {
     "name": "stderr",
     "output_type": "stream",
     "text": [
      "100%|██████████| 130/130 [00:53<00:00,  2.44it/s]\n",
      "100%|██████████| 15/15 [00:02<00:00,  6.13it/s]\n"
     ]
    },
    {
     "name": "stdout",
     "output_type": "stream",
     "text": [
      "train loss:  0.09069108219395754\n",
      "Val loss:  0.10090598049371138\n",
      "train accuracy:  0.6934235976789168\n",
      "Val accuracy:  0.6695652173913044\n",
      "Current time: 48.427 minutes. Time expected till completion: 42.945 minutes\n",
      "Epoch 54 of 100\n"
     ]
    },
    {
     "name": "stderr",
     "output_type": "stream",
     "text": [
      "100%|██████████| 130/130 [00:53<00:00,  2.44it/s]\n",
      "100%|██████████| 15/15 [00:02<00:00,  6.81it/s]\n"
     ]
    },
    {
     "name": "stdout",
     "output_type": "stream",
     "text": [
      "train loss:  0.08955800002963216\n",
      "Val loss:  0.10556601337764575\n",
      "train accuracy:  0.7050290135396519\n",
      "Val accuracy:  0.6260869565217392\n",
      "Current time: 49.353 minutes. Time expected till completion: 42.041 minutes\n",
      "Epoch 55 of 100\n"
     ]
    },
    {
     "name": "stderr",
     "output_type": "stream",
     "text": [
      "100%|██████████| 130/130 [00:52<00:00,  2.48it/s]\n",
      "100%|██████████| 15/15 [00:02<00:00,  6.56it/s]\n"
     ]
    },
    {
     "name": "stdout",
     "output_type": "stream",
     "text": [
      "train loss:  0.08736771013681385\n",
      "Val loss:  0.1070502142543378\n",
      "train accuracy:  0.7224371373307543\n",
      "Val accuracy:  0.6434782608695652\n",
      "Current time: 50.266 minutes. Time expected till completion: 41.127 minutes\n",
      "Epoch 56 of 100\n"
     ]
    },
    {
     "name": "stderr",
     "output_type": "stream",
     "text": [
      "100%|██████████| 130/130 [00:52<00:00,  2.49it/s]\n",
      "100%|██████████| 15/15 [00:02<00:00,  6.61it/s]\n"
     ]
    },
    {
     "name": "stdout",
     "output_type": "stream",
     "text": [
      "train loss:  0.08538188210308437\n",
      "Val loss:  0.10653685720070549\n",
      "train accuracy:  0.7059961315280464\n",
      "Val accuracy:  0.6260869565217392\n",
      "Current time: 51.176 minutes. Time expected till completion: 40.210 minutes\n",
      "Epoch 57 of 100\n"
     ]
    },
    {
     "name": "stderr",
     "output_type": "stream",
     "text": [
      "100%|██████████| 130/130 [00:52<00:00,  2.49it/s]\n",
      "100%|██████████| 15/15 [00:02<00:00,  6.87it/s]\n"
     ]
    },
    {
     "name": "stdout",
     "output_type": "stream",
     "text": [
      "train loss:  0.08823441853836841\n",
      "Val loss:  0.1066467971905418\n",
      "train accuracy:  0.706963249516441\n",
      "Val accuracy:  0.6260869565217392\n",
      "Current time: 52.081 minutes. Time expected till completion: 39.289 minutes\n",
      "Epoch 58 of 100\n"
     ]
    },
    {
     "name": "stderr",
     "output_type": "stream",
     "text": [
      "100%|██████████| 130/130 [00:52<00:00,  2.49it/s]\n",
      "100%|██████████| 15/15 [00:02<00:00,  6.70it/s]\n"
     ]
    },
    {
     "name": "stdout",
     "output_type": "stream",
     "text": [
      "train loss:  0.08789605367748604\n",
      "Val loss:  0.10517564623252205\n",
      "train accuracy:  0.695357833655706\n",
      "Val accuracy:  0.6086956521739131\n",
      "Current time: 52.987 minutes. Time expected till completion: 38.370 minutes\n",
      "Epoch 59 of 100\n"
     ]
    },
    {
     "name": "stderr",
     "output_type": "stream",
     "text": [
      "100%|██████████| 130/130 [00:52<00:00,  2.50it/s]\n",
      "100%|██████████| 15/15 [00:02<00:00,  6.51it/s]\n"
     ]
    },
    {
     "name": "stdout",
     "output_type": "stream",
     "text": [
      "train loss:  0.08802237083533747\n",
      "Val loss:  0.10811447617800339\n",
      "train accuracy:  0.7059961315280464\n",
      "Val accuracy:  0.6434782608695652\n",
      "Current time: 53.894 minutes. Time expected till completion: 37.452 minutes\n",
      "Epoch 60 of 100\n"
     ]
    },
    {
     "name": "stderr",
     "output_type": "stream",
     "text": [
      "100%|██████████| 130/130 [00:51<00:00,  2.51it/s]\n",
      "100%|██████████| 15/15 [00:02<00:00,  6.63it/s]\n"
     ]
    },
    {
     "name": "stdout",
     "output_type": "stream",
     "text": [
      "train loss:  0.08854742221375729\n",
      "Val loss:  0.1046524641306504\n",
      "train accuracy:  0.7030947775628626\n",
      "Val accuracy:  0.6608695652173913\n",
      "Current time: 54.795 minutes. Time expected till completion: 36.530 minutes\n",
      "Epoch 61 of 100\n"
     ]
    },
    {
     "name": "stderr",
     "output_type": "stream",
     "text": [
      "100%|██████████| 130/130 [00:51<00:00,  2.51it/s]\n",
      "100%|██████████| 15/15 [00:02<00:00,  6.95it/s]\n"
     ]
    },
    {
     "name": "stdout",
     "output_type": "stream",
     "text": [
      "train loss:  0.0870445755452667\n",
      "Val loss:  0.10460370662419692\n",
      "train accuracy:  0.706963249516441\n",
      "Val accuracy:  0.6173913043478261\n",
      "Current time: 55.695 minutes. Time expected till completion: 35.608 minutes\n",
      "Epoch 62 of 100\n"
     ]
    },
    {
     "name": "stderr",
     "output_type": "stream",
     "text": [
      "100%|██████████| 130/130 [00:51<00:00,  2.51it/s]\n",
      "100%|██████████| 15/15 [00:02<00:00,  6.96it/s]\n"
     ]
    },
    {
     "name": "stdout",
     "output_type": "stream",
     "text": [
      "train loss:  0.08440795483164908\n",
      "Val loss:  0.10603847140851227\n",
      "train accuracy:  0.7253384912959381\n",
      "Val accuracy:  0.5826086956521739\n",
      "Current time: 56.593 minutes. Time expected till completion: 34.686 minutes\n",
      "Epoch 63 of 100\n"
     ]
    },
    {
     "name": "stderr",
     "output_type": "stream",
     "text": [
      "100%|██████████| 130/130 [00:51<00:00,  2.51it/s]\n",
      "100%|██████████| 15/15 [00:02<00:00,  6.60it/s]\n"
     ]
    },
    {
     "name": "stdout",
     "output_type": "stream",
     "text": [
      "train loss:  0.08632031942013385\n",
      "Val loss:  0.10120275020599365\n",
      "train accuracy:  0.7059961315280464\n",
      "Val accuracy:  0.6521739130434783\n",
      "Current time: 57.495 minutes. Time expected till completion: 33.767 minutes\n",
      "Epoch 64 of 100\n"
     ]
    },
    {
     "name": "stderr",
     "output_type": "stream",
     "text": [
      "100%|██████████| 130/130 [00:51<00:00,  2.51it/s]\n",
      "100%|██████████| 15/15 [00:02<00:00,  6.90it/s]\n"
     ]
    },
    {
     "name": "stdout",
     "output_type": "stream",
     "text": [
      "train loss:  0.08657095674965783\n",
      "Val loss:  0.10547287697377412\n",
      "train accuracy:  0.7137330754352031\n",
      "Val accuracy:  0.6260869565217392\n",
      "Current time: 58.394 minutes. Time expected till completion: 32.847 minutes\n",
      "Epoch 65 of 100\n"
     ]
    },
    {
     "name": "stderr",
     "output_type": "stream",
     "text": [
      "100%|██████████| 130/130 [00:51<00:00,  2.51it/s]\n",
      "100%|██████████| 15/15 [00:02<00:00,  6.84it/s]\n"
     ]
    },
    {
     "name": "stdout",
     "output_type": "stream",
     "text": [
      "train loss:  0.08268970202085359\n",
      "Val loss:  0.1075799822807312\n",
      "train accuracy:  0.7127659574468085\n",
      "Val accuracy:  0.6347826086956522\n",
      "Current time: 59.293 minutes. Time expected till completion: 31.927 minutes\n",
      "Epoch 66 of 100\n"
     ]
    },
    {
     "name": "stderr",
     "output_type": "stream",
     "text": [
      "100%|██████████| 130/130 [00:51<00:00,  2.51it/s]\n",
      "100%|██████████| 15/15 [00:02<00:00,  6.71it/s]\n"
     ]
    },
    {
     "name": "stdout",
     "output_type": "stream",
     "text": [
      "train loss:  0.08257114279085709\n",
      "Val loss:  0.10718180096667745\n",
      "train accuracy:  0.7205029013539652\n",
      "Val accuracy:  0.6434782608695652\n",
      "Current time: 60.193 minutes. Time expected till completion: 31.008 minutes\n",
      "Epoch 67 of 100\n"
     ]
    },
    {
     "name": "stderr",
     "output_type": "stream",
     "text": [
      "100%|██████████| 130/130 [00:51<00:00,  2.51it/s]\n",
      "100%|██████████| 15/15 [00:02<00:00,  6.84it/s]\n"
     ]
    },
    {
     "name": "stdout",
     "output_type": "stream",
     "text": [
      "train loss:  0.08390143670761378\n",
      "Val loss:  0.109217318503753\n",
      "train accuracy:  0.7253384912959381\n",
      "Val accuracy:  0.6086956521739131\n",
      "Current time: 61.092 minutes. Time expected till completion: 30.090 minutes\n",
      "Epoch 68 of 100\n"
     ]
    },
    {
     "name": "stderr",
     "output_type": "stream",
     "text": [
      "100%|██████████| 130/130 [00:51<00:00,  2.52it/s]\n",
      "100%|██████████| 15/15 [00:02<00:00,  6.73it/s]\n"
     ]
    },
    {
     "name": "stdout",
     "output_type": "stream",
     "text": [
      "train loss:  0.08119799666524626\n",
      "Val loss:  0.1060462272685507\n",
      "train accuracy:  0.7224371373307543\n",
      "Val accuracy:  0.6608695652173913\n",
      "Current time: 61.991 minutes. Time expected till completion: 29.172 minutes\n",
      "Epoch 69 of 100\n"
     ]
    },
    {
     "name": "stderr",
     "output_type": "stream",
     "text": [
      "100%|██████████| 130/130 [00:51<00:00,  2.51it/s]\n",
      "100%|██████████| 15/15 [00:02<00:00,  6.81it/s]\n"
     ]
    },
    {
     "name": "stdout",
     "output_type": "stream",
     "text": [
      "train loss:  0.08214340583786973\n",
      "Val loss:  0.10503101193386576\n",
      "train accuracy:  0.7166344294003868\n",
      "Val accuracy:  0.6260869565217392\n",
      "Current time: 62.891 minutes. Time expected till completion: 28.255 minutes\n",
      "Epoch 70 of 100\n"
     ]
    },
    {
     "name": "stderr",
     "output_type": "stream",
     "text": [
      "100%|██████████| 130/130 [00:51<00:00,  2.52it/s]\n",
      "100%|██████████| 15/15 [00:02<00:00,  6.93it/s]\n"
     ]
    },
    {
     "name": "stdout",
     "output_type": "stream",
     "text": [
      "train loss:  0.08138032416079907\n",
      "Val loss:  0.10922298172245855\n",
      "train accuracy:  0.7475822050290135\n",
      "Val accuracy:  0.6260869565217392\n",
      "Current time: 63.786 minutes. Time expected till completion: 27.337 minutes\n",
      "Epoch 71 of 100\n"
     ]
    },
    {
     "name": "stderr",
     "output_type": "stream",
     "text": [
      "100%|██████████| 130/130 [00:51<00:00,  2.51it/s]\n",
      "100%|██████████| 15/15 [00:02<00:00,  6.63it/s]\n"
     ]
    },
    {
     "name": "stdout",
     "output_type": "stream",
     "text": [
      "train loss:  0.08055465682851046\n",
      "Val loss:  0.10824282013851663\n",
      "train accuracy:  0.7311411992263056\n",
      "Val accuracy:  0.6173913043478261\n",
      "Current time: 64.688 minutes. Time expected till completion: 26.422 minutes\n",
      "Epoch 72 of 100\n"
     ]
    },
    {
     "name": "stderr",
     "output_type": "stream",
     "text": [
      "100%|██████████| 130/130 [00:51<00:00,  2.52it/s]\n",
      "100%|██████████| 15/15 [00:02<00:00,  6.86it/s]\n"
     ]
    },
    {
     "name": "stdout",
     "output_type": "stream",
     "text": [
      "train loss:  0.08089997349901402\n",
      "Val loss:  0.11075060004773347\n",
      "train accuracy:  0.723404255319149\n",
      "Val accuracy:  0.6347826086956522\n",
      "Current time: 65.585 minutes. Time expected till completion: 25.505 minutes\n",
      "Epoch 73 of 100\n"
     ]
    },
    {
     "name": "stderr",
     "output_type": "stream",
     "text": [
      "100%|██████████| 130/130 [00:51<00:00,  2.51it/s]\n",
      "100%|██████████| 15/15 [00:02<00:00,  6.82it/s]\n"
     ]
    },
    {
     "name": "stdout",
     "output_type": "stream",
     "text": [
      "train loss:  0.0780188936300619\n",
      "Val loss:  0.11001083760157876\n",
      "train accuracy:  0.7601547388781431\n",
      "Val accuracy:  0.6347826086956522\n",
      "Current time: 66.486 minutes. Time expected till completion: 24.591 minutes\n",
      "Epoch 74 of 100\n"
     ]
    },
    {
     "name": "stderr",
     "output_type": "stream",
     "text": [
      "100%|██████████| 130/130 [00:51<00:00,  2.52it/s]\n",
      "100%|██████████| 15/15 [00:02<00:00,  6.54it/s]\n"
     ]
    },
    {
     "name": "stdout",
     "output_type": "stream",
     "text": [
      "train loss:  0.08011589063839479\n",
      "Val loss:  0.11680677377659342\n",
      "train accuracy:  0.7388781431334622\n",
      "Val accuracy:  0.6\n",
      "Current time: 67.386 minutes. Time expected till completion: 23.676 minutes\n",
      "Epoch 75 of 100\n"
     ]
    },
    {
     "name": "stderr",
     "output_type": "stream",
     "text": [
      "100%|██████████| 130/130 [00:51<00:00,  2.50it/s]\n",
      "100%|██████████| 15/15 [00:02<00:00,  6.89it/s]\n"
     ]
    },
    {
     "name": "stdout",
     "output_type": "stream",
     "text": [
      "train loss:  0.07519222425595935\n",
      "Val loss:  0.11130661808926126\n",
      "train accuracy:  0.7562862669245648\n",
      "Val accuracy:  0.6\n",
      "Current time: 68.287 minutes. Time expected till completion: 22.762 minutes\n",
      "Epoch 76 of 100\n"
     ]
    },
    {
     "name": "stderr",
     "output_type": "stream",
     "text": [
      "100%|██████████| 130/130 [00:51<00:00,  2.52it/s]\n",
      "100%|██████████| 15/15 [00:02<00:00,  6.66it/s]\n"
     ]
    },
    {
     "name": "stdout",
     "output_type": "stream",
     "text": [
      "train loss:  0.07817022084498082\n",
      "Val loss:  0.1129753422477971\n",
      "train accuracy:  0.7514506769825918\n",
      "Val accuracy:  0.6\n",
      "Current time: 69.186 minutes. Time expected till completion: 21.848 minutes\n",
      "Epoch 77 of 100\n"
     ]
    },
    {
     "name": "stderr",
     "output_type": "stream",
     "text": [
      "100%|██████████| 130/130 [00:51<00:00,  2.52it/s]\n",
      "100%|██████████| 15/15 [00:02<00:00,  6.94it/s]\n"
     ]
    },
    {
     "name": "stdout",
     "output_type": "stream",
     "text": [
      "train loss:  0.07482238982874374\n",
      "Val loss:  0.11372490913971611\n",
      "train accuracy:  0.7707930367504836\n",
      "Val accuracy:  0.6173913043478261\n",
      "Current time: 70.083 minutes. Time expected till completion: 20.934 minutes\n",
      "Epoch 78 of 100\n"
     ]
    },
    {
     "name": "stderr",
     "output_type": "stream",
     "text": [
      "100%|██████████| 130/130 [00:51<00:00,  2.50it/s]\n",
      "100%|██████████| 15/15 [00:02<00:00,  6.89it/s]\n"
     ]
    },
    {
     "name": "stdout",
     "output_type": "stream",
     "text": [
      "train loss:  0.07442271170463968\n",
      "Val loss:  0.11185913008192311\n",
      "train accuracy:  0.7591876208897486\n",
      "Val accuracy:  0.6521739130434783\n",
      "Current time: 70.985 minutes. Time expected till completion: 20.021 minutes\n",
      "Epoch 79 of 100\n"
     ]
    },
    {
     "name": "stderr",
     "output_type": "stream",
     "text": [
      "100%|██████████| 130/130 [00:51<00:00,  2.51it/s]\n",
      "100%|██████████| 15/15 [00:02<00:00,  6.59it/s]\n"
     ]
    },
    {
     "name": "stdout",
     "output_type": "stream",
     "text": [
      "train loss:  0.0775333182954696\n",
      "Val loss:  0.10948380620583244\n",
      "train accuracy:  0.7408123791102514\n",
      "Val accuracy:  0.6260869565217392\n",
      "Current time: 71.885 minutes. Time expected till completion: 19.109 minutes\n",
      "Epoch 80 of 100\n"
     ]
    },
    {
     "name": "stderr",
     "output_type": "stream",
     "text": [
      "100%|██████████| 130/130 [00:51<00:00,  2.52it/s]\n",
      "100%|██████████| 15/15 [00:02<00:00,  6.90it/s]\n"
     ]
    },
    {
     "name": "stdout",
     "output_type": "stream",
     "text": [
      "train loss:  0.07434510696153346\n",
      "Val loss:  0.10937787242557691\n",
      "train accuracy:  0.7640232108317214\n",
      "Val accuracy:  0.6521739130434783\n",
      "Current time: 72.783 minutes. Time expected till completion: 18.196 minutes\n",
      "Epoch 81 of 100\n"
     ]
    },
    {
     "name": "stderr",
     "output_type": "stream",
     "text": [
      "100%|██████████| 130/130 [00:51<00:00,  2.52it/s]\n",
      "100%|██████████| 15/15 [00:02<00:00,  6.83it/s]\n"
     ]
    },
    {
     "name": "stdout",
     "output_type": "stream",
     "text": [
      "train loss:  0.07512794188593065\n",
      "Val loss:  0.11576489184213722\n",
      "train accuracy:  0.7514506769825918\n",
      "Val accuracy:  0.6086956521739131\n",
      "Current time: 73.679 minutes. Time expected till completion: 17.283 minutes\n",
      "Epoch 82 of 100\n"
     ]
    },
    {
     "name": "stderr",
     "output_type": "stream",
     "text": [
      "100%|██████████| 130/130 [00:51<00:00,  2.51it/s]\n",
      "100%|██████████| 15/15 [00:02<00:00,  6.51it/s]\n"
     ]
    },
    {
     "name": "stdout",
     "output_type": "stream",
     "text": [
      "train loss:  0.07781585840584\n",
      "Val loss:  0.11063843110333318\n",
      "train accuracy:  0.7504835589941973\n",
      "Val accuracy:  0.6608695652173913\n",
      "Current time: 74.579 minutes. Time expected till completion: 16.371 minutes\n",
      "Epoch 83 of 100\n"
     ]
    },
    {
     "name": "stderr",
     "output_type": "stream",
     "text": [
      "100%|██████████| 130/130 [00:51<00:00,  2.52it/s]\n",
      "100%|██████████| 15/15 [00:02<00:00,  6.87it/s]\n"
     ]
    },
    {
     "name": "stdout",
     "output_type": "stream",
     "text": [
      "train loss:  0.0719235917441619\n",
      "Val loss:  0.11049951522246651\n",
      "train accuracy:  0.7736943907156673\n",
      "Val accuracy:  0.6434782608695652\n",
      "Current time: 75.476 minutes. Time expected till completion: 15.459 minutes\n",
      "Epoch 84 of 100\n"
     ]
    },
    {
     "name": "stderr",
     "output_type": "stream",
     "text": [
      "100%|██████████| 130/130 [00:51<00:00,  2.51it/s]\n",
      "100%|██████████| 15/15 [00:02<00:00,  6.76it/s]\n"
     ]
    },
    {
     "name": "stdout",
     "output_type": "stream",
     "text": [
      "train loss:  0.07415615497751439\n",
      "Val loss:  0.11371466310127921\n",
      "train accuracy:  0.7591876208897486\n",
      "Val accuracy:  0.6434782608695652\n",
      "Current time: 76.378 minutes. Time expected till completion: 14.548 minutes\n",
      "Epoch 85 of 100\n"
     ]
    },
    {
     "name": "stderr",
     "output_type": "stream",
     "text": [
      "100%|██████████| 130/130 [00:51<00:00,  2.51it/s]\n",
      "100%|██████████| 15/15 [00:02<00:00,  6.81it/s]\n"
     ]
    },
    {
     "name": "stdout",
     "output_type": "stream",
     "text": [
      "train loss:  0.0733961368148977\n",
      "Val loss:  0.1094562001850294\n",
      "train accuracy:  0.7649903288201161\n",
      "Val accuracy:  0.6521739130434783\n",
      "Current time: 77.278 minutes. Time expected till completion: 13.637 minutes\n",
      "Epoch 86 of 100\n"
     ]
    },
    {
     "name": "stderr",
     "output_type": "stream",
     "text": [
      "100%|██████████| 130/130 [00:51<00:00,  2.53it/s]\n",
      "100%|██████████| 15/15 [00:02<00:00,  6.86it/s]\n"
     ]
    },
    {
     "name": "stdout",
     "output_type": "stream",
     "text": [
      "train loss:  0.07085759092547446\n",
      "Val loss:  0.12093455558237823\n",
      "train accuracy:  0.7736943907156673\n",
      "Val accuracy:  0.6\n",
      "Current time: 78.173 minutes. Time expected till completion: 12.726 minutes\n",
      "Epoch 87 of 100\n"
     ]
    },
    {
     "name": "stderr",
     "output_type": "stream",
     "text": [
      "100%|██████████| 130/130 [00:51<00:00,  2.51it/s]\n",
      "100%|██████████| 15/15 [00:02<00:00,  6.55it/s]\n"
     ]
    },
    {
     "name": "stdout",
     "output_type": "stream",
     "text": [
      "train loss:  0.07258569522683349\n",
      "Val loss:  0.11281407993772756\n",
      "train accuracy:  0.7746615087040619\n",
      "Val accuracy:  0.6260869565217392\n",
      "Current time: 79.073 minutes. Time expected till completion: 11.816 minutes\n",
      "Epoch 88 of 100\n"
     ]
    },
    {
     "name": "stderr",
     "output_type": "stream",
     "text": [
      "100%|██████████| 130/130 [00:51<00:00,  2.51it/s]\n",
      "100%|██████████| 15/15 [00:02<00:00,  6.79it/s]\n"
     ]
    },
    {
     "name": "stdout",
     "output_type": "stream",
     "text": [
      "train loss:  0.07328271658323719\n",
      "Val loss:  0.11012726801892986\n",
      "train accuracy:  0.7620889748549323\n",
      "Val accuracy:  0.6434782608695652\n",
      "Current time: 79.972 minutes. Time expected till completion: 10.905 minutes\n",
      "Epoch 89 of 100\n"
     ]
    },
    {
     "name": "stderr",
     "output_type": "stream",
     "text": [
      "100%|██████████| 130/130 [00:52<00:00,  2.50it/s]\n",
      "100%|██████████| 15/15 [00:02<00:00,  6.46it/s]\n"
     ]
    },
    {
     "name": "stdout",
     "output_type": "stream",
     "text": [
      "train loss:  0.07192245533606992\n",
      "Val loss:  0.11312785342983578\n",
      "train accuracy:  0.7843326885880078\n",
      "Val accuracy:  0.6173913043478261\n",
      "Current time: 80.878 minutes. Time expected till completion: 9.996 minutes\n",
      "Epoch 90 of 100\n"
     ]
    },
    {
     "name": "stderr",
     "output_type": "stream",
     "text": [
      "100%|██████████| 130/130 [00:51<00:00,  2.51it/s]\n",
      "100%|██████████| 15/15 [00:02<00:00,  6.44it/s]\n"
     ]
    },
    {
     "name": "stdout",
     "output_type": "stream",
     "text": [
      "train loss:  0.06957177778911314\n",
      "Val loss:  0.112622265258561\n",
      "train accuracy:  0.7978723404255319\n",
      "Val accuracy:  0.6173913043478261\n",
      "Current time: 81.781 minutes. Time expected till completion: 9.087 minutes\n",
      "Epoch 91 of 100\n"
     ]
    },
    {
     "name": "stderr",
     "output_type": "stream",
     "text": [
      "100%|██████████| 130/130 [00:51<00:00,  2.51it/s]\n",
      "100%|██████████| 15/15 [00:02<00:00,  6.93it/s]\n"
     ]
    },
    {
     "name": "stdout",
     "output_type": "stream",
     "text": [
      "train loss:  0.06822598270164007\n",
      "Val loss:  0.11494373258041299\n",
      "train accuracy:  0.7920696324951644\n",
      "Val accuracy:  0.6173913043478261\n",
      "Current time: 82.680 minutes. Time expected till completion: 8.177 minutes\n",
      "Epoch 92 of 100\n"
     ]
    },
    {
     "name": "stderr",
     "output_type": "stream",
     "text": [
      "100%|██████████| 130/130 [00:51<00:00,  2.51it/s]\n",
      "100%|██████████| 15/15 [00:02<00:00,  6.79it/s]\n"
     ]
    },
    {
     "name": "stdout",
     "output_type": "stream",
     "text": [
      "train loss:  0.06624520684608638\n",
      "Val loss:  0.11870334828677384\n",
      "train accuracy:  0.7872340425531915\n",
      "Val accuracy:  0.6347826086956522\n",
      "Current time: 83.579 minutes. Time expected till completion: 7.268 minutes\n",
      "Epoch 93 of 100\n"
     ]
    },
    {
     "name": "stderr",
     "output_type": "stream",
     "text": [
      "100%|██████████| 130/130 [00:51<00:00,  2.51it/s]\n",
      "100%|██████████| 15/15 [00:02<00:00,  6.84it/s]\n"
     ]
    },
    {
     "name": "stdout",
     "output_type": "stream",
     "text": [
      "train loss:  0.0659433930997\n",
      "Val loss:  0.11572973371847817\n",
      "train accuracy:  0.7998065764023211\n",
      "Val accuracy:  0.6347826086956522\n",
      "Current time: 84.479 minutes. Time expected till completion: 6.359 minutes\n",
      "Epoch 94 of 100\n"
     ]
    },
    {
     "name": "stderr",
     "output_type": "stream",
     "text": [
      "100%|██████████| 130/130 [00:51<00:00,  2.51it/s]\n",
      "100%|██████████| 15/15 [00:02<00:00,  6.93it/s]\n"
     ]
    },
    {
     "name": "stdout",
     "output_type": "stream",
     "text": [
      "train loss:  0.06292085634901169\n",
      "Val loss:  0.11763124815795732\n",
      "train accuracy:  0.8143133462282398\n",
      "Val accuracy:  0.6434782608695652\n",
      "Current time: 85.377 minutes. Time expected till completion: 5.450 minutes\n",
      "Epoch 95 of 100\n"
     ]
    },
    {
     "name": "stderr",
     "output_type": "stream",
     "text": [
      "100%|██████████| 130/130 [00:51<00:00,  2.50it/s]\n",
      "100%|██████████| 15/15 [00:02<00:00,  6.54it/s]\n"
     ]
    },
    {
     "name": "stdout",
     "output_type": "stream",
     "text": [
      "train loss:  0.06754227687300289\n",
      "Val loss:  0.12014599494312121\n",
      "train accuracy:  0.7911025145067698\n",
      "Val accuracy:  0.6521739130434783\n",
      "Current time: 86.281 minutes. Time expected till completion: 4.541 minutes\n",
      "Epoch 96 of 100\n"
     ]
    },
    {
     "name": "stderr",
     "output_type": "stream",
     "text": [
      "100%|██████████| 130/130 [00:51<00:00,  2.51it/s]\n",
      "100%|██████████| 15/15 [00:02<00:00,  6.81it/s]\n"
     ]
    },
    {
     "name": "stdout",
     "output_type": "stream",
     "text": [
      "train loss:  0.06652859654601814\n",
      "Val loss:  0.12520110879255378\n",
      "train accuracy:  0.7862669245647969\n",
      "Val accuracy:  0.6260869565217392\n",
      "Current time: 87.181 minutes. Time expected till completion: 3.633 minutes\n",
      "Epoch 97 of 100\n"
     ]
    },
    {
     "name": "stderr",
     "output_type": "stream",
     "text": [
      "100%|██████████| 130/130 [00:51<00:00,  2.52it/s]\n",
      "100%|██████████| 15/15 [00:02<00:00,  6.87it/s]\n"
     ]
    },
    {
     "name": "stdout",
     "output_type": "stream",
     "text": [
      "train loss:  0.06709496470841955\n",
      "Val loss:  0.13355516661768374\n",
      "train accuracy:  0.781431334622824\n",
      "Val accuracy:  0.6521739130434783\n",
      "Current time: 88.079 minutes. Time expected till completion: 2.724 minutes\n",
      "Epoch 98 of 100\n"
     ]
    },
    {
     "name": "stderr",
     "output_type": "stream",
     "text": [
      "100%|██████████| 130/130 [00:51<00:00,  2.51it/s]\n",
      "100%|██████████| 15/15 [00:02<00:00,  6.58it/s]\n"
     ]
    },
    {
     "name": "stdout",
     "output_type": "stream",
     "text": [
      "train loss:  0.06278851435193702\n",
      "Val loss:  0.11723342615625133\n",
      "train accuracy:  0.804642166344294\n",
      "Val accuracy:  0.6347826086956522\n",
      "Current time: 88.980 minutes. Time expected till completion: 1.816 minutes\n",
      "Epoch 99 of 100\n"
     ]
    },
    {
     "name": "stderr",
     "output_type": "stream",
     "text": [
      "100%|██████████| 130/130 [00:51<00:00,  2.51it/s]\n",
      "100%|██████████| 15/15 [00:02<00:00,  6.81it/s]\n"
     ]
    },
    {
     "name": "stdout",
     "output_type": "stream",
     "text": [
      "train loss:  0.06591070173902715\n",
      "Val loss:  0.11475133332221404\n",
      "train accuracy:  0.7988394584139265\n",
      "Val accuracy:  0.6695652173913044\n",
      "Current time: 89.879 minutes. Time expected till completion: 0.908 minutes\n",
      "Epoch 100 of 100\n"
     ]
    },
    {
     "name": "stderr",
     "output_type": "stream",
     "text": [
      "100%|██████████| 130/130 [00:51<00:00,  2.52it/s]\n",
      "100%|██████████| 15/15 [00:02<00:00,  6.78it/s]\n"
     ]
    },
    {
     "name": "stdout",
     "output_type": "stream",
     "text": [
      "train loss:  0.06395600530061316\n",
      "Val loss:  0.12442220358744911\n",
      "train accuracy:  0.7959381044487428\n",
      "Val accuracy:  0.6347826086956522\n",
      "Saving model 2 checkpoint\n"
     ]
    },
    {
     "data": {
      "image/png": "[encoded data removed]",
      "text/plain": [
       "<Figure size 1500x600 with 2 Axes>"
      ]
     },
     "metadata": {},
     "output_type": "display_data"
    },
    {
     "data": {
      "image/png": "[encoded data removed]",
      "text/plain": [
       "<Figure size 1500x600 with 2 Axes>"
      ]
     },
     "metadata": {},
     "output_type": "display_data"
    },
    {
     "name": "stdout",
     "output_type": "stream",
     "text": [
      "Current time: 90.861 minutes. Time expected till completion: 0.000 minutes\n",
      "Finished training in: 90.861 minutes\n"
     ]
    }
   ],
   "source": [
    "\n",
    "best_model_val_acc = -1\n",
    "\n",
    "train_loss, val_loss = [], []\n",
    "train_accuracy, val_accuracy = [], []\n",
    "\n",
    "# Load checkpoints\n",
    "names = os.listdir(model_checkpoints)\n",
    "for elem in names:\n",
    "    if(elem==\"metrics_losss_accuracy_m2.csv\"):\n",
    "        print(\"Loading Metrics\")\n",
    "        dd = pd.read_csv(model_checkpoints + \"metrics_losss_accuracy_m2.csv\")\n",
    "        train_loss = dd[\"train_loss\"].tolist()\n",
    "        val_loss = dd[\"val_loss\"].tolist()\n",
    "        train_accuracy = dd[\"train_accuracy\"].tolist()\n",
    "        val_accuracy = dd[\"val_accuracy\"].tolist()\n",
    "\n",
    "# count time\n",
    "start = time.time()\n",
    "for epoch in range(model_epoch_m2_check, model_epochs):\n",
    "    # Print current epoch\n",
    "    print(f\"Epoch {epoch + 1} of {model_epochs}\")\n",
    "    \n",
    "    if(epoch%10 == 0):\n",
    "        update_optimizer(optimizer_2, 0.001)\n",
    "        \n",
    "    ############################################################################\n",
    "    ################################ Train model ############################### \n",
    "    ############################################################################\n",
    "    modelpy.train()\n",
    "    running_loss=0\n",
    "    total=0\n",
    "    correct=0\n",
    "    # loop for every training batch (one epoch)\n",
    "    for bi, data in tqdm(enumerate(train_loader), total=len(train_loader)): # use tqdm package to track running time\n",
    "        \n",
    "        # Get the tensors\n",
    "        images = data[0].to(device)# use the gpu\n",
    "        labels = data[1].to(device)# use the gpu\n",
    "        \n",
    "        # Optimize second model\n",
    "        \n",
    "        #create the output from the CNN base on the give batch images\n",
    "        out_m2 = modelpy(images)\n",
    "        # count the loss function \n",
    "        loss_2 = criterion_2(out_m2, labels)    \n",
    "        \n",
    "        # BackPropagate on model 2\n",
    "        ######################\n",
    "        optimizer_2.zero_grad()\n",
    "        ######################\n",
    "        # count the backpropagation\n",
    "        loss_2.backward()\n",
    "        # learning\n",
    "        optimizer_2.step()\n",
    "        \n",
    "        \n",
    "        \n",
    "        # add new value to the main loss\n",
    "        running_loss += loss_2.item()\n",
    "        \n",
    "        # calculate accuracy\n",
    "        predictions = torch.argmax(out_m2, dim=1)\n",
    "        total += labels.size(0)\n",
    "        correct +=(predictions == labels).sum().item()\n",
    "        \n",
    "        \n",
    "    train_epoch_loss = running_loss/len(train_loader.dataset)\n",
    "    \n",
    "    train_epoch_accuracy = correct/total\n",
    "    \n",
    "    ############################################################################\n",
    "    ################################ Eval model ################################ \n",
    "    ############################################################################\n",
    "    modelpy.eval()\n",
    "    running_loss = 0.0\n",
    "    correct=0\n",
    "    total=0\n",
    "    with torch.no_grad():\n",
    "        for bi, data in tqdm(enumerate(valid_loader), total=len(valid_loader)):\n",
    "            # Get the tensors\n",
    "            images = data[0].to(device)# use the gpu\n",
    "            label = data[1].to(device)# use the gpu\n",
    "            \n",
    "            #create the output from the CNN base on the give batch images\n",
    "            outputs = modelpy(images)\n",
    "            # count the loss function\n",
    "            loss = criterion_2(outputs, label)\n",
    "            \n",
    "            # Add loss of each item (total items in a batch = batch size) .\n",
    "            running_loss += loss.item()\n",
    "            \n",
    "            # calculate accuracy\n",
    "            predictions = torch.argmax(outputs, dim=1)\n",
    "            total += label.size(0)\n",
    "            correct +=(predictions == label).sum().item()\n",
    "            \n",
    "    val_epoch_loss = running_loss/len(valid_loader.dataset) \n",
    "    val_epoch_accuracy = correct/total\n",
    "    \n",
    "    \n",
    "    print(\"train loss: \", train_epoch_loss)\n",
    "    print(\"Val loss: \", val_epoch_loss)\n",
    "    print(\"train accuracy: \", train_epoch_accuracy)\n",
    "    print(\"Val accuracy: \", val_epoch_accuracy)\n",
    "\n",
    "    \n",
    "    # save results\n",
    "    train_loss.append(train_epoch_loss)\n",
    "    val_loss.append(val_epoch_loss)\n",
    "    train_accuracy.append(train_epoch_accuracy)\n",
    "    val_accuracy.append(val_epoch_accuracy)\n",
    "    \n",
    "    # Save best model\n",
    "    if(best_model_val_acc < val_epoch_accuracy):\n",
    "        print(f\"Best model at the moment with Val_acc {round(val_epoch_accuracy*100,2)}, saving...\")\n",
    "        # Save Model\n",
    "        bestmodel_name = \"model_2_bestModel.pt\"\n",
    "        torch.save(modelpy, PATH+bestmodel_name)\n",
    "        best_model_val_acc = val_epoch_accuracy\n",
    "    \n",
    "    # Save model with all information every 100 epochs. Can be used \n",
    "    # resuming training. optim\n",
    "    if (epoch+1) % checkpoints_save == 0: # checkpoints_save\n",
    "        \n",
    "        end = time.time()\n",
    "        time_elapsed = (end-start)+previous_time\n",
    "        \n",
    "        # Save Model\n",
    "        print(\"Saving model 2 checkpoint\")\n",
    "        save_model(epoch, time_elapsed, modelpy, optimizer_2, criterion_2, path = model_checkpoints + \"model_ckpt_m2.pth\")\n",
    "        # save the metrics\n",
    "        save_metrics(train_loss, val_loss, train_accuracy, val_accuracy, path = model_checkpoints + \"metrics_losss_accuracy_m2.csv\")\n",
    "        \n",
    "        # save model at epoch\n",
    "        save_model(epoch, time_elapsed, modelpy, optimizer_2, criterion_2, path = model_checkpoints + \"model_ckpt_m2_\"+str(epoch+1)+\".pth\")\n",
    "        \n",
    "        \n",
    "        # Check the evolution at this point\n",
    "        plot_loss_accuracy(train_loss, val_loss, train_accuracy, val_accuracy)\n",
    "        \n",
    "        \n",
    "    ep_time = time.time()\n",
    "    print(f\"Current time: {(((ep_time-start)+previous_time)/60):.3f} minutes. Time expected till completion: {(((((ep_time-start)+previous_time)/(epoch + 1)) * (model_epochs-(epoch + 1)))/60):.3f} minutes\")\n",
    "    \n",
    "end = time.time()\n",
    "print(f\"Finished training in: {(((end-start)+previous_time)/60):.3f} minutes\") "
   ]
  },
  {
   "cell_type": "code",
   "execution_count": 17,
   "id": "4e5ed21a",
   "metadata": {},
   "outputs": [
    {
     "data": {
      "text/plain": [
       "0.6695652173913044"
      ]
     },
     "execution_count": 17,
     "metadata": {},
     "output_type": "execute_result"
    }
   ],
   "source": [
    "best_model_val_acc"
   ]
  },
  {
   "cell_type": "code",
   "execution_count": 18,
   "id": "ed221571",
   "metadata": {},
   "outputs": [
    {
     "data": {
      "image/png": "[encoded data removed]",
      "text/plain": [
       "<Figure size 1500x600 with 2 Axes>"
      ]
     },
     "metadata": {},
     "output_type": "display_data"
    },
    {
     "data": {
      "image/png": "[encoded data removed]",
      "text/plain": [
       "<Figure size 1500x600 with 2 Axes>"
      ]
     },
     "metadata": {},
     "output_type": "display_data"
    }
   ],
   "source": [
    "plot_loss_accuracy(train_loss, val_loss, train_accuracy, val_accuracy)"
   ]
  },
  {
   "cell_type": "markdown",
   "id": "bd64aa02",
   "metadata": {},
   "source": [
    "## Save model"
   ]
  },
  {
   "cell_type": "code",
   "execution_count": 19,
   "id": "1372dc3b",
   "metadata": {},
   "outputs": [],
   "source": [
    "# Save Model\n",
    "NAME2 = \"model_2.pt\"\n",
    "\n",
    "torch.save(modelpy, PATH+NAME2)"
   ]
  },
  {
   "cell_type": "markdown",
   "id": "659394e6",
   "metadata": {},
   "source": [
    "# Load Last Model"
   ]
  },
  {
   "cell_type": "code",
   "execution_count": 20,
   "id": "cec94a4a",
   "metadata": {},
   "outputs": [
    {
     "data": {
      "text/plain": [
       "ClassificationNet(\n",
       "  (googlenet_fe): Sequential(\n",
       "    (0): BasicConv2d(\n",
       "      (conv): Conv2d(3, 64, kernel_size=(7, 7), stride=(2, 2), padding=(3, 3), bias=False)\n",
       "      (bn): BatchNorm2d(64, eps=0.001, momentum=0.1, affine=True, track_running_stats=True)\n",
       "    )\n",
       "    (1): MaxPool2d(kernel_size=3, stride=2, padding=0, dilation=1, ceil_mode=True)\n",
       "    (2): BasicConv2d(\n",
       "      (conv): Conv2d(64, 64, kernel_size=(1, 1), stride=(1, 1), bias=False)\n",
       "      (bn): BatchNorm2d(64, eps=0.001, momentum=0.1, affine=True, track_running_stats=True)\n",
       "    )\n",
       "    (3): BasicConv2d(\n",
       "      (conv): Conv2d(64, 192, kernel_size=(3, 3), stride=(1, 1), padding=(1, 1), bias=False)\n",
       "      (bn): BatchNorm2d(192, eps=0.001, momentum=0.1, affine=True, track_running_stats=True)\n",
       "    )\n",
       "    (4): MaxPool2d(kernel_size=3, stride=2, padding=0, dilation=1, ceil_mode=True)\n",
       "    (5): Inception(\n",
       "      (branch1): BasicConv2d(\n",
       "        (conv): Conv2d(192, 64, kernel_size=(1, 1), stride=(1, 1), bias=False)\n",
       "        (bn): BatchNorm2d(64, eps=0.001, momentum=0.1, affine=True, track_running_stats=True)\n",
       "      )\n",
       "      (branch2): Sequential(\n",
       "        (0): BasicConv2d(\n",
       "          (conv): Conv2d(192, 96, kernel_size=(1, 1), stride=(1, 1), bias=False)\n",
       "          (bn): BatchNorm2d(96, eps=0.001, momentum=0.1, affine=True, track_running_stats=True)\n",
       "        )\n",
       "        (1): BasicConv2d(\n",
       "          (conv): Conv2d(96, 128, kernel_size=(3, 3), stride=(1, 1), padding=(1, 1), bias=False)\n",
       "          (bn): BatchNorm2d(128, eps=0.001, momentum=0.1, affine=True, track_running_stats=True)\n",
       "        )\n",
       "      )\n",
       "      (branch3): Sequential(\n",
       "        (0): BasicConv2d(\n",
       "          (conv): Conv2d(192, 16, kernel_size=(1, 1), stride=(1, 1), bias=False)\n",
       "          (bn): BatchNorm2d(16, eps=0.001, momentum=0.1, affine=True, track_running_stats=True)\n",
       "        )\n",
       "        (1): BasicConv2d(\n",
       "          (conv): Conv2d(16, 32, kernel_size=(3, 3), stride=(1, 1), padding=(1, 1), bias=False)\n",
       "          (bn): BatchNorm2d(32, eps=0.001, momentum=0.1, affine=True, track_running_stats=True)\n",
       "        )\n",
       "      )\n",
       "      (branch4): Sequential(\n",
       "        (0): MaxPool2d(kernel_size=3, stride=1, padding=1, dilation=1, ceil_mode=True)\n",
       "        (1): BasicConv2d(\n",
       "          (conv): Conv2d(192, 32, kernel_size=(1, 1), stride=(1, 1), bias=False)\n",
       "          (bn): BatchNorm2d(32, eps=0.001, momentum=0.1, affine=True, track_running_stats=True)\n",
       "        )\n",
       "      )\n",
       "    )\n",
       "    (6): Inception(\n",
       "      (branch1): BasicConv2d(\n",
       "        (conv): Conv2d(256, 128, kernel_size=(1, 1), stride=(1, 1), bias=False)\n",
       "        (bn): BatchNorm2d(128, eps=0.001, momentum=0.1, affine=True, track_running_stats=True)\n",
       "      )\n",
       "      (branch2): Sequential(\n",
       "        (0): BasicConv2d(\n",
       "          (conv): Conv2d(256, 128, kernel_size=(1, 1), stride=(1, 1), bias=False)\n",
       "          (bn): BatchNorm2d(128, eps=0.001, momentum=0.1, affine=True, track_running_stats=True)\n",
       "        )\n",
       "        (1): BasicConv2d(\n",
       "          (conv): Conv2d(128, 192, kernel_size=(3, 3), stride=(1, 1), padding=(1, 1), bias=False)\n",
       "          (bn): BatchNorm2d(192, eps=0.001, momentum=0.1, affine=True, track_running_stats=True)\n",
       "        )\n",
       "      )\n",
       "      (branch3): Sequential(\n",
       "        (0): BasicConv2d(\n",
       "          (conv): Conv2d(256, 32, kernel_size=(1, 1), stride=(1, 1), bias=False)\n",
       "          (bn): BatchNorm2d(32, eps=0.001, momentum=0.1, affine=True, track_running_stats=True)\n",
       "        )\n",
       "        (1): BasicConv2d(\n",
       "          (conv): Conv2d(32, 96, kernel_size=(3, 3), stride=(1, 1), padding=(1, 1), bias=False)\n",
       "          (bn): BatchNorm2d(96, eps=0.001, momentum=0.1, affine=True, track_running_stats=True)\n",
       "        )\n",
       "      )\n",
       "      (branch4): Sequential(\n",
       "        (0): MaxPool2d(kernel_size=3, stride=1, padding=1, dilation=1, ceil_mode=True)\n",
       "        (1): BasicConv2d(\n",
       "          (conv): Conv2d(256, 64, kernel_size=(1, 1), stride=(1, 1), bias=False)\n",
       "          (bn): BatchNorm2d(64, eps=0.001, momentum=0.1, affine=True, track_running_stats=True)\n",
       "        )\n",
       "      )\n",
       "    )\n",
       "    (7): MaxPool2d(kernel_size=3, stride=2, padding=0, dilation=1, ceil_mode=True)\n",
       "    (8): Inception(\n",
       "      (branch1): BasicConv2d(\n",
       "        (conv): Conv2d(480, 192, kernel_size=(1, 1), stride=(1, 1), bias=False)\n",
       "        (bn): BatchNorm2d(192, eps=0.001, momentum=0.1, affine=True, track_running_stats=True)\n",
       "      )\n",
       "      (branch2): Sequential(\n",
       "        (0): BasicConv2d(\n",
       "          (conv): Conv2d(480, 96, kernel_size=(1, 1), stride=(1, 1), bias=False)\n",
       "          (bn): BatchNorm2d(96, eps=0.001, momentum=0.1, affine=True, track_running_stats=True)\n",
       "        )\n",
       "        (1): BasicConv2d(\n",
       "          (conv): Conv2d(96, 208, kernel_size=(3, 3), stride=(1, 1), padding=(1, 1), bias=False)\n",
       "          (bn): BatchNorm2d(208, eps=0.001, momentum=0.1, affine=True, track_running_stats=True)\n",
       "        )\n",
       "      )\n",
       "      (branch3): Sequential(\n",
       "        (0): BasicConv2d(\n",
       "          (conv): Conv2d(480, 16, kernel_size=(1, 1), stride=(1, 1), bias=False)\n",
       "          (bn): BatchNorm2d(16, eps=0.001, momentum=0.1, affine=True, track_running_stats=True)\n",
       "        )\n",
       "        (1): BasicConv2d(\n",
       "          (conv): Conv2d(16, 48, kernel_size=(3, 3), stride=(1, 1), padding=(1, 1), bias=False)\n",
       "          (bn): BatchNorm2d(48, eps=0.001, momentum=0.1, affine=True, track_running_stats=True)\n",
       "        )\n",
       "      )\n",
       "      (branch4): Sequential(\n",
       "        (0): MaxPool2d(kernel_size=3, stride=1, padding=1, dilation=1, ceil_mode=True)\n",
       "        (1): BasicConv2d(\n",
       "          (conv): Conv2d(480, 64, kernel_size=(1, 1), stride=(1, 1), bias=False)\n",
       "          (bn): BatchNorm2d(64, eps=0.001, momentum=0.1, affine=True, track_running_stats=True)\n",
       "        )\n",
       "      )\n",
       "    )\n",
       "    (9): Inception(\n",
       "      (branch1): BasicConv2d(\n",
       "        (conv): Conv2d(512, 160, kernel_size=(1, 1), stride=(1, 1), bias=False)\n",
       "        (bn): BatchNorm2d(160, eps=0.001, momentum=0.1, affine=True, track_running_stats=True)\n",
       "      )\n",
       "      (branch2): Sequential(\n",
       "        (0): BasicConv2d(\n",
       "          (conv): Conv2d(512, 112, kernel_size=(1, 1), stride=(1, 1), bias=False)\n",
       "          (bn): BatchNorm2d(112, eps=0.001, momentum=0.1, affine=True, track_running_stats=True)\n",
       "        )\n",
       "        (1): BasicConv2d(\n",
       "          (conv): Conv2d(112, 224, kernel_size=(3, 3), stride=(1, 1), padding=(1, 1), bias=False)\n",
       "          (bn): BatchNorm2d(224, eps=0.001, momentum=0.1, affine=True, track_running_stats=True)\n",
       "        )\n",
       "      )\n",
       "      (branch3): Sequential(\n",
       "        (0): BasicConv2d(\n",
       "          (conv): Conv2d(512, 24, kernel_size=(1, 1), stride=(1, 1), bias=False)\n",
       "          (bn): BatchNorm2d(24, eps=0.001, momentum=0.1, affine=True, track_running_stats=True)\n",
       "        )\n",
       "        (1): BasicConv2d(\n",
       "          (conv): Conv2d(24, 64, kernel_size=(3, 3), stride=(1, 1), padding=(1, 1), bias=False)\n",
       "          (bn): BatchNorm2d(64, eps=0.001, momentum=0.1, affine=True, track_running_stats=True)\n",
       "        )\n",
       "      )\n",
       "      (branch4): Sequential(\n",
       "        (0): MaxPool2d(kernel_size=3, stride=1, padding=1, dilation=1, ceil_mode=True)\n",
       "        (1): BasicConv2d(\n",
       "          (conv): Conv2d(512, 64, kernel_size=(1, 1), stride=(1, 1), bias=False)\n",
       "          (bn): BatchNorm2d(64, eps=0.001, momentum=0.1, affine=True, track_running_stats=True)\n",
       "        )\n",
       "      )\n",
       "    )\n",
       "    (10): Inception(\n",
       "      (branch1): BasicConv2d(\n",
       "        (conv): Conv2d(512, 128, kernel_size=(1, 1), stride=(1, 1), bias=False)\n",
       "        (bn): BatchNorm2d(128, eps=0.001, momentum=0.1, affine=True, track_running_stats=True)\n",
       "      )\n",
       "      (branch2): Sequential(\n",
       "        (0): BasicConv2d(\n",
       "          (conv): Conv2d(512, 128, kernel_size=(1, 1), stride=(1, 1), bias=False)\n",
       "          (bn): BatchNorm2d(128, eps=0.001, momentum=0.1, affine=True, track_running_stats=True)\n",
       "        )\n",
       "        (1): BasicConv2d(\n",
       "          (conv): Conv2d(128, 256, kernel_size=(3, 3), stride=(1, 1), padding=(1, 1), bias=False)\n",
       "          (bn): BatchNorm2d(256, eps=0.001, momentum=0.1, affine=True, track_running_stats=True)\n",
       "        )\n",
       "      )\n",
       "      (branch3): Sequential(\n",
       "        (0): BasicConv2d(\n",
       "          (conv): Conv2d(512, 24, kernel_size=(1, 1), stride=(1, 1), bias=False)\n",
       "          (bn): BatchNorm2d(24, eps=0.001, momentum=0.1, affine=True, track_running_stats=True)\n",
       "        )\n",
       "        (1): BasicConv2d(\n",
       "          (conv): Conv2d(24, 64, kernel_size=(3, 3), stride=(1, 1), padding=(1, 1), bias=False)\n",
       "          (bn): BatchNorm2d(64, eps=0.001, momentum=0.1, affine=True, track_running_stats=True)\n",
       "        )\n",
       "      )\n",
       "      (branch4): Sequential(\n",
       "        (0): MaxPool2d(kernel_size=3, stride=1, padding=1, dilation=1, ceil_mode=True)\n",
       "        (1): BasicConv2d(\n",
       "          (conv): Conv2d(512, 64, kernel_size=(1, 1), stride=(1, 1), bias=False)\n",
       "          (bn): BatchNorm2d(64, eps=0.001, momentum=0.1, affine=True, track_running_stats=True)\n",
       "        )\n",
       "      )\n",
       "    )\n",
       "    (11): Inception(\n",
       "      (branch1): BasicConv2d(\n",
       "        (conv): Conv2d(512, 112, kernel_size=(1, 1), stride=(1, 1), bias=False)\n",
       "        (bn): BatchNorm2d(112, eps=0.001, momentum=0.1, affine=True, track_running_stats=True)\n",
       "      )\n",
       "      (branch2): Sequential(\n",
       "        (0): BasicConv2d(\n",
       "          (conv): Conv2d(512, 144, kernel_size=(1, 1), stride=(1, 1), bias=False)\n",
       "          (bn): BatchNorm2d(144, eps=0.001, momentum=0.1, affine=True, track_running_stats=True)\n",
       "        )\n",
       "        (1): BasicConv2d(\n",
       "          (conv): Conv2d(144, 288, kernel_size=(3, 3), stride=(1, 1), padding=(1, 1), bias=False)\n",
       "          (bn): BatchNorm2d(288, eps=0.001, momentum=0.1, affine=True, track_running_stats=True)\n",
       "        )\n",
       "      )\n",
       "      (branch3): Sequential(\n",
       "        (0): BasicConv2d(\n",
       "          (conv): Conv2d(512, 32, kernel_size=(1, 1), stride=(1, 1), bias=False)\n",
       "          (bn): BatchNorm2d(32, eps=0.001, momentum=0.1, affine=True, track_running_stats=True)\n",
       "        )\n",
       "        (1): BasicConv2d(\n",
       "          (conv): Conv2d(32, 64, kernel_size=(3, 3), stride=(1, 1), padding=(1, 1), bias=False)\n",
       "          (bn): BatchNorm2d(64, eps=0.001, momentum=0.1, affine=True, track_running_stats=True)\n",
       "        )\n",
       "      )\n",
       "      (branch4): Sequential(\n",
       "        (0): MaxPool2d(kernel_size=3, stride=1, padding=1, dilation=1, ceil_mode=True)\n",
       "        (1): BasicConv2d(\n",
       "          (conv): Conv2d(512, 64, kernel_size=(1, 1), stride=(1, 1), bias=False)\n",
       "          (bn): BatchNorm2d(64, eps=0.001, momentum=0.1, affine=True, track_running_stats=True)\n",
       "        )\n",
       "      )\n",
       "    )\n",
       "    (12): Inception(\n",
       "      (branch1): BasicConv2d(\n",
       "        (conv): Conv2d(528, 256, kernel_size=(1, 1), stride=(1, 1), bias=False)\n",
       "        (bn): BatchNorm2d(256, eps=0.001, momentum=0.1, affine=True, track_running_stats=True)\n",
       "      )\n",
       "      (branch2): Sequential(\n",
       "        (0): BasicConv2d(\n",
       "          (conv): Conv2d(528, 160, kernel_size=(1, 1), stride=(1, 1), bias=False)\n",
       "          (bn): BatchNorm2d(160, eps=0.001, momentum=0.1, affine=True, track_running_stats=True)\n",
       "        )\n",
       "        (1): BasicConv2d(\n",
       "          (conv): Conv2d(160, 320, kernel_size=(3, 3), stride=(1, 1), padding=(1, 1), bias=False)\n",
       "          (bn): BatchNorm2d(320, eps=0.001, momentum=0.1, affine=True, track_running_stats=True)\n",
       "        )\n",
       "      )\n",
       "      (branch3): Sequential(\n",
       "        (0): BasicConv2d(\n",
       "          (conv): Conv2d(528, 32, kernel_size=(1, 1), stride=(1, 1), bias=False)\n",
       "          (bn): BatchNorm2d(32, eps=0.001, momentum=0.1, affine=True, track_running_stats=True)\n",
       "        )\n",
       "        (1): BasicConv2d(\n",
       "          (conv): Conv2d(32, 128, kernel_size=(3, 3), stride=(1, 1), padding=(1, 1), bias=False)\n",
       "          (bn): BatchNorm2d(128, eps=0.001, momentum=0.1, affine=True, track_running_stats=True)\n",
       "        )\n",
       "      )\n",
       "      (branch4): Sequential(\n",
       "        (0): MaxPool2d(kernel_size=3, stride=1, padding=1, dilation=1, ceil_mode=True)\n",
       "        (1): BasicConv2d(\n",
       "          (conv): Conv2d(528, 128, kernel_size=(1, 1), stride=(1, 1), bias=False)\n",
       "          (bn): BatchNorm2d(128, eps=0.001, momentum=0.1, affine=True, track_running_stats=True)\n",
       "        )\n",
       "      )\n",
       "    )\n",
       "    (13): MaxPool2d(kernel_size=2, stride=2, padding=0, dilation=1, ceil_mode=True)\n",
       "    (14): Inception(\n",
       "      (branch1): BasicConv2d(\n",
       "        (conv): Conv2d(832, 256, kernel_size=(1, 1), stride=(1, 1), bias=False)\n",
       "        (bn): BatchNorm2d(256, eps=0.001, momentum=0.1, affine=True, track_running_stats=True)\n",
       "      )\n",
       "      (branch2): Sequential(\n",
       "        (0): BasicConv2d(\n",
       "          (conv): Conv2d(832, 160, kernel_size=(1, 1), stride=(1, 1), bias=False)\n",
       "          (bn): BatchNorm2d(160, eps=0.001, momentum=0.1, affine=True, track_running_stats=True)\n",
       "        )\n",
       "        (1): BasicConv2d(\n",
       "          (conv): Conv2d(160, 320, kernel_size=(3, 3), stride=(1, 1), padding=(1, 1), bias=False)\n",
       "          (bn): BatchNorm2d(320, eps=0.001, momentum=0.1, affine=True, track_running_stats=True)\n",
       "        )\n",
       "      )\n",
       "      (branch3): Sequential(\n",
       "        (0): BasicConv2d(\n",
       "          (conv): Conv2d(832, 32, kernel_size=(1, 1), stride=(1, 1), bias=False)\n",
       "          (bn): BatchNorm2d(32, eps=0.001, momentum=0.1, affine=True, track_running_stats=True)\n",
       "        )\n",
       "        (1): BasicConv2d(\n",
       "          (conv): Conv2d(32, 128, kernel_size=(3, 3), stride=(1, 1), padding=(1, 1), bias=False)\n",
       "          (bn): BatchNorm2d(128, eps=0.001, momentum=0.1, affine=True, track_running_stats=True)\n",
       "        )\n",
       "      )\n",
       "      (branch4): Sequential(\n",
       "        (0): MaxPool2d(kernel_size=3, stride=1, padding=1, dilation=1, ceil_mode=True)\n",
       "        (1): BasicConv2d(\n",
       "          (conv): Conv2d(832, 128, kernel_size=(1, 1), stride=(1, 1), bias=False)\n",
       "          (bn): BatchNorm2d(128, eps=0.001, momentum=0.1, affine=True, track_running_stats=True)\n",
       "        )\n",
       "      )\n",
       "    )\n",
       "    (15): Inception(\n",
       "      (branch1): BasicConv2d(\n",
       "        (conv): Conv2d(832, 384, kernel_size=(1, 1), stride=(1, 1), bias=False)\n",
       "        (bn): BatchNorm2d(384, eps=0.001, momentum=0.1, affine=True, track_running_stats=True)\n",
       "      )\n",
       "      (branch2): Sequential(\n",
       "        (0): BasicConv2d(\n",
       "          (conv): Conv2d(832, 192, kernel_size=(1, 1), stride=(1, 1), bias=False)\n",
       "          (bn): BatchNorm2d(192, eps=0.001, momentum=0.1, affine=True, track_running_stats=True)\n",
       "        )\n",
       "        (1): BasicConv2d(\n",
       "          (conv): Conv2d(192, 384, kernel_size=(3, 3), stride=(1, 1), padding=(1, 1), bias=False)\n",
       "          (bn): BatchNorm2d(384, eps=0.001, momentum=0.1, affine=True, track_running_stats=True)\n",
       "        )\n",
       "      )\n",
       "      (branch3): Sequential(\n",
       "        (0): BasicConv2d(\n",
       "          (conv): Conv2d(832, 48, kernel_size=(1, 1), stride=(1, 1), bias=False)\n",
       "          (bn): BatchNorm2d(48, eps=0.001, momentum=0.1, affine=True, track_running_stats=True)\n",
       "        )\n",
       "        (1): BasicConv2d(\n",
       "          (conv): Conv2d(48, 128, kernel_size=(3, 3), stride=(1, 1), padding=(1, 1), bias=False)\n",
       "          (bn): BatchNorm2d(128, eps=0.001, momentum=0.1, affine=True, track_running_stats=True)\n",
       "        )\n",
       "      )\n",
       "      (branch4): Sequential(\n",
       "        (0): MaxPool2d(kernel_size=3, stride=1, padding=1, dilation=1, ceil_mode=True)\n",
       "        (1): BasicConv2d(\n",
       "          (conv): Conv2d(832, 128, kernel_size=(1, 1), stride=(1, 1), bias=False)\n",
       "          (bn): BatchNorm2d(128, eps=0.001, momentum=0.1, affine=True, track_running_stats=True)\n",
       "        )\n",
       "      )\n",
       "    )\n",
       "    (16): AdaptiveAvgPool2d(output_size=(1, 1))\n",
       "    (17): Dropout(p=0.2, inplace=False)\n",
       "  )\n",
       "  (flatten): Flatten(start_dim=1, end_dim=-1)\n",
       "  (last_classifier): Linear(in_features=1024, out_features=4, bias=True)\n",
       ")"
      ]
     },
     "execution_count": 20,
     "metadata": {},
     "output_type": "execute_result"
    }
   ],
   "source": [
    "# Load the model\n",
    "NAME = \"model_2.pt\"\n",
    "modelpy = torch.load(PATH+NAME, map_location=device)\n",
    "modelpy.eval()"
   ]
  },
  {
   "cell_type": "markdown",
   "id": "c59a28ee",
   "metadata": {},
   "source": [
    "## Evaluate Last Model"
   ]
  },
  {
   "cell_type": "code",
   "execution_count": 21,
   "id": "f3ae8b5b",
   "metadata": {},
   "outputs": [],
   "source": [
    "def accuracy_given_set(mm2, valid_loader, device, name=\"Validation\"):\n",
    "    # Evaluate the Validation Set\n",
    "    mm2.eval()\n",
    "    correct = 0\n",
    "    total = 0\n",
    "    with torch.no_grad():\n",
    "        for bi, data in tqdm(enumerate(valid_loader), total=len(valid_loader)):\n",
    "            new_images = data[0].to(device)\n",
    "\n",
    "            outputs = mm2(new_images)\n",
    "            predictions = torch.argmax(outputs, dim=1)\n",
    "\n",
    "            total += data[1].size(0)\n",
    "            correct +=(predictions == data[1].to(device)).sum().item()\n",
    "        \n",
    "    print(f'Accuracy of the network on the {total} {name} instances: {100 * correct / total}%')"
   ]
  },
  {
   "cell_type": "code",
   "execution_count": 22,
   "id": "22395e00",
   "metadata": {},
   "outputs": [
    {
     "name": "stderr",
     "output_type": "stream",
     "text": [
      "100%|██████████| 130/130 [00:20<00:00,  6.41it/s]\n"
     ]
    },
    {
     "name": "stdout",
     "output_type": "stream",
     "text": [
      "Accuracy of the network on the 1034 Train instances: 87.04061895551257%\n"
     ]
    },
    {
     "name": "stderr",
     "output_type": "stream",
     "text": [
      "100%|██████████| 15/15 [00:02<00:00,  7.02it/s]"
     ]
    },
    {
     "name": "stdout",
     "output_type": "stream",
     "text": [
      "Accuracy of the network on the 115 Validation instances: 63.47826086956522%\n"
     ]
    },
    {
     "name": "stderr",
     "output_type": "stream",
     "text": [
      "\n"
     ]
    }
   ],
   "source": [
    "# Calculate accuracy for Validation and Train sets\n",
    "accuracy_given_set(modelpy, train_loader, device, name=\"Train\")\n",
    "accuracy_given_set(modelpy, valid_loader, device, name=\"Validation\")"
   ]
  },
  {
   "cell_type": "markdown",
   "id": "684ca86a",
   "metadata": {},
   "source": [
    "## Test Predictions Last Model"
   ]
  },
  {
   "cell_type": "code",
   "execution_count": 23,
   "id": "bf9cecb3",
   "metadata": {},
   "outputs": [],
   "source": [
    "def make_predictions(mm2, loader, device):\n",
    "    # Evaluate the Validation Set\n",
    "    mm2.eval()\n",
    "    predictions_list = []\n",
    "    name_list = []\n",
    "    \n",
    "    with torch.no_grad():\n",
    "        for bi, data in tqdm(enumerate(loader), total=len(loader)):\n",
    "            new_images = data[0].to(device)\n",
    "        \n",
    "            outputs = mm2(new_images)\n",
    "            predictions = torch.argmax(outputs, dim=1)\n",
    "        \n",
    "            predictions_list.append(predictions[0].item())\n",
    "            name_list.append(data[1][0])\n",
    "        \n",
    "    return(predictions_list, name_list)"
   ]
  },
  {
   "cell_type": "code",
   "execution_count": 24,
   "id": "9e74681b",
   "metadata": {},
   "outputs": [
    {
     "name": "stderr",
     "output_type": "stream",
     "text": [
      "100%|██████████| 380/380 [00:12<00:00, 29.68it/s]\n"
     ]
    },
    {
     "data": {
      "text/plain": [
       "(array([0, 1, 2]), array([143, 184,  53], dtype=int64))"
      ]
     },
     "execution_count": 24,
     "metadata": {},
     "output_type": "execute_result"
    }
   ],
   "source": [
    "pred, names = make_predictions(modelpy, test_loader, device)\n",
    "\n",
    "np.unique(np.array(pred),return_counts=True)"
   ]
  },
  {
   "cell_type": "code",
   "execution_count": 25,
   "id": "7c810cb5",
   "metadata": {},
   "outputs": [],
   "source": [
    "save_predictions_as_csv(names, pred, name=\"GGC_plus_clas_v01_GoogLeNet_prediction.csv\")"
   ]
  },
  {
   "attachments": {
    "image.png": {
     "image/png": "[encoded data removed]"
    }
   },
   "cell_type": "markdown",
   "id": "de614b36",
   "metadata": {},
   "source": [
    "![image.png](attachment:image.png)"
   ]
  },
  {
   "cell_type": "markdown",
   "id": "40cafa2a",
   "metadata": {},
   "source": [
    "# Load Best Model"
   ]
  },
  {
   "cell_type": "code",
   "execution_count": 26,
   "id": "7ec7342e",
   "metadata": {},
   "outputs": [
    {
     "data": {
      "text/plain": [
       "ClassificationNet(\n",
       "  (googlenet_fe): Sequential(\n",
       "    (0): BasicConv2d(\n",
       "      (conv): Conv2d(3, 64, kernel_size=(7, 7), stride=(2, 2), padding=(3, 3), bias=False)\n",
       "      (bn): BatchNorm2d(64, eps=0.001, momentum=0.1, affine=True, track_running_stats=True)\n",
       "    )\n",
       "    (1): MaxPool2d(kernel_size=3, stride=2, padding=0, dilation=1, ceil_mode=True)\n",
       "    (2): BasicConv2d(\n",
       "      (conv): Conv2d(64, 64, kernel_size=(1, 1), stride=(1, 1), bias=False)\n",
       "      (bn): BatchNorm2d(64, eps=0.001, momentum=0.1, affine=True, track_running_stats=True)\n",
       "    )\n",
       "    (3): BasicConv2d(\n",
       "      (conv): Conv2d(64, 192, kernel_size=(3, 3), stride=(1, 1), padding=(1, 1), bias=False)\n",
       "      (bn): BatchNorm2d(192, eps=0.001, momentum=0.1, affine=True, track_running_stats=True)\n",
       "    )\n",
       "    (4): MaxPool2d(kernel_size=3, stride=2, padding=0, dilation=1, ceil_mode=True)\n",
       "    (5): Inception(\n",
       "      (branch1): BasicConv2d(\n",
       "        (conv): Conv2d(192, 64, kernel_size=(1, 1), stride=(1, 1), bias=False)\n",
       "        (bn): BatchNorm2d(64, eps=0.001, momentum=0.1, affine=True, track_running_stats=True)\n",
       "      )\n",
       "      (branch2): Sequential(\n",
       "        (0): BasicConv2d(\n",
       "          (conv): Conv2d(192, 96, kernel_size=(1, 1), stride=(1, 1), bias=False)\n",
       "          (bn): BatchNorm2d(96, eps=0.001, momentum=0.1, affine=True, track_running_stats=True)\n",
       "        )\n",
       "        (1): BasicConv2d(\n",
       "          (conv): Conv2d(96, 128, kernel_size=(3, 3), stride=(1, 1), padding=(1, 1), bias=False)\n",
       "          (bn): BatchNorm2d(128, eps=0.001, momentum=0.1, affine=True, track_running_stats=True)\n",
       "        )\n",
       "      )\n",
       "      (branch3): Sequential(\n",
       "        (0): BasicConv2d(\n",
       "          (conv): Conv2d(192, 16, kernel_size=(1, 1), stride=(1, 1), bias=False)\n",
       "          (bn): BatchNorm2d(16, eps=0.001, momentum=0.1, affine=True, track_running_stats=True)\n",
       "        )\n",
       "        (1): BasicConv2d(\n",
       "          (conv): Conv2d(16, 32, kernel_size=(3, 3), stride=(1, 1), padding=(1, 1), bias=False)\n",
       "          (bn): BatchNorm2d(32, eps=0.001, momentum=0.1, affine=True, track_running_stats=True)\n",
       "        )\n",
       "      )\n",
       "      (branch4): Sequential(\n",
       "        (0): MaxPool2d(kernel_size=3, stride=1, padding=1, dilation=1, ceil_mode=True)\n",
       "        (1): BasicConv2d(\n",
       "          (conv): Conv2d(192, 32, kernel_size=(1, 1), stride=(1, 1), bias=False)\n",
       "          (bn): BatchNorm2d(32, eps=0.001, momentum=0.1, affine=True, track_running_stats=True)\n",
       "        )\n",
       "      )\n",
       "    )\n",
       "    (6): Inception(\n",
       "      (branch1): BasicConv2d(\n",
       "        (conv): Conv2d(256, 128, kernel_size=(1, 1), stride=(1, 1), bias=False)\n",
       "        (bn): BatchNorm2d(128, eps=0.001, momentum=0.1, affine=True, track_running_stats=True)\n",
       "      )\n",
       "      (branch2): Sequential(\n",
       "        (0): BasicConv2d(\n",
       "          (conv): Conv2d(256, 128, kernel_size=(1, 1), stride=(1, 1), bias=False)\n",
       "          (bn): BatchNorm2d(128, eps=0.001, momentum=0.1, affine=True, track_running_stats=True)\n",
       "        )\n",
       "        (1): BasicConv2d(\n",
       "          (conv): Conv2d(128, 192, kernel_size=(3, 3), stride=(1, 1), padding=(1, 1), bias=False)\n",
       "          (bn): BatchNorm2d(192, eps=0.001, momentum=0.1, affine=True, track_running_stats=True)\n",
       "        )\n",
       "      )\n",
       "      (branch3): Sequential(\n",
       "        (0): BasicConv2d(\n",
       "          (conv): Conv2d(256, 32, kernel_size=(1, 1), stride=(1, 1), bias=False)\n",
       "          (bn): BatchNorm2d(32, eps=0.001, momentum=0.1, affine=True, track_running_stats=True)\n",
       "        )\n",
       "        (1): BasicConv2d(\n",
       "          (conv): Conv2d(32, 96, kernel_size=(3, 3), stride=(1, 1), padding=(1, 1), bias=False)\n",
       "          (bn): BatchNorm2d(96, eps=0.001, momentum=0.1, affine=True, track_running_stats=True)\n",
       "        )\n",
       "      )\n",
       "      (branch4): Sequential(\n",
       "        (0): MaxPool2d(kernel_size=3, stride=1, padding=1, dilation=1, ceil_mode=True)\n",
       "        (1): BasicConv2d(\n",
       "          (conv): Conv2d(256, 64, kernel_size=(1, 1), stride=(1, 1), bias=False)\n",
       "          (bn): BatchNorm2d(64, eps=0.001, momentum=0.1, affine=True, track_running_stats=True)\n",
       "        )\n",
       "      )\n",
       "    )\n",
       "    (7): MaxPool2d(kernel_size=3, stride=2, padding=0, dilation=1, ceil_mode=True)\n",
       "    (8): Inception(\n",
       "      (branch1): BasicConv2d(\n",
       "        (conv): Conv2d(480, 192, kernel_size=(1, 1), stride=(1, 1), bias=False)\n",
       "        (bn): BatchNorm2d(192, eps=0.001, momentum=0.1, affine=True, track_running_stats=True)\n",
       "      )\n",
       "      (branch2): Sequential(\n",
       "        (0): BasicConv2d(\n",
       "          (conv): Conv2d(480, 96, kernel_size=(1, 1), stride=(1, 1), bias=False)\n",
       "          (bn): BatchNorm2d(96, eps=0.001, momentum=0.1, affine=True, track_running_stats=True)\n",
       "        )\n",
       "        (1): BasicConv2d(\n",
       "          (conv): Conv2d(96, 208, kernel_size=(3, 3), stride=(1, 1), padding=(1, 1), bias=False)\n",
       "          (bn): BatchNorm2d(208, eps=0.001, momentum=0.1, affine=True, track_running_stats=True)\n",
       "        )\n",
       "      )\n",
       "      (branch3): Sequential(\n",
       "        (0): BasicConv2d(\n",
       "          (conv): Conv2d(480, 16, kernel_size=(1, 1), stride=(1, 1), bias=False)\n",
       "          (bn): BatchNorm2d(16, eps=0.001, momentum=0.1, affine=True, track_running_stats=True)\n",
       "        )\n",
       "        (1): BasicConv2d(\n",
       "          (conv): Conv2d(16, 48, kernel_size=(3, 3), stride=(1, 1), padding=(1, 1), bias=False)\n",
       "          (bn): BatchNorm2d(48, eps=0.001, momentum=0.1, affine=True, track_running_stats=True)\n",
       "        )\n",
       "      )\n",
       "      (branch4): Sequential(\n",
       "        (0): MaxPool2d(kernel_size=3, stride=1, padding=1, dilation=1, ceil_mode=True)\n",
       "        (1): BasicConv2d(\n",
       "          (conv): Conv2d(480, 64, kernel_size=(1, 1), stride=(1, 1), bias=False)\n",
       "          (bn): BatchNorm2d(64, eps=0.001, momentum=0.1, affine=True, track_running_stats=True)\n",
       "        )\n",
       "      )\n",
       "    )\n",
       "    (9): Inception(\n",
       "      (branch1): BasicConv2d(\n",
       "        (conv): Conv2d(512, 160, kernel_size=(1, 1), stride=(1, 1), bias=False)\n",
       "        (bn): BatchNorm2d(160, eps=0.001, momentum=0.1, affine=True, track_running_stats=True)\n",
       "      )\n",
       "      (branch2): Sequential(\n",
       "        (0): BasicConv2d(\n",
       "          (conv): Conv2d(512, 112, kernel_size=(1, 1), stride=(1, 1), bias=False)\n",
       "          (bn): BatchNorm2d(112, eps=0.001, momentum=0.1, affine=True, track_running_stats=True)\n",
       "        )\n",
       "        (1): BasicConv2d(\n",
       "          (conv): Conv2d(112, 224, kernel_size=(3, 3), stride=(1, 1), padding=(1, 1), bias=False)\n",
       "          (bn): BatchNorm2d(224, eps=0.001, momentum=0.1, affine=True, track_running_stats=True)\n",
       "        )\n",
       "      )\n",
       "      (branch3): Sequential(\n",
       "        (0): BasicConv2d(\n",
       "          (conv): Conv2d(512, 24, kernel_size=(1, 1), stride=(1, 1), bias=False)\n",
       "          (bn): BatchNorm2d(24, eps=0.001, momentum=0.1, affine=True, track_running_stats=True)\n",
       "        )\n",
       "        (1): BasicConv2d(\n",
       "          (conv): Conv2d(24, 64, kernel_size=(3, 3), stride=(1, 1), padding=(1, 1), bias=False)\n",
       "          (bn): BatchNorm2d(64, eps=0.001, momentum=0.1, affine=True, track_running_stats=True)\n",
       "        )\n",
       "      )\n",
       "      (branch4): Sequential(\n",
       "        (0): MaxPool2d(kernel_size=3, stride=1, padding=1, dilation=1, ceil_mode=True)\n",
       "        (1): BasicConv2d(\n",
       "          (conv): Conv2d(512, 64, kernel_size=(1, 1), stride=(1, 1), bias=False)\n",
       "          (bn): BatchNorm2d(64, eps=0.001, momentum=0.1, affine=True, track_running_stats=True)\n",
       "        )\n",
       "      )\n",
       "    )\n",
       "    (10): Inception(\n",
       "      (branch1): BasicConv2d(\n",
       "        (conv): Conv2d(512, 128, kernel_size=(1, 1), stride=(1, 1), bias=False)\n",
       "        (bn): BatchNorm2d(128, eps=0.001, momentum=0.1, affine=True, track_running_stats=True)\n",
       "      )\n",
       "      (branch2): Sequential(\n",
       "        (0): BasicConv2d(\n",
       "          (conv): Conv2d(512, 128, kernel_size=(1, 1), stride=(1, 1), bias=False)\n",
       "          (bn): BatchNorm2d(128, eps=0.001, momentum=0.1, affine=True, track_running_stats=True)\n",
       "        )\n",
       "        (1): BasicConv2d(\n",
       "          (conv): Conv2d(128, 256, kernel_size=(3, 3), stride=(1, 1), padding=(1, 1), bias=False)\n",
       "          (bn): BatchNorm2d(256, eps=0.001, momentum=0.1, affine=True, track_running_stats=True)\n",
       "        )\n",
       "      )\n",
       "      (branch3): Sequential(\n",
       "        (0): BasicConv2d(\n",
       "          (conv): Conv2d(512, 24, kernel_size=(1, 1), stride=(1, 1), bias=False)\n",
       "          (bn): BatchNorm2d(24, eps=0.001, momentum=0.1, affine=True, track_running_stats=True)\n",
       "        )\n",
       "        (1): BasicConv2d(\n",
       "          (conv): Conv2d(24, 64, kernel_size=(3, 3), stride=(1, 1), padding=(1, 1), bias=False)\n",
       "          (bn): BatchNorm2d(64, eps=0.001, momentum=0.1, affine=True, track_running_stats=True)\n",
       "        )\n",
       "      )\n",
       "      (branch4): Sequential(\n",
       "        (0): MaxPool2d(kernel_size=3, stride=1, padding=1, dilation=1, ceil_mode=True)\n",
       "        (1): BasicConv2d(\n",
       "          (conv): Conv2d(512, 64, kernel_size=(1, 1), stride=(1, 1), bias=False)\n",
       "          (bn): BatchNorm2d(64, eps=0.001, momentum=0.1, affine=True, track_running_stats=True)\n",
       "        )\n",
       "      )\n",
       "    )\n",
       "    (11): Inception(\n",
       "      (branch1): BasicConv2d(\n",
       "        (conv): Conv2d(512, 112, kernel_size=(1, 1), stride=(1, 1), bias=False)\n",
       "        (bn): BatchNorm2d(112, eps=0.001, momentum=0.1, affine=True, track_running_stats=True)\n",
       "      )\n",
       "      (branch2): Sequential(\n",
       "        (0): BasicConv2d(\n",
       "          (conv): Conv2d(512, 144, kernel_size=(1, 1), stride=(1, 1), bias=False)\n",
       "          (bn): BatchNorm2d(144, eps=0.001, momentum=0.1, affine=True, track_running_stats=True)\n",
       "        )\n",
       "        (1): BasicConv2d(\n",
       "          (conv): Conv2d(144, 288, kernel_size=(3, 3), stride=(1, 1), padding=(1, 1), bias=False)\n",
       "          (bn): BatchNorm2d(288, eps=0.001, momentum=0.1, affine=True, track_running_stats=True)\n",
       "        )\n",
       "      )\n",
       "      (branch3): Sequential(\n",
       "        (0): BasicConv2d(\n",
       "          (conv): Conv2d(512, 32, kernel_size=(1, 1), stride=(1, 1), bias=False)\n",
       "          (bn): BatchNorm2d(32, eps=0.001, momentum=0.1, affine=True, track_running_stats=True)\n",
       "        )\n",
       "        (1): BasicConv2d(\n",
       "          (conv): Conv2d(32, 64, kernel_size=(3, 3), stride=(1, 1), padding=(1, 1), bias=False)\n",
       "          (bn): BatchNorm2d(64, eps=0.001, momentum=0.1, affine=True, track_running_stats=True)\n",
       "        )\n",
       "      )\n",
       "      (branch4): Sequential(\n",
       "        (0): MaxPool2d(kernel_size=3, stride=1, padding=1, dilation=1, ceil_mode=True)\n",
       "        (1): BasicConv2d(\n",
       "          (conv): Conv2d(512, 64, kernel_size=(1, 1), stride=(1, 1), bias=False)\n",
       "          (bn): BatchNorm2d(64, eps=0.001, momentum=0.1, affine=True, track_running_stats=True)\n",
       "        )\n",
       "      )\n",
       "    )\n",
       "    (12): Inception(\n",
       "      (branch1): BasicConv2d(\n",
       "        (conv): Conv2d(528, 256, kernel_size=(1, 1), stride=(1, 1), bias=False)\n",
       "        (bn): BatchNorm2d(256, eps=0.001, momentum=0.1, affine=True, track_running_stats=True)\n",
       "      )\n",
       "      (branch2): Sequential(\n",
       "        (0): BasicConv2d(\n",
       "          (conv): Conv2d(528, 160, kernel_size=(1, 1), stride=(1, 1), bias=False)\n",
       "          (bn): BatchNorm2d(160, eps=0.001, momentum=0.1, affine=True, track_running_stats=True)\n",
       "        )\n",
       "        (1): BasicConv2d(\n",
       "          (conv): Conv2d(160, 320, kernel_size=(3, 3), stride=(1, 1), padding=(1, 1), bias=False)\n",
       "          (bn): BatchNorm2d(320, eps=0.001, momentum=0.1, affine=True, track_running_stats=True)\n",
       "        )\n",
       "      )\n",
       "      (branch3): Sequential(\n",
       "        (0): BasicConv2d(\n",
       "          (conv): Conv2d(528, 32, kernel_size=(1, 1), stride=(1, 1), bias=False)\n",
       "          (bn): BatchNorm2d(32, eps=0.001, momentum=0.1, affine=True, track_running_stats=True)\n",
       "        )\n",
       "        (1): BasicConv2d(\n",
       "          (conv): Conv2d(32, 128, kernel_size=(3, 3), stride=(1, 1), padding=(1, 1), bias=False)\n",
       "          (bn): BatchNorm2d(128, eps=0.001, momentum=0.1, affine=True, track_running_stats=True)\n",
       "        )\n",
       "      )\n",
       "      (branch4): Sequential(\n",
       "        (0): MaxPool2d(kernel_size=3, stride=1, padding=1, dilation=1, ceil_mode=True)\n",
       "        (1): BasicConv2d(\n",
       "          (conv): Conv2d(528, 128, kernel_size=(1, 1), stride=(1, 1), bias=False)\n",
       "          (bn): BatchNorm2d(128, eps=0.001, momentum=0.1, affine=True, track_running_stats=True)\n",
       "        )\n",
       "      )\n",
       "    )\n",
       "    (13): MaxPool2d(kernel_size=2, stride=2, padding=0, dilation=1, ceil_mode=True)\n",
       "    (14): Inception(\n",
       "      (branch1): BasicConv2d(\n",
       "        (conv): Conv2d(832, 256, kernel_size=(1, 1), stride=(1, 1), bias=False)\n",
       "        (bn): BatchNorm2d(256, eps=0.001, momentum=0.1, affine=True, track_running_stats=True)\n",
       "      )\n",
       "      (branch2): Sequential(\n",
       "        (0): BasicConv2d(\n",
       "          (conv): Conv2d(832, 160, kernel_size=(1, 1), stride=(1, 1), bias=False)\n",
       "          (bn): BatchNorm2d(160, eps=0.001, momentum=0.1, affine=True, track_running_stats=True)\n",
       "        )\n",
       "        (1): BasicConv2d(\n",
       "          (conv): Conv2d(160, 320, kernel_size=(3, 3), stride=(1, 1), padding=(1, 1), bias=False)\n",
       "          (bn): BatchNorm2d(320, eps=0.001, momentum=0.1, affine=True, track_running_stats=True)\n",
       "        )\n",
       "      )\n",
       "      (branch3): Sequential(\n",
       "        (0): BasicConv2d(\n",
       "          (conv): Conv2d(832, 32, kernel_size=(1, 1), stride=(1, 1), bias=False)\n",
       "          (bn): BatchNorm2d(32, eps=0.001, momentum=0.1, affine=True, track_running_stats=True)\n",
       "        )\n",
       "        (1): BasicConv2d(\n",
       "          (conv): Conv2d(32, 128, kernel_size=(3, 3), stride=(1, 1), padding=(1, 1), bias=False)\n",
       "          (bn): BatchNorm2d(128, eps=0.001, momentum=0.1, affine=True, track_running_stats=True)\n",
       "        )\n",
       "      )\n",
       "      (branch4): Sequential(\n",
       "        (0): MaxPool2d(kernel_size=3, stride=1, padding=1, dilation=1, ceil_mode=True)\n",
       "        (1): BasicConv2d(\n",
       "          (conv): Conv2d(832, 128, kernel_size=(1, 1), stride=(1, 1), bias=False)\n",
       "          (bn): BatchNorm2d(128, eps=0.001, momentum=0.1, affine=True, track_running_stats=True)\n",
       "        )\n",
       "      )\n",
       "    )\n",
       "    (15): Inception(\n",
       "      (branch1): BasicConv2d(\n",
       "        (conv): Conv2d(832, 384, kernel_size=(1, 1), stride=(1, 1), bias=False)\n",
       "        (bn): BatchNorm2d(384, eps=0.001, momentum=0.1, affine=True, track_running_stats=True)\n",
       "      )\n",
       "      (branch2): Sequential(\n",
       "        (0): BasicConv2d(\n",
       "          (conv): Conv2d(832, 192, kernel_size=(1, 1), stride=(1, 1), bias=False)\n",
       "          (bn): BatchNorm2d(192, eps=0.001, momentum=0.1, affine=True, track_running_stats=True)\n",
       "        )\n",
       "        (1): BasicConv2d(\n",
       "          (conv): Conv2d(192, 384, kernel_size=(3, 3), stride=(1, 1), padding=(1, 1), bias=False)\n",
       "          (bn): BatchNorm2d(384, eps=0.001, momentum=0.1, affine=True, track_running_stats=True)\n",
       "        )\n",
       "      )\n",
       "      (branch3): Sequential(\n",
       "        (0): BasicConv2d(\n",
       "          (conv): Conv2d(832, 48, kernel_size=(1, 1), stride=(1, 1), bias=False)\n",
       "          (bn): BatchNorm2d(48, eps=0.001, momentum=0.1, affine=True, track_running_stats=True)\n",
       "        )\n",
       "        (1): BasicConv2d(\n",
       "          (conv): Conv2d(48, 128, kernel_size=(3, 3), stride=(1, 1), padding=(1, 1), bias=False)\n",
       "          (bn): BatchNorm2d(128, eps=0.001, momentum=0.1, affine=True, track_running_stats=True)\n",
       "        )\n",
       "      )\n",
       "      (branch4): Sequential(\n",
       "        (0): MaxPool2d(kernel_size=3, stride=1, padding=1, dilation=1, ceil_mode=True)\n",
       "        (1): BasicConv2d(\n",
       "          (conv): Conv2d(832, 128, kernel_size=(1, 1), stride=(1, 1), bias=False)\n",
       "          (bn): BatchNorm2d(128, eps=0.001, momentum=0.1, affine=True, track_running_stats=True)\n",
       "        )\n",
       "      )\n",
       "    )\n",
       "    (16): AdaptiveAvgPool2d(output_size=(1, 1))\n",
       "    (17): Dropout(p=0.2, inplace=False)\n",
       "  )\n",
       "  (flatten): Flatten(start_dim=1, end_dim=-1)\n",
       "  (last_classifier): Linear(in_features=1024, out_features=4, bias=True)\n",
       ")"
      ]
     },
     "execution_count": 26,
     "metadata": {},
     "output_type": "execute_result"
    }
   ],
   "source": [
    "# Load the model\n",
    "NAME = \"model_2_bestModel.pt\"\n",
    "modelpy_bestModel = torch.load(PATH+NAME, map_location=device)\n",
    "modelpy_bestModel.eval()"
   ]
  },
  {
   "cell_type": "markdown",
   "id": "f0364695",
   "metadata": {},
   "source": [
    "## Evaluate Best Model"
   ]
  },
  {
   "cell_type": "code",
   "execution_count": 27,
   "id": "bea07e43",
   "metadata": {},
   "outputs": [
    {
     "name": "stderr",
     "output_type": "stream",
     "text": [
      "100%|██████████| 130/130 [00:20<00:00,  6.39it/s]\n"
     ]
    },
    {
     "name": "stdout",
     "output_type": "stream",
     "text": [
      "Accuracy of the network on the 1034 Train instances: 71.08317214700193%\n"
     ]
    },
    {
     "name": "stderr",
     "output_type": "stream",
     "text": [
      "100%|██████████| 15/15 [00:02<00:00,  6.87it/s]"
     ]
    },
    {
     "name": "stdout",
     "output_type": "stream",
     "text": [
      "Accuracy of the network on the 115 Validation instances: 66.95652173913044%\n"
     ]
    },
    {
     "name": "stderr",
     "output_type": "stream",
     "text": [
      "\n"
     ]
    }
   ],
   "source": [
    "# Calculate accuracy for Validation and Train sets\n",
    "accuracy_given_set(modelpy_bestModel, train_loader, device, name=\"Train\")\n",
    "accuracy_given_set(modelpy_bestModel, valid_loader, device, name=\"Validation\")"
   ]
  },
  {
   "cell_type": "markdown",
   "id": "d9849f30",
   "metadata": {},
   "source": [
    "## Test Predictions Best Model"
   ]
  },
  {
   "cell_type": "code",
   "execution_count": 28,
   "id": "6ab75bc9",
   "metadata": {},
   "outputs": [
    {
     "name": "stderr",
     "output_type": "stream",
     "text": [
      "100%|██████████| 380/380 [00:10<00:00, 37.94it/s]\n"
     ]
    },
    {
     "data": {
      "text/plain": [
       "(array([0, 1, 2]), array([159, 174,  47], dtype=int64))"
      ]
     },
     "execution_count": 28,
     "metadata": {},
     "output_type": "execute_result"
    }
   ],
   "source": [
    "pred, names = make_predictions(modelpy_bestModel, test_loader, device)\n",
    "\n",
    "np.unique(np.array(pred),return_counts=True)"
   ]
  },
  {
   "cell_type": "code",
   "execution_count": 29,
   "id": "0e32a2e4",
   "metadata": {},
   "outputs": [],
   "source": [
    "save_predictions_as_csv(names, pred, name=\"GGC_plus_clas_v01_GoogLeNet_best_prediction.csv\")"
   ]
  },
  {
   "attachments": {
    "image.png": {
     "image/png": "[encoded data removed]"
    }
   },
   "cell_type": "markdown",
   "id": "f60af6e1",
   "metadata": {},
   "source": [
    "![image.png](attachment:image.png)"
   ]
  }
 ],
 "metadata": {
  "kernelspec": {
   "display_name": "Python 3 (ipykernel)",
   "language": "python",
   "name": "python3"
  },
  "language_info": {
   "codemirror_mode": {
    "name": "ipython",
    "version": 3
   },
   "file_extension": ".py",
   "mimetype": "text/x-python",
   "name": "python",
   "nbconvert_exporter": "python",
   "pygments_lexer": "ipython3",
   "version": "3.8.13"
  }
 },
 "nbformat": 4,
 "nbformat_minor": 5
}
