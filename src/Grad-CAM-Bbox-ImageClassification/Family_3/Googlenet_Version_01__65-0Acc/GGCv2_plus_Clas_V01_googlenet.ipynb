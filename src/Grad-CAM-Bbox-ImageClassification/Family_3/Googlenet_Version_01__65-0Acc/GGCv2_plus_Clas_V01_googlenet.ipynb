{
 "cells": [
  {
   "cell_type": "code",
   "execution_count": 1,
   "id": "2dcb1ca1",
   "metadata": {},
   "outputs": [
    {
     "name": "stderr",
     "output_type": "stream",
     "text": [
      "D:\\Users\\Alex\\anaconda3\\lib\\site-packages\\scipy\\__init__.py:146: UserWarning: A NumPy version >=1.16.5 and <1.23.0 is required for this version of SciPy (detected version 1.23.4\n",
      "  warnings.warn(f\"A NumPy version >={np_minversion} and <{np_maxversion}\"\n"
     ]
    }
   ],
   "source": [
    "import os\n",
    "import time\n",
    "import numpy as np\n",
    "import pandas as pd\n",
    "from tqdm import tqdm\n",
    "\n",
    "from sklearn.model_selection import train_test_split"
   ]
  },
  {
   "cell_type": "code",
   "execution_count": 2,
   "id": "cca0c3fb",
   "metadata": {},
   "outputs": [],
   "source": [
    "import torch\n",
    "import torch.nn as nn\n",
    "#from torch.nn import functional as F\n",
    "from torch.utils.data import DataLoader\n",
    "from torchvision import models\n",
    "\n",
    "import torchvision.transforms as transforms"
   ]
  },
  {
   "cell_type": "code",
   "execution_count": 3,
   "id": "71f1c203",
   "metadata": {},
   "outputs": [],
   "source": [
    "from functions import(import_train_folder_dataset,\n",
    "                      Data,\n",
    "                      import_test_folder_dataset,\n",
    "                      Data_test,\n",
    "                      plot_loss_accuracy,\n",
    "                      save_model,\n",
    "                      save_metrics,\n",
    "                      save_predictions_as_csv\n",
    "                     )"
   ]
  },
  {
   "cell_type": "markdown",
   "id": "0718e13c",
   "metadata": {},
   "source": [
    "# Variables"
   ]
  },
  {
   "cell_type": "code",
   "execution_count": 4,
   "id": "3db7e115",
   "metadata": {},
   "outputs": [
    {
     "name": "stdout",
     "output_type": "stream",
     "text": [
      "cuda\n"
     ]
    }
   ],
   "source": [
    "model_epochs = 100 # 100\n",
    "\n",
    "lr = 0.006 # Learning rate.\n",
    "                            \n",
    "#torch.cuda.empty_cache()\n",
    "device = 'cuda' if torch.cuda.is_available() else 'cpu'\n",
    "print(device)\n",
    "\n",
    "\n",
    "TRAIN_BATCH_SIZE = 8\n",
    "TEST_BATCH_SIZE = 8\n",
    "\n",
    "checkpoints_save = 100 # Save after 50 epochs\n",
    "\n",
    "model_checkpoints = \"D:/Personal/Alex/Uni/MS IA/2 Curso/Fall 2022/Artificial Intelligence/Projects/Project 1/CheckPoints/\"\n",
    "PATH = \"D:\\\\Personal\\\\Alex\\\\Uni\\\\MS IA\\\\2 Curso\\\\Fall 2022\\Artificial Intelligence\\\\Projects\\\\Project 1\\\\Models Save\\\\GoogleNet_CAM-Plus-ImgClass_v2\\\\\"\n",
    "\n",
    "# Path of the Data files\n",
    "train_data_path = \"D:/Personal/Alex/Uni/MS IA/2 Curso/Fall 2022/Artificial Intelligence/Projects/Project 1/data/Croped_v2/Train\"\n",
    "test_data_path = \"D:/Personal/Alex/Uni/MS IA/2 Curso/Fall 2022/Artificial Intelligence/Projects/Project 1/data/Croped_v2/Test\""
   ]
  },
  {
   "cell_type": "markdown",
   "id": "15fd7f21",
   "metadata": {},
   "source": [
    "# Import Data"
   ]
  },
  {
   "cell_type": "code",
   "execution_count": 5,
   "id": "87640fcf",
   "metadata": {},
   "outputs": [],
   "source": [
    "\n",
    "img_transform_val = transforms.Compose([transforms.ToPILImage(),\n",
    "                                        transforms.Resize((400, 400)),\n",
    "                                        transforms.ToTensor(),\n",
    "                                        transforms.Normalize((0.485, 0.456, 0.406), (0.229, 0.224, 0.225))])\n"
   ]
  },
  {
   "cell_type": "markdown",
   "id": "08d4aa62",
   "metadata": {},
   "source": [
    "## Train-Val data"
   ]
  },
  {
   "cell_type": "code",
   "execution_count": 6,
   "id": "8a919ef7",
   "metadata": {},
   "outputs": [
    {
     "name": "stdout",
     "output_type": "stream",
     "text": [
      "Train Dim of Data:  (1149, 400, 400, 3)\n",
      "Train Dim of Lables:  (1149,)\n"
     ]
    }
   ],
   "source": [
    "# Import the data\n",
    "train_data, train_labels = import_train_folder_dataset(train_data_path)\n",
    "print(\"Train Dim of Data: \", train_data.shape)\n",
    "print(\"Train Dim of Lables: \", train_labels.shape)"
   ]
  },
  {
   "cell_type": "code",
   "execution_count": 7,
   "id": "faef9154",
   "metadata": {},
   "outputs": [
    {
     "name": "stdout",
     "output_type": "stream",
     "text": [
      "Dim of Data:  (1034, 400, 400, 3)\n",
      "Dim of Lables:  (1034,)\n",
      "Dim of X_test:  (115, 400, 400, 3)\n",
      "Dim of y_test:  (115,)\n"
     ]
    }
   ],
   "source": [
    "# Split into Train, Validation\n",
    "X_train, X_val, y_train, y_val = train_test_split(train_data, train_labels, test_size=0.1, random_state=1)\n",
    "print(\"Dim of Data: \", X_train.shape)\n",
    "print(\"Dim of Lables: \", y_train.shape)\n",
    "print(\"Dim of X_test: \", X_val.shape)\n",
    "print(\"Dim of y_test: \", y_val.shape)"
   ]
  },
  {
   "cell_type": "code",
   "execution_count": 8,
   "id": "57ba1413",
   "metadata": {},
   "outputs": [
    {
     "name": "stdout",
     "output_type": "stream",
     "text": [
      "Train len:  1034\n",
      "Val len:  115\n"
     ]
    }
   ],
   "source": [
    "# Create the dataset object\n",
    "train_Dataset = Data(X_train, y_train, img_transform_val) # img_transform\n",
    "val_Dataset = Data(X_val, y_val, img_transform_val)\n",
    "\n",
    "print(\"Train len: \",len(train_Dataset))\n",
    "print(\"Val len: \",len(val_Dataset))"
   ]
  },
  {
   "cell_type": "code",
   "execution_count": 9,
   "id": "84e8a189",
   "metadata": {},
   "outputs": [],
   "source": [
    "# Create the dataloaders\n",
    "train_loader = DataLoader(\n",
    "    train_Dataset, \n",
    "    batch_size=TRAIN_BATCH_SIZE,             \n",
    "    shuffle=True)\n",
    "\n",
    "valid_loader = DataLoader(\n",
    "    val_Dataset, \n",
    "    batch_size=TEST_BATCH_SIZE,\n",
    "    shuffle=False\n",
    "    )"
   ]
  },
  {
   "cell_type": "markdown",
   "id": "84335faa",
   "metadata": {},
   "source": [
    "## Test Data"
   ]
  },
  {
   "cell_type": "code",
   "execution_count": 10,
   "id": "aaa86a20",
   "metadata": {},
   "outputs": [
    {
     "name": "stdout",
     "output_type": "stream",
     "text": [
      "Test Dim of Data:  (380, 400, 400, 3)\n",
      "Test Dim of Lables:  (380,)\n"
     ]
    }
   ],
   "source": [
    "# Import the data\n",
    "test_data, test_names = import_test_folder_dataset(test_data_path)\n",
    "print(\"Test Dim of Data: \", test_data.shape)\n",
    "print(\"Test Dim of Lables: \", test_names.shape)"
   ]
  },
  {
   "cell_type": "code",
   "execution_count": 11,
   "id": "f9ce647e",
   "metadata": {},
   "outputs": [
    {
     "name": "stdout",
     "output_type": "stream",
     "text": [
      "Test len:  380\n"
     ]
    }
   ],
   "source": [
    "# Create the dataset object\n",
    "test_Dataset = Data_test(test_data, test_names, img_transform_val) # img_transform\n",
    "\n",
    "print(\"Test len: \",len(test_Dataset))"
   ]
  },
  {
   "cell_type": "code",
   "execution_count": 12,
   "id": "6d05ab18",
   "metadata": {},
   "outputs": [],
   "source": [
    "# Create the dataloaders\n",
    "test_loader = DataLoader(\n",
    "    test_Dataset, \n",
    "    batch_size=1,             \n",
    "    shuffle=False)"
   ]
  },
  {
   "cell_type": "markdown",
   "id": "e5b541df",
   "metadata": {},
   "source": [
    "# Create Model"
   ]
  },
  {
   "cell_type": "code",
   "execution_count": 13,
   "id": "c7e94655",
   "metadata": {
    "scrolled": true
   },
   "outputs": [
    {
     "name": "stderr",
     "output_type": "stream",
     "text": [
      "D:\\Users\\Alex\\anaconda3\\lib\\site-packages\\torchvision\\models\\_utils.py:208: UserWarning: The parameter 'pretrained' is deprecated since 0.13 and will be removed in 0.15, please use 'weights' instead.\n",
      "  warnings.warn(\n",
      "D:\\Users\\Alex\\anaconda3\\lib\\site-packages\\torchvision\\models\\_utils.py:223: UserWarning: Arguments other than a weight enum or `None` for 'weights' are deprecated since 0.13 and will be removed in 0.15. The current behavior is equivalent to passing `weights=GoogLeNet_Weights.IMAGENET1K_V1`. You can also use `weights=GoogLeNet_Weights.DEFAULT` to get the most up-to-date weights.\n",
      "  warnings.warn(msg)\n"
     ]
    },
    {
     "data": {
      "text/plain": [
       "ClassificationNet(\n",
       "  (googlenet_fe): Sequential(\n",
       "    (0): BasicConv2d(\n",
       "      (conv): Conv2d(3, 64, kernel_size=(7, 7), stride=(2, 2), padding=(3, 3), bias=False)\n",
       "      (bn): BatchNorm2d(64, eps=0.001, momentum=0.1, affine=True, track_running_stats=True)\n",
       "    )\n",
       "    (1): MaxPool2d(kernel_size=3, stride=2, padding=0, dilation=1, ceil_mode=True)\n",
       "    (2): BasicConv2d(\n",
       "      (conv): Conv2d(64, 64, kernel_size=(1, 1), stride=(1, 1), bias=False)\n",
       "      (bn): BatchNorm2d(64, eps=0.001, momentum=0.1, affine=True, track_running_stats=True)\n",
       "    )\n",
       "    (3): BasicConv2d(\n",
       "      (conv): Conv2d(64, 192, kernel_size=(3, 3), stride=(1, 1), padding=(1, 1), bias=False)\n",
       "      (bn): BatchNorm2d(192, eps=0.001, momentum=0.1, affine=True, track_running_stats=True)\n",
       "    )\n",
       "    (4): MaxPool2d(kernel_size=3, stride=2, padding=0, dilation=1, ceil_mode=True)\n",
       "    (5): Inception(\n",
       "      (branch1): BasicConv2d(\n",
       "        (conv): Conv2d(192, 64, kernel_size=(1, 1), stride=(1, 1), bias=False)\n",
       "        (bn): BatchNorm2d(64, eps=0.001, momentum=0.1, affine=True, track_running_stats=True)\n",
       "      )\n",
       "      (branch2): Sequential(\n",
       "        (0): BasicConv2d(\n",
       "          (conv): Conv2d(192, 96, kernel_size=(1, 1), stride=(1, 1), bias=False)\n",
       "          (bn): BatchNorm2d(96, eps=0.001, momentum=0.1, affine=True, track_running_stats=True)\n",
       "        )\n",
       "        (1): BasicConv2d(\n",
       "          (conv): Conv2d(96, 128, kernel_size=(3, 3), stride=(1, 1), padding=(1, 1), bias=False)\n",
       "          (bn): BatchNorm2d(128, eps=0.001, momentum=0.1, affine=True, track_running_stats=True)\n",
       "        )\n",
       "      )\n",
       "      (branch3): Sequential(\n",
       "        (0): BasicConv2d(\n",
       "          (conv): Conv2d(192, 16, kernel_size=(1, 1), stride=(1, 1), bias=False)\n",
       "          (bn): BatchNorm2d(16, eps=0.001, momentum=0.1, affine=True, track_running_stats=True)\n",
       "        )\n",
       "        (1): BasicConv2d(\n",
       "          (conv): Conv2d(16, 32, kernel_size=(3, 3), stride=(1, 1), padding=(1, 1), bias=False)\n",
       "          (bn): BatchNorm2d(32, eps=0.001, momentum=0.1, affine=True, track_running_stats=True)\n",
       "        )\n",
       "      )\n",
       "      (branch4): Sequential(\n",
       "        (0): MaxPool2d(kernel_size=3, stride=1, padding=1, dilation=1, ceil_mode=True)\n",
       "        (1): BasicConv2d(\n",
       "          (conv): Conv2d(192, 32, kernel_size=(1, 1), stride=(1, 1), bias=False)\n",
       "          (bn): BatchNorm2d(32, eps=0.001, momentum=0.1, affine=True, track_running_stats=True)\n",
       "        )\n",
       "      )\n",
       "    )\n",
       "    (6): Inception(\n",
       "      (branch1): BasicConv2d(\n",
       "        (conv): Conv2d(256, 128, kernel_size=(1, 1), stride=(1, 1), bias=False)\n",
       "        (bn): BatchNorm2d(128, eps=0.001, momentum=0.1, affine=True, track_running_stats=True)\n",
       "      )\n",
       "      (branch2): Sequential(\n",
       "        (0): BasicConv2d(\n",
       "          (conv): Conv2d(256, 128, kernel_size=(1, 1), stride=(1, 1), bias=False)\n",
       "          (bn): BatchNorm2d(128, eps=0.001, momentum=0.1, affine=True, track_running_stats=True)\n",
       "        )\n",
       "        (1): BasicConv2d(\n",
       "          (conv): Conv2d(128, 192, kernel_size=(3, 3), stride=(1, 1), padding=(1, 1), bias=False)\n",
       "          (bn): BatchNorm2d(192, eps=0.001, momentum=0.1, affine=True, track_running_stats=True)\n",
       "        )\n",
       "      )\n",
       "      (branch3): Sequential(\n",
       "        (0): BasicConv2d(\n",
       "          (conv): Conv2d(256, 32, kernel_size=(1, 1), stride=(1, 1), bias=False)\n",
       "          (bn): BatchNorm2d(32, eps=0.001, momentum=0.1, affine=True, track_running_stats=True)\n",
       "        )\n",
       "        (1): BasicConv2d(\n",
       "          (conv): Conv2d(32, 96, kernel_size=(3, 3), stride=(1, 1), padding=(1, 1), bias=False)\n",
       "          (bn): BatchNorm2d(96, eps=0.001, momentum=0.1, affine=True, track_running_stats=True)\n",
       "        )\n",
       "      )\n",
       "      (branch4): Sequential(\n",
       "        (0): MaxPool2d(kernel_size=3, stride=1, padding=1, dilation=1, ceil_mode=True)\n",
       "        (1): BasicConv2d(\n",
       "          (conv): Conv2d(256, 64, kernel_size=(1, 1), stride=(1, 1), bias=False)\n",
       "          (bn): BatchNorm2d(64, eps=0.001, momentum=0.1, affine=True, track_running_stats=True)\n",
       "        )\n",
       "      )\n",
       "    )\n",
       "    (7): MaxPool2d(kernel_size=3, stride=2, padding=0, dilation=1, ceil_mode=True)\n",
       "    (8): Inception(\n",
       "      (branch1): BasicConv2d(\n",
       "        (conv): Conv2d(480, 192, kernel_size=(1, 1), stride=(1, 1), bias=False)\n",
       "        (bn): BatchNorm2d(192, eps=0.001, momentum=0.1, affine=True, track_running_stats=True)\n",
       "      )\n",
       "      (branch2): Sequential(\n",
       "        (0): BasicConv2d(\n",
       "          (conv): Conv2d(480, 96, kernel_size=(1, 1), stride=(1, 1), bias=False)\n",
       "          (bn): BatchNorm2d(96, eps=0.001, momentum=0.1, affine=True, track_running_stats=True)\n",
       "        )\n",
       "        (1): BasicConv2d(\n",
       "          (conv): Conv2d(96, 208, kernel_size=(3, 3), stride=(1, 1), padding=(1, 1), bias=False)\n",
       "          (bn): BatchNorm2d(208, eps=0.001, momentum=0.1, affine=True, track_running_stats=True)\n",
       "        )\n",
       "      )\n",
       "      (branch3): Sequential(\n",
       "        (0): BasicConv2d(\n",
       "          (conv): Conv2d(480, 16, kernel_size=(1, 1), stride=(1, 1), bias=False)\n",
       "          (bn): BatchNorm2d(16, eps=0.001, momentum=0.1, affine=True, track_running_stats=True)\n",
       "        )\n",
       "        (1): BasicConv2d(\n",
       "          (conv): Conv2d(16, 48, kernel_size=(3, 3), stride=(1, 1), padding=(1, 1), bias=False)\n",
       "          (bn): BatchNorm2d(48, eps=0.001, momentum=0.1, affine=True, track_running_stats=True)\n",
       "        )\n",
       "      )\n",
       "      (branch4): Sequential(\n",
       "        (0): MaxPool2d(kernel_size=3, stride=1, padding=1, dilation=1, ceil_mode=True)\n",
       "        (1): BasicConv2d(\n",
       "          (conv): Conv2d(480, 64, kernel_size=(1, 1), stride=(1, 1), bias=False)\n",
       "          (bn): BatchNorm2d(64, eps=0.001, momentum=0.1, affine=True, track_running_stats=True)\n",
       "        )\n",
       "      )\n",
       "    )\n",
       "    (9): Inception(\n",
       "      (branch1): BasicConv2d(\n",
       "        (conv): Conv2d(512, 160, kernel_size=(1, 1), stride=(1, 1), bias=False)\n",
       "        (bn): BatchNorm2d(160, eps=0.001, momentum=0.1, affine=True, track_running_stats=True)\n",
       "      )\n",
       "      (branch2): Sequential(\n",
       "        (0): BasicConv2d(\n",
       "          (conv): Conv2d(512, 112, kernel_size=(1, 1), stride=(1, 1), bias=False)\n",
       "          (bn): BatchNorm2d(112, eps=0.001, momentum=0.1, affine=True, track_running_stats=True)\n",
       "        )\n",
       "        (1): BasicConv2d(\n",
       "          (conv): Conv2d(112, 224, kernel_size=(3, 3), stride=(1, 1), padding=(1, 1), bias=False)\n",
       "          (bn): BatchNorm2d(224, eps=0.001, momentum=0.1, affine=True, track_running_stats=True)\n",
       "        )\n",
       "      )\n",
       "      (branch3): Sequential(\n",
       "        (0): BasicConv2d(\n",
       "          (conv): Conv2d(512, 24, kernel_size=(1, 1), stride=(1, 1), bias=False)\n",
       "          (bn): BatchNorm2d(24, eps=0.001, momentum=0.1, affine=True, track_running_stats=True)\n",
       "        )\n",
       "        (1): BasicConv2d(\n",
       "          (conv): Conv2d(24, 64, kernel_size=(3, 3), stride=(1, 1), padding=(1, 1), bias=False)\n",
       "          (bn): BatchNorm2d(64, eps=0.001, momentum=0.1, affine=True, track_running_stats=True)\n",
       "        )\n",
       "      )\n",
       "      (branch4): Sequential(\n",
       "        (0): MaxPool2d(kernel_size=3, stride=1, padding=1, dilation=1, ceil_mode=True)\n",
       "        (1): BasicConv2d(\n",
       "          (conv): Conv2d(512, 64, kernel_size=(1, 1), stride=(1, 1), bias=False)\n",
       "          (bn): BatchNorm2d(64, eps=0.001, momentum=0.1, affine=True, track_running_stats=True)\n",
       "        )\n",
       "      )\n",
       "    )\n",
       "    (10): Inception(\n",
       "      (branch1): BasicConv2d(\n",
       "        (conv): Conv2d(512, 128, kernel_size=(1, 1), stride=(1, 1), bias=False)\n",
       "        (bn): BatchNorm2d(128, eps=0.001, momentum=0.1, affine=True, track_running_stats=True)\n",
       "      )\n",
       "      (branch2): Sequential(\n",
       "        (0): BasicConv2d(\n",
       "          (conv): Conv2d(512, 128, kernel_size=(1, 1), stride=(1, 1), bias=False)\n",
       "          (bn): BatchNorm2d(128, eps=0.001, momentum=0.1, affine=True, track_running_stats=True)\n",
       "        )\n",
       "        (1): BasicConv2d(\n",
       "          (conv): Conv2d(128, 256, kernel_size=(3, 3), stride=(1, 1), padding=(1, 1), bias=False)\n",
       "          (bn): BatchNorm2d(256, eps=0.001, momentum=0.1, affine=True, track_running_stats=True)\n",
       "        )\n",
       "      )\n",
       "      (branch3): Sequential(\n",
       "        (0): BasicConv2d(\n",
       "          (conv): Conv2d(512, 24, kernel_size=(1, 1), stride=(1, 1), bias=False)\n",
       "          (bn): BatchNorm2d(24, eps=0.001, momentum=0.1, affine=True, track_running_stats=True)\n",
       "        )\n",
       "        (1): BasicConv2d(\n",
       "          (conv): Conv2d(24, 64, kernel_size=(3, 3), stride=(1, 1), padding=(1, 1), bias=False)\n",
       "          (bn): BatchNorm2d(64, eps=0.001, momentum=0.1, affine=True, track_running_stats=True)\n",
       "        )\n",
       "      )\n",
       "      (branch4): Sequential(\n",
       "        (0): MaxPool2d(kernel_size=3, stride=1, padding=1, dilation=1, ceil_mode=True)\n",
       "        (1): BasicConv2d(\n",
       "          (conv): Conv2d(512, 64, kernel_size=(1, 1), stride=(1, 1), bias=False)\n",
       "          (bn): BatchNorm2d(64, eps=0.001, momentum=0.1, affine=True, track_running_stats=True)\n",
       "        )\n",
       "      )\n",
       "    )\n",
       "    (11): Inception(\n",
       "      (branch1): BasicConv2d(\n",
       "        (conv): Conv2d(512, 112, kernel_size=(1, 1), stride=(1, 1), bias=False)\n",
       "        (bn): BatchNorm2d(112, eps=0.001, momentum=0.1, affine=True, track_running_stats=True)\n",
       "      )\n",
       "      (branch2): Sequential(\n",
       "        (0): BasicConv2d(\n",
       "          (conv): Conv2d(512, 144, kernel_size=(1, 1), stride=(1, 1), bias=False)\n",
       "          (bn): BatchNorm2d(144, eps=0.001, momentum=0.1, affine=True, track_running_stats=True)\n",
       "        )\n",
       "        (1): BasicConv2d(\n",
       "          (conv): Conv2d(144, 288, kernel_size=(3, 3), stride=(1, 1), padding=(1, 1), bias=False)\n",
       "          (bn): BatchNorm2d(288, eps=0.001, momentum=0.1, affine=True, track_running_stats=True)\n",
       "        )\n",
       "      )\n",
       "      (branch3): Sequential(\n",
       "        (0): BasicConv2d(\n",
       "          (conv): Conv2d(512, 32, kernel_size=(1, 1), stride=(1, 1), bias=False)\n",
       "          (bn): BatchNorm2d(32, eps=0.001, momentum=0.1, affine=True, track_running_stats=True)\n",
       "        )\n",
       "        (1): BasicConv2d(\n",
       "          (conv): Conv2d(32, 64, kernel_size=(3, 3), stride=(1, 1), padding=(1, 1), bias=False)\n",
       "          (bn): BatchNorm2d(64, eps=0.001, momentum=0.1, affine=True, track_running_stats=True)\n",
       "        )\n",
       "      )\n",
       "      (branch4): Sequential(\n",
       "        (0): MaxPool2d(kernel_size=3, stride=1, padding=1, dilation=1, ceil_mode=True)\n",
       "        (1): BasicConv2d(\n",
       "          (conv): Conv2d(512, 64, kernel_size=(1, 1), stride=(1, 1), bias=False)\n",
       "          (bn): BatchNorm2d(64, eps=0.001, momentum=0.1, affine=True, track_running_stats=True)\n",
       "        )\n",
       "      )\n",
       "    )\n",
       "    (12): Inception(\n",
       "      (branch1): BasicConv2d(\n",
       "        (conv): Conv2d(528, 256, kernel_size=(1, 1), stride=(1, 1), bias=False)\n",
       "        (bn): BatchNorm2d(256, eps=0.001, momentum=0.1, affine=True, track_running_stats=True)\n",
       "      )\n",
       "      (branch2): Sequential(\n",
       "        (0): BasicConv2d(\n",
       "          (conv): Conv2d(528, 160, kernel_size=(1, 1), stride=(1, 1), bias=False)\n",
       "          (bn): BatchNorm2d(160, eps=0.001, momentum=0.1, affine=True, track_running_stats=True)\n",
       "        )\n",
       "        (1): BasicConv2d(\n",
       "          (conv): Conv2d(160, 320, kernel_size=(3, 3), stride=(1, 1), padding=(1, 1), bias=False)\n",
       "          (bn): BatchNorm2d(320, eps=0.001, momentum=0.1, affine=True, track_running_stats=True)\n",
       "        )\n",
       "      )\n",
       "      (branch3): Sequential(\n",
       "        (0): BasicConv2d(\n",
       "          (conv): Conv2d(528, 32, kernel_size=(1, 1), stride=(1, 1), bias=False)\n",
       "          (bn): BatchNorm2d(32, eps=0.001, momentum=0.1, affine=True, track_running_stats=True)\n",
       "        )\n",
       "        (1): BasicConv2d(\n",
       "          (conv): Conv2d(32, 128, kernel_size=(3, 3), stride=(1, 1), padding=(1, 1), bias=False)\n",
       "          (bn): BatchNorm2d(128, eps=0.001, momentum=0.1, affine=True, track_running_stats=True)\n",
       "        )\n",
       "      )\n",
       "      (branch4): Sequential(\n",
       "        (0): MaxPool2d(kernel_size=3, stride=1, padding=1, dilation=1, ceil_mode=True)\n",
       "        (1): BasicConv2d(\n",
       "          (conv): Conv2d(528, 128, kernel_size=(1, 1), stride=(1, 1), bias=False)\n",
       "          (bn): BatchNorm2d(128, eps=0.001, momentum=0.1, affine=True, track_running_stats=True)\n",
       "        )\n",
       "      )\n",
       "    )\n",
       "    (13): MaxPool2d(kernel_size=2, stride=2, padding=0, dilation=1, ceil_mode=True)\n",
       "    (14): Inception(\n",
       "      (branch1): BasicConv2d(\n",
       "        (conv): Conv2d(832, 256, kernel_size=(1, 1), stride=(1, 1), bias=False)\n",
       "        (bn): BatchNorm2d(256, eps=0.001, momentum=0.1, affine=True, track_running_stats=True)\n",
       "      )\n",
       "      (branch2): Sequential(\n",
       "        (0): BasicConv2d(\n",
       "          (conv): Conv2d(832, 160, kernel_size=(1, 1), stride=(1, 1), bias=False)\n",
       "          (bn): BatchNorm2d(160, eps=0.001, momentum=0.1, affine=True, track_running_stats=True)\n",
       "        )\n",
       "        (1): BasicConv2d(\n",
       "          (conv): Conv2d(160, 320, kernel_size=(3, 3), stride=(1, 1), padding=(1, 1), bias=False)\n",
       "          (bn): BatchNorm2d(320, eps=0.001, momentum=0.1, affine=True, track_running_stats=True)\n",
       "        )\n",
       "      )\n",
       "      (branch3): Sequential(\n",
       "        (0): BasicConv2d(\n",
       "          (conv): Conv2d(832, 32, kernel_size=(1, 1), stride=(1, 1), bias=False)\n",
       "          (bn): BatchNorm2d(32, eps=0.001, momentum=0.1, affine=True, track_running_stats=True)\n",
       "        )\n",
       "        (1): BasicConv2d(\n",
       "          (conv): Conv2d(32, 128, kernel_size=(3, 3), stride=(1, 1), padding=(1, 1), bias=False)\n",
       "          (bn): BatchNorm2d(128, eps=0.001, momentum=0.1, affine=True, track_running_stats=True)\n",
       "        )\n",
       "      )\n",
       "      (branch4): Sequential(\n",
       "        (0): MaxPool2d(kernel_size=3, stride=1, padding=1, dilation=1, ceil_mode=True)\n",
       "        (1): BasicConv2d(\n",
       "          (conv): Conv2d(832, 128, kernel_size=(1, 1), stride=(1, 1), bias=False)\n",
       "          (bn): BatchNorm2d(128, eps=0.001, momentum=0.1, affine=True, track_running_stats=True)\n",
       "        )\n",
       "      )\n",
       "    )\n",
       "    (15): Inception(\n",
       "      (branch1): BasicConv2d(\n",
       "        (conv): Conv2d(832, 384, kernel_size=(1, 1), stride=(1, 1), bias=False)\n",
       "        (bn): BatchNorm2d(384, eps=0.001, momentum=0.1, affine=True, track_running_stats=True)\n",
       "      )\n",
       "      (branch2): Sequential(\n",
       "        (0): BasicConv2d(\n",
       "          (conv): Conv2d(832, 192, kernel_size=(1, 1), stride=(1, 1), bias=False)\n",
       "          (bn): BatchNorm2d(192, eps=0.001, momentum=0.1, affine=True, track_running_stats=True)\n",
       "        )\n",
       "        (1): BasicConv2d(\n",
       "          (conv): Conv2d(192, 384, kernel_size=(3, 3), stride=(1, 1), padding=(1, 1), bias=False)\n",
       "          (bn): BatchNorm2d(384, eps=0.001, momentum=0.1, affine=True, track_running_stats=True)\n",
       "        )\n",
       "      )\n",
       "      (branch3): Sequential(\n",
       "        (0): BasicConv2d(\n",
       "          (conv): Conv2d(832, 48, kernel_size=(1, 1), stride=(1, 1), bias=False)\n",
       "          (bn): BatchNorm2d(48, eps=0.001, momentum=0.1, affine=True, track_running_stats=True)\n",
       "        )\n",
       "        (1): BasicConv2d(\n",
       "          (conv): Conv2d(48, 128, kernel_size=(3, 3), stride=(1, 1), padding=(1, 1), bias=False)\n",
       "          (bn): BatchNorm2d(128, eps=0.001, momentum=0.1, affine=True, track_running_stats=True)\n",
       "        )\n",
       "      )\n",
       "      (branch4): Sequential(\n",
       "        (0): MaxPool2d(kernel_size=3, stride=1, padding=1, dilation=1, ceil_mode=True)\n",
       "        (1): BasicConv2d(\n",
       "          (conv): Conv2d(832, 128, kernel_size=(1, 1), stride=(1, 1), bias=False)\n",
       "          (bn): BatchNorm2d(128, eps=0.001, momentum=0.1, affine=True, track_running_stats=True)\n",
       "        )\n",
       "      )\n",
       "    )\n",
       "    (16): AdaptiveAvgPool2d(output_size=(1, 1))\n",
       "    (17): Dropout(p=0.2, inplace=False)\n",
       "  )\n",
       "  (flatten): Flatten(start_dim=1, end_dim=-1)\n",
       "  (last_classifier): Linear(in_features=1024, out_features=4, bias=True)\n",
       ")"
      ]
     },
     "execution_count": 13,
     "metadata": {},
     "output_type": "execute_result"
    }
   ],
   "source": [
    "#PyTorch - Building the Model\n",
    "class ClassificationNet(nn.Module):\n",
    "    def __init__(self, googlenet):\n",
    "        super(ClassificationNet, self).__init__()\n",
    "        # get the pretrained googlenet network\n",
    "        #self.googlenet = models.googlenet(pretrained=True)\n",
    "        #self.resnet50 = models.resnet50(pretrained=True)\n",
    "        \n",
    "        # Get the feature extractor\n",
    "        self.googlenet_fe = nn.Sequential(*list(googlenet.children())[:-1])\n",
    "        #self.resnet50_fe = nn.Sequential(*list(self.resnet50.children())[:-1])\n",
    "        \n",
    "        # Flatten the FE output\n",
    "        self.flatten = nn.Flatten()\n",
    "        \n",
    "        # Add a clissifier\n",
    "        #self.last_classifier =  nn.Linear(in_features=2048, out_features=4)\n",
    "        self.last_classifier =  nn.Linear(in_features=1024, out_features=4)\n",
    "        \n",
    "    def forward(self, x): \n",
    "        #x = self.resnet50_fe(x)\n",
    "        x = self.googlenet_fe(x)\n",
    "        \n",
    "        x = self.flatten(x)\n",
    "        \n",
    "        x = self.last_classifier(x)\n",
    "        \n",
    "        return x\n",
    "\n",
    "modelpy = ClassificationNet(googlenet = models.googlenet(pretrained=True)).to(device)\n",
    "\n",
    "# Loss Function\n",
    "criterion_2 = nn.CrossEntropyLoss()\n",
    "\n",
    "# Optimizer    \n",
    "trainable_parameters_2 = filter(lambda p: p.requires_grad, modelpy.parameters())\n",
    "#optimizer_2 = torch.optim.Adam(params=trainable_parameters_2, lr=lr)\n",
    "optimizer_2 = torch.optim.SGD(params=trainable_parameters_2, lr=lr, momentum=1e-5) \n",
    "\n",
    "# Check if checkpoint is available, if so, load it\n",
    "model_epoch_m2_check = 0\n",
    "previous_time = 0\n",
    "\n",
    "modelpy"
   ]
  },
  {
   "cell_type": "code",
   "execution_count": 14,
   "id": "9d13ce6c",
   "metadata": {},
   "outputs": [],
   "source": [
    "# Check if checkpoint is available, if so, load it\n",
    "model_epoch_m2_check = 0\n",
    "previous_time = 0\n",
    "names = os.listdir(model_checkpoints)\n",
    "for elem in names:\n",
    "    if(elem==\"model_ckpt_m2.pth\"):\n",
    "        print(\"Loading saved checkpoint\")\n",
    "        checkpoint = torch.load(model_checkpoints + \"model_ckpt_m2.pth\")\n",
    "        modelpy.load_state_dict(checkpoint['model_state_dict'])\n",
    "        modelpy.to(device)\n",
    "        optimizer_2.load_state_dict(checkpoint['optimizer_state_dict'])\n",
    "        model_epoch_m2_check = checkpoint['epoch']\n",
    "        criterion_2 = checkpoint['loss']\n",
    "        previous_time = checkpoint['time']\n",
    "        print(f\"Epoch of the checkpoint: {model_epoch_m2_check}\")\n"
   ]
  },
  {
   "cell_type": "code",
   "execution_count": 15,
   "id": "9271b504",
   "metadata": {},
   "outputs": [
    {
     "name": "stdout",
     "output_type": "stream",
     "text": [
      "Model Parameters: 5604004\n"
     ]
    }
   ],
   "source": [
    "# Model Parameters\n",
    "\n",
    "def count_parameters(model):\n",
    "    return sum(p.numel() for p in model.parameters() if p.requires_grad)\n",
    "\n",
    "\n",
    "print(f\"Model Parameters: {count_parameters(modelpy)}\")"
   ]
  },
  {
   "cell_type": "markdown",
   "id": "a686cf7a",
   "metadata": {},
   "source": [
    "# Train Model"
   ]
  },
  {
   "cell_type": "code",
   "execution_count": 16,
   "id": "f5e24431",
   "metadata": {},
   "outputs": [],
   "source": [
    "def update_optimizer(optimizer, lr):\n",
    "    for i, param_group in enumerate(optimizer.param_groups):\n",
    "        param_group[\"lr\"]=lr"
   ]
  },
  {
   "cell_type": "code",
   "execution_count": 17,
   "id": "ab810b7d",
   "metadata": {
    "scrolled": true
   },
   "outputs": [
    {
     "name": "stdout",
     "output_type": "stream",
     "text": [
      "Epoch 1 of 100\n"
     ]
    },
    {
     "name": "stderr",
     "output_type": "stream",
     "text": [
      "100%|██████████| 130/130 [01:05<00:00,  2.00it/s]\n",
      "100%|██████████| 15/15 [00:02<00:00,  6.10it/s]\n"
     ]
    },
    {
     "name": "stdout",
     "output_type": "stream",
     "text": [
      "train loss:  0.14245391162959012\n",
      "Val loss:  0.13975815410199371\n",
      "train accuracy:  0.4632495164410058\n",
      "Val accuracy:  0.5391304347826087\n",
      "Best model at the moment with Val_acc 53.91, saving...\n",
      "Current time: 1.138 minutes. Time expected till completion: 112.673 minutes\n",
      "Epoch 2 of 100\n"
     ]
    },
    {
     "name": "stderr",
     "output_type": "stream",
     "text": [
      "100%|██████████| 130/130 [00:50<00:00,  2.57it/s]\n",
      "100%|██████████| 15/15 [00:02<00:00,  6.93it/s]\n"
     ]
    },
    {
     "name": "stdout",
     "output_type": "stream",
     "text": [
      "train loss:  0.12976227634418863\n",
      "Val loss:  0.1346144779868748\n",
      "train accuracy:  0.5589941972920697\n",
      "Val accuracy:  0.5565217391304348\n",
      "Best model at the moment with Val_acc 55.65, saving...\n",
      "Current time: 2.022 minutes. Time expected till completion: 99.073 minutes\n",
      "Epoch 3 of 100\n"
     ]
    },
    {
     "name": "stderr",
     "output_type": "stream",
     "text": [
      "100%|██████████| 130/130 [00:50<00:00,  2.59it/s]\n",
      "100%|██████████| 15/15 [00:02<00:00,  6.95it/s]\n"
     ]
    },
    {
     "name": "stdout",
     "output_type": "stream",
     "text": [
      "train loss:  0.12423486180416159\n",
      "Val loss:  0.12695341835851254\n",
      "train accuracy:  0.5880077369439072\n",
      "Val accuracy:  0.5652173913043478\n",
      "Best model at the moment with Val_acc 56.52, saving...\n",
      "Current time: 2.901 minutes. Time expected till completion: 93.806 minutes\n",
      "Epoch 4 of 100\n"
     ]
    },
    {
     "name": "stderr",
     "output_type": "stream",
     "text": [
      "100%|██████████| 130/130 [00:50<00:00,  2.58it/s]\n",
      "100%|██████████| 15/15 [00:02<00:00,  6.81it/s]\n"
     ]
    },
    {
     "name": "stdout",
     "output_type": "stream",
     "text": [
      "train loss:  0.11911430972226583\n",
      "Val loss:  0.12373952606449956\n",
      "train accuracy:  0.5996131528046421\n",
      "Val accuracy:  0.5739130434782609\n",
      "Best model at the moment with Val_acc 57.39, saving...\n",
      "Current time: 3.780 minutes. Time expected till completion: 90.716 minutes\n",
      "Epoch 5 of 100\n"
     ]
    },
    {
     "name": "stderr",
     "output_type": "stream",
     "text": [
      "100%|██████████| 130/130 [00:50<00:00,  2.60it/s]\n",
      "100%|██████████| 15/15 [00:02<00:00,  7.00it/s]\n"
     ]
    },
    {
     "name": "stdout",
     "output_type": "stream",
     "text": [
      "train loss:  0.11740475737379874\n",
      "Val loss:  0.12105830130369767\n",
      "train accuracy:  0.5986460348162476\n",
      "Val accuracy:  0.5652173913043478\n",
      "Current time: 4.650 minutes. Time expected till completion: 88.355 minutes\n",
      "Epoch 6 of 100\n"
     ]
    },
    {
     "name": "stderr",
     "output_type": "stream",
     "text": [
      "100%|██████████| 130/130 [00:50<00:00,  2.58it/s]\n",
      "100%|██████████| 15/15 [00:02<00:00,  6.94it/s]\n"
     ]
    },
    {
     "name": "stdout",
     "output_type": "stream",
     "text": [
      "train loss:  0.11454862333128023\n",
      "Val loss:  0.11985500895458719\n",
      "train accuracy:  0.6121856866537717\n",
      "Val accuracy:  0.5739130434782609\n",
      "Current time: 5.526 minutes. Time expected till completion: 86.576 minutes\n",
      "Epoch 7 of 100\n"
     ]
    },
    {
     "name": "stderr",
     "output_type": "stream",
     "text": [
      "100%|██████████| 130/130 [00:50<00:00,  2.60it/s]\n",
      "100%|██████████| 15/15 [00:02<00:00,  6.96it/s]\n"
     ]
    },
    {
     "name": "stdout",
     "output_type": "stream",
     "text": [
      "train loss:  0.1120463271897351\n",
      "Val loss:  0.11741056494090868\n",
      "train accuracy:  0.6141199226305609\n",
      "Val accuracy:  0.5652173913043478\n",
      "Current time: 6.396 minutes. Time expected till completion: 84.975 minutes\n",
      "Epoch 8 of 100\n"
     ]
    },
    {
     "name": "stderr",
     "output_type": "stream",
     "text": [
      "100%|██████████| 130/130 [00:50<00:00,  2.59it/s]\n",
      "100%|██████████| 15/15 [00:02<00:00,  6.91it/s]\n"
     ]
    },
    {
     "name": "stdout",
     "output_type": "stream",
     "text": [
      "train loss:  0.11193263666196303\n",
      "Val loss:  0.11780164086300393\n",
      "train accuracy:  0.6063829787234043\n",
      "Val accuracy:  0.5565217391304348\n",
      "Current time: 7.268 minutes. Time expected till completion: 83.580 minutes\n",
      "Epoch 9 of 100\n"
     ]
    },
    {
     "name": "stderr",
     "output_type": "stream",
     "text": [
      "100%|██████████| 130/130 [00:50<00:00,  2.59it/s]\n",
      "100%|██████████| 15/15 [00:02<00:00,  6.85it/s]\n"
     ]
    },
    {
     "name": "stdout",
     "output_type": "stream",
     "text": [
      "train loss:  0.11128387512275283\n",
      "Val loss:  0.11298167031744252\n",
      "train accuracy:  0.625725338491296\n",
      "Val accuracy:  0.5739130434782609\n",
      "Current time: 8.141 minutes. Time expected till completion: 82.310 minutes\n",
      "Epoch 10 of 100\n"
     ]
    },
    {
     "name": "stderr",
     "output_type": "stream",
     "text": [
      "100%|██████████| 130/130 [00:50<00:00,  2.59it/s]\n",
      "100%|██████████| 15/15 [00:02<00:00,  7.00it/s]\n"
     ]
    },
    {
     "name": "stdout",
     "output_type": "stream",
     "text": [
      "train loss:  0.10917623652365037\n",
      "Val loss:  0.1127993194953255\n",
      "train accuracy:  0.6150870406189555\n",
      "Val accuracy:  0.5826086956521739\n",
      "Best model at the moment with Val_acc 58.26, saving...\n",
      "Current time: 9.014 minutes. Time expected till completion: 81.126 minutes\n",
      "Epoch 11 of 100\n"
     ]
    },
    {
     "name": "stderr",
     "output_type": "stream",
     "text": [
      "100%|██████████| 130/130 [00:50<00:00,  2.59it/s]\n",
      "100%|██████████| 15/15 [00:02<00:00,  6.80it/s]\n"
     ]
    },
    {
     "name": "stdout",
     "output_type": "stream",
     "text": [
      "train loss:  0.10828854279084639\n",
      "Val loss:  0.10991929665855739\n",
      "train accuracy:  0.6179883945841392\n",
      "Val accuracy:  0.5826086956521739\n",
      "Current time: 9.887 minutes. Time expected till completion: 79.999 minutes\n",
      "Epoch 12 of 100\n"
     ]
    },
    {
     "name": "stderr",
     "output_type": "stream",
     "text": [
      "100%|██████████| 130/130 [00:50<00:00,  2.59it/s]\n",
      "100%|██████████| 15/15 [00:02<00:00,  7.03it/s]\n"
     ]
    },
    {
     "name": "stdout",
     "output_type": "stream",
     "text": [
      "train loss:  0.10645314834911081\n",
      "Val loss:  0.1106216197428496\n",
      "train accuracy:  0.6237911025145068\n",
      "Val accuracy:  0.6\n",
      "Best model at the moment with Val_acc 60.0, saving...\n",
      "Current time: 10.763 minutes. Time expected till completion: 78.929 minutes\n",
      "Epoch 13 of 100\n"
     ]
    },
    {
     "name": "stderr",
     "output_type": "stream",
     "text": [
      "100%|██████████| 130/130 [00:50<00:00,  2.60it/s]\n",
      "100%|██████████| 15/15 [00:02<00:00,  7.16it/s]\n"
     ]
    },
    {
     "name": "stdout",
     "output_type": "stream",
     "text": [
      "train loss:  0.10519872464571055\n",
      "Val loss:  0.11241124453751937\n",
      "train accuracy:  0.6421663442940039\n",
      "Val accuracy:  0.5739130434782609\n",
      "Current time: 11.632 minutes. Time expected till completion: 77.842 minutes\n",
      "Epoch 14 of 100\n"
     ]
    },
    {
     "name": "stderr",
     "output_type": "stream",
     "text": [
      "100%|██████████| 130/130 [00:49<00:00,  2.60it/s]\n",
      "100%|██████████| 15/15 [00:02<00:00,  7.09it/s]\n"
     ]
    },
    {
     "name": "stdout",
     "output_type": "stream",
     "text": [
      "train loss:  0.10358839281753598\n",
      "Val loss:  0.10739751484083093\n",
      "train accuracy:  0.6450676982591876\n",
      "Val accuracy:  0.6\n",
      "Current time: 12.500 minutes. Time expected till completion: 76.786 minutes\n",
      "Epoch 15 of 100\n"
     ]
    },
    {
     "name": "stderr",
     "output_type": "stream",
     "text": [
      "100%|██████████| 130/130 [00:49<00:00,  2.60it/s]\n",
      "100%|██████████| 15/15 [00:02<00:00,  6.89it/s]\n"
     ]
    },
    {
     "name": "stdout",
     "output_type": "stream",
     "text": [
      "train loss:  0.1026052765447351\n",
      "Val loss:  0.11128465222275775\n",
      "train accuracy:  0.6392649903288201\n",
      "Val accuracy:  0.5739130434782609\n",
      "Current time: 13.369 minutes. Time expected till completion: 75.758 minutes\n",
      "Epoch 16 of 100\n"
     ]
    },
    {
     "name": "stderr",
     "output_type": "stream",
     "text": [
      "100%|██████████| 130/130 [00:50<00:00,  2.60it/s]\n",
      "100%|██████████| 15/15 [00:02<00:00,  7.14it/s]\n"
     ]
    },
    {
     "name": "stdout",
     "output_type": "stream",
     "text": [
      "train loss:  0.10271381746754195\n",
      "Val loss:  0.10884512377821881\n",
      "train accuracy:  0.6411992263056093\n",
      "Val accuracy:  0.6\n",
      "Current time: 14.238 minutes. Time expected till completion: 74.748 minutes\n",
      "Epoch 17 of 100\n"
     ]
    },
    {
     "name": "stderr",
     "output_type": "stream",
     "text": [
      "100%|██████████| 130/130 [00:50<00:00,  2.59it/s]\n",
      "100%|██████████| 15/15 [00:02<00:00,  6.98it/s]\n"
     ]
    },
    {
     "name": "stdout",
     "output_type": "stream",
     "text": [
      "train loss:  0.10039108366177668\n",
      "Val loss:  0.11072602453439132\n",
      "train accuracy:  0.6537717601547389\n",
      "Val accuracy:  0.6086956521739131\n",
      "Best model at the moment with Val_acc 60.87, saving...\n",
      "Current time: 15.111 minutes. Time expected till completion: 73.779 minutes\n",
      "Epoch 18 of 100\n"
     ]
    },
    {
     "name": "stderr",
     "output_type": "stream",
     "text": [
      "100%|██████████| 130/130 [00:49<00:00,  2.61it/s]\n",
      "100%|██████████| 15/15 [00:02<00:00,  7.16it/s]\n"
     ]
    },
    {
     "name": "stdout",
     "output_type": "stream",
     "text": [
      "train loss:  0.09917202943528874\n",
      "Val loss:  0.10644604226817256\n",
      "train accuracy:  0.655705996131528\n",
      "Val accuracy:  0.5826086956521739\n",
      "Current time: 15.978 minutes. Time expected till completion: 72.787 minutes\n",
      "Epoch 19 of 100\n"
     ]
    },
    {
     "name": "stderr",
     "output_type": "stream",
     "text": [
      "100%|██████████| 130/130 [00:49<00:00,  2.60it/s]\n",
      "100%|██████████| 15/15 [00:02<00:00,  6.96it/s]\n"
     ]
    },
    {
     "name": "stdout",
     "output_type": "stream",
     "text": [
      "train loss:  0.09820121134734015\n",
      "Val loss:  0.10843982204147007\n",
      "train accuracy:  0.6595744680851063\n",
      "Val accuracy:  0.5652173913043478\n",
      "Current time: 16.846 minutes. Time expected till completion: 71.816 minutes\n",
      "Epoch 20 of 100\n"
     ]
    },
    {
     "name": "stderr",
     "output_type": "stream",
     "text": [
      "100%|██████████| 130/130 [00:49<00:00,  2.60it/s]\n",
      "100%|██████████| 15/15 [00:02<00:00,  7.14it/s]\n"
     ]
    },
    {
     "name": "stdout",
     "output_type": "stream",
     "text": [
      "train loss:  0.09829596319097153\n",
      "Val loss:  0.10572188237439031\n",
      "train accuracy:  0.660541586073501\n",
      "Val accuracy:  0.6\n",
      "Current time: 17.713 minutes. Time expected till completion: 70.853 minutes\n",
      "Epoch 21 of 100\n"
     ]
    },
    {
     "name": "stderr",
     "output_type": "stream",
     "text": [
      "100%|██████████| 130/130 [00:49<00:00,  2.61it/s]\n",
      "100%|██████████| 15/15 [00:02<00:00,  7.09it/s]\n"
     ]
    },
    {
     "name": "stdout",
     "output_type": "stream",
     "text": [
      "train loss:  0.09904707224618074\n",
      "Val loss:  0.10611707360848137\n",
      "train accuracy:  0.6586073500967118\n",
      "Val accuracy:  0.6173913043478261\n",
      "Best model at the moment with Val_acc 61.74, saving...\n",
      "Current time: 18.582 minutes. Time expected till completion: 69.903 minutes\n",
      "Epoch 22 of 100\n"
     ]
    },
    {
     "name": "stderr",
     "output_type": "stream",
     "text": [
      "100%|██████████| 130/130 [00:49<00:00,  2.61it/s]\n",
      "100%|██████████| 15/15 [00:02<00:00,  7.14it/s]\n"
     ]
    },
    {
     "name": "stdout",
     "output_type": "stream",
     "text": [
      "train loss:  0.09598714649331408\n",
      "Val loss:  0.10557638458583667\n",
      "train accuracy:  0.6847195357833655\n",
      "Val accuracy:  0.591304347826087\n",
      "Current time: 19.448 minutes. Time expected till completion: 68.951 minutes\n",
      "Epoch 23 of 100\n"
     ]
    },
    {
     "name": "stderr",
     "output_type": "stream",
     "text": [
      "100%|██████████| 130/130 [00:49<00:00,  2.60it/s]\n",
      "100%|██████████| 15/15 [00:02<00:00,  6.95it/s]\n"
     ]
    },
    {
     "name": "stdout",
     "output_type": "stream",
     "text": [
      "train loss:  0.09212023714409576\n",
      "Val loss:  0.1026209849378337\n",
      "train accuracy:  0.7030947775628626\n",
      "Val accuracy:  0.6173913043478261\n",
      "Current time: 20.316 minutes. Time expected till completion: 68.014 minutes\n",
      "Epoch 24 of 100\n"
     ]
    },
    {
     "name": "stderr",
     "output_type": "stream",
     "text": [
      "100%|██████████| 130/130 [00:50<00:00,  2.60it/s]\n",
      "100%|██████████| 15/15 [00:02<00:00,  7.12it/s]\n"
     ]
    },
    {
     "name": "stdout",
     "output_type": "stream",
     "text": [
      "train loss:  0.09206524566248261\n",
      "Val loss:  0.10361919947292493\n",
      "train accuracy:  0.6963249516441006\n",
      "Val accuracy:  0.6\n",
      "Current time: 21.185 minutes. Time expected till completion: 67.086 minutes\n",
      "Epoch 25 of 100\n"
     ]
    },
    {
     "name": "stderr",
     "output_type": "stream",
     "text": [
      "100%|██████████| 130/130 [00:49<00:00,  2.60it/s]\n",
      "100%|██████████| 15/15 [00:02<00:00,  7.10it/s]\n"
     ]
    },
    {
     "name": "stdout",
     "output_type": "stream",
     "text": [
      "train loss:  0.09326835651116398\n",
      "Val loss:  0.0994299943032472\n",
      "train accuracy:  0.7001934235976789\n",
      "Val accuracy:  0.6521739130434783\n",
      "Best model at the moment with Val_acc 65.22, saving...\n",
      "Current time: 22.055 minutes. Time expected till completion: 66.165 minutes\n",
      "Epoch 26 of 100\n"
     ]
    },
    {
     "name": "stderr",
     "output_type": "stream",
     "text": [
      "100%|██████████| 130/130 [00:50<00:00,  2.60it/s]\n",
      "100%|██████████| 15/15 [00:02<00:00,  7.18it/s]\n"
     ]
    },
    {
     "name": "stdout",
     "output_type": "stream",
     "text": [
      "train loss:  0.09255927011399481\n",
      "Val loss:  0.10135838907697926\n",
      "train accuracy:  0.7001934235976789\n",
      "Val accuracy:  0.6434782608695652\n",
      "Current time: 22.924 minutes. Time expected till completion: 65.245 minutes\n",
      "Epoch 27 of 100\n"
     ]
    },
    {
     "name": "stderr",
     "output_type": "stream",
     "text": [
      "100%|██████████| 130/130 [00:50<00:00,  2.60it/s]\n",
      "100%|██████████| 15/15 [00:02<00:00,  6.94it/s]\n"
     ]
    },
    {
     "name": "stdout",
     "output_type": "stream",
     "text": [
      "train loss:  0.09449904113719726\n",
      "Val loss:  0.10295048796612283\n",
      "train accuracy:  0.6943907156673114\n",
      "Val accuracy:  0.6347826086956522\n",
      "Current time: 23.794 minutes. Time expected till completion: 64.331 minutes\n",
      "Epoch 28 of 100\n"
     ]
    },
    {
     "name": "stderr",
     "output_type": "stream",
     "text": [
      "100%|██████████| 130/130 [00:49<00:00,  2.60it/s]\n",
      "100%|██████████| 15/15 [00:02<00:00,  7.10it/s]\n"
     ]
    },
    {
     "name": "stdout",
     "output_type": "stream",
     "text": [
      "train loss:  0.08973072538408136\n",
      "Val loss:  0.10283755219500998\n",
      "train accuracy:  0.6943907156673114\n",
      "Val accuracy:  0.6173913043478261\n",
      "Current time: 24.662 minutes. Time expected till completion: 63.416 minutes\n",
      "Epoch 29 of 100\n"
     ]
    },
    {
     "name": "stderr",
     "output_type": "stream",
     "text": [
      "100%|██████████| 130/130 [00:50<00:00,  2.60it/s]\n",
      "100%|██████████| 15/15 [00:02<00:00,  7.09it/s]\n"
     ]
    },
    {
     "name": "stdout",
     "output_type": "stream",
     "text": [
      "train loss:  0.08782018066836049\n",
      "Val loss:  0.10119631860567176\n",
      "train accuracy:  0.7166344294003868\n",
      "Val accuracy:  0.6347826086956522\n",
      "Current time: 25.531 minutes. Time expected till completion: 62.508 minutes\n",
      "Epoch 30 of 100\n"
     ]
    },
    {
     "name": "stderr",
     "output_type": "stream",
     "text": [
      "100%|██████████| 130/130 [00:49<00:00,  2.60it/s]\n",
      "100%|██████████| 15/15 [00:02<00:00,  7.06it/s]\n"
     ]
    },
    {
     "name": "stdout",
     "output_type": "stream",
     "text": [
      "train loss:  0.09030710595949937\n",
      "Val loss:  0.10226008917974388\n",
      "train accuracy:  0.7079303675048356\n",
      "Val accuracy:  0.6347826086956522\n",
      "Current time: 26.400 minutes. Time expected till completion: 61.601 minutes\n",
      "Epoch 31 of 100\n"
     ]
    },
    {
     "name": "stderr",
     "output_type": "stream",
     "text": [
      "100%|██████████| 130/130 [00:50<00:00,  2.59it/s]\n",
      "100%|██████████| 15/15 [00:02<00:00,  7.00it/s]\n"
     ]
    },
    {
     "name": "stdout",
     "output_type": "stream",
     "text": [
      "train loss:  0.08691646622735251\n",
      "Val loss:  0.10308632202770399\n",
      "train accuracy:  0.7282398452611218\n",
      "Val accuracy:  0.6260869565217392\n",
      "Current time: 27.272 minutes. Time expected till completion: 60.701 minutes\n",
      "Epoch 32 of 100\n"
     ]
    },
    {
     "name": "stderr",
     "output_type": "stream",
     "text": [
      "100%|██████████| 130/130 [00:50<00:00,  2.60it/s]\n",
      "100%|██████████| 15/15 [00:02<00:00,  7.15it/s]\n"
     ]
    },
    {
     "name": "stdout",
     "output_type": "stream",
     "text": [
      "train loss:  0.08781405966332619\n",
      "Val loss:  0.10510641984317613\n",
      "train accuracy:  0.7321083172147002\n",
      "Val accuracy:  0.6260869565217392\n",
      "Current time: 28.141 minutes. Time expected till completion: 59.800 minutes\n",
      "Epoch 33 of 100\n"
     ]
    },
    {
     "name": "stderr",
     "output_type": "stream",
     "text": [
      "100%|██████████| 130/130 [00:49<00:00,  2.60it/s]\n",
      "100%|██████████| 15/15 [00:02<00:00,  7.14it/s]\n"
     ]
    },
    {
     "name": "stdout",
     "output_type": "stream",
     "text": [
      "train loss:  0.08578072076148176\n",
      "Val loss:  0.10128313484399215\n",
      "train accuracy:  0.7205029013539652\n",
      "Val accuracy:  0.6608695652173913\n",
      "Best model at the moment with Val_acc 66.09, saving...\n",
      "Current time: 29.011 minutes. Time expected till completion: 58.902 minutes\n",
      "Epoch 34 of 100\n"
     ]
    },
    {
     "name": "stderr",
     "output_type": "stream",
     "text": [
      "100%|██████████| 130/130 [00:50<00:00,  2.60it/s]\n",
      "100%|██████████| 15/15 [00:02<00:00,  6.85it/s]\n"
     ]
    },
    {
     "name": "stdout",
     "output_type": "stream",
     "text": [
      "train loss:  0.08397202040978512\n",
      "Val loss:  0.10321391043455705\n",
      "train accuracy:  0.7398452611218569\n",
      "Val accuracy:  0.6782608695652174\n",
      "Best model at the moment with Val_acc 67.83, saving...\n",
      "Current time: 29.885 minutes. Time expected till completion: 58.012 minutes\n",
      "Epoch 35 of 100\n"
     ]
    },
    {
     "name": "stderr",
     "output_type": "stream",
     "text": [
      "100%|██████████| 130/130 [00:50<00:00,  2.59it/s]\n",
      "100%|██████████| 15/15 [00:02<00:00,  7.04it/s]\n"
     ]
    },
    {
     "name": "stdout",
     "output_type": "stream",
     "text": [
      "train loss:  0.08125634667260043\n",
      "Val loss:  0.10421174531397612\n",
      "train accuracy:  0.741779497098646\n",
      "Val accuracy:  0.6608695652173913\n",
      "Current time: 30.757 minutes. Time expected till completion: 57.120 minutes\n",
      "Epoch 36 of 100\n"
     ]
    },
    {
     "name": "stderr",
     "output_type": "stream",
     "text": [
      "100%|██████████| 130/130 [00:50<00:00,  2.60it/s]\n",
      "100%|██████████| 15/15 [00:02<00:00,  7.07it/s]\n"
     ]
    },
    {
     "name": "stdout",
     "output_type": "stream",
     "text": [
      "train loss:  0.08328019831927648\n",
      "Val loss:  0.10204474848249684\n",
      "train accuracy:  0.718568665377176\n",
      "Val accuracy:  0.6347826086956522\n",
      "Current time: 31.626 minutes. Time expected till completion: 56.225 minutes\n",
      "Epoch 37 of 100\n"
     ]
    },
    {
     "name": "stderr",
     "output_type": "stream",
     "text": [
      "100%|██████████| 130/130 [00:49<00:00,  2.60it/s]\n",
      "100%|██████████| 15/15 [00:02<00:00,  7.09it/s]\n"
     ]
    },
    {
     "name": "stdout",
     "output_type": "stream",
     "text": [
      "train loss:  0.08305689195311508\n",
      "Val loss:  0.09739038685093755\n",
      "train accuracy:  0.746615087040619\n",
      "Val accuracy:  0.6608695652173913\n",
      "Current time: 32.495 minutes. Time expected till completion: 55.329 minutes\n",
      "Epoch 38 of 100\n"
     ]
    },
    {
     "name": "stderr",
     "output_type": "stream",
     "text": [
      "100%|██████████| 130/130 [00:49<00:00,  2.60it/s]\n",
      "100%|██████████| 15/15 [00:02<00:00,  6.81it/s]\n"
     ]
    },
    {
     "name": "stdout",
     "output_type": "stream",
     "text": [
      "train loss:  0.08219828858712194\n",
      "Val loss:  0.09736067367636639\n",
      "train accuracy:  0.7272727272727273\n",
      "Val accuracy:  0.6608695652173913\n",
      "Current time: 33.365 minutes. Time expected till completion: 54.437 minutes\n",
      "Epoch 39 of 100\n"
     ]
    },
    {
     "name": "stderr",
     "output_type": "stream",
     "text": [
      "100%|██████████| 130/130 [00:50<00:00,  2.60it/s]\n",
      "100%|██████████| 15/15 [00:02<00:00,  7.12it/s]\n"
     ]
    },
    {
     "name": "stdout",
     "output_type": "stream",
     "text": [
      "train loss:  0.07950690754723502\n",
      "Val loss:  0.10045709273089533\n",
      "train accuracy:  0.7553191489361702\n",
      "Val accuracy:  0.6695652173913044\n",
      "Current time: 34.235 minutes. Time expected till completion: 53.547 minutes\n",
      "Epoch 40 of 100\n"
     ]
    },
    {
     "name": "stderr",
     "output_type": "stream",
     "text": [
      "100%|██████████| 130/130 [00:50<00:00,  2.59it/s]\n",
      "100%|██████████| 15/15 [00:02<00:00,  7.03it/s]\n"
     ]
    },
    {
     "name": "stdout",
     "output_type": "stream",
     "text": [
      "train loss:  0.07757988376128605\n",
      "Val loss:  0.09937285314435544\n",
      "train accuracy:  0.7678916827852998\n",
      "Val accuracy:  0.6956521739130435\n",
      "Best model at the moment with Val_acc 69.57, saving...\n",
      "Current time: 35.110 minutes. Time expected till completion: 52.665 minutes\n",
      "Epoch 41 of 100\n"
     ]
    },
    {
     "name": "stderr",
     "output_type": "stream",
     "text": [
      "100%|██████████| 130/130 [00:50<00:00,  2.60it/s]\n",
      "100%|██████████| 15/15 [00:02<00:00,  7.18it/s]\n"
     ]
    },
    {
     "name": "stdout",
     "output_type": "stream",
     "text": [
      "train loss:  0.07601754534521232\n",
      "Val loss:  0.09691326125808385\n",
      "train accuracy:  0.7649903288201161\n",
      "Val accuracy:  0.6608695652173913\n",
      "Current time: 35.979 minutes. Time expected till completion: 51.775 minutes\n",
      "Epoch 42 of 100\n"
     ]
    },
    {
     "name": "stderr",
     "output_type": "stream",
     "text": [
      "100%|██████████| 130/130 [00:50<00:00,  2.59it/s]\n",
      "100%|██████████| 15/15 [00:02<00:00,  6.85it/s]\n"
     ]
    },
    {
     "name": "stdout",
     "output_type": "stream",
     "text": [
      "train loss:  0.07314322538659467\n",
      "Val loss:  0.09811427308165509\n",
      "train accuracy:  0.7833655705996132\n",
      "Val accuracy:  0.6782608695652174\n",
      "Current time: 36.851 minutes. Time expected till completion: 50.890 minutes\n",
      "Epoch 43 of 100\n"
     ]
    },
    {
     "name": "stderr",
     "output_type": "stream",
     "text": [
      "100%|██████████| 130/130 [00:50<00:00,  2.60it/s]\n",
      "100%|██████████| 15/15 [00:02<00:00,  7.05it/s]\n"
     ]
    },
    {
     "name": "stdout",
     "output_type": "stream",
     "text": [
      "train loss:  0.07638551048372423\n",
      "Val loss:  0.1059486676817355\n",
      "train accuracy:  0.7543520309477756\n",
      "Val accuracy:  0.6347826086956522\n",
      "Current time: 37.722 minutes. Time expected till completion: 50.003 minutes\n",
      "Epoch 44 of 100\n"
     ]
    },
    {
     "name": "stderr",
     "output_type": "stream",
     "text": [
      "100%|██████████| 130/130 [00:50<00:00,  2.60it/s]\n",
      "100%|██████████| 15/15 [00:02<00:00,  7.08it/s]\n"
     ]
    },
    {
     "name": "stdout",
     "output_type": "stream",
     "text": [
      "train loss:  0.074422362910825\n",
      "Val loss:  0.10039871360944665\n",
      "train accuracy:  0.7611218568665378\n",
      "Val accuracy:  0.6695652173913044\n",
      "Current time: 38.591 minutes. Time expected till completion: 49.116 minutes\n",
      "Epoch 45 of 100\n"
     ]
    },
    {
     "name": "stderr",
     "output_type": "stream",
     "text": [
      "100%|██████████| 130/130 [00:50<00:00,  2.60it/s]\n",
      "100%|██████████| 15/15 [00:02<00:00,  7.05it/s]\n"
     ]
    },
    {
     "name": "stdout",
     "output_type": "stream",
     "text": [
      "train loss:  0.07277036148413468\n",
      "Val loss:  0.1039777530276257\n",
      "train accuracy:  0.7785299806576402\n",
      "Val accuracy:  0.6782608695652174\n",
      "Current time: 39.461 minutes. Time expected till completion: 48.230 minutes\n",
      "Epoch 46 of 100\n"
     ]
    },
    {
     "name": "stderr",
     "output_type": "stream",
     "text": [
      "100%|██████████| 130/130 [00:50<00:00,  2.60it/s]\n",
      "100%|██████████| 15/15 [00:02<00:00,  6.75it/s]\n"
     ]
    },
    {
     "name": "stdout",
     "output_type": "stream",
     "text": [
      "train loss:  0.07501439830897164\n",
      "Val loss:  0.09940843452578006\n",
      "train accuracy:  0.758220502901354\n",
      "Val accuracy:  0.6782608695652174\n",
      "Current time: 40.332 minutes. Time expected till completion: 47.346 minutes\n",
      "Epoch 47 of 100\n"
     ]
    },
    {
     "name": "stderr",
     "output_type": "stream",
     "text": [
      "100%|██████████| 130/130 [00:50<00:00,  2.60it/s]\n",
      "100%|██████████| 15/15 [00:02<00:00,  7.15it/s]\n"
     ]
    },
    {
     "name": "stdout",
     "output_type": "stream",
     "text": [
      "train loss:  0.07338928886665827\n",
      "Val loss:  0.09910499323969302\n",
      "train accuracy:  0.7785299806576402\n",
      "Val accuracy:  0.6347826086956522\n",
      "Current time: 41.201 minutes. Time expected till completion: 46.461 minutes\n",
      "Epoch 48 of 100\n"
     ]
    },
    {
     "name": "stderr",
     "output_type": "stream",
     "text": [
      "100%|██████████| 130/130 [00:50<00:00,  2.60it/s]\n",
      "100%|██████████| 15/15 [00:02<00:00,  7.12it/s]\n"
     ]
    },
    {
     "name": "stdout",
     "output_type": "stream",
     "text": [
      "train loss:  0.07139075045947642\n",
      "Val loss:  0.10181791367738144\n",
      "train accuracy:  0.781431334622824\n",
      "Val accuracy:  0.6782608695652174\n",
      "Current time: 42.070 minutes. Time expected till completion: 45.576 minutes\n",
      "Epoch 49 of 100\n"
     ]
    },
    {
     "name": "stderr",
     "output_type": "stream",
     "text": [
      "100%|██████████| 130/130 [00:49<00:00,  2.60it/s]\n",
      "100%|██████████| 15/15 [00:02<00:00,  6.91it/s]\n"
     ]
    },
    {
     "name": "stdout",
     "output_type": "stream",
     "text": [
      "train loss:  0.07120365633609448\n",
      "Val loss:  0.10099908787271251\n",
      "train accuracy:  0.7940038684719536\n",
      "Val accuracy:  0.6869565217391305\n",
      "Current time: 42.939 minutes. Time expected till completion: 44.691 minutes\n",
      "Epoch 50 of 100\n"
     ]
    },
    {
     "name": "stderr",
     "output_type": "stream",
     "text": [
      "100%|██████████| 130/130 [00:49<00:00,  2.60it/s]\n",
      "100%|██████████| 15/15 [00:02<00:00,  6.96it/s]\n"
     ]
    },
    {
     "name": "stdout",
     "output_type": "stream",
     "text": [
      "train loss:  0.06706422702832655\n",
      "Val loss:  0.10944334631380828\n",
      "train accuracy:  0.7949709864603481\n",
      "Val accuracy:  0.6347826086956522\n",
      "Current time: 43.808 minutes. Time expected till completion: 43.808 minutes\n",
      "Epoch 51 of 100\n"
     ]
    },
    {
     "name": "stderr",
     "output_type": "stream",
     "text": [
      "100%|██████████| 130/130 [00:49<00:00,  2.60it/s]\n",
      "100%|██████████| 15/15 [00:02<00:00,  7.03it/s]\n"
     ]
    },
    {
     "name": "stdout",
     "output_type": "stream",
     "text": [
      "train loss:  0.06452923710503015\n",
      "Val loss:  0.10999493987663933\n",
      "train accuracy:  0.8172147001934236\n",
      "Val accuracy:  0.6608695652173913\n",
      "Current time: 44.675 minutes. Time expected till completion: 42.923 minutes\n",
      "Epoch 52 of 100\n"
     ]
    },
    {
     "name": "stderr",
     "output_type": "stream",
     "text": [
      "100%|██████████| 130/130 [00:49<00:00,  2.60it/s]\n",
      "100%|██████████| 15/15 [00:02<00:00,  7.11it/s]\n"
     ]
    },
    {
     "name": "stdout",
     "output_type": "stream",
     "text": [
      "train loss:  0.06480351927720832\n",
      "Val loss:  0.10330471785172173\n",
      "train accuracy:  0.811411992263056\n",
      "Val accuracy:  0.6782608695652174\n",
      "Current time: 45.543 minutes. Time expected till completion: 42.039 minutes\n",
      "Epoch 53 of 100\n"
     ]
    },
    {
     "name": "stderr",
     "output_type": "stream",
     "text": [
      "100%|██████████| 130/130 [00:49<00:00,  2.61it/s]\n",
      "100%|██████████| 15/15 [00:02<00:00,  6.88it/s]\n"
     ]
    },
    {
     "name": "stdout",
     "output_type": "stream",
     "text": [
      "train loss:  0.06678278027985037\n",
      "Val loss:  0.10462599604026131\n",
      "train accuracy:  0.811411992263056\n",
      "Val accuracy:  0.6608695652173913\n",
      "Current time: 46.411 minutes. Time expected till completion: 41.157 minutes\n",
      "Epoch 54 of 100\n"
     ]
    },
    {
     "name": "stderr",
     "output_type": "stream",
     "text": [
      "100%|██████████| 130/130 [00:49<00:00,  2.60it/s]\n",
      "100%|██████████| 15/15 [00:02<00:00,  7.03it/s]\n"
     ]
    },
    {
     "name": "stdout",
     "output_type": "stream",
     "text": [
      "train loss:  0.06390642759532486\n",
      "Val loss:  0.10498539416686348\n",
      "train accuracy:  0.8036750483558994\n",
      "Val accuracy:  0.6695652173913044\n",
      "Current time: 47.279 minutes. Time expected till completion: 40.275 minutes\n",
      "Epoch 55 of 100\n"
     ]
    },
    {
     "name": "stderr",
     "output_type": "stream",
     "text": [
      "100%|██████████| 130/130 [00:49<00:00,  2.61it/s]\n",
      "100%|██████████| 15/15 [00:02<00:00,  7.04it/s]\n"
     ]
    },
    {
     "name": "stdout",
     "output_type": "stream",
     "text": [
      "train loss:  0.06296303822177983\n",
      "Val loss:  0.10461976450422536\n",
      "train accuracy:  0.8346228239845261\n",
      "Val accuracy:  0.6695652173913044\n",
      "Current time: 48.146 minutes. Time expected till completion: 39.392 minutes\n",
      "Epoch 56 of 100\n"
     ]
    },
    {
     "name": "stderr",
     "output_type": "stream",
     "text": [
      "100%|██████████| 130/130 [00:49<00:00,  2.60it/s]\n",
      "100%|██████████| 15/15 [00:02<00:00,  7.18it/s]\n"
     ]
    },
    {
     "name": "stdout",
     "output_type": "stream",
     "text": [
      "train loss:  0.06159269583467358\n",
      "Val loss:  0.10394942138506019\n",
      "train accuracy:  0.816247582205029\n",
      "Val accuracy:  0.6608695652173913\n",
      "Current time: 49.014 minutes. Time expected till completion: 38.511 minutes\n",
      "Epoch 57 of 100\n"
     ]
    },
    {
     "name": "stderr",
     "output_type": "stream",
     "text": [
      "100%|██████████| 130/130 [00:49<00:00,  2.60it/s]\n",
      "100%|██████████| 15/15 [00:02<00:00,  6.89it/s]\n"
     ]
    },
    {
     "name": "stdout",
     "output_type": "stream",
     "text": [
      "train loss:  0.06253346952121538\n",
      "Val loss:  0.10889934042225713\n",
      "train accuracy:  0.8191489361702128\n",
      "Val accuracy:  0.6695652173913044\n",
      "Current time: 49.883 minutes. Time expected till completion: 37.631 minutes\n",
      "Epoch 58 of 100\n"
     ]
    },
    {
     "name": "stderr",
     "output_type": "stream",
     "text": [
      "100%|██████████| 130/130 [00:49<00:00,  2.60it/s]\n",
      "100%|██████████| 15/15 [00:02<00:00,  7.15it/s]\n"
     ]
    },
    {
     "name": "stdout",
     "output_type": "stream",
     "text": [
      "train loss:  0.06815527950195556\n",
      "Val loss:  0.10472376502078512\n",
      "train accuracy:  0.7882011605415861\n",
      "Val accuracy:  0.6782608695652174\n",
      "Current time: 50.751 minutes. Time expected till completion: 36.750 minutes\n",
      "Epoch 59 of 100\n"
     ]
    },
    {
     "name": "stderr",
     "output_type": "stream",
     "text": [
      "100%|██████████| 130/130 [00:49<00:00,  2.60it/s]\n",
      "100%|██████████| 15/15 [00:02<00:00,  7.01it/s]\n"
     ]
    },
    {
     "name": "stdout",
     "output_type": "stream",
     "text": [
      "train loss:  0.06533135037069394\n",
      "Val loss:  0.11088011575781781\n",
      "train accuracy:  0.811411992263056\n",
      "Val accuracy:  0.6521739130434783\n",
      "Current time: 51.618 minutes. Time expected till completion: 35.870 minutes\n",
      "Epoch 60 of 100\n"
     ]
    },
    {
     "name": "stderr",
     "output_type": "stream",
     "text": [
      "100%|██████████| 130/130 [00:50<00:00,  2.60it/s]\n",
      "100%|██████████| 15/15 [00:02<00:00,  7.16it/s]\n"
     ]
    },
    {
     "name": "stdout",
     "output_type": "stream",
     "text": [
      "train loss:  0.06079014429617205\n",
      "Val loss:  0.10136578471764274\n",
      "train accuracy:  0.8172147001934236\n",
      "Val accuracy:  0.6521739130434783\n",
      "Current time: 52.488 minutes. Time expected till completion: 34.992 minutes\n",
      "Epoch 61 of 100\n"
     ]
    },
    {
     "name": "stderr",
     "output_type": "stream",
     "text": [
      "100%|██████████| 130/130 [00:49<00:00,  2.60it/s]\n",
      "100%|██████████| 15/15 [00:02<00:00,  6.87it/s]\n"
     ]
    },
    {
     "name": "stdout",
     "output_type": "stream",
     "text": [
      "train loss:  0.05284297227052471\n",
      "Val loss:  0.10449382351792377\n",
      "train accuracy:  0.8462282398452611\n",
      "Val accuracy:  0.6608695652173913\n",
      "Current time: 53.357 minutes. Time expected till completion: 34.113 minutes\n",
      "Epoch 62 of 100\n"
     ]
    },
    {
     "name": "stderr",
     "output_type": "stream",
     "text": [
      "100%|██████████| 130/130 [00:49<00:00,  2.60it/s]\n",
      "100%|██████████| 15/15 [00:02<00:00,  7.16it/s]\n"
     ]
    },
    {
     "name": "stdout",
     "output_type": "stream",
     "text": [
      "train loss:  0.05399169494727594\n",
      "Val loss:  0.11397294661273127\n",
      "train accuracy:  0.8549323017408124\n",
      "Val accuracy:  0.6347826086956522\n",
      "Current time: 54.225 minutes. Time expected till completion: 33.235 minutes\n",
      "Epoch 63 of 100\n"
     ]
    },
    {
     "name": "stderr",
     "output_type": "stream",
     "text": [
      "100%|██████████| 130/130 [00:49<00:00,  2.60it/s]\n",
      "100%|██████████| 15/15 [00:02<00:00,  7.08it/s]\n"
     ]
    },
    {
     "name": "stdout",
     "output_type": "stream",
     "text": [
      "train loss:  0.04983197685107733\n",
      "Val loss:  0.10890731085901675\n",
      "train accuracy:  0.8655705996131529\n",
      "Val accuracy:  0.6434782608695652\n",
      "Current time: 55.093 minutes. Time expected till completion: 32.356 minutes\n",
      "Epoch 64 of 100\n"
     ]
    },
    {
     "name": "stderr",
     "output_type": "stream",
     "text": [
      "100%|██████████| 130/130 [00:50<00:00,  2.60it/s]\n",
      "100%|██████████| 15/15 [00:02<00:00,  7.06it/s]\n"
     ]
    },
    {
     "name": "stdout",
     "output_type": "stream",
     "text": [
      "train loss:  0.05038619758399128\n",
      "Val loss:  0.11109643345293792\n",
      "train accuracy:  0.8520309477756286\n",
      "Val accuracy:  0.6782608695652174\n",
      "Current time: 55.963 minutes. Time expected till completion: 31.479 minutes\n",
      "Epoch 65 of 100\n"
     ]
    },
    {
     "name": "stderr",
     "output_type": "stream",
     "text": [
      "100%|██████████| 130/130 [00:49<00:00,  2.60it/s]\n",
      "100%|██████████| 15/15 [00:02<00:00,  6.83it/s]\n"
     ]
    },
    {
     "name": "stdout",
     "output_type": "stream",
     "text": [
      "train loss:  0.051852419482439585\n",
      "Val loss:  0.11112365178439929\n",
      "train accuracy:  0.8655705996131529\n",
      "Val accuracy:  0.6434782608695652\n",
      "Current time: 56.832 minutes. Time expected till completion: 30.602 minutes\n",
      "Epoch 66 of 100\n"
     ]
    },
    {
     "name": "stderr",
     "output_type": "stream",
     "text": [
      "100%|██████████| 130/130 [00:50<00:00,  2.60it/s]\n",
      "100%|██████████| 15/15 [00:02<00:00,  6.98it/s]\n"
     ]
    },
    {
     "name": "stdout",
     "output_type": "stream",
     "text": [
      "train loss:  0.05343913895796761\n",
      "Val loss:  0.11624382565850797\n",
      "train accuracy:  0.8491295938104448\n",
      "Val accuracy:  0.6521739130434783\n",
      "Current time: 57.703 minutes. Time expected till completion: 29.726 minutes\n",
      "Epoch 67 of 100\n"
     ]
    },
    {
     "name": "stderr",
     "output_type": "stream",
     "text": [
      "100%|██████████| 130/130 [00:49<00:00,  2.60it/s]\n",
      "100%|██████████| 15/15 [00:02<00:00,  7.09it/s]\n"
     ]
    },
    {
     "name": "stdout",
     "output_type": "stream",
     "text": [
      "train loss:  0.05063284998417362\n",
      "Val loss:  0.10722422314726789\n",
      "train accuracy:  0.8491295938104448\n",
      "Val accuracy:  0.6608695652173913\n",
      "Current time: 58.571 minutes. Time expected till completion: 28.849 minutes\n",
      "Epoch 68 of 100\n"
     ]
    },
    {
     "name": "stderr",
     "output_type": "stream",
     "text": [
      "100%|██████████| 130/130 [00:49<00:00,  2.60it/s]\n",
      "100%|██████████| 15/15 [00:02<00:00,  7.07it/s]\n"
     ]
    },
    {
     "name": "stdout",
     "output_type": "stream",
     "text": [
      "train loss:  0.048205126523683334\n",
      "Val loss:  0.11508206180904222\n",
      "train accuracy:  0.8771760154738878\n",
      "Val accuracy:  0.6608695652173913\n",
      "Current time: 59.440 minutes. Time expected till completion: 27.972 minutes\n",
      "Epoch 69 of 100\n"
     ]
    },
    {
     "name": "stderr",
     "output_type": "stream",
     "text": [
      "100%|██████████| 130/130 [00:50<00:00,  2.60it/s]\n",
      "100%|██████████| 15/15 [00:02<00:00,  6.78it/s]\n"
     ]
    },
    {
     "name": "stdout",
     "output_type": "stream",
     "text": [
      "train loss:  0.046620329060164827\n",
      "Val loss:  0.12070785722006923\n",
      "train accuracy:  0.8800773694390716\n",
      "Val accuracy:  0.6608695652173913\n",
      "Current time: 60.310 minutes. Time expected till completion: 27.096 minutes\n",
      "Epoch 70 of 100\n"
     ]
    },
    {
     "name": "stderr",
     "output_type": "stream",
     "text": [
      "100%|██████████| 130/130 [00:49<00:00,  2.60it/s]\n",
      "100%|██████████| 15/15 [00:02<00:00,  7.10it/s]\n"
     ]
    },
    {
     "name": "stdout",
     "output_type": "stream",
     "text": [
      "train loss:  0.04767998710735854\n",
      "Val loss:  0.11973532490108324\n",
      "train accuracy:  0.8771760154738878\n",
      "Val accuracy:  0.6347826086956522\n",
      "Current time: 61.179 minutes. Time expected till completion: 26.220 minutes\n",
      "Epoch 71 of 100\n"
     ]
    },
    {
     "name": "stderr",
     "output_type": "stream",
     "text": [
      "100%|██████████| 130/130 [00:50<00:00,  2.59it/s]\n",
      "100%|██████████| 15/15 [00:02<00:00,  7.11it/s]\n"
     ]
    },
    {
     "name": "stdout",
     "output_type": "stream",
     "text": [
      "train loss:  0.046944611300525164\n",
      "Val loss:  0.12047095104404118\n",
      "train accuracy:  0.8771760154738878\n",
      "Val accuracy:  0.6434782608695652\n",
      "Current time: 62.049 minutes. Time expected till completion: 25.344 minutes\n",
      "Epoch 72 of 100\n"
     ]
    },
    {
     "name": "stderr",
     "output_type": "stream",
     "text": [
      "100%|██████████| 130/130 [00:50<00:00,  2.60it/s]\n",
      "100%|██████████| 15/15 [00:02<00:00,  7.13it/s]\n"
     ]
    },
    {
     "name": "stdout",
     "output_type": "stream",
     "text": [
      "train loss:  0.0418990551344546\n",
      "Val loss:  0.12605435407680013\n",
      "train accuracy:  0.8878143133462283\n",
      "Val accuracy:  0.6347826086956522\n",
      "Current time: 62.919 minutes. Time expected till completion: 24.468 minutes\n",
      "Epoch 73 of 100\n"
     ]
    },
    {
     "name": "stderr",
     "output_type": "stream",
     "text": [
      "100%|██████████| 130/130 [00:50<00:00,  2.60it/s]\n",
      "100%|██████████| 15/15 [00:02<00:00,  6.77it/s]\n"
     ]
    },
    {
     "name": "stdout",
     "output_type": "stream",
     "text": [
      "train loss:  0.04231388654336477\n",
      "Val loss:  0.11594308977541716\n",
      "train accuracy:  0.8945841392649904\n",
      "Val accuracy:  0.6260869565217392\n",
      "Current time: 63.789 minutes. Time expected till completion: 23.593 minutes\n",
      "Epoch 74 of 100\n"
     ]
    },
    {
     "name": "stderr",
     "output_type": "stream",
     "text": [
      "100%|██████████| 130/130 [00:49<00:00,  2.60it/s]\n",
      "100%|██████████| 15/15 [00:02<00:00,  7.18it/s]\n"
     ]
    },
    {
     "name": "stdout",
     "output_type": "stream",
     "text": [
      "train loss:  0.04034106307293737\n",
      "Val loss:  0.1257864314576854\n",
      "train accuracy:  0.8916827852998066\n",
      "Val accuracy:  0.591304347826087\n",
      "Current time: 64.657 minutes. Time expected till completion: 22.717 minutes\n",
      "Epoch 75 of 100\n"
     ]
    },
    {
     "name": "stderr",
     "output_type": "stream",
     "text": [
      "100%|██████████| 130/130 [00:50<00:00,  2.60it/s]\n",
      "100%|██████████| 15/15 [00:02<00:00,  7.13it/s]\n"
     ]
    },
    {
     "name": "stdout",
     "output_type": "stream",
     "text": [
      "train loss:  0.03963042206240807\n",
      "Val loss:  0.11583657523860103\n",
      "train accuracy:  0.8878143133462283\n",
      "Val accuracy:  0.6434782608695652\n",
      "Current time: 65.527 minutes. Time expected till completion: 21.842 minutes\n",
      "Epoch 76 of 100\n"
     ]
    },
    {
     "name": "stderr",
     "output_type": "stream",
     "text": [
      "100%|██████████| 130/130 [00:50<00:00,  2.60it/s]\n",
      "100%|██████████| 15/15 [00:02<00:00,  7.04it/s]\n"
     ]
    },
    {
     "name": "stdout",
     "output_type": "stream",
     "text": [
      "train loss:  0.03773865975237792\n",
      "Val loss:  0.1194150712179101\n",
      "train accuracy:  0.9061895551257253\n",
      "Val accuracy:  0.6434782608695652\n",
      "Current time: 66.396 minutes. Time expected till completion: 20.967 minutes\n",
      "Epoch 77 of 100\n"
     ]
    },
    {
     "name": "stderr",
     "output_type": "stream",
     "text": [
      "100%|██████████| 130/130 [00:50<00:00,  2.60it/s]\n",
      "100%|██████████| 15/15 [00:02<00:00,  6.91it/s]\n"
     ]
    },
    {
     "name": "stdout",
     "output_type": "stream",
     "text": [
      "train loss:  0.03950730819305553\n",
      "Val loss:  0.11330496785433396\n",
      "train accuracy:  0.8955512572533849\n",
      "Val accuracy:  0.6782608695652174\n",
      "Current time: 67.267 minutes. Time expected till completion: 20.093 minutes\n",
      "Epoch 78 of 100\n"
     ]
    },
    {
     "name": "stderr",
     "output_type": "stream",
     "text": [
      "100%|██████████| 130/130 [00:50<00:00,  2.60it/s]\n",
      "100%|██████████| 15/15 [00:02<00:00,  7.15it/s]\n"
     ]
    },
    {
     "name": "stdout",
     "output_type": "stream",
     "text": [
      "train loss:  0.03778097532487815\n",
      "Val loss:  0.11276623503021573\n",
      "train accuracy:  0.9100580270793037\n",
      "Val accuracy:  0.6695652173913044\n",
      "Current time: 68.136 minutes. Time expected till completion: 19.218 minutes\n",
      "Epoch 79 of 100\n"
     ]
    },
    {
     "name": "stderr",
     "output_type": "stream",
     "text": [
      "100%|██████████| 130/130 [00:50<00:00,  2.59it/s]\n",
      "100%|██████████| 15/15 [00:02<00:00,  7.12it/s]\n"
     ]
    },
    {
     "name": "stdout",
     "output_type": "stream",
     "text": [
      "train loss:  0.037764329110169546\n",
      "Val loss:  0.11786370432895163\n",
      "train accuracy:  0.9042553191489362\n",
      "Val accuracy:  0.6608695652173913\n",
      "Current time: 69.006 minutes. Time expected till completion: 18.343 minutes\n",
      "Epoch 80 of 100\n"
     ]
    },
    {
     "name": "stderr",
     "output_type": "stream",
     "text": [
      "100%|██████████| 130/130 [00:50<00:00,  2.58it/s]\n",
      "100%|██████████| 15/15 [00:02<00:00,  6.71it/s]\n"
     ]
    },
    {
     "name": "stdout",
     "output_type": "stream",
     "text": [
      "train loss:  0.03765344349541332\n",
      "Val loss:  0.12709107269411501\n",
      "train accuracy:  0.9052224371373307\n",
      "Val accuracy:  0.6347826086956522\n",
      "Current time: 69.882 minutes. Time expected till completion: 17.471 minutes\n",
      "Epoch 81 of 100\n"
     ]
    },
    {
     "name": "stderr",
     "output_type": "stream",
     "text": [
      "100%|██████████| 130/130 [00:50<00:00,  2.55it/s]\n",
      "100%|██████████| 15/15 [00:03<00:00,  4.22it/s]\n"
     ]
    },
    {
     "name": "stdout",
     "output_type": "stream",
     "text": [
      "train loss:  0.03616056009781199\n",
      "Val loss:  0.1191228070984716\n",
      "train accuracy:  0.9052224371373307\n",
      "Val accuracy:  0.6260869565217392\n",
      "Current time: 70.790 minutes. Time expected till completion: 16.605 minutes\n",
      "Epoch 82 of 100\n"
     ]
    },
    {
     "name": "stderr",
     "output_type": "stream",
     "text": [
      "100%|██████████| 130/130 [00:52<00:00,  2.48it/s]\n",
      "100%|██████████| 15/15 [00:02<00:00,  6.96it/s]\n"
     ]
    },
    {
     "name": "stdout",
     "output_type": "stream",
     "text": [
      "train loss:  0.03710520456993603\n",
      "Val loss:  0.12764677120291668\n",
      "train accuracy:  0.902321083172147\n",
      "Val accuracy:  0.6695652173913044\n",
      "Current time: 71.701 minutes. Time expected till completion: 15.739 minutes\n",
      "Epoch 83 of 100\n"
     ]
    },
    {
     "name": "stderr",
     "output_type": "stream",
     "text": [
      "100%|██████████| 130/130 [00:50<00:00,  2.59it/s]\n",
      "100%|██████████| 15/15 [00:02<00:00,  6.65it/s]\n"
     ]
    },
    {
     "name": "stdout",
     "output_type": "stream",
     "text": [
      "train loss:  0.032504753265493846\n",
      "Val loss:  0.1167283419681632\n",
      "train accuracy:  0.9332688588007737\n",
      "Val accuracy:  0.6521739130434783\n",
      "Current time: 72.574 minutes. Time expected till completion: 14.864 minutes\n",
      "Epoch 84 of 100\n"
     ]
    },
    {
     "name": "stderr",
     "output_type": "stream",
     "text": [
      "100%|██████████| 130/130 [00:49<00:00,  2.60it/s]\n",
      "100%|██████████| 15/15 [00:02<00:00,  7.09it/s]\n"
     ]
    },
    {
     "name": "stdout",
     "output_type": "stream",
     "text": [
      "train loss:  0.03670081750235774\n",
      "Val loss:  0.12257640076720196\n",
      "train accuracy:  0.9003868471953579\n",
      "Val accuracy:  0.6608695652173913\n",
      "Current time: 73.442 minutes. Time expected till completion: 13.989 minutes\n",
      "Epoch 85 of 100\n"
     ]
    },
    {
     "name": "stderr",
     "output_type": "stream",
     "text": [
      "100%|██████████| 130/130 [00:49<00:00,  2.60it/s]\n",
      "100%|██████████| 15/15 [00:02<00:00,  5.93it/s]\n"
     ]
    },
    {
     "name": "stdout",
     "output_type": "stream",
     "text": [
      "train loss:  0.03544606404951855\n",
      "Val loss:  0.14088157622710518\n",
      "train accuracy:  0.9158607350096711\n",
      "Val accuracy:  0.6521739130434783\n",
      "Current time: 74.316 minutes. Time expected till completion: 13.115 minutes\n",
      "Epoch 86 of 100\n"
     ]
    },
    {
     "name": "stderr",
     "output_type": "stream",
     "text": [
      "100%|██████████| 130/130 [00:54<00:00,  2.38it/s]\n",
      "100%|██████████| 15/15 [00:02<00:00,  6.39it/s]\n"
     ]
    },
    {
     "name": "stdout",
     "output_type": "stream",
     "text": [
      "train loss:  0.03210046244298812\n",
      "Val loss:  0.12606292729792387\n",
      "train accuracy:  0.9177949709864603\n",
      "Val accuracy:  0.6434782608695652\n",
      "Current time: 75.267 minutes. Time expected till completion: 12.253 minutes\n",
      "Epoch 87 of 100\n"
     ]
    },
    {
     "name": "stderr",
     "output_type": "stream",
     "text": [
      "100%|██████████| 130/130 [00:53<00:00,  2.43it/s]\n",
      "100%|██████████| 15/15 [00:02<00:00,  6.04it/s]\n"
     ]
    },
    {
     "name": "stdout",
     "output_type": "stream",
     "text": [
      "train loss:  0.031355615359383346\n",
      "Val loss:  0.11884222082469774\n",
      "train accuracy:  0.9226305609284333\n",
      "Val accuracy:  0.6695652173913044\n",
      "Current time: 76.199 minutes. Time expected till completion: 11.386 minutes\n",
      "Epoch 88 of 100\n"
     ]
    },
    {
     "name": "stderr",
     "output_type": "stream",
     "text": [
      "100%|██████████| 130/130 [00:50<00:00,  2.58it/s]\n",
      "100%|██████████| 15/15 [00:02<00:00,  6.75it/s]\n"
     ]
    },
    {
     "name": "stdout",
     "output_type": "stream",
     "text": [
      "train loss:  0.028472437932222677\n",
      "Val loss:  0.127625152339106\n",
      "train accuracy:  0.9361702127659575\n",
      "Val accuracy:  0.6695652173913044\n",
      "Current time: 77.076 minutes. Time expected till completion: 10.510 minutes\n",
      "Epoch 89 of 100\n"
     ]
    },
    {
     "name": "stderr",
     "output_type": "stream",
     "text": [
      "100%|██████████| 130/130 [00:50<00:00,  2.59it/s]\n",
      "100%|██████████| 15/15 [00:02<00:00,  6.85it/s]\n"
     ]
    },
    {
     "name": "stdout",
     "output_type": "stream",
     "text": [
      "train loss:  0.028969930283134403\n",
      "Val loss:  0.1403655749300252\n",
      "train accuracy:  0.9303675048355899\n",
      "Val accuracy:  0.6173913043478261\n",
      "Current time: 77.950 minutes. Time expected till completion: 9.634 minutes\n",
      "Epoch 90 of 100\n"
     ]
    },
    {
     "name": "stderr",
     "output_type": "stream",
     "text": [
      "100%|██████████| 130/130 [00:51<00:00,  2.54it/s]\n",
      "100%|██████████| 15/15 [00:02<00:00,  6.78it/s]\n"
     ]
    },
    {
     "name": "stdout",
     "output_type": "stream",
     "text": [
      "train loss:  0.02725223431677145\n",
      "Val loss:  0.1304335576036702\n",
      "train accuracy:  0.937137330754352\n",
      "Val accuracy:  0.6434782608695652\n",
      "Current time: 78.841 minutes. Time expected till completion: 8.760 minutes\n",
      "Epoch 91 of 100\n"
     ]
    },
    {
     "name": "stderr",
     "output_type": "stream",
     "text": [
      "100%|██████████| 130/130 [00:50<00:00,  2.59it/s]\n",
      "100%|██████████| 15/15 [00:02<00:00,  6.98it/s]\n"
     ]
    },
    {
     "name": "stdout",
     "output_type": "stream",
     "text": [
      "train loss:  0.027677801205295657\n",
      "Val loss:  0.13866625143134076\n",
      "train accuracy:  0.925531914893617\n",
      "Val accuracy:  0.6434782608695652\n",
      "Current time: 79.714 minutes. Time expected till completion: 7.884 minutes\n",
      "Epoch 92 of 100\n"
     ]
    },
    {
     "name": "stderr",
     "output_type": "stream",
     "text": [
      "100%|██████████| 130/130 [00:50<00:00,  2.57it/s]\n",
      "100%|██████████| 15/15 [00:02<00:00,  6.63it/s]\n"
     ]
    },
    {
     "name": "stdout",
     "output_type": "stream",
     "text": [
      "train loss:  0.03031973749384774\n",
      "Val loss:  0.12363622706869375\n",
      "train accuracy:  0.9303675048355899\n",
      "Val accuracy:  0.6782608695652174\n",
      "Current time: 80.594 minutes. Time expected till completion: 7.008 minutes\n",
      "Epoch 93 of 100\n"
     ]
    },
    {
     "name": "stderr",
     "output_type": "stream",
     "text": [
      "100%|██████████| 130/130 [00:50<00:00,  2.57it/s]\n",
      "100%|██████████| 15/15 [00:02<00:00,  6.72it/s]\n"
     ]
    },
    {
     "name": "stdout",
     "output_type": "stream",
     "text": [
      "train loss:  0.02912085039299738\n",
      "Val loss:  0.1182235080262889\n",
      "train accuracy:  0.925531914893617\n",
      "Val accuracy:  0.6347826086956522\n",
      "Current time: 81.475 minutes. Time expected till completion: 6.133 minutes\n",
      "Epoch 94 of 100\n"
     ]
    },
    {
     "name": "stderr",
     "output_type": "stream",
     "text": [
      "100%|██████████| 130/130 [00:50<00:00,  2.58it/s]\n",
      "100%|██████████| 15/15 [00:02<00:00,  6.99it/s]\n"
     ]
    },
    {
     "name": "stdout",
     "output_type": "stream",
     "text": [
      "train loss:  0.025503501751796998\n",
      "Val loss:  0.1276634395122528\n",
      "train accuracy:  0.9332688588007737\n",
      "Val accuracy:  0.6086956521739131\n",
      "Current time: 82.351 minutes. Time expected till completion: 5.256 minutes\n",
      "Epoch 95 of 100\n"
     ]
    },
    {
     "name": "stderr",
     "output_type": "stream",
     "text": [
      "100%|██████████| 130/130 [00:51<00:00,  2.52it/s]\n",
      "100%|██████████| 15/15 [00:03<00:00,  4.92it/s]\n"
     ]
    },
    {
     "name": "stdout",
     "output_type": "stream",
     "text": [
      "train loss:  0.026183061123369857\n",
      "Val loss:  0.1520231905190841\n",
      "train accuracy:  0.9400386847195358\n",
      "Val accuracy:  0.6260869565217392\n",
      "Current time: 83.264 minutes. Time expected till completion: 4.382 minutes\n",
      "Epoch 96 of 100\n"
     ]
    },
    {
     "name": "stderr",
     "output_type": "stream",
     "text": [
      "100%|██████████| 130/130 [00:50<00:00,  2.55it/s]\n",
      "100%|██████████| 15/15 [00:02<00:00,  6.20it/s]\n"
     ]
    },
    {
     "name": "stdout",
     "output_type": "stream",
     "text": [
      "train loss:  0.026519958654011473\n",
      "Val loss:  0.14435596828875336\n",
      "train accuracy:  0.9400386847195358\n",
      "Val accuracy:  0.6347826086956522\n",
      "Current time: 84.154 minutes. Time expected till completion: 3.506 minutes\n",
      "Epoch 97 of 100\n"
     ]
    },
    {
     "name": "stderr",
     "output_type": "stream",
     "text": [
      "100%|██████████| 130/130 [00:50<00:00,  2.55it/s]\n",
      "100%|██████████| 15/15 [00:02<00:00,  6.85it/s]\n"
     ]
    },
    {
     "name": "stdout",
     "output_type": "stream",
     "text": [
      "train loss:  0.023906400838841612\n",
      "Val loss:  0.13073832289032314\n",
      "train accuracy:  0.941972920696325\n",
      "Val accuracy:  0.6521739130434783\n",
      "Current time: 85.041 minutes. Time expected till completion: 2.630 minutes\n",
      "Epoch 98 of 100\n"
     ]
    },
    {
     "name": "stderr",
     "output_type": "stream",
     "text": [
      "100%|██████████| 130/130 [00:50<00:00,  2.58it/s]\n",
      "100%|██████████| 15/15 [00:02<00:00,  6.97it/s]\n"
     ]
    },
    {
     "name": "stdout",
     "output_type": "stream",
     "text": [
      "train loss:  0.0229039741734068\n",
      "Val loss:  0.14226308037405427\n",
      "train accuracy:  0.9448742746615088\n",
      "Val accuracy:  0.6086956521739131\n",
      "Current time: 85.916 minutes. Time expected till completion: 1.753 minutes\n",
      "Epoch 99 of 100\n"
     ]
    },
    {
     "name": "stderr",
     "output_type": "stream",
     "text": [
      "100%|██████████| 130/130 [00:50<00:00,  2.57it/s]\n",
      "100%|██████████| 15/15 [00:02<00:00,  6.82it/s]\n"
     ]
    },
    {
     "name": "stdout",
     "output_type": "stream",
     "text": [
      "train loss:  0.026639619224292282\n",
      "Val loss:  0.154620338263719\n",
      "train accuracy:  0.9294003868471954\n",
      "Val accuracy:  0.6434782608695652\n",
      "Current time: 86.798 minutes. Time expected till completion: 0.877 minutes\n",
      "Epoch 100 of 100\n"
     ]
    },
    {
     "name": "stderr",
     "output_type": "stream",
     "text": [
      "100%|██████████| 130/130 [00:50<00:00,  2.58it/s]\n",
      "100%|██████████| 15/15 [00:02<00:00,  5.86it/s]\n"
     ]
    },
    {
     "name": "stdout",
     "output_type": "stream",
     "text": [
      "train loss:  0.022503436570068393\n",
      "Val loss:  0.1374761012585267\n",
      "train accuracy:  0.9439071566731141\n",
      "Val accuracy:  0.6521739130434783\n",
      "Saving model 2 checkpoint\n"
     ]
    },
    {
     "data": {
      "image/png": "[encoded data removed]",
      "text/plain": [
       "<Figure size 1500x600 with 2 Axes>"
      ]
     },
     "metadata": {},
     "output_type": "display_data"
    },
    {
     "data": {
      "image/png": "[encoded data removed]",
      "text/plain": [
       "<Figure size 1500x600 with 2 Axes>"
      ]
     },
     "metadata": {},
     "output_type": "display_data"
    },
    {
     "name": "stdout",
     "output_type": "stream",
     "text": [
      "Current time: 88.701 minutes. Time expected till completion: 0.000 minutes\n",
      "Finished training in: 88.705 minutes\n"
     ]
    }
   ],
   "source": [
    "\n",
    "best_model_val_acc = -1\n",
    "\n",
    "train_loss, val_loss = [], []\n",
    "train_accuracy, val_accuracy = [], []\n",
    "\n",
    "# Load checkpoints\n",
    "names = os.listdir(model_checkpoints)\n",
    "for elem in names:\n",
    "    if(elem==\"metrics_losss_accuracy_m2.csv\"):\n",
    "        print(\"Loading Metrics\")\n",
    "        dd = pd.read_csv(model_checkpoints + \"metrics_losss_accuracy_m2.csv\")\n",
    "        train_loss = dd[\"train_loss\"].tolist()\n",
    "        val_loss = dd[\"val_loss\"].tolist()\n",
    "        train_accuracy = dd[\"train_accuracy\"].tolist()\n",
    "        val_accuracy = dd[\"val_accuracy\"].tolist()\n",
    "\n",
    "# count time\n",
    "start = time.time()\n",
    "for epoch in range(model_epoch_m2_check, model_epochs):\n",
    "    # Print current epoch\n",
    "    print(f\"Epoch {epoch + 1} of {model_epochs}\")\n",
    "    \n",
    "    if(epoch%10 == 0):\n",
    "        update_optimizer(optimizer_2, 0.001)\n",
    "        \n",
    "    ############################################################################\n",
    "    ################################ Train model ############################### \n",
    "    ############################################################################\n",
    "    modelpy.train()\n",
    "    running_loss=0\n",
    "    total=0\n",
    "    correct=0\n",
    "    # loop for every training batch (one epoch)\n",
    "    for bi, data in tqdm(enumerate(train_loader), total=len(train_loader)): # use tqdm package to track running time\n",
    "        \n",
    "        # Get the tensors\n",
    "        images = data[0].to(device)# use the gpu\n",
    "        labels = data[1].to(device)# use the gpu\n",
    "        \n",
    "        # Optimize second model\n",
    "        \n",
    "        #create the output from the CNN base on the give batch images\n",
    "        out_m2 = modelpy(images)\n",
    "        # count the loss function \n",
    "        loss_2 = criterion_2(out_m2, labels)    \n",
    "        \n",
    "        # BackPropagate on model 2\n",
    "        ######################\n",
    "        optimizer_2.zero_grad()\n",
    "        ######################\n",
    "        # count the backpropagation\n",
    "        loss_2.backward()\n",
    "        # learning\n",
    "        optimizer_2.step()\n",
    "        \n",
    "        \n",
    "        \n",
    "        # add new value to the main loss\n",
    "        running_loss += loss_2.item()\n",
    "        \n",
    "        # calculate accuracy\n",
    "        predictions = torch.argmax(out_m2, dim=1)\n",
    "        total += labels.size(0)\n",
    "        correct +=(predictions == labels).sum().item()\n",
    "        \n",
    "        \n",
    "    train_epoch_loss = running_loss/len(train_loader.dataset)\n",
    "    \n",
    "    train_epoch_accuracy = correct/total\n",
    "    \n",
    "    ############################################################################\n",
    "    ################################ Eval model ################################ \n",
    "    ############################################################################\n",
    "    modelpy.eval()\n",
    "    running_loss = 0.0\n",
    "    correct=0\n",
    "    total=0\n",
    "    with torch.no_grad():\n",
    "        for bi, data in tqdm(enumerate(valid_loader), total=len(valid_loader)):\n",
    "            # Get the tensors\n",
    "            images = data[0].to(device)# use the gpu\n",
    "            label = data[1].to(device)# use the gpu\n",
    "            \n",
    "            #create the output from the CNN base on the give batch images\n",
    "            outputs = modelpy(images)\n",
    "            # count the loss function\n",
    "            loss = criterion_2(outputs, label)\n",
    "            \n",
    "            # Add loss of each item (total items in a batch = batch size) .\n",
    "            running_loss += loss.item()\n",
    "            \n",
    "            # calculate accuracy\n",
    "            predictions = torch.argmax(outputs, dim=1)\n",
    "            total += label.size(0)\n",
    "            correct +=(predictions == label).sum().item()\n",
    "            \n",
    "    val_epoch_loss = running_loss/len(valid_loader.dataset) \n",
    "    val_epoch_accuracy = correct/total\n",
    "    \n",
    "    \n",
    "    print(\"train loss: \", train_epoch_loss)\n",
    "    print(\"Val loss: \", val_epoch_loss)\n",
    "    print(\"train accuracy: \", train_epoch_accuracy)\n",
    "    print(\"Val accuracy: \", val_epoch_accuracy)\n",
    "\n",
    "    \n",
    "    # save results\n",
    "    train_loss.append(train_epoch_loss)\n",
    "    val_loss.append(val_epoch_loss)\n",
    "    train_accuracy.append(train_epoch_accuracy)\n",
    "    val_accuracy.append(val_epoch_accuracy)\n",
    "    \n",
    "    # Save best model\n",
    "    if(best_model_val_acc < val_epoch_accuracy):\n",
    "        print(f\"Best model at the moment with Val_acc {round(val_epoch_accuracy*100,2)}, saving...\")\n",
    "        # Save Model\n",
    "        bestmodel_name = \"model_2_bestModel.pt\"\n",
    "        torch.save(modelpy, PATH+bestmodel_name)\n",
    "        best_model_val_acc = val_epoch_accuracy\n",
    "    \n",
    "    # Save model with all information every 100 epochs. Can be used \n",
    "    # resuming training. optim\n",
    "    if (epoch+1) % checkpoints_save == 0: # checkpoints_save\n",
    "        \n",
    "        end = time.time()\n",
    "        time_elapsed = (end-start)+previous_time\n",
    "        \n",
    "        # Save Model\n",
    "        print(\"Saving model 2 checkpoint\")\n",
    "        save_model(epoch, time_elapsed, modelpy, optimizer_2, criterion_2, path = model_checkpoints + \"model_ckpt_m2.pth\")\n",
    "        # save the metrics\n",
    "        save_metrics(train_loss, val_loss, train_accuracy, val_accuracy, path = model_checkpoints + \"metrics_losss_accuracy_m2.csv\")\n",
    "        \n",
    "        # save model at epoch\n",
    "        save_model(epoch, time_elapsed, modelpy, optimizer_2, criterion_2, path = model_checkpoints + \"model_ckpt_m2_\"+str(epoch+1)+\".pth\")\n",
    "        \n",
    "        \n",
    "        # Check the evolution at this point\n",
    "        plot_loss_accuracy(train_loss, val_loss, train_accuracy, val_accuracy)\n",
    "        \n",
    "        \n",
    "    ep_time = time.time()\n",
    "    print(f\"Current time: {(((ep_time-start)+previous_time)/60):.3f} minutes. Time expected till completion: {(((((ep_time-start)+previous_time)/(epoch + 1)) * (model_epochs-(epoch + 1)))/60):.3f} minutes\")\n",
    "    \n",
    "end = time.time()\n",
    "print(f\"Finished training in: {(((end-start)+previous_time)/60):.3f} minutes\") "
   ]
  },
  {
   "cell_type": "code",
   "execution_count": 18,
   "id": "4e5ed21a",
   "metadata": {},
   "outputs": [
    {
     "data": {
      "text/plain": [
       "0.6956521739130435"
      ]
     },
     "execution_count": 18,
     "metadata": {},
     "output_type": "execute_result"
    }
   ],
   "source": [
    "best_model_val_acc"
   ]
  },
  {
   "cell_type": "code",
   "execution_count": 19,
   "id": "ed221571",
   "metadata": {},
   "outputs": [
    {
     "data": {
      "image/png": "[encoded data removed]",
      "text/plain": [
       "<Figure size 1500x600 with 2 Axes>"
      ]
     },
     "metadata": {},
     "output_type": "display_data"
    },
    {
     "data": {
      "image/png": "[encoded data removed]",
      "text/plain": [
       "<Figure size 1500x600 with 2 Axes>"
      ]
     },
     "metadata": {},
     "output_type": "display_data"
    }
   ],
   "source": [
    "plot_loss_accuracy(train_loss, val_loss, train_accuracy, val_accuracy)"
   ]
  },
  {
   "cell_type": "markdown",
   "id": "bd64aa02",
   "metadata": {},
   "source": [
    "## Save model"
   ]
  },
  {
   "cell_type": "code",
   "execution_count": 20,
   "id": "1372dc3b",
   "metadata": {},
   "outputs": [],
   "source": [
    "# Save Model\n",
    "NAME2 = \"model_2.pt\"\n",
    "\n",
    "torch.save(modelpy, PATH+NAME2)"
   ]
  },
  {
   "cell_type": "markdown",
   "id": "659394e6",
   "metadata": {},
   "source": [
    "# Load Last Model"
   ]
  },
  {
   "cell_type": "code",
   "execution_count": 21,
   "id": "cec94a4a",
   "metadata": {},
   "outputs": [
    {
     "data": {
      "text/plain": [
       "ClassificationNet(\n",
       "  (googlenet_fe): Sequential(\n",
       "    (0): BasicConv2d(\n",
       "      (conv): Conv2d(3, 64, kernel_size=(7, 7), stride=(2, 2), padding=(3, 3), bias=False)\n",
       "      (bn): BatchNorm2d(64, eps=0.001, momentum=0.1, affine=True, track_running_stats=True)\n",
       "    )\n",
       "    (1): MaxPool2d(kernel_size=3, stride=2, padding=0, dilation=1, ceil_mode=True)\n",
       "    (2): BasicConv2d(\n",
       "      (conv): Conv2d(64, 64, kernel_size=(1, 1), stride=(1, 1), bias=False)\n",
       "      (bn): BatchNorm2d(64, eps=0.001, momentum=0.1, affine=True, track_running_stats=True)\n",
       "    )\n",
       "    (3): BasicConv2d(\n",
       "      (conv): Conv2d(64, 192, kernel_size=(3, 3), stride=(1, 1), padding=(1, 1), bias=False)\n",
       "      (bn): BatchNorm2d(192, eps=0.001, momentum=0.1, affine=True, track_running_stats=True)\n",
       "    )\n",
       "    (4): MaxPool2d(kernel_size=3, stride=2, padding=0, dilation=1, ceil_mode=True)\n",
       "    (5): Inception(\n",
       "      (branch1): BasicConv2d(\n",
       "        (conv): Conv2d(192, 64, kernel_size=(1, 1), stride=(1, 1), bias=False)\n",
       "        (bn): BatchNorm2d(64, eps=0.001, momentum=0.1, affine=True, track_running_stats=True)\n",
       "      )\n",
       "      (branch2): Sequential(\n",
       "        (0): BasicConv2d(\n",
       "          (conv): Conv2d(192, 96, kernel_size=(1, 1), stride=(1, 1), bias=False)\n",
       "          (bn): BatchNorm2d(96, eps=0.001, momentum=0.1, affine=True, track_running_stats=True)\n",
       "        )\n",
       "        (1): BasicConv2d(\n",
       "          (conv): Conv2d(96, 128, kernel_size=(3, 3), stride=(1, 1), padding=(1, 1), bias=False)\n",
       "          (bn): BatchNorm2d(128, eps=0.001, momentum=0.1, affine=True, track_running_stats=True)\n",
       "        )\n",
       "      )\n",
       "      (branch3): Sequential(\n",
       "        (0): BasicConv2d(\n",
       "          (conv): Conv2d(192, 16, kernel_size=(1, 1), stride=(1, 1), bias=False)\n",
       "          (bn): BatchNorm2d(16, eps=0.001, momentum=0.1, affine=True, track_running_stats=True)\n",
       "        )\n",
       "        (1): BasicConv2d(\n",
       "          (conv): Conv2d(16, 32, kernel_size=(3, 3), stride=(1, 1), padding=(1, 1), bias=False)\n",
       "          (bn): BatchNorm2d(32, eps=0.001, momentum=0.1, affine=True, track_running_stats=True)\n",
       "        )\n",
       "      )\n",
       "      (branch4): Sequential(\n",
       "        (0): MaxPool2d(kernel_size=3, stride=1, padding=1, dilation=1, ceil_mode=True)\n",
       "        (1): BasicConv2d(\n",
       "          (conv): Conv2d(192, 32, kernel_size=(1, 1), stride=(1, 1), bias=False)\n",
       "          (bn): BatchNorm2d(32, eps=0.001, momentum=0.1, affine=True, track_running_stats=True)\n",
       "        )\n",
       "      )\n",
       "    )\n",
       "    (6): Inception(\n",
       "      (branch1): BasicConv2d(\n",
       "        (conv): Conv2d(256, 128, kernel_size=(1, 1), stride=(1, 1), bias=False)\n",
       "        (bn): BatchNorm2d(128, eps=0.001, momentum=0.1, affine=True, track_running_stats=True)\n",
       "      )\n",
       "      (branch2): Sequential(\n",
       "        (0): BasicConv2d(\n",
       "          (conv): Conv2d(256, 128, kernel_size=(1, 1), stride=(1, 1), bias=False)\n",
       "          (bn): BatchNorm2d(128, eps=0.001, momentum=0.1, affine=True, track_running_stats=True)\n",
       "        )\n",
       "        (1): BasicConv2d(\n",
       "          (conv): Conv2d(128, 192, kernel_size=(3, 3), stride=(1, 1), padding=(1, 1), bias=False)\n",
       "          (bn): BatchNorm2d(192, eps=0.001, momentum=0.1, affine=True, track_running_stats=True)\n",
       "        )\n",
       "      )\n",
       "      (branch3): Sequential(\n",
       "        (0): BasicConv2d(\n",
       "          (conv): Conv2d(256, 32, kernel_size=(1, 1), stride=(1, 1), bias=False)\n",
       "          (bn): BatchNorm2d(32, eps=0.001, momentum=0.1, affine=True, track_running_stats=True)\n",
       "        )\n",
       "        (1): BasicConv2d(\n",
       "          (conv): Conv2d(32, 96, kernel_size=(3, 3), stride=(1, 1), padding=(1, 1), bias=False)\n",
       "          (bn): BatchNorm2d(96, eps=0.001, momentum=0.1, affine=True, track_running_stats=True)\n",
       "        )\n",
       "      )\n",
       "      (branch4): Sequential(\n",
       "        (0): MaxPool2d(kernel_size=3, stride=1, padding=1, dilation=1, ceil_mode=True)\n",
       "        (1): BasicConv2d(\n",
       "          (conv): Conv2d(256, 64, kernel_size=(1, 1), stride=(1, 1), bias=False)\n",
       "          (bn): BatchNorm2d(64, eps=0.001, momentum=0.1, affine=True, track_running_stats=True)\n",
       "        )\n",
       "      )\n",
       "    )\n",
       "    (7): MaxPool2d(kernel_size=3, stride=2, padding=0, dilation=1, ceil_mode=True)\n",
       "    (8): Inception(\n",
       "      (branch1): BasicConv2d(\n",
       "        (conv): Conv2d(480, 192, kernel_size=(1, 1), stride=(1, 1), bias=False)\n",
       "        (bn): BatchNorm2d(192, eps=0.001, momentum=0.1, affine=True, track_running_stats=True)\n",
       "      )\n",
       "      (branch2): Sequential(\n",
       "        (0): BasicConv2d(\n",
       "          (conv): Conv2d(480, 96, kernel_size=(1, 1), stride=(1, 1), bias=False)\n",
       "          (bn): BatchNorm2d(96, eps=0.001, momentum=0.1, affine=True, track_running_stats=True)\n",
       "        )\n",
       "        (1): BasicConv2d(\n",
       "          (conv): Conv2d(96, 208, kernel_size=(3, 3), stride=(1, 1), padding=(1, 1), bias=False)\n",
       "          (bn): BatchNorm2d(208, eps=0.001, momentum=0.1, affine=True, track_running_stats=True)\n",
       "        )\n",
       "      )\n",
       "      (branch3): Sequential(\n",
       "        (0): BasicConv2d(\n",
       "          (conv): Conv2d(480, 16, kernel_size=(1, 1), stride=(1, 1), bias=False)\n",
       "          (bn): BatchNorm2d(16, eps=0.001, momentum=0.1, affine=True, track_running_stats=True)\n",
       "        )\n",
       "        (1): BasicConv2d(\n",
       "          (conv): Conv2d(16, 48, kernel_size=(3, 3), stride=(1, 1), padding=(1, 1), bias=False)\n",
       "          (bn): BatchNorm2d(48, eps=0.001, momentum=0.1, affine=True, track_running_stats=True)\n",
       "        )\n",
       "      )\n",
       "      (branch4): Sequential(\n",
       "        (0): MaxPool2d(kernel_size=3, stride=1, padding=1, dilation=1, ceil_mode=True)\n",
       "        (1): BasicConv2d(\n",
       "          (conv): Conv2d(480, 64, kernel_size=(1, 1), stride=(1, 1), bias=False)\n",
       "          (bn): BatchNorm2d(64, eps=0.001, momentum=0.1, affine=True, track_running_stats=True)\n",
       "        )\n",
       "      )\n",
       "    )\n",
       "    (9): Inception(\n",
       "      (branch1): BasicConv2d(\n",
       "        (conv): Conv2d(512, 160, kernel_size=(1, 1), stride=(1, 1), bias=False)\n",
       "        (bn): BatchNorm2d(160, eps=0.001, momentum=0.1, affine=True, track_running_stats=True)\n",
       "      )\n",
       "      (branch2): Sequential(\n",
       "        (0): BasicConv2d(\n",
       "          (conv): Conv2d(512, 112, kernel_size=(1, 1), stride=(1, 1), bias=False)\n",
       "          (bn): BatchNorm2d(112, eps=0.001, momentum=0.1, affine=True, track_running_stats=True)\n",
       "        )\n",
       "        (1): BasicConv2d(\n",
       "          (conv): Conv2d(112, 224, kernel_size=(3, 3), stride=(1, 1), padding=(1, 1), bias=False)\n",
       "          (bn): BatchNorm2d(224, eps=0.001, momentum=0.1, affine=True, track_running_stats=True)\n",
       "        )\n",
       "      )\n",
       "      (branch3): Sequential(\n",
       "        (0): BasicConv2d(\n",
       "          (conv): Conv2d(512, 24, kernel_size=(1, 1), stride=(1, 1), bias=False)\n",
       "          (bn): BatchNorm2d(24, eps=0.001, momentum=0.1, affine=True, track_running_stats=True)\n",
       "        )\n",
       "        (1): BasicConv2d(\n",
       "          (conv): Conv2d(24, 64, kernel_size=(3, 3), stride=(1, 1), padding=(1, 1), bias=False)\n",
       "          (bn): BatchNorm2d(64, eps=0.001, momentum=0.1, affine=True, track_running_stats=True)\n",
       "        )\n",
       "      )\n",
       "      (branch4): Sequential(\n",
       "        (0): MaxPool2d(kernel_size=3, stride=1, padding=1, dilation=1, ceil_mode=True)\n",
       "        (1): BasicConv2d(\n",
       "          (conv): Conv2d(512, 64, kernel_size=(1, 1), stride=(1, 1), bias=False)\n",
       "          (bn): BatchNorm2d(64, eps=0.001, momentum=0.1, affine=True, track_running_stats=True)\n",
       "        )\n",
       "      )\n",
       "    )\n",
       "    (10): Inception(\n",
       "      (branch1): BasicConv2d(\n",
       "        (conv): Conv2d(512, 128, kernel_size=(1, 1), stride=(1, 1), bias=False)\n",
       "        (bn): BatchNorm2d(128, eps=0.001, momentum=0.1, affine=True, track_running_stats=True)\n",
       "      )\n",
       "      (branch2): Sequential(\n",
       "        (0): BasicConv2d(\n",
       "          (conv): Conv2d(512, 128, kernel_size=(1, 1), stride=(1, 1), bias=False)\n",
       "          (bn): BatchNorm2d(128, eps=0.001, momentum=0.1, affine=True, track_running_stats=True)\n",
       "        )\n",
       "        (1): BasicConv2d(\n",
       "          (conv): Conv2d(128, 256, kernel_size=(3, 3), stride=(1, 1), padding=(1, 1), bias=False)\n",
       "          (bn): BatchNorm2d(256, eps=0.001, momentum=0.1, affine=True, track_running_stats=True)\n",
       "        )\n",
       "      )\n",
       "      (branch3): Sequential(\n",
       "        (0): BasicConv2d(\n",
       "          (conv): Conv2d(512, 24, kernel_size=(1, 1), stride=(1, 1), bias=False)\n",
       "          (bn): BatchNorm2d(24, eps=0.001, momentum=0.1, affine=True, track_running_stats=True)\n",
       "        )\n",
       "        (1): BasicConv2d(\n",
       "          (conv): Conv2d(24, 64, kernel_size=(3, 3), stride=(1, 1), padding=(1, 1), bias=False)\n",
       "          (bn): BatchNorm2d(64, eps=0.001, momentum=0.1, affine=True, track_running_stats=True)\n",
       "        )\n",
       "      )\n",
       "      (branch4): Sequential(\n",
       "        (0): MaxPool2d(kernel_size=3, stride=1, padding=1, dilation=1, ceil_mode=True)\n",
       "        (1): BasicConv2d(\n",
       "          (conv): Conv2d(512, 64, kernel_size=(1, 1), stride=(1, 1), bias=False)\n",
       "          (bn): BatchNorm2d(64, eps=0.001, momentum=0.1, affine=True, track_running_stats=True)\n",
       "        )\n",
       "      )\n",
       "    )\n",
       "    (11): Inception(\n",
       "      (branch1): BasicConv2d(\n",
       "        (conv): Conv2d(512, 112, kernel_size=(1, 1), stride=(1, 1), bias=False)\n",
       "        (bn): BatchNorm2d(112, eps=0.001, momentum=0.1, affine=True, track_running_stats=True)\n",
       "      )\n",
       "      (branch2): Sequential(\n",
       "        (0): BasicConv2d(\n",
       "          (conv): Conv2d(512, 144, kernel_size=(1, 1), stride=(1, 1), bias=False)\n",
       "          (bn): BatchNorm2d(144, eps=0.001, momentum=0.1, affine=True, track_running_stats=True)\n",
       "        )\n",
       "        (1): BasicConv2d(\n",
       "          (conv): Conv2d(144, 288, kernel_size=(3, 3), stride=(1, 1), padding=(1, 1), bias=False)\n",
       "          (bn): BatchNorm2d(288, eps=0.001, momentum=0.1, affine=True, track_running_stats=True)\n",
       "        )\n",
       "      )\n",
       "      (branch3): Sequential(\n",
       "        (0): BasicConv2d(\n",
       "          (conv): Conv2d(512, 32, kernel_size=(1, 1), stride=(1, 1), bias=False)\n",
       "          (bn): BatchNorm2d(32, eps=0.001, momentum=0.1, affine=True, track_running_stats=True)\n",
       "        )\n",
       "        (1): BasicConv2d(\n",
       "          (conv): Conv2d(32, 64, kernel_size=(3, 3), stride=(1, 1), padding=(1, 1), bias=False)\n",
       "          (bn): BatchNorm2d(64, eps=0.001, momentum=0.1, affine=True, track_running_stats=True)\n",
       "        )\n",
       "      )\n",
       "      (branch4): Sequential(\n",
       "        (0): MaxPool2d(kernel_size=3, stride=1, padding=1, dilation=1, ceil_mode=True)\n",
       "        (1): BasicConv2d(\n",
       "          (conv): Conv2d(512, 64, kernel_size=(1, 1), stride=(1, 1), bias=False)\n",
       "          (bn): BatchNorm2d(64, eps=0.001, momentum=0.1, affine=True, track_running_stats=True)\n",
       "        )\n",
       "      )\n",
       "    )\n",
       "    (12): Inception(\n",
       "      (branch1): BasicConv2d(\n",
       "        (conv): Conv2d(528, 256, kernel_size=(1, 1), stride=(1, 1), bias=False)\n",
       "        (bn): BatchNorm2d(256, eps=0.001, momentum=0.1, affine=True, track_running_stats=True)\n",
       "      )\n",
       "      (branch2): Sequential(\n",
       "        (0): BasicConv2d(\n",
       "          (conv): Conv2d(528, 160, kernel_size=(1, 1), stride=(1, 1), bias=False)\n",
       "          (bn): BatchNorm2d(160, eps=0.001, momentum=0.1, affine=True, track_running_stats=True)\n",
       "        )\n",
       "        (1): BasicConv2d(\n",
       "          (conv): Conv2d(160, 320, kernel_size=(3, 3), stride=(1, 1), padding=(1, 1), bias=False)\n",
       "          (bn): BatchNorm2d(320, eps=0.001, momentum=0.1, affine=True, track_running_stats=True)\n",
       "        )\n",
       "      )\n",
       "      (branch3): Sequential(\n",
       "        (0): BasicConv2d(\n",
       "          (conv): Conv2d(528, 32, kernel_size=(1, 1), stride=(1, 1), bias=False)\n",
       "          (bn): BatchNorm2d(32, eps=0.001, momentum=0.1, affine=True, track_running_stats=True)\n",
       "        )\n",
       "        (1): BasicConv2d(\n",
       "          (conv): Conv2d(32, 128, kernel_size=(3, 3), stride=(1, 1), padding=(1, 1), bias=False)\n",
       "          (bn): BatchNorm2d(128, eps=0.001, momentum=0.1, affine=True, track_running_stats=True)\n",
       "        )\n",
       "      )\n",
       "      (branch4): Sequential(\n",
       "        (0): MaxPool2d(kernel_size=3, stride=1, padding=1, dilation=1, ceil_mode=True)\n",
       "        (1): BasicConv2d(\n",
       "          (conv): Conv2d(528, 128, kernel_size=(1, 1), stride=(1, 1), bias=False)\n",
       "          (bn): BatchNorm2d(128, eps=0.001, momentum=0.1, affine=True, track_running_stats=True)\n",
       "        )\n",
       "      )\n",
       "    )\n",
       "    (13): MaxPool2d(kernel_size=2, stride=2, padding=0, dilation=1, ceil_mode=True)\n",
       "    (14): Inception(\n",
       "      (branch1): BasicConv2d(\n",
       "        (conv): Conv2d(832, 256, kernel_size=(1, 1), stride=(1, 1), bias=False)\n",
       "        (bn): BatchNorm2d(256, eps=0.001, momentum=0.1, affine=True, track_running_stats=True)\n",
       "      )\n",
       "      (branch2): Sequential(\n",
       "        (0): BasicConv2d(\n",
       "          (conv): Conv2d(832, 160, kernel_size=(1, 1), stride=(1, 1), bias=False)\n",
       "          (bn): BatchNorm2d(160, eps=0.001, momentum=0.1, affine=True, track_running_stats=True)\n",
       "        )\n",
       "        (1): BasicConv2d(\n",
       "          (conv): Conv2d(160, 320, kernel_size=(3, 3), stride=(1, 1), padding=(1, 1), bias=False)\n",
       "          (bn): BatchNorm2d(320, eps=0.001, momentum=0.1, affine=True, track_running_stats=True)\n",
       "        )\n",
       "      )\n",
       "      (branch3): Sequential(\n",
       "        (0): BasicConv2d(\n",
       "          (conv): Conv2d(832, 32, kernel_size=(1, 1), stride=(1, 1), bias=False)\n",
       "          (bn): BatchNorm2d(32, eps=0.001, momentum=0.1, affine=True, track_running_stats=True)\n",
       "        )\n",
       "        (1): BasicConv2d(\n",
       "          (conv): Conv2d(32, 128, kernel_size=(3, 3), stride=(1, 1), padding=(1, 1), bias=False)\n",
       "          (bn): BatchNorm2d(128, eps=0.001, momentum=0.1, affine=True, track_running_stats=True)\n",
       "        )\n",
       "      )\n",
       "      (branch4): Sequential(\n",
       "        (0): MaxPool2d(kernel_size=3, stride=1, padding=1, dilation=1, ceil_mode=True)\n",
       "        (1): BasicConv2d(\n",
       "          (conv): Conv2d(832, 128, kernel_size=(1, 1), stride=(1, 1), bias=False)\n",
       "          (bn): BatchNorm2d(128, eps=0.001, momentum=0.1, affine=True, track_running_stats=True)\n",
       "        )\n",
       "      )\n",
       "    )\n",
       "    (15): Inception(\n",
       "      (branch1): BasicConv2d(\n",
       "        (conv): Conv2d(832, 384, kernel_size=(1, 1), stride=(1, 1), bias=False)\n",
       "        (bn): BatchNorm2d(384, eps=0.001, momentum=0.1, affine=True, track_running_stats=True)\n",
       "      )\n",
       "      (branch2): Sequential(\n",
       "        (0): BasicConv2d(\n",
       "          (conv): Conv2d(832, 192, kernel_size=(1, 1), stride=(1, 1), bias=False)\n",
       "          (bn): BatchNorm2d(192, eps=0.001, momentum=0.1, affine=True, track_running_stats=True)\n",
       "        )\n",
       "        (1): BasicConv2d(\n",
       "          (conv): Conv2d(192, 384, kernel_size=(3, 3), stride=(1, 1), padding=(1, 1), bias=False)\n",
       "          (bn): BatchNorm2d(384, eps=0.001, momentum=0.1, affine=True, track_running_stats=True)\n",
       "        )\n",
       "      )\n",
       "      (branch3): Sequential(\n",
       "        (0): BasicConv2d(\n",
       "          (conv): Conv2d(832, 48, kernel_size=(1, 1), stride=(1, 1), bias=False)\n",
       "          (bn): BatchNorm2d(48, eps=0.001, momentum=0.1, affine=True, track_running_stats=True)\n",
       "        )\n",
       "        (1): BasicConv2d(\n",
       "          (conv): Conv2d(48, 128, kernel_size=(3, 3), stride=(1, 1), padding=(1, 1), bias=False)\n",
       "          (bn): BatchNorm2d(128, eps=0.001, momentum=0.1, affine=True, track_running_stats=True)\n",
       "        )\n",
       "      )\n",
       "      (branch4): Sequential(\n",
       "        (0): MaxPool2d(kernel_size=3, stride=1, padding=1, dilation=1, ceil_mode=True)\n",
       "        (1): BasicConv2d(\n",
       "          (conv): Conv2d(832, 128, kernel_size=(1, 1), stride=(1, 1), bias=False)\n",
       "          (bn): BatchNorm2d(128, eps=0.001, momentum=0.1, affine=True, track_running_stats=True)\n",
       "        )\n",
       "      )\n",
       "    )\n",
       "    (16): AdaptiveAvgPool2d(output_size=(1, 1))\n",
       "    (17): Dropout(p=0.2, inplace=False)\n",
       "  )\n",
       "  (flatten): Flatten(start_dim=1, end_dim=-1)\n",
       "  (last_classifier): Linear(in_features=1024, out_features=4, bias=True)\n",
       ")"
      ]
     },
     "execution_count": 21,
     "metadata": {},
     "output_type": "execute_result"
    }
   ],
   "source": [
    "# Load the model\n",
    "NAME = \"model_2.pt\"\n",
    "modelpy = torch.load(PATH+NAME, map_location=device)\n",
    "modelpy.eval()"
   ]
  },
  {
   "cell_type": "markdown",
   "id": "c59a28ee",
   "metadata": {},
   "source": [
    "## Evaluate Last Model"
   ]
  },
  {
   "cell_type": "code",
   "execution_count": 22,
   "id": "f3ae8b5b",
   "metadata": {},
   "outputs": [],
   "source": [
    "def accuracy_given_set(mm2, valid_loader, device, name=\"Validation\"):\n",
    "    # Evaluate the Validation Set\n",
    "    mm2.eval()\n",
    "    correct = 0\n",
    "    total = 0\n",
    "    with torch.no_grad():\n",
    "        for bi, data in tqdm(enumerate(valid_loader), total=len(valid_loader)):\n",
    "            new_images = data[0].to(device)\n",
    "\n",
    "            outputs = mm2(new_images)\n",
    "            predictions = torch.argmax(outputs, dim=1)\n",
    "\n",
    "            total += data[1].size(0)\n",
    "            correct +=(predictions == data[1].to(device)).sum().item()\n",
    "        \n",
    "    print(f'Accuracy of the network on the {total} {name} instances: {100 * correct / total}%')"
   ]
  },
  {
   "cell_type": "code",
   "execution_count": 23,
   "id": "22395e00",
   "metadata": {},
   "outputs": [
    {
     "name": "stderr",
     "output_type": "stream",
     "text": [
      "100%|██████████| 130/130 [00:19<00:00,  6.65it/s]\n"
     ]
    },
    {
     "name": "stdout",
     "output_type": "stream",
     "text": [
      "Accuracy of the network on the 1034 Train instances: 98.93617021276596%\n"
     ]
    },
    {
     "name": "stderr",
     "output_type": "stream",
     "text": [
      "100%|██████████| 15/15 [00:02<00:00,  7.11it/s]"
     ]
    },
    {
     "name": "stdout",
     "output_type": "stream",
     "text": [
      "Accuracy of the network on the 115 Validation instances: 65.21739130434783%\n"
     ]
    },
    {
     "name": "stderr",
     "output_type": "stream",
     "text": [
      "\n"
     ]
    }
   ],
   "source": [
    "# Calculate accuracy for Validation and Train sets\n",
    "accuracy_given_set(modelpy, train_loader, device, name=\"Train\")\n",
    "accuracy_given_set(modelpy, valid_loader, device, name=\"Validation\")"
   ]
  },
  {
   "cell_type": "markdown",
   "id": "684ca86a",
   "metadata": {},
   "source": [
    "## Test Predictions Last Model"
   ]
  },
  {
   "cell_type": "code",
   "execution_count": 24,
   "id": "bf9cecb3",
   "metadata": {},
   "outputs": [],
   "source": [
    "def make_predictions(mm2, loader, device):\n",
    "    # Evaluate the Validation Set\n",
    "    mm2.eval()\n",
    "    predictions_list = []\n",
    "    name_list = []\n",
    "    \n",
    "    with torch.no_grad():\n",
    "        for bi, data in tqdm(enumerate(loader), total=len(loader)):\n",
    "            new_images = data[0].to(device)\n",
    "        \n",
    "            outputs = mm2(new_images)\n",
    "            predictions = torch.argmax(outputs, dim=1)\n",
    "        \n",
    "            predictions_list.append(predictions[0].item())\n",
    "            name_list.append(data[1][0])\n",
    "        \n",
    "    return(predictions_list, name_list)"
   ]
  },
  {
   "cell_type": "code",
   "execution_count": 25,
   "id": "9e74681b",
   "metadata": {},
   "outputs": [
    {
     "name": "stderr",
     "output_type": "stream",
     "text": [
      "100%|██████████| 380/380 [00:34<00:00, 10.89it/s]\n"
     ]
    },
    {
     "data": {
      "text/plain": [
       "(array([0, 1, 2]), array([166, 173,  41], dtype=int64))"
      ]
     },
     "execution_count": 25,
     "metadata": {},
     "output_type": "execute_result"
    }
   ],
   "source": [
    "pred, names = make_predictions(modelpy, test_loader, device)\n",
    "\n",
    "np.unique(np.array(pred),return_counts=True)"
   ]
  },
  {
   "cell_type": "code",
   "execution_count": 26,
   "id": "7c810cb5",
   "metadata": {},
   "outputs": [],
   "source": [
    "save_predictions_as_csv(names, pred, name=\"GGCv2_plus_clas_v01_GoogLeNet_prediction.csv\")"
   ]
  },
  {
   "attachments": {
    "image-2.png": {
     "image/png": "[encoded data removed]"
    }
   },
   "cell_type": "markdown",
   "id": "de614b36",
   "metadata": {},
   "source": [
    "![image-2.png](attachment:image-2.png)"
   ]
  },
  {
   "cell_type": "markdown",
   "id": "40cafa2a",
   "metadata": {},
   "source": [
    "# Load Best Model"
   ]
  },
  {
   "cell_type": "code",
   "execution_count": 27,
   "id": "7ec7342e",
   "metadata": {},
   "outputs": [
    {
     "data": {
      "text/plain": [
       "ClassificationNet(\n",
       "  (googlenet_fe): Sequential(\n",
       "    (0): BasicConv2d(\n",
       "      (conv): Conv2d(3, 64, kernel_size=(7, 7), stride=(2, 2), padding=(3, 3), bias=False)\n",
       "      (bn): BatchNorm2d(64, eps=0.001, momentum=0.1, affine=True, track_running_stats=True)\n",
       "    )\n",
       "    (1): MaxPool2d(kernel_size=3, stride=2, padding=0, dilation=1, ceil_mode=True)\n",
       "    (2): BasicConv2d(\n",
       "      (conv): Conv2d(64, 64, kernel_size=(1, 1), stride=(1, 1), bias=False)\n",
       "      (bn): BatchNorm2d(64, eps=0.001, momentum=0.1, affine=True, track_running_stats=True)\n",
       "    )\n",
       "    (3): BasicConv2d(\n",
       "      (conv): Conv2d(64, 192, kernel_size=(3, 3), stride=(1, 1), padding=(1, 1), bias=False)\n",
       "      (bn): BatchNorm2d(192, eps=0.001, momentum=0.1, affine=True, track_running_stats=True)\n",
       "    )\n",
       "    (4): MaxPool2d(kernel_size=3, stride=2, padding=0, dilation=1, ceil_mode=True)\n",
       "    (5): Inception(\n",
       "      (branch1): BasicConv2d(\n",
       "        (conv): Conv2d(192, 64, kernel_size=(1, 1), stride=(1, 1), bias=False)\n",
       "        (bn): BatchNorm2d(64, eps=0.001, momentum=0.1, affine=True, track_running_stats=True)\n",
       "      )\n",
       "      (branch2): Sequential(\n",
       "        (0): BasicConv2d(\n",
       "          (conv): Conv2d(192, 96, kernel_size=(1, 1), stride=(1, 1), bias=False)\n",
       "          (bn): BatchNorm2d(96, eps=0.001, momentum=0.1, affine=True, track_running_stats=True)\n",
       "        )\n",
       "        (1): BasicConv2d(\n",
       "          (conv): Conv2d(96, 128, kernel_size=(3, 3), stride=(1, 1), padding=(1, 1), bias=False)\n",
       "          (bn): BatchNorm2d(128, eps=0.001, momentum=0.1, affine=True, track_running_stats=True)\n",
       "        )\n",
       "      )\n",
       "      (branch3): Sequential(\n",
       "        (0): BasicConv2d(\n",
       "          (conv): Conv2d(192, 16, kernel_size=(1, 1), stride=(1, 1), bias=False)\n",
       "          (bn): BatchNorm2d(16, eps=0.001, momentum=0.1, affine=True, track_running_stats=True)\n",
       "        )\n",
       "        (1): BasicConv2d(\n",
       "          (conv): Conv2d(16, 32, kernel_size=(3, 3), stride=(1, 1), padding=(1, 1), bias=False)\n",
       "          (bn): BatchNorm2d(32, eps=0.001, momentum=0.1, affine=True, track_running_stats=True)\n",
       "        )\n",
       "      )\n",
       "      (branch4): Sequential(\n",
       "        (0): MaxPool2d(kernel_size=3, stride=1, padding=1, dilation=1, ceil_mode=True)\n",
       "        (1): BasicConv2d(\n",
       "          (conv): Conv2d(192, 32, kernel_size=(1, 1), stride=(1, 1), bias=False)\n",
       "          (bn): BatchNorm2d(32, eps=0.001, momentum=0.1, affine=True, track_running_stats=True)\n",
       "        )\n",
       "      )\n",
       "    )\n",
       "    (6): Inception(\n",
       "      (branch1): BasicConv2d(\n",
       "        (conv): Conv2d(256, 128, kernel_size=(1, 1), stride=(1, 1), bias=False)\n",
       "        (bn): BatchNorm2d(128, eps=0.001, momentum=0.1, affine=True, track_running_stats=True)\n",
       "      )\n",
       "      (branch2): Sequential(\n",
       "        (0): BasicConv2d(\n",
       "          (conv): Conv2d(256, 128, kernel_size=(1, 1), stride=(1, 1), bias=False)\n",
       "          (bn): BatchNorm2d(128, eps=0.001, momentum=0.1, affine=True, track_running_stats=True)\n",
       "        )\n",
       "        (1): BasicConv2d(\n",
       "          (conv): Conv2d(128, 192, kernel_size=(3, 3), stride=(1, 1), padding=(1, 1), bias=False)\n",
       "          (bn): BatchNorm2d(192, eps=0.001, momentum=0.1, affine=True, track_running_stats=True)\n",
       "        )\n",
       "      )\n",
       "      (branch3): Sequential(\n",
       "        (0): BasicConv2d(\n",
       "          (conv): Conv2d(256, 32, kernel_size=(1, 1), stride=(1, 1), bias=False)\n",
       "          (bn): BatchNorm2d(32, eps=0.001, momentum=0.1, affine=True, track_running_stats=True)\n",
       "        )\n",
       "        (1): BasicConv2d(\n",
       "          (conv): Conv2d(32, 96, kernel_size=(3, 3), stride=(1, 1), padding=(1, 1), bias=False)\n",
       "          (bn): BatchNorm2d(96, eps=0.001, momentum=0.1, affine=True, track_running_stats=True)\n",
       "        )\n",
       "      )\n",
       "      (branch4): Sequential(\n",
       "        (0): MaxPool2d(kernel_size=3, stride=1, padding=1, dilation=1, ceil_mode=True)\n",
       "        (1): BasicConv2d(\n",
       "          (conv): Conv2d(256, 64, kernel_size=(1, 1), stride=(1, 1), bias=False)\n",
       "          (bn): BatchNorm2d(64, eps=0.001, momentum=0.1, affine=True, track_running_stats=True)\n",
       "        )\n",
       "      )\n",
       "    )\n",
       "    (7): MaxPool2d(kernel_size=3, stride=2, padding=0, dilation=1, ceil_mode=True)\n",
       "    (8): Inception(\n",
       "      (branch1): BasicConv2d(\n",
       "        (conv): Conv2d(480, 192, kernel_size=(1, 1), stride=(1, 1), bias=False)\n",
       "        (bn): BatchNorm2d(192, eps=0.001, momentum=0.1, affine=True, track_running_stats=True)\n",
       "      )\n",
       "      (branch2): Sequential(\n",
       "        (0): BasicConv2d(\n",
       "          (conv): Conv2d(480, 96, kernel_size=(1, 1), stride=(1, 1), bias=False)\n",
       "          (bn): BatchNorm2d(96, eps=0.001, momentum=0.1, affine=True, track_running_stats=True)\n",
       "        )\n",
       "        (1): BasicConv2d(\n",
       "          (conv): Conv2d(96, 208, kernel_size=(3, 3), stride=(1, 1), padding=(1, 1), bias=False)\n",
       "          (bn): BatchNorm2d(208, eps=0.001, momentum=0.1, affine=True, track_running_stats=True)\n",
       "        )\n",
       "      )\n",
       "      (branch3): Sequential(\n",
       "        (0): BasicConv2d(\n",
       "          (conv): Conv2d(480, 16, kernel_size=(1, 1), stride=(1, 1), bias=False)\n",
       "          (bn): BatchNorm2d(16, eps=0.001, momentum=0.1, affine=True, track_running_stats=True)\n",
       "        )\n",
       "        (1): BasicConv2d(\n",
       "          (conv): Conv2d(16, 48, kernel_size=(3, 3), stride=(1, 1), padding=(1, 1), bias=False)\n",
       "          (bn): BatchNorm2d(48, eps=0.001, momentum=0.1, affine=True, track_running_stats=True)\n",
       "        )\n",
       "      )\n",
       "      (branch4): Sequential(\n",
       "        (0): MaxPool2d(kernel_size=3, stride=1, padding=1, dilation=1, ceil_mode=True)\n",
       "        (1): BasicConv2d(\n",
       "          (conv): Conv2d(480, 64, kernel_size=(1, 1), stride=(1, 1), bias=False)\n",
       "          (bn): BatchNorm2d(64, eps=0.001, momentum=0.1, affine=True, track_running_stats=True)\n",
       "        )\n",
       "      )\n",
       "    )\n",
       "    (9): Inception(\n",
       "      (branch1): BasicConv2d(\n",
       "        (conv): Conv2d(512, 160, kernel_size=(1, 1), stride=(1, 1), bias=False)\n",
       "        (bn): BatchNorm2d(160, eps=0.001, momentum=0.1, affine=True, track_running_stats=True)\n",
       "      )\n",
       "      (branch2): Sequential(\n",
       "        (0): BasicConv2d(\n",
       "          (conv): Conv2d(512, 112, kernel_size=(1, 1), stride=(1, 1), bias=False)\n",
       "          (bn): BatchNorm2d(112, eps=0.001, momentum=0.1, affine=True, track_running_stats=True)\n",
       "        )\n",
       "        (1): BasicConv2d(\n",
       "          (conv): Conv2d(112, 224, kernel_size=(3, 3), stride=(1, 1), padding=(1, 1), bias=False)\n",
       "          (bn): BatchNorm2d(224, eps=0.001, momentum=0.1, affine=True, track_running_stats=True)\n",
       "        )\n",
       "      )\n",
       "      (branch3): Sequential(\n",
       "        (0): BasicConv2d(\n",
       "          (conv): Conv2d(512, 24, kernel_size=(1, 1), stride=(1, 1), bias=False)\n",
       "          (bn): BatchNorm2d(24, eps=0.001, momentum=0.1, affine=True, track_running_stats=True)\n",
       "        )\n",
       "        (1): BasicConv2d(\n",
       "          (conv): Conv2d(24, 64, kernel_size=(3, 3), stride=(1, 1), padding=(1, 1), bias=False)\n",
       "          (bn): BatchNorm2d(64, eps=0.001, momentum=0.1, affine=True, track_running_stats=True)\n",
       "        )\n",
       "      )\n",
       "      (branch4): Sequential(\n",
       "        (0): MaxPool2d(kernel_size=3, stride=1, padding=1, dilation=1, ceil_mode=True)\n",
       "        (1): BasicConv2d(\n",
       "          (conv): Conv2d(512, 64, kernel_size=(1, 1), stride=(1, 1), bias=False)\n",
       "          (bn): BatchNorm2d(64, eps=0.001, momentum=0.1, affine=True, track_running_stats=True)\n",
       "        )\n",
       "      )\n",
       "    )\n",
       "    (10): Inception(\n",
       "      (branch1): BasicConv2d(\n",
       "        (conv): Conv2d(512, 128, kernel_size=(1, 1), stride=(1, 1), bias=False)\n",
       "        (bn): BatchNorm2d(128, eps=0.001, momentum=0.1, affine=True, track_running_stats=True)\n",
       "      )\n",
       "      (branch2): Sequential(\n",
       "        (0): BasicConv2d(\n",
       "          (conv): Conv2d(512, 128, kernel_size=(1, 1), stride=(1, 1), bias=False)\n",
       "          (bn): BatchNorm2d(128, eps=0.001, momentum=0.1, affine=True, track_running_stats=True)\n",
       "        )\n",
       "        (1): BasicConv2d(\n",
       "          (conv): Conv2d(128, 256, kernel_size=(3, 3), stride=(1, 1), padding=(1, 1), bias=False)\n",
       "          (bn): BatchNorm2d(256, eps=0.001, momentum=0.1, affine=True, track_running_stats=True)\n",
       "        )\n",
       "      )\n",
       "      (branch3): Sequential(\n",
       "        (0): BasicConv2d(\n",
       "          (conv): Conv2d(512, 24, kernel_size=(1, 1), stride=(1, 1), bias=False)\n",
       "          (bn): BatchNorm2d(24, eps=0.001, momentum=0.1, affine=True, track_running_stats=True)\n",
       "        )\n",
       "        (1): BasicConv2d(\n",
       "          (conv): Conv2d(24, 64, kernel_size=(3, 3), stride=(1, 1), padding=(1, 1), bias=False)\n",
       "          (bn): BatchNorm2d(64, eps=0.001, momentum=0.1, affine=True, track_running_stats=True)\n",
       "        )\n",
       "      )\n",
       "      (branch4): Sequential(\n",
       "        (0): MaxPool2d(kernel_size=3, stride=1, padding=1, dilation=1, ceil_mode=True)\n",
       "        (1): BasicConv2d(\n",
       "          (conv): Conv2d(512, 64, kernel_size=(1, 1), stride=(1, 1), bias=False)\n",
       "          (bn): BatchNorm2d(64, eps=0.001, momentum=0.1, affine=True, track_running_stats=True)\n",
       "        )\n",
       "      )\n",
       "    )\n",
       "    (11): Inception(\n",
       "      (branch1): BasicConv2d(\n",
       "        (conv): Conv2d(512, 112, kernel_size=(1, 1), stride=(1, 1), bias=False)\n",
       "        (bn): BatchNorm2d(112, eps=0.001, momentum=0.1, affine=True, track_running_stats=True)\n",
       "      )\n",
       "      (branch2): Sequential(\n",
       "        (0): BasicConv2d(\n",
       "          (conv): Conv2d(512, 144, kernel_size=(1, 1), stride=(1, 1), bias=False)\n",
       "          (bn): BatchNorm2d(144, eps=0.001, momentum=0.1, affine=True, track_running_stats=True)\n",
       "        )\n",
       "        (1): BasicConv2d(\n",
       "          (conv): Conv2d(144, 288, kernel_size=(3, 3), stride=(1, 1), padding=(1, 1), bias=False)\n",
       "          (bn): BatchNorm2d(288, eps=0.001, momentum=0.1, affine=True, track_running_stats=True)\n",
       "        )\n",
       "      )\n",
       "      (branch3): Sequential(\n",
       "        (0): BasicConv2d(\n",
       "          (conv): Conv2d(512, 32, kernel_size=(1, 1), stride=(1, 1), bias=False)\n",
       "          (bn): BatchNorm2d(32, eps=0.001, momentum=0.1, affine=True, track_running_stats=True)\n",
       "        )\n",
       "        (1): BasicConv2d(\n",
       "          (conv): Conv2d(32, 64, kernel_size=(3, 3), stride=(1, 1), padding=(1, 1), bias=False)\n",
       "          (bn): BatchNorm2d(64, eps=0.001, momentum=0.1, affine=True, track_running_stats=True)\n",
       "        )\n",
       "      )\n",
       "      (branch4): Sequential(\n",
       "        (0): MaxPool2d(kernel_size=3, stride=1, padding=1, dilation=1, ceil_mode=True)\n",
       "        (1): BasicConv2d(\n",
       "          (conv): Conv2d(512, 64, kernel_size=(1, 1), stride=(1, 1), bias=False)\n",
       "          (bn): BatchNorm2d(64, eps=0.001, momentum=0.1, affine=True, track_running_stats=True)\n",
       "        )\n",
       "      )\n",
       "    )\n",
       "    (12): Inception(\n",
       "      (branch1): BasicConv2d(\n",
       "        (conv): Conv2d(528, 256, kernel_size=(1, 1), stride=(1, 1), bias=False)\n",
       "        (bn): BatchNorm2d(256, eps=0.001, momentum=0.1, affine=True, track_running_stats=True)\n",
       "      )\n",
       "      (branch2): Sequential(\n",
       "        (0): BasicConv2d(\n",
       "          (conv): Conv2d(528, 160, kernel_size=(1, 1), stride=(1, 1), bias=False)\n",
       "          (bn): BatchNorm2d(160, eps=0.001, momentum=0.1, affine=True, track_running_stats=True)\n",
       "        )\n",
       "        (1): BasicConv2d(\n",
       "          (conv): Conv2d(160, 320, kernel_size=(3, 3), stride=(1, 1), padding=(1, 1), bias=False)\n",
       "          (bn): BatchNorm2d(320, eps=0.001, momentum=0.1, affine=True, track_running_stats=True)\n",
       "        )\n",
       "      )\n",
       "      (branch3): Sequential(\n",
       "        (0): BasicConv2d(\n",
       "          (conv): Conv2d(528, 32, kernel_size=(1, 1), stride=(1, 1), bias=False)\n",
       "          (bn): BatchNorm2d(32, eps=0.001, momentum=0.1, affine=True, track_running_stats=True)\n",
       "        )\n",
       "        (1): BasicConv2d(\n",
       "          (conv): Conv2d(32, 128, kernel_size=(3, 3), stride=(1, 1), padding=(1, 1), bias=False)\n",
       "          (bn): BatchNorm2d(128, eps=0.001, momentum=0.1, affine=True, track_running_stats=True)\n",
       "        )\n",
       "      )\n",
       "      (branch4): Sequential(\n",
       "        (0): MaxPool2d(kernel_size=3, stride=1, padding=1, dilation=1, ceil_mode=True)\n",
       "        (1): BasicConv2d(\n",
       "          (conv): Conv2d(528, 128, kernel_size=(1, 1), stride=(1, 1), bias=False)\n",
       "          (bn): BatchNorm2d(128, eps=0.001, momentum=0.1, affine=True, track_running_stats=True)\n",
       "        )\n",
       "      )\n",
       "    )\n",
       "    (13): MaxPool2d(kernel_size=2, stride=2, padding=0, dilation=1, ceil_mode=True)\n",
       "    (14): Inception(\n",
       "      (branch1): BasicConv2d(\n",
       "        (conv): Conv2d(832, 256, kernel_size=(1, 1), stride=(1, 1), bias=False)\n",
       "        (bn): BatchNorm2d(256, eps=0.001, momentum=0.1, affine=True, track_running_stats=True)\n",
       "      )\n",
       "      (branch2): Sequential(\n",
       "        (0): BasicConv2d(\n",
       "          (conv): Conv2d(832, 160, kernel_size=(1, 1), stride=(1, 1), bias=False)\n",
       "          (bn): BatchNorm2d(160, eps=0.001, momentum=0.1, affine=True, track_running_stats=True)\n",
       "        )\n",
       "        (1): BasicConv2d(\n",
       "          (conv): Conv2d(160, 320, kernel_size=(3, 3), stride=(1, 1), padding=(1, 1), bias=False)\n",
       "          (bn): BatchNorm2d(320, eps=0.001, momentum=0.1, affine=True, track_running_stats=True)\n",
       "        )\n",
       "      )\n",
       "      (branch3): Sequential(\n",
       "        (0): BasicConv2d(\n",
       "          (conv): Conv2d(832, 32, kernel_size=(1, 1), stride=(1, 1), bias=False)\n",
       "          (bn): BatchNorm2d(32, eps=0.001, momentum=0.1, affine=True, track_running_stats=True)\n",
       "        )\n",
       "        (1): BasicConv2d(\n",
       "          (conv): Conv2d(32, 128, kernel_size=(3, 3), stride=(1, 1), padding=(1, 1), bias=False)\n",
       "          (bn): BatchNorm2d(128, eps=0.001, momentum=0.1, affine=True, track_running_stats=True)\n",
       "        )\n",
       "      )\n",
       "      (branch4): Sequential(\n",
       "        (0): MaxPool2d(kernel_size=3, stride=1, padding=1, dilation=1, ceil_mode=True)\n",
       "        (1): BasicConv2d(\n",
       "          (conv): Conv2d(832, 128, kernel_size=(1, 1), stride=(1, 1), bias=False)\n",
       "          (bn): BatchNorm2d(128, eps=0.001, momentum=0.1, affine=True, track_running_stats=True)\n",
       "        )\n",
       "      )\n",
       "    )\n",
       "    (15): Inception(\n",
       "      (branch1): BasicConv2d(\n",
       "        (conv): Conv2d(832, 384, kernel_size=(1, 1), stride=(1, 1), bias=False)\n",
       "        (bn): BatchNorm2d(384, eps=0.001, momentum=0.1, affine=True, track_running_stats=True)\n",
       "      )\n",
       "      (branch2): Sequential(\n",
       "        (0): BasicConv2d(\n",
       "          (conv): Conv2d(832, 192, kernel_size=(1, 1), stride=(1, 1), bias=False)\n",
       "          (bn): BatchNorm2d(192, eps=0.001, momentum=0.1, affine=True, track_running_stats=True)\n",
       "        )\n",
       "        (1): BasicConv2d(\n",
       "          (conv): Conv2d(192, 384, kernel_size=(3, 3), stride=(1, 1), padding=(1, 1), bias=False)\n",
       "          (bn): BatchNorm2d(384, eps=0.001, momentum=0.1, affine=True, track_running_stats=True)\n",
       "        )\n",
       "      )\n",
       "      (branch3): Sequential(\n",
       "        (0): BasicConv2d(\n",
       "          (conv): Conv2d(832, 48, kernel_size=(1, 1), stride=(1, 1), bias=False)\n",
       "          (bn): BatchNorm2d(48, eps=0.001, momentum=0.1, affine=True, track_running_stats=True)\n",
       "        )\n",
       "        (1): BasicConv2d(\n",
       "          (conv): Conv2d(48, 128, kernel_size=(3, 3), stride=(1, 1), padding=(1, 1), bias=False)\n",
       "          (bn): BatchNorm2d(128, eps=0.001, momentum=0.1, affine=True, track_running_stats=True)\n",
       "        )\n",
       "      )\n",
       "      (branch4): Sequential(\n",
       "        (0): MaxPool2d(kernel_size=3, stride=1, padding=1, dilation=1, ceil_mode=True)\n",
       "        (1): BasicConv2d(\n",
       "          (conv): Conv2d(832, 128, kernel_size=(1, 1), stride=(1, 1), bias=False)\n",
       "          (bn): BatchNorm2d(128, eps=0.001, momentum=0.1, affine=True, track_running_stats=True)\n",
       "        )\n",
       "      )\n",
       "    )\n",
       "    (16): AdaptiveAvgPool2d(output_size=(1, 1))\n",
       "    (17): Dropout(p=0.2, inplace=False)\n",
       "  )\n",
       "  (flatten): Flatten(start_dim=1, end_dim=-1)\n",
       "  (last_classifier): Linear(in_features=1024, out_features=4, bias=True)\n",
       ")"
      ]
     },
     "execution_count": 27,
     "metadata": {},
     "output_type": "execute_result"
    }
   ],
   "source": [
    "# Load the model\n",
    "NAME = \"model_2_bestModel.pt\"\n",
    "modelpy_bestModel = torch.load(PATH+NAME, map_location=device)\n",
    "modelpy_bestModel.eval()"
   ]
  },
  {
   "cell_type": "markdown",
   "id": "f0364695",
   "metadata": {},
   "source": [
    "## Evaluate Best Model"
   ]
  },
  {
   "cell_type": "code",
   "execution_count": 28,
   "id": "bea07e43",
   "metadata": {},
   "outputs": [
    {
     "name": "stderr",
     "output_type": "stream",
     "text": [
      "100%|██████████| 130/130 [00:19<00:00,  6.53it/s]\n"
     ]
    },
    {
     "name": "stdout",
     "output_type": "stream",
     "text": [
      "Accuracy of the network on the 1034 Train instances: 82.20502901353966%\n"
     ]
    },
    {
     "name": "stderr",
     "output_type": "stream",
     "text": [
      "100%|██████████| 15/15 [00:02<00:00,  6.84it/s]"
     ]
    },
    {
     "name": "stdout",
     "output_type": "stream",
     "text": [
      "Accuracy of the network on the 115 Validation instances: 69.56521739130434%\n"
     ]
    },
    {
     "name": "stderr",
     "output_type": "stream",
     "text": [
      "\n"
     ]
    }
   ],
   "source": [
    "# Calculate accuracy for Validation and Train sets\n",
    "accuracy_given_set(modelpy_bestModel, train_loader, device, name=\"Train\")\n",
    "accuracy_given_set(modelpy_bestModel, valid_loader, device, name=\"Validation\")"
   ]
  },
  {
   "cell_type": "markdown",
   "id": "d9849f30",
   "metadata": {},
   "source": [
    "## Test Predictions Best Model"
   ]
  },
  {
   "cell_type": "code",
   "execution_count": 29,
   "id": "6ab75bc9",
   "metadata": {},
   "outputs": [
    {
     "name": "stderr",
     "output_type": "stream",
     "text": [
      "100%|██████████| 380/380 [00:10<00:00, 36.61it/s]\n"
     ]
    },
    {
     "data": {
      "text/plain": [
       "(array([0, 1, 2]), array([172, 165,  43], dtype=int64))"
      ]
     },
     "execution_count": 29,
     "metadata": {},
     "output_type": "execute_result"
    }
   ],
   "source": [
    "pred, names = make_predictions(modelpy_bestModel, test_loader, device)\n",
    "\n",
    "np.unique(np.array(pred),return_counts=True)"
   ]
  },
  {
   "cell_type": "code",
   "execution_count": 30,
   "id": "0e32a2e4",
   "metadata": {},
   "outputs": [],
   "source": [
    "save_predictions_as_csv(names, pred, name=\"GGCv2_plus_clas_v01_GoogLeNet_best_prediction.csv\")"
   ]
  },
  {
   "attachments": {
    "image-2.png": {
     "image/png": "[encoded data removed]"
    }
   },
   "cell_type": "markdown",
   "id": "f60af6e1",
   "metadata": {},
   "source": [
    "![image-2.png](attachment:image-2.png)"
   ]
  }
 ],
 "metadata": {
  "kernelspec": {
   "display_name": "Python 3 (ipykernel)",
   "language": "python",
   "name": "python3"
  },
  "language_info": {
   "codemirror_mode": {
    "name": "ipython",
    "version": 3
   },
   "file_extension": ".py",
   "mimetype": "text/x-python",
   "name": "python",
   "nbconvert_exporter": "python",
   "pygments_lexer": "ipython3",
   "version": "3.8.13"
  }
 },
 "nbformat": 4,
 "nbformat_minor": 5
}
