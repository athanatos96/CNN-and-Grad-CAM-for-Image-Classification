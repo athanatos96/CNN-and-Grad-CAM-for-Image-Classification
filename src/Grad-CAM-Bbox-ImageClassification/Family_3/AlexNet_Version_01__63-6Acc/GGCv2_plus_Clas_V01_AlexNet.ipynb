{
 "cells": [
  {
   "cell_type": "code",
   "execution_count": 1,
   "id": "2dcb1ca1",
   "metadata": {},
   "outputs": [
    {
     "name": "stderr",
     "output_type": "stream",
     "text": [
      "D:\\Users\\Alex\\anaconda3\\lib\\site-packages\\scipy\\__init__.py:146: UserWarning: A NumPy version >=1.16.5 and <1.23.0 is required for this version of SciPy (detected version 1.23.4\n",
      "  warnings.warn(f\"A NumPy version >={np_minversion} and <{np_maxversion}\"\n"
     ]
    }
   ],
   "source": [
    "import os\n",
    "import time\n",
    "import numpy as np\n",
    "import pandas as pd\n",
    "from tqdm import tqdm\n",
    "\n",
    "from sklearn.model_selection import train_test_split"
   ]
  },
  {
   "cell_type": "code",
   "execution_count": 2,
   "id": "cca0c3fb",
   "metadata": {},
   "outputs": [],
   "source": [
    "import torch\n",
    "import torch.nn as nn\n",
    "#from torch.nn import functional as F\n",
    "from torch.utils.data import DataLoader\n",
    "from torchvision import models\n",
    "\n",
    "import torchvision.transforms as transforms"
   ]
  },
  {
   "cell_type": "code",
   "execution_count": 3,
   "id": "71f1c203",
   "metadata": {},
   "outputs": [],
   "source": [
    "from functions import(import_train_folder_dataset,\n",
    "                      Data,\n",
    "                      import_test_folder_dataset,\n",
    "                      Data_test,\n",
    "                      plot_loss_accuracy,\n",
    "                      save_model,\n",
    "                      save_metrics,\n",
    "                      save_predictions_as_csv\n",
    "                     )"
   ]
  },
  {
   "cell_type": "markdown",
   "id": "0718e13c",
   "metadata": {},
   "source": [
    "# Variables"
   ]
  },
  {
   "cell_type": "code",
   "execution_count": 4,
   "id": "3db7e115",
   "metadata": {},
   "outputs": [
    {
     "name": "stdout",
     "output_type": "stream",
     "text": [
      "cuda\n"
     ]
    }
   ],
   "source": [
    "model_epochs = 100 # 100\n",
    "\n",
    "lr = 0.006 # Learning rate.\n",
    "                            \n",
    "#torch.cuda.empty_cache()\n",
    "device = 'cuda' if torch.cuda.is_available() else 'cpu'\n",
    "print(device)\n",
    "\n",
    "\n",
    "TRAIN_BATCH_SIZE = 8\n",
    "TEST_BATCH_SIZE = 8\n",
    "\n",
    "checkpoints_save = 100 # Save after 50 epochs\n",
    "\n",
    "model_checkpoints = \"D:/Personal/Alex/Uni/MS IA/2 Curso/Fall 2022/Artificial Intelligence/Projects/Project 1/CheckPoints/\"\n",
    "PATH = \"D:\\\\Personal\\\\Alex\\\\Uni\\\\MS IA\\\\2 Curso\\\\Fall 2022\\Artificial Intelligence\\\\Projects\\\\Project 1\\\\Models Save\\\\GoogleNet_CAM-Plus-ImgClass_v2\\\\\"\n",
    "\n",
    "# Path of the Data files\n",
    "train_data_path = \"D:/Personal/Alex/Uni/MS IA/2 Curso/Fall 2022/Artificial Intelligence/Projects/Project 1/data/Croped_v2/Train\"\n",
    "test_data_path = \"D:/Personal/Alex/Uni/MS IA/2 Curso/Fall 2022/Artificial Intelligence/Projects/Project 1/data/Croped_v2/Test\""
   ]
  },
  {
   "cell_type": "markdown",
   "id": "15fd7f21",
   "metadata": {},
   "source": [
    "# Import Data"
   ]
  },
  {
   "cell_type": "code",
   "execution_count": 5,
   "id": "87640fcf",
   "metadata": {},
   "outputs": [],
   "source": [
    "\n",
    "img_transform_val = transforms.Compose([transforms.ToPILImage(),\n",
    "                                        transforms.Resize((400, 400)),\n",
    "                                        transforms.ToTensor(),\n",
    "                                        transforms.Normalize((0.485, 0.456, 0.406), (0.229, 0.224, 0.225))])\n"
   ]
  },
  {
   "cell_type": "markdown",
   "id": "08d4aa62",
   "metadata": {},
   "source": [
    "## Train-Val data"
   ]
  },
  {
   "cell_type": "code",
   "execution_count": 6,
   "id": "8a919ef7",
   "metadata": {},
   "outputs": [
    {
     "name": "stdout",
     "output_type": "stream",
     "text": [
      "Train Dim of Data:  (1149, 400, 400, 3)\n",
      "Train Dim of Lables:  (1149,)\n"
     ]
    }
   ],
   "source": [
    "# Import the data\n",
    "train_data, train_labels = import_train_folder_dataset(train_data_path)\n",
    "print(\"Train Dim of Data: \", train_data.shape)\n",
    "print(\"Train Dim of Lables: \", train_labels.shape)"
   ]
  },
  {
   "cell_type": "code",
   "execution_count": 7,
   "id": "faef9154",
   "metadata": {},
   "outputs": [
    {
     "name": "stdout",
     "output_type": "stream",
     "text": [
      "Dim of Data:  (1034, 400, 400, 3)\n",
      "Dim of Lables:  (1034,)\n",
      "Dim of X_test:  (115, 400, 400, 3)\n",
      "Dim of y_test:  (115,)\n"
     ]
    }
   ],
   "source": [
    "# Split into Train, Validation\n",
    "X_train, X_val, y_train, y_val = train_test_split(train_data, train_labels, test_size=0.1, random_state=1)\n",
    "print(\"Dim of Data: \", X_train.shape)\n",
    "print(\"Dim of Lables: \", y_train.shape)\n",
    "print(\"Dim of X_test: \", X_val.shape)\n",
    "print(\"Dim of y_test: \", y_val.shape)"
   ]
  },
  {
   "cell_type": "code",
   "execution_count": 8,
   "id": "57ba1413",
   "metadata": {},
   "outputs": [
    {
     "name": "stdout",
     "output_type": "stream",
     "text": [
      "Train len:  1034\n",
      "Val len:  115\n"
     ]
    }
   ],
   "source": [
    "# Create the dataset object\n",
    "train_Dataset = Data(X_train, y_train, img_transform_val) # img_transform\n",
    "val_Dataset = Data(X_val, y_val, img_transform_val)\n",
    "\n",
    "print(\"Train len: \",len(train_Dataset))\n",
    "print(\"Val len: \",len(val_Dataset))"
   ]
  },
  {
   "cell_type": "code",
   "execution_count": 9,
   "id": "84e8a189",
   "metadata": {},
   "outputs": [],
   "source": [
    "# Create the dataloaders\n",
    "train_loader = DataLoader(\n",
    "    train_Dataset, \n",
    "    batch_size=TRAIN_BATCH_SIZE,             \n",
    "    shuffle=True)\n",
    "\n",
    "valid_loader = DataLoader(\n",
    "    val_Dataset, \n",
    "    batch_size=TEST_BATCH_SIZE,\n",
    "    shuffle=False\n",
    "    )"
   ]
  },
  {
   "cell_type": "markdown",
   "id": "84335faa",
   "metadata": {},
   "source": [
    "## Test Data"
   ]
  },
  {
   "cell_type": "code",
   "execution_count": 10,
   "id": "aaa86a20",
   "metadata": {},
   "outputs": [
    {
     "name": "stdout",
     "output_type": "stream",
     "text": [
      "Test Dim of Data:  (380, 400, 400, 3)\n",
      "Test Dim of Lables:  (380,)\n"
     ]
    }
   ],
   "source": [
    "# Import the data\n",
    "test_data, test_names = import_test_folder_dataset(test_data_path)\n",
    "print(\"Test Dim of Data: \", test_data.shape)\n",
    "print(\"Test Dim of Lables: \", test_names.shape)"
   ]
  },
  {
   "cell_type": "code",
   "execution_count": 11,
   "id": "f9ce647e",
   "metadata": {},
   "outputs": [
    {
     "name": "stdout",
     "output_type": "stream",
     "text": [
      "Test len:  380\n"
     ]
    }
   ],
   "source": [
    "# Create the dataset object\n",
    "test_Dataset = Data_test(test_data, test_names, img_transform_val) # img_transform\n",
    "\n",
    "print(\"Test len: \",len(test_Dataset))"
   ]
  },
  {
   "cell_type": "code",
   "execution_count": 12,
   "id": "6d05ab18",
   "metadata": {},
   "outputs": [],
   "source": [
    "# Create the dataloaders\n",
    "test_loader = DataLoader(\n",
    "    test_Dataset, \n",
    "    batch_size=1,             \n",
    "    shuffle=False)"
   ]
  },
  {
   "cell_type": "markdown",
   "id": "e5b541df",
   "metadata": {},
   "source": [
    "# Create Model"
   ]
  },
  {
   "cell_type": "code",
   "execution_count": 13,
   "id": "c7e94655",
   "metadata": {
    "scrolled": true
   },
   "outputs": [
    {
     "name": "stderr",
     "output_type": "stream",
     "text": [
      "D:\\Users\\Alex\\anaconda3\\lib\\site-packages\\torchvision\\models\\_utils.py:208: UserWarning: The parameter 'pretrained' is deprecated since 0.13 and will be removed in 0.15, please use 'weights' instead.\n",
      "  warnings.warn(\n",
      "D:\\Users\\Alex\\anaconda3\\lib\\site-packages\\torchvision\\models\\_utils.py:223: UserWarning: Arguments other than a weight enum or `None` for 'weights' are deprecated since 0.13 and will be removed in 0.15. The current behavior is equivalent to passing `weights=AlexNet_Weights.IMAGENET1K_V1`. You can also use `weights=AlexNet_Weights.DEFAULT` to get the most up-to-date weights.\n",
      "  warnings.warn(msg)\n"
     ]
    },
    {
     "data": {
      "text/plain": [
       "ClassificationNet(\n",
       "  (model_fe): Sequential(\n",
       "    (0): Sequential(\n",
       "      (0): Conv2d(3, 64, kernel_size=(11, 11), stride=(4, 4), padding=(2, 2))\n",
       "      (1): ReLU(inplace=True)\n",
       "      (2): MaxPool2d(kernel_size=3, stride=2, padding=0, dilation=1, ceil_mode=False)\n",
       "      (3): Conv2d(64, 192, kernel_size=(5, 5), stride=(1, 1), padding=(2, 2))\n",
       "      (4): ReLU(inplace=True)\n",
       "      (5): MaxPool2d(kernel_size=3, stride=2, padding=0, dilation=1, ceil_mode=False)\n",
       "      (6): Conv2d(192, 384, kernel_size=(3, 3), stride=(1, 1), padding=(1, 1))\n",
       "      (7): ReLU(inplace=True)\n",
       "      (8): Conv2d(384, 256, kernel_size=(3, 3), stride=(1, 1), padding=(1, 1))\n",
       "      (9): ReLU(inplace=True)\n",
       "      (10): Conv2d(256, 256, kernel_size=(3, 3), stride=(1, 1), padding=(1, 1))\n",
       "      (11): ReLU(inplace=True)\n",
       "      (12): MaxPool2d(kernel_size=3, stride=2, padding=0, dilation=1, ceil_mode=False)\n",
       "    )\n",
       "    (1): AdaptiveAvgPool2d(output_size=(6, 6))\n",
       "  )\n",
       "  (flatten): Flatten(start_dim=1, end_dim=-1)\n",
       "  (last_classifier): Linear(in_features=9216, out_features=4, bias=True)\n",
       ")"
      ]
     },
     "execution_count": 13,
     "metadata": {},
     "output_type": "execute_result"
    }
   ],
   "source": [
    "#PyTorch - Building the Model\n",
    "class ClassificationNet(nn.Module):\n",
    "    def __init__(self, model):\n",
    "        super(ClassificationNet, self).__init__()\n",
    "        # get the pretrained googlenet network\n",
    "        #self.googlenet = models.googlenet(pretrained=True)\n",
    "        #self.resnet50 = models.resnet50(pretrained=True)\n",
    "        \n",
    "        # Get the feature extractor\n",
    "        self.model_fe = nn.Sequential(*list(model.children())[:-1])\n",
    "        #self.resnet50_fe = nn.Sequential(*list(self.resnet50.children())[:-1])\n",
    "        \n",
    "        # Flatten the FE output\n",
    "        self.flatten = nn.Flatten()\n",
    "        \n",
    "        # Add a clissifier\n",
    "        self.last_classifier =  nn.Linear(in_features=9216, out_features=4)\n",
    "        \n",
    "    def forward(self, x): \n",
    "        #x = self.resnet50_fe(x)\n",
    "        x = self.model_fe(x)\n",
    "        \n",
    "        x = self.flatten(x)\n",
    "        \n",
    "        x = self.last_classifier(x)\n",
    "        \n",
    "        return x\n",
    "\n",
    "modelpy = ClassificationNet(model = models.alexnet(pretrained=True)).to(device)\n",
    "\n",
    "# Loss Function\n",
    "criterion_2 = nn.CrossEntropyLoss()\n",
    "\n",
    "# Optimizer    \n",
    "trainable_parameters_2 = filter(lambda p: p.requires_grad, modelpy.parameters())\n",
    "#optimizer_2 = torch.optim.Adam(params=trainable_parameters_2, lr=lr)\n",
    "optimizer_2 = torch.optim.SGD(params=trainable_parameters_2, lr=lr, momentum=1e-5) \n",
    "\n",
    "# Check if checkpoint is available, if so, load it\n",
    "model_epoch_m2_check = 0\n",
    "previous_time = 0\n",
    "\n",
    "modelpy"
   ]
  },
  {
   "cell_type": "code",
   "execution_count": 14,
   "id": "9d13ce6c",
   "metadata": {},
   "outputs": [],
   "source": [
    "# Check if checkpoint is available, if so, load it\n",
    "model_epoch_m2_check = 0\n",
    "previous_time = 0\n",
    "names = os.listdir(model_checkpoints)\n",
    "for elem in names:\n",
    "    if(elem==\"model_ckpt_m2.pth\"):\n",
    "        print(\"Loading saved checkpoint\")\n",
    "        checkpoint = torch.load(model_checkpoints + \"model_ckpt_m2.pth\")\n",
    "        modelpy.load_state_dict(checkpoint['model_state_dict'])\n",
    "        modelpy.to(device)\n",
    "        optimizer_2.load_state_dict(checkpoint['optimizer_state_dict'])\n",
    "        model_epoch_m2_check = checkpoint['epoch']\n",
    "        criterion_2 = checkpoint['loss']\n",
    "        previous_time = checkpoint['time']\n",
    "        print(f\"Epoch of the checkpoint: {model_epoch_m2_check}\")\n"
   ]
  },
  {
   "cell_type": "code",
   "execution_count": 15,
   "id": "9271b504",
   "metadata": {},
   "outputs": [
    {
     "name": "stdout",
     "output_type": "stream",
     "text": [
      "Model Parameters: 2506564\n"
     ]
    }
   ],
   "source": [
    "# Model Parameters\n",
    "\n",
    "def count_parameters(model):\n",
    "    return sum(p.numel() for p in model.parameters() if p.requires_grad)\n",
    "\n",
    "\n",
    "print(f\"Model Parameters: {count_parameters(modelpy)}\")"
   ]
  },
  {
   "cell_type": "markdown",
   "id": "a686cf7a",
   "metadata": {},
   "source": [
    "# Train Model"
   ]
  },
  {
   "cell_type": "code",
   "execution_count": 16,
   "id": "f5e24431",
   "metadata": {},
   "outputs": [],
   "source": [
    "def update_optimizer(optimizer, lr):\n",
    "    for i, param_group in enumerate(optimizer.param_groups):\n",
    "        param_group[\"lr\"]=lr"
   ]
  },
  {
   "cell_type": "code",
   "execution_count": 17,
   "id": "ab810b7d",
   "metadata": {
    "scrolled": true
   },
   "outputs": [
    {
     "name": "stdout",
     "output_type": "stream",
     "text": [
      "Epoch 1 of 100\n"
     ]
    },
    {
     "name": "stderr",
     "output_type": "stream",
     "text": [
      "100%|██████████| 130/130 [06:04<00:00,  2.80s/it] \n",
      "100%|██████████| 15/15 [00:13<00:00,  1.14it/s]\n"
     ]
    },
    {
     "name": "stdout",
     "output_type": "stream",
     "text": [
      "train loss:  0.12022041412686471\n",
      "Val loss:  0.11926312239273734\n",
      "train accuracy:  0.5841392649903289\n",
      "Val accuracy:  0.5739130434782609\n",
      "Best model at the moment with Val_acc 57.39, saving...\n",
      "Current time: 6.523 minutes. Time expected till completion: 645.765 minutes\n",
      "Epoch 2 of 100\n"
     ]
    },
    {
     "name": "stderr",
     "output_type": "stream",
     "text": [
      "100%|██████████| 130/130 [00:19<00:00,  6.82it/s]\n",
      "100%|██████████| 15/15 [00:01<00:00, 14.94it/s]\n"
     ]
    },
    {
     "name": "stdout",
     "output_type": "stream",
     "text": [
      "train loss:  0.1069602085208985\n",
      "Val loss:  0.12401606233223625\n",
      "train accuracy:  0.6237911025145068\n",
      "Val accuracy:  0.6260869565217392\n",
      "Best model at the moment with Val_acc 62.61, saving...\n",
      "Current time: 6.861 minutes. Time expected till completion: 336.177 minutes\n",
      "Epoch 3 of 100\n"
     ]
    },
    {
     "name": "stderr",
     "output_type": "stream",
     "text": [
      "100%|██████████| 130/130 [00:15<00:00,  8.49it/s]\n",
      "100%|██████████| 15/15 [00:01<00:00, 13.45it/s]\n"
     ]
    },
    {
     "name": "stdout",
     "output_type": "stream",
     "text": [
      "train loss:  0.09831077650160577\n",
      "Val loss:  0.12254926717799643\n",
      "train accuracy:  0.6653771760154739\n",
      "Val accuracy:  0.5478260869565217\n",
      "Current time: 7.135 minutes. Time expected till completion: 230.687 minutes\n",
      "Epoch 4 of 100\n"
     ]
    },
    {
     "name": "stderr",
     "output_type": "stream",
     "text": [
      "100%|██████████| 130/130 [00:15<00:00,  8.22it/s]\n",
      "100%|██████████| 15/15 [00:01<00:00, 13.54it/s]\n"
     ]
    },
    {
     "name": "stdout",
     "output_type": "stream",
     "text": [
      "train loss:  0.09443916541810654\n",
      "Val loss:  0.13187539421993752\n",
      "train accuracy:  0.6740812379110251\n",
      "Val accuracy:  0.5304347826086957\n",
      "Current time: 7.417 minutes. Time expected till completion: 178.010 minutes\n",
      "Epoch 5 of 100\n"
     ]
    },
    {
     "name": "stderr",
     "output_type": "stream",
     "text": [
      "100%|██████████| 130/130 [00:15<00:00,  8.31it/s]\n",
      "100%|██████████| 15/15 [00:01<00:00, 14.66it/s]\n"
     ]
    },
    {
     "name": "stdout",
     "output_type": "stream",
     "text": [
      "train loss:  0.08784707311389525\n",
      "Val loss:  0.11184573329013327\n",
      "train accuracy:  0.688588007736944\n",
      "Val accuracy:  0.591304347826087\n",
      "Current time: 7.695 minutes. Time expected till completion: 146.209 minutes\n",
      "Epoch 6 of 100\n"
     ]
    },
    {
     "name": "stderr",
     "output_type": "stream",
     "text": [
      "100%|██████████| 130/130 [00:15<00:00,  8.23it/s]\n",
      "100%|██████████| 15/15 [00:01<00:00, 14.24it/s]\n"
     ]
    },
    {
     "name": "stdout",
     "output_type": "stream",
     "text": [
      "train loss:  0.0825387336587537\n",
      "Val loss:  0.1084974441839301\n",
      "train accuracy:  0.7176015473887815\n",
      "Val accuracy:  0.6086956521739131\n",
      "Current time: 7.976 minutes. Time expected till completion: 124.960 minutes\n",
      "Epoch 7 of 100\n"
     ]
    },
    {
     "name": "stderr",
     "output_type": "stream",
     "text": [
      "100%|██████████| 130/130 [00:16<00:00,  8.07it/s]\n",
      "100%|██████████| 15/15 [00:01<00:00, 14.06it/s]\n"
     ]
    },
    {
     "name": "stdout",
     "output_type": "stream",
     "text": [
      "train loss:  0.07721924572837191\n",
      "Val loss:  0.11817150349202363\n",
      "train accuracy:  0.7456479690522244\n",
      "Val accuracy:  0.6086956521739131\n",
      "Current time: 8.263 minutes. Time expected till completion: 109.776 minutes\n",
      "Epoch 8 of 100\n"
     ]
    },
    {
     "name": "stderr",
     "output_type": "stream",
     "text": [
      "100%|██████████| 130/130 [00:16<00:00,  8.01it/s]\n",
      "100%|██████████| 15/15 [00:01<00:00, 14.46it/s]\n"
     ]
    },
    {
     "name": "stdout",
     "output_type": "stream",
     "text": [
      "train loss:  0.0736745582097273\n",
      "Val loss:  0.12111629778924196\n",
      "train accuracy:  0.769825918762089\n",
      "Val accuracy:  0.6086956521739131\n",
      "Current time: 8.551 minutes. Time expected till completion: 98.334 minutes\n",
      "Epoch 9 of 100\n"
     ]
    },
    {
     "name": "stderr",
     "output_type": "stream",
     "text": [
      "100%|██████████| 130/130 [00:15<00:00,  8.46it/s]\n",
      "100%|██████████| 15/15 [00:01<00:00, 14.53it/s]\n"
     ]
    },
    {
     "name": "stdout",
     "output_type": "stream",
     "text": [
      "train loss:  0.06951059364286798\n",
      "Val loss:  0.12008917409440746\n",
      "train accuracy:  0.7775628626692457\n",
      "Val accuracy:  0.5826086956521739\n",
      "Current time: 8.824 minutes. Time expected till completion: 89.224 minutes\n",
      "Epoch 10 of 100\n"
     ]
    },
    {
     "name": "stderr",
     "output_type": "stream",
     "text": [
      "100%|██████████| 130/130 [00:15<00:00,  8.42it/s]\n",
      "100%|██████████| 15/15 [00:00<00:00, 15.09it/s]\n"
     ]
    },
    {
     "name": "stdout",
     "output_type": "stream",
     "text": [
      "train loss:  0.06570747948649773\n",
      "Val loss:  0.13414206232713616\n",
      "train accuracy:  0.7998065764023211\n",
      "Val accuracy:  0.5478260869565217\n",
      "Current time: 9.098 minutes. Time expected till completion: 81.886 minutes\n",
      "Epoch 11 of 100\n"
     ]
    },
    {
     "name": "stderr",
     "output_type": "stream",
     "text": [
      "100%|██████████| 130/130 [00:15<00:00,  8.44it/s]\n",
      "100%|██████████| 15/15 [00:01<00:00, 14.43it/s]\n"
     ]
    },
    {
     "name": "stdout",
     "output_type": "stream",
     "text": [
      "train loss:  0.06100924021241974\n",
      "Val loss:  0.12435975735602171\n",
      "train accuracy:  0.793036750483559\n",
      "Val accuracy:  0.591304347826087\n",
      "Current time: 9.374 minutes. Time expected till completion: 75.840 minutes\n",
      "Epoch 12 of 100\n"
     ]
    },
    {
     "name": "stderr",
     "output_type": "stream",
     "text": [
      "100%|██████████| 130/130 [00:15<00:00,  8.57it/s]\n",
      "100%|██████████| 15/15 [00:00<00:00, 15.39it/s]\n"
     ]
    },
    {
     "name": "stdout",
     "output_type": "stream",
     "text": [
      "train loss:  0.05537968936666299\n",
      "Val loss:  0.16154552335324496\n",
      "train accuracy:  0.8413926499032882\n",
      "Val accuracy:  0.5304347826086957\n",
      "Current time: 9.643 minutes. Time expected till completion: 70.714 minutes\n",
      "Epoch 13 of 100\n"
     ]
    },
    {
     "name": "stderr",
     "output_type": "stream",
     "text": [
      "100%|██████████| 130/130 [00:15<00:00,  8.54it/s]\n",
      "100%|██████████| 15/15 [00:01<00:00, 14.86it/s]\n"
     ]
    },
    {
     "name": "stdout",
     "output_type": "stream",
     "text": [
      "train loss:  0.05254845723970946\n",
      "Val loss:  0.12855080897393434\n",
      "train accuracy:  0.8317214700193424\n",
      "Val accuracy:  0.6347826086956522\n",
      "Best model at the moment with Val_acc 63.48, saving...\n",
      "Current time: 9.915 minutes. Time expected till completion: 66.351 minutes\n",
      "Epoch 14 of 100\n"
     ]
    },
    {
     "name": "stderr",
     "output_type": "stream",
     "text": [
      "100%|██████████| 130/130 [00:15<00:00,  8.55it/s]\n",
      "100%|██████████| 15/15 [00:01<00:00, 14.62it/s]\n"
     ]
    },
    {
     "name": "stdout",
     "output_type": "stream",
     "text": [
      "train loss:  0.0509940443967597\n",
      "Val loss:  0.16352557514024818\n",
      "train accuracy:  0.8558994197292069\n",
      "Val accuracy:  0.5478260869565217\n",
      "Current time: 10.185 minutes. Time expected till completion: 62.567 minutes\n",
      "Epoch 15 of 100\n"
     ]
    },
    {
     "name": "stderr",
     "output_type": "stream",
     "text": [
      "100%|██████████| 130/130 [00:15<00:00,  8.32it/s]\n",
      "100%|██████████| 15/15 [00:01<00:00, 13.95it/s]\n"
     ]
    },
    {
     "name": "stdout",
     "output_type": "stream",
     "text": [
      "train loss:  0.04768154755004139\n",
      "Val loss:  0.18722106762554336\n",
      "train accuracy:  0.8626692456479691\n",
      "Val accuracy:  0.5043478260869565\n",
      "Current time: 10.464 minutes. Time expected till completion: 59.296 minutes\n",
      "Epoch 16 of 100\n"
     ]
    },
    {
     "name": "stderr",
     "output_type": "stream",
     "text": [
      "100%|██████████| 130/130 [00:15<00:00,  8.23it/s]\n",
      "100%|██████████| 15/15 [00:00<00:00, 15.38it/s]\n"
     ]
    },
    {
     "name": "stdout",
     "output_type": "stream",
     "text": [
      "train loss:  0.04504831037276949\n",
      "Val loss:  0.13416609193967735\n",
      "train accuracy:  0.8665377176015474\n",
      "Val accuracy:  0.6260869565217392\n",
      "Current time: 10.744 minutes. Time expected till completion: 56.404 minutes\n",
      "Epoch 17 of 100\n"
     ]
    },
    {
     "name": "stderr",
     "output_type": "stream",
     "text": [
      "100%|██████████| 130/130 [00:15<00:00,  8.50it/s]\n",
      "100%|██████████| 15/15 [00:01<00:00, 14.60it/s]\n"
     ]
    },
    {
     "name": "stdout",
     "output_type": "stream",
     "text": [
      "train loss:  0.04041387044195972\n",
      "Val loss:  0.1369976493327514\n",
      "train accuracy:  0.8858800773694391\n",
      "Val accuracy:  0.6173913043478261\n",
      "Current time: 11.016 minutes. Time expected till completion: 53.783 minutes\n",
      "Epoch 18 of 100\n"
     ]
    },
    {
     "name": "stderr",
     "output_type": "stream",
     "text": [
      "100%|██████████| 130/130 [00:15<00:00,  8.61it/s]\n",
      "100%|██████████| 15/15 [00:01<00:00, 13.85it/s]\n"
     ]
    },
    {
     "name": "stdout",
     "output_type": "stream",
     "text": [
      "train loss:  0.03761595015988705\n",
      "Val loss:  0.15706113188163093\n",
      "train accuracy:  0.9003868471953579\n",
      "Val accuracy:  0.5739130434782609\n",
      "Current time: 11.286 minutes. Time expected till completion: 51.413 minutes\n",
      "Epoch 19 of 100\n"
     ]
    },
    {
     "name": "stderr",
     "output_type": "stream",
     "text": [
      "100%|██████████| 130/130 [00:16<00:00,  8.09it/s]\n",
      "100%|██████████| 15/15 [00:01<00:00, 14.26it/s]\n"
     ]
    },
    {
     "name": "stdout",
     "output_type": "stream",
     "text": [
      "train loss:  0.0362420544312903\n",
      "Val loss:  0.14368095268373904\n",
      "train accuracy:  0.8965183752417795\n",
      "Val accuracy:  0.5826086956521739\n",
      "Current time: 11.571 minutes. Time expected till completion: 49.330 minutes\n",
      "Epoch 20 of 100\n"
     ]
    },
    {
     "name": "stderr",
     "output_type": "stream",
     "text": [
      "100%|██████████| 130/130 [00:17<00:00,  7.48it/s]\n",
      "100%|██████████| 15/15 [00:01<00:00, 12.30it/s]\n"
     ]
    },
    {
     "name": "stdout",
     "output_type": "stream",
     "text": [
      "train loss:  0.03164604789535992\n",
      "Val loss:  0.1545384811318439\n",
      "train accuracy:  0.9177949709864603\n",
      "Val accuracy:  0.6086956521739131\n",
      "Current time: 11.882 minutes. Time expected till completion: 47.526 minutes\n",
      "Epoch 21 of 100\n"
     ]
    },
    {
     "name": "stderr",
     "output_type": "stream",
     "text": [
      "100%|██████████| 130/130 [00:15<00:00,  8.25it/s]\n",
      "100%|██████████| 15/15 [00:01<00:00, 11.22it/s]\n"
     ]
    },
    {
     "name": "stdout",
     "output_type": "stream",
     "text": [
      "train loss:  0.02798217833690648\n",
      "Val loss:  0.15349592825640804\n",
      "train accuracy:  0.9226305609284333\n",
      "Val accuracy:  0.6260869565217392\n",
      "Current time: 12.167 minutes. Time expected till completion: 45.771 minutes\n",
      "Epoch 22 of 100\n"
     ]
    },
    {
     "name": "stderr",
     "output_type": "stream",
     "text": [
      "100%|██████████| 130/130 [00:15<00:00,  8.41it/s]\n",
      "100%|██████████| 15/15 [00:01<00:00, 14.45it/s]\n"
     ]
    },
    {
     "name": "stdout",
     "output_type": "stream",
     "text": [
      "train loss:  0.027449528187715108\n",
      "Val loss:  0.16490181101405102\n",
      "train accuracy:  0.925531914893617\n",
      "Val accuracy:  0.591304347826087\n",
      "Current time: 12.442 minutes. Time expected till completion: 44.112 minutes\n",
      "Epoch 23 of 100\n"
     ]
    },
    {
     "name": "stderr",
     "output_type": "stream",
     "text": [
      "100%|██████████| 130/130 [00:15<00:00,  8.14it/s]\n",
      "100%|██████████| 15/15 [00:01<00:00, 14.55it/s]\n"
     ]
    },
    {
     "name": "stdout",
     "output_type": "stream",
     "text": [
      "train loss:  0.026325203608036963\n",
      "Val loss:  0.1643405153699543\n",
      "train accuracy:  0.9274661508704062\n",
      "Val accuracy:  0.591304347826087\n",
      "Current time: 12.725 minutes. Time expected till completion: 42.603 minutes\n",
      "Epoch 24 of 100\n"
     ]
    },
    {
     "name": "stderr",
     "output_type": "stream",
     "text": [
      "100%|██████████| 130/130 [00:15<00:00,  8.36it/s]\n",
      "100%|██████████| 15/15 [00:01<00:00, 14.20it/s]\n"
     ]
    },
    {
     "name": "stdout",
     "output_type": "stream",
     "text": [
      "train loss:  0.02326786997448833\n",
      "Val loss:  0.16759021878242492\n",
      "train accuracy:  0.9390715667311412\n",
      "Val accuracy:  0.6173913043478261\n",
      "Current time: 13.002 minutes. Time expected till completion: 41.174 minutes\n",
      "Epoch 25 of 100\n"
     ]
    },
    {
     "name": "stderr",
     "output_type": "stream",
     "text": [
      "100%|██████████| 130/130 [00:15<00:00,  8.32it/s]\n",
      "100%|██████████| 15/15 [00:00<00:00, 15.04it/s]\n"
     ]
    },
    {
     "name": "stdout",
     "output_type": "stream",
     "text": [
      "train loss:  0.022206577616500554\n",
      "Val loss:  0.1730251765769461\n",
      "train accuracy:  0.941972920696325\n",
      "Val accuracy:  0.6173913043478261\n",
      "Current time: 13.279 minutes. Time expected till completion: 39.838 minutes\n",
      "Epoch 26 of 100\n"
     ]
    },
    {
     "name": "stderr",
     "output_type": "stream",
     "text": [
      "100%|██████████| 130/130 [00:15<00:00,  8.34it/s]\n",
      "100%|██████████| 15/15 [00:01<00:00, 14.92it/s]\n"
     ]
    },
    {
     "name": "stdout",
     "output_type": "stream",
     "text": [
      "train loss:  0.02041094002585923\n",
      "Val loss:  0.1673628137163494\n",
      "train accuracy:  0.9545454545454546\n",
      "Val accuracy:  0.591304347826087\n",
      "Current time: 13.556 minutes. Time expected till completion: 38.583 minutes\n",
      "Epoch 27 of 100\n"
     ]
    },
    {
     "name": "stderr",
     "output_type": "stream",
     "text": [
      "100%|██████████| 130/130 [00:15<00:00,  8.25it/s]\n",
      "100%|██████████| 15/15 [00:01<00:00, 14.45it/s]\n"
     ]
    },
    {
     "name": "stdout",
     "output_type": "stream",
     "text": [
      "train loss:  0.019216760095457475\n",
      "Val loss:  0.16140531016432721\n",
      "train accuracy:  0.9477756286266924\n",
      "Val accuracy:  0.6\n",
      "Current time: 13.836 minutes. Time expected till completion: 37.409 minutes\n",
      "Epoch 28 of 100\n"
     ]
    },
    {
     "name": "stderr",
     "output_type": "stream",
     "text": [
      "100%|██████████| 130/130 [00:15<00:00,  8.43it/s]\n",
      "100%|██████████| 15/15 [00:00<00:00, 15.03it/s]\n"
     ]
    },
    {
     "name": "stdout",
     "output_type": "stream",
     "text": [
      "train loss:  0.01627115372341393\n",
      "Val loss:  0.20666158691696498\n",
      "train accuracy:  0.9593810444874274\n",
      "Val accuracy:  0.5652173913043478\n",
      "Current time: 14.110 minutes. Time expected till completion: 36.283 minutes\n",
      "Epoch 29 of 100\n"
     ]
    },
    {
     "name": "stderr",
     "output_type": "stream",
     "text": [
      "100%|██████████| 130/130 [00:15<00:00,  8.34it/s]\n",
      "100%|██████████| 15/15 [00:01<00:00, 14.70it/s]\n"
     ]
    },
    {
     "name": "stdout",
     "output_type": "stream",
     "text": [
      "train loss:  0.01627515742354405\n",
      "Val loss:  0.1793252899594929\n",
      "train accuracy:  0.9671179883945842\n",
      "Val accuracy:  0.6434782608695652\n",
      "Best model at the moment with Val_acc 64.35, saving...\n",
      "Current time: 14.389 minutes. Time expected till completion: 35.229 minutes\n",
      "Epoch 30 of 100\n"
     ]
    },
    {
     "name": "stderr",
     "output_type": "stream",
     "text": [
      "100%|██████████| 130/130 [00:15<00:00,  8.36it/s]\n",
      "100%|██████████| 15/15 [00:01<00:00, 14.49it/s]\n"
     ]
    },
    {
     "name": "stdout",
     "output_type": "stream",
     "text": [
      "train loss:  0.013368824617558913\n",
      "Val loss:  0.1820549981749576\n",
      "train accuracy:  0.9738878143133463\n",
      "Val accuracy:  0.6\n",
      "Current time: 14.666 minutes. Time expected till completion: 34.221 minutes\n",
      "Epoch 31 of 100\n"
     ]
    },
    {
     "name": "stderr",
     "output_type": "stream",
     "text": [
      "100%|██████████| 130/130 [00:15<00:00,  8.38it/s]\n",
      "100%|██████████| 15/15 [00:01<00:00, 14.30it/s]\n"
     ]
    },
    {
     "name": "stdout",
     "output_type": "stream",
     "text": [
      "train loss:  0.012375951929034113\n",
      "Val loss:  0.19819862965656362\n",
      "train accuracy:  0.9738878143133463\n",
      "Val accuracy:  0.6173913043478261\n",
      "Current time: 14.942 minutes. Time expected till completion: 33.259 minutes\n",
      "Epoch 32 of 100\n"
     ]
    },
    {
     "name": "stderr",
     "output_type": "stream",
     "text": [
      "100%|██████████| 130/130 [00:15<00:00,  8.27it/s]\n",
      "100%|██████████| 15/15 [00:01<00:00, 14.12it/s]\n"
     ]
    },
    {
     "name": "stdout",
     "output_type": "stream",
     "text": [
      "train loss:  0.011476029429361368\n",
      "Val loss:  0.18432199605133223\n",
      "train accuracy:  0.9806576402321083\n",
      "Val accuracy:  0.6521739130434783\n",
      "Best model at the moment with Val_acc 65.22, saving...\n",
      "Current time: 15.223 minutes. Time expected till completion: 32.348 minutes\n",
      "Epoch 33 of 100\n"
     ]
    },
    {
     "name": "stderr",
     "output_type": "stream",
     "text": [
      "100%|██████████| 130/130 [00:15<00:00,  8.28it/s]\n",
      "100%|██████████| 15/15 [00:01<00:00, 14.04it/s]\n"
     ]
    },
    {
     "name": "stdout",
     "output_type": "stream",
     "text": [
      "train loss:  0.01041034552279042\n",
      "Val loss:  0.20967168950516243\n",
      "train accuracy:  0.9777562862669246\n",
      "Val accuracy:  0.6260869565217392\n",
      "Current time: 15.502 minutes. Time expected till completion: 31.474 minutes\n",
      "Epoch 34 of 100\n"
     ]
    },
    {
     "name": "stderr",
     "output_type": "stream",
     "text": [
      "100%|██████████| 130/130 [00:16<00:00,  8.11it/s]\n",
      "100%|██████████| 15/15 [00:01<00:00, 12.43it/s]\n"
     ]
    },
    {
     "name": "stdout",
     "output_type": "stream",
     "text": [
      "train loss:  0.011531885856099613\n",
      "Val loss:  0.27793263028497284\n",
      "train accuracy:  0.9748549323017408\n",
      "Val accuracy:  0.6173913043478261\n",
      "Current time: 15.790 minutes. Time expected till completion: 30.650 minutes\n",
      "Epoch 35 of 100\n"
     ]
    },
    {
     "name": "stderr",
     "output_type": "stream",
     "text": [
      "100%|██████████| 130/130 [00:16<00:00,  7.83it/s]\n",
      "100%|██████████| 15/15 [00:01<00:00, 13.30it/s]\n"
     ]
    },
    {
     "name": "stdout",
     "output_type": "stream",
     "text": [
      "train loss:  0.01136588668621846\n",
      "Val loss:  0.23527877210922862\n",
      "train accuracy:  0.9777562862669246\n",
      "Val accuracy:  0.5826086956521739\n",
      "Current time: 16.085 minutes. Time expected till completion: 29.873 minutes\n",
      "Epoch 36 of 100\n"
     ]
    },
    {
     "name": "stderr",
     "output_type": "stream",
     "text": [
      "100%|██████████| 130/130 [00:16<00:00,  7.76it/s]\n",
      "100%|██████████| 15/15 [00:01<00:00, 13.38it/s]\n"
     ]
    },
    {
     "name": "stdout",
     "output_type": "stream",
     "text": [
      "train loss:  0.007615951130822358\n",
      "Val loss:  0.1943508540806563\n",
      "train accuracy:  0.988394584139265\n",
      "Val accuracy:  0.6434782608695652\n",
      "Current time: 16.383 minutes. Time expected till completion: 29.126 minutes\n",
      "Epoch 37 of 100\n"
     ]
    },
    {
     "name": "stderr",
     "output_type": "stream",
     "text": [
      "100%|██████████| 130/130 [00:15<00:00,  8.44it/s]\n",
      "100%|██████████| 15/15 [00:01<00:00, 13.58it/s]\n"
     ]
    },
    {
     "name": "stdout",
     "output_type": "stream",
     "text": [
      "train loss:  0.007070980199258703\n",
      "Val loss:  0.23403497208719667\n",
      "train accuracy:  0.988394584139265\n",
      "Val accuracy:  0.6260869565217392\n",
      "Current time: 16.659 minutes. Time expected till completion: 28.365 minutes\n",
      "Epoch 38 of 100\n"
     ]
    },
    {
     "name": "stderr",
     "output_type": "stream",
     "text": [
      "100%|██████████| 130/130 [00:15<00:00,  8.16it/s]\n",
      "100%|██████████| 15/15 [00:01<00:00, 13.87it/s]\n"
     ]
    },
    {
     "name": "stdout",
     "output_type": "stream",
     "text": [
      "train loss:  0.010601929009295784\n",
      "Val loss:  0.22063775522553403\n",
      "train accuracy:  0.9835589941972921\n",
      "Val accuracy:  0.6260869565217392\n",
      "Current time: 16.942 minutes. Time expected till completion: 27.643 minutes\n",
      "Epoch 39 of 100\n"
     ]
    },
    {
     "name": "stderr",
     "output_type": "stream",
     "text": [
      "100%|██████████| 130/130 [00:16<00:00,  8.07it/s]\n",
      "100%|██████████| 15/15 [00:01<00:00, 13.21it/s]\n"
     ]
    },
    {
     "name": "stdout",
     "output_type": "stream",
     "text": [
      "train loss:  0.007616243050348129\n",
      "Val loss:  0.21522610083870267\n",
      "train accuracy:  0.988394584139265\n",
      "Val accuracy:  0.6521739130434783\n",
      "Current time: 17.230 minutes. Time expected till completion: 26.950 minutes\n",
      "Epoch 40 of 100\n"
     ]
    },
    {
     "name": "stderr",
     "output_type": "stream",
     "text": [
      "100%|██████████| 130/130 [00:16<00:00,  8.11it/s]\n",
      "100%|██████████| 15/15 [00:01<00:00, 14.67it/s]\n"
     ]
    },
    {
     "name": "stdout",
     "output_type": "stream",
     "text": [
      "train loss:  0.005045196358961138\n",
      "Val loss:  0.22676501986773118\n",
      "train accuracy:  0.9941972920696325\n",
      "Val accuracy:  0.6608695652173913\n",
      "Best model at the moment with Val_acc 66.09, saving...\n",
      "Current time: 17.515 minutes. Time expected till completion: 26.272 minutes\n",
      "Epoch 41 of 100\n"
     ]
    },
    {
     "name": "stderr",
     "output_type": "stream",
     "text": [
      "100%|██████████| 130/130 [00:15<00:00,  8.24it/s]\n",
      "100%|██████████| 15/15 [00:01<00:00, 14.02it/s]\n"
     ]
    },
    {
     "name": "stdout",
     "output_type": "stream",
     "text": [
      "train loss:  0.005097363809888329\n",
      "Val loss:  0.24017515629529954\n",
      "train accuracy:  0.9932301740812379\n",
      "Val accuracy:  0.5826086956521739\n",
      "Current time: 17.796 minutes. Time expected till completion: 25.609 minutes\n",
      "Epoch 42 of 100\n"
     ]
    },
    {
     "name": "stderr",
     "output_type": "stream",
     "text": [
      "100%|██████████| 130/130 [00:17<00:00,  7.50it/s]\n",
      "100%|██████████| 15/15 [00:01<00:00, 13.82it/s]\n"
     ]
    },
    {
     "name": "stdout",
     "output_type": "stream",
     "text": [
      "train loss:  0.006144623447912029\n",
      "Val loss:  0.23721925849499909\n",
      "train accuracy:  0.9941972920696325\n",
      "Val accuracy:  0.6173913043478261\n",
      "Current time: 18.103 minutes. Time expected till completion: 24.999 minutes\n",
      "Epoch 43 of 100\n"
     ]
    },
    {
     "name": "stderr",
     "output_type": "stream",
     "text": [
      "100%|██████████| 130/130 [00:16<00:00,  7.80it/s]\n",
      "100%|██████████| 15/15 [00:01<00:00, 13.69it/s]\n"
     ]
    },
    {
     "name": "stdout",
     "output_type": "stream",
     "text": [
      "train loss:  0.007181622436075567\n",
      "Val loss:  0.33575129586717356\n",
      "train accuracy:  0.9922630560928434\n",
      "Val accuracy:  0.5217391304347826\n",
      "Current time: 18.399 minutes. Time expected till completion: 24.390 minutes\n",
      "Epoch 44 of 100\n"
     ]
    },
    {
     "name": "stderr",
     "output_type": "stream",
     "text": [
      "100%|██████████| 130/130 [00:16<00:00,  7.84it/s]\n",
      "100%|██████████| 15/15 [00:01<00:00, 14.62it/s]\n"
     ]
    },
    {
     "name": "stdout",
     "output_type": "stream",
     "text": [
      "train loss:  0.012398948147172392\n",
      "Val loss:  0.22540960558082745\n",
      "train accuracy:  0.97678916827853\n",
      "Val accuracy:  0.6347826086956522\n",
      "Current time: 18.693 minutes. Time expected till completion: 23.791 minutes\n",
      "Epoch 45 of 100\n"
     ]
    },
    {
     "name": "stderr",
     "output_type": "stream",
     "text": [
      "100%|██████████| 130/130 [00:16<00:00,  7.88it/s]\n",
      "100%|██████████| 15/15 [00:01<00:00, 14.93it/s]\n"
     ]
    },
    {
     "name": "stdout",
     "output_type": "stream",
     "text": [
      "train loss:  0.003964055254409176\n",
      "Val loss:  0.2338196077424547\n",
      "train accuracy:  0.9980657640232108\n",
      "Val accuracy:  0.6695652173913044\n",
      "Best model at the moment with Val_acc 66.96, saving...\n",
      "Current time: 18.985 minutes. Time expected till completion: 23.204 minutes\n",
      "Epoch 46 of 100\n"
     ]
    },
    {
     "name": "stderr",
     "output_type": "stream",
     "text": [
      "100%|██████████| 130/130 [00:16<00:00,  7.84it/s]\n",
      "100%|██████████| 15/15 [00:01<00:00,  8.48it/s]\n"
     ]
    },
    {
     "name": "stdout",
     "output_type": "stream",
     "text": [
      "train loss:  0.007425610184790188\n",
      "Val loss:  0.219411745019581\n",
      "train accuracy:  0.9874274661508704\n",
      "Val accuracy:  0.6260869565217392\n",
      "Current time: 19.291 minutes. Time expected till completion: 22.646 minutes\n",
      "Epoch 47 of 100\n"
     ]
    },
    {
     "name": "stderr",
     "output_type": "stream",
     "text": [
      "100%|██████████| 130/130 [00:17<00:00,  7.35it/s]\n",
      "100%|██████████| 15/15 [00:01<00:00, 11.49it/s]\n"
     ]
    },
    {
     "name": "stdout",
     "output_type": "stream",
     "text": [
      "train loss:  0.0034237719996385563\n",
      "Val loss:  0.24210875008417213\n",
      "train accuracy:  0.9970986460348162\n",
      "Val accuracy:  0.6173913043478261\n",
      "Current time: 19.608 minutes. Time expected till completion: 22.111 minutes\n",
      "Epoch 48 of 100\n"
     ]
    },
    {
     "name": "stderr",
     "output_type": "stream",
     "text": [
      "100%|██████████| 130/130 [00:16<00:00,  7.90it/s]\n",
      "100%|██████████| 15/15 [00:01<00:00, 13.12it/s]\n"
     ]
    },
    {
     "name": "stdout",
     "output_type": "stream",
     "text": [
      "train loss:  0.004276487835916209\n",
      "Val loss:  0.23151323367720064\n",
      "train accuracy:  0.9970986460348162\n",
      "Val accuracy:  0.6347826086956522\n",
      "Current time: 19.902 minutes. Time expected till completion: 21.560 minutes\n",
      "Epoch 49 of 100\n"
     ]
    },
    {
     "name": "stderr",
     "output_type": "stream",
     "text": [
      "100%|██████████| 130/130 [00:16<00:00,  7.88it/s]\n",
      "100%|██████████| 15/15 [00:01<00:00, 14.76it/s]\n"
     ]
    },
    {
     "name": "stdout",
     "output_type": "stream",
     "text": [
      "train loss:  0.0033307779828947565\n",
      "Val loss:  0.24320017666272495\n",
      "train accuracy:  0.9980657640232108\n",
      "Val accuracy:  0.6347826086956522\n",
      "Current time: 20.194 minutes. Time expected till completion: 21.018 minutes\n",
      "Epoch 50 of 100\n"
     ]
    },
    {
     "name": "stderr",
     "output_type": "stream",
     "text": [
      "100%|██████████| 130/130 [00:15<00:00,  8.25it/s]\n",
      "100%|██████████| 15/15 [00:01<00:00, 12.24it/s]\n"
     ]
    },
    {
     "name": "stdout",
     "output_type": "stream",
     "text": [
      "train loss:  0.004147501336433159\n",
      "Val loss:  0.25316643455754156\n",
      "train accuracy:  0.9961315280464217\n",
      "Val accuracy:  0.6086956521739131\n",
      "Current time: 20.477 minutes. Time expected till completion: 20.477 minutes\n",
      "Epoch 51 of 100\n"
     ]
    },
    {
     "name": "stderr",
     "output_type": "stream",
     "text": [
      "100%|██████████| 130/130 [00:17<00:00,  7.62it/s]\n",
      "100%|██████████| 15/15 [00:01<00:00, 13.09it/s]\n"
     ]
    },
    {
     "name": "stdout",
     "output_type": "stream",
     "text": [
      "train loss:  0.0040716234494605945\n",
      "Val loss:  0.23848624520975611\n",
      "train accuracy:  0.9961315280464217\n",
      "Val accuracy:  0.6608695652173913\n",
      "Current time: 20.781 minutes. Time expected till completion: 19.966 minutes\n",
      "Epoch 52 of 100\n"
     ]
    },
    {
     "name": "stderr",
     "output_type": "stream",
     "text": [
      "100%|██████████| 130/130 [00:16<00:00,  7.96it/s]\n",
      "100%|██████████| 15/15 [00:01<00:00, 14.32it/s]\n"
     ]
    },
    {
     "name": "stdout",
     "output_type": "stream",
     "text": [
      "train loss:  0.0041974132919523725\n",
      "Val loss:  0.24523367972477622\n",
      "train accuracy:  0.9941972920696325\n",
      "Val accuracy:  0.6608695652173913\n",
      "Current time: 21.071 minutes. Time expected till completion: 19.450 minutes\n",
      "Epoch 53 of 100\n"
     ]
    },
    {
     "name": "stderr",
     "output_type": "stream",
     "text": [
      "100%|██████████| 130/130 [00:16<00:00,  7.89it/s]\n",
      "100%|██████████| 15/15 [00:01<00:00, 14.23it/s]\n"
     ]
    },
    {
     "name": "stdout",
     "output_type": "stream",
     "text": [
      "train loss:  0.00684285407806929\n",
      "Val loss:  0.2520461167978204\n",
      "train accuracy:  0.9874274661508704\n",
      "Val accuracy:  0.6\n",
      "Current time: 21.363 minutes. Time expected till completion: 18.945 minutes\n",
      "Epoch 54 of 100\n"
     ]
    },
    {
     "name": "stderr",
     "output_type": "stream",
     "text": [
      "100%|██████████| 130/130 [00:17<00:00,  7.58it/s]\n",
      "100%|██████████| 15/15 [00:01<00:00, 14.26it/s]\n"
     ]
    },
    {
     "name": "stdout",
     "output_type": "stream",
     "text": [
      "train loss:  0.003297542478149303\n",
      "Val loss:  0.2679480623939763\n",
      "train accuracy:  0.9970986460348162\n",
      "Val accuracy:  0.6086956521739131\n",
      "Current time: 21.667 minutes. Time expected till completion: 18.457 minutes\n",
      "Epoch 55 of 100\n"
     ]
    },
    {
     "name": "stderr",
     "output_type": "stream",
     "text": [
      "100%|██████████| 130/130 [00:17<00:00,  7.54it/s]\n",
      "100%|██████████| 15/15 [00:01<00:00, 12.40it/s]\n"
     ]
    },
    {
     "name": "stdout",
     "output_type": "stream",
     "text": [
      "train loss:  0.004114111982985369\n",
      "Val loss:  0.2541828504075175\n",
      "train accuracy:  0.9922630560928434\n",
      "Val accuracy:  0.6173913043478261\n",
      "Current time: 21.974 minutes. Time expected till completion: 17.979 minutes\n",
      "Epoch 56 of 100\n"
     ]
    },
    {
     "name": "stderr",
     "output_type": "stream",
     "text": [
      "100%|██████████| 130/130 [00:15<00:00,  8.14it/s]\n",
      "100%|██████████| 15/15 [00:01<00:00, 13.74it/s]\n"
     ]
    },
    {
     "name": "stdout",
     "output_type": "stream",
     "text": [
      "train loss:  0.003186757509969648\n",
      "Val loss:  0.23940468547136887\n",
      "train accuracy:  0.9970986460348162\n",
      "Val accuracy:  0.6521739130434783\n",
      "Current time: 22.259 minutes. Time expected till completion: 17.489 minutes\n",
      "Epoch 57 of 100\n"
     ]
    },
    {
     "name": "stderr",
     "output_type": "stream",
     "text": [
      "100%|██████████| 130/130 [00:16<00:00,  8.02it/s]\n",
      "100%|██████████| 15/15 [00:01<00:00, 13.58it/s]\n"
     ]
    },
    {
     "name": "stdout",
     "output_type": "stream",
     "text": [
      "train loss:  0.0032634575544686255\n",
      "Val loss:  0.26881048472031305\n",
      "train accuracy:  0.995164410058027\n",
      "Val accuracy:  0.6521739130434783\n",
      "Current time: 22.548 minutes. Time expected till completion: 17.010 minutes\n",
      "Epoch 58 of 100\n"
     ]
    },
    {
     "name": "stderr",
     "output_type": "stream",
     "text": [
      "100%|██████████| 130/130 [00:15<00:00,  8.18it/s]\n",
      "100%|██████████| 15/15 [00:01<00:00, 14.92it/s]\n"
     ]
    },
    {
     "name": "stdout",
     "output_type": "stream",
     "text": [
      "train loss:  0.009422051520788245\n",
      "Val loss:  0.22640637185262596\n",
      "train accuracy:  0.9816247582205029\n",
      "Val accuracy:  0.6173913043478261\n",
      "Current time: 22.830 minutes. Time expected till completion: 16.532 minutes\n",
      "Epoch 59 of 100\n"
     ]
    },
    {
     "name": "stderr",
     "output_type": "stream",
     "text": [
      "100%|██████████| 130/130 [00:15<00:00,  8.17it/s]\n",
      "100%|██████████| 15/15 [00:01<00:00, 12.04it/s]\n"
     ]
    },
    {
     "name": "stdout",
     "output_type": "stream",
     "text": [
      "train loss:  0.003772270323517705\n",
      "Val loss:  0.23120244262011155\n",
      "train accuracy:  0.995164410058027\n",
      "Val accuracy:  0.6347826086956522\n",
      "Current time: 23.116 minutes. Time expected till completion: 16.064 minutes\n",
      "Epoch 60 of 100\n"
     ]
    },
    {
     "name": "stderr",
     "output_type": "stream",
     "text": [
      "100%|██████████| 130/130 [00:16<00:00,  7.72it/s]\n",
      "100%|██████████| 15/15 [00:01<00:00, 14.56it/s]\n"
     ]
    },
    {
     "name": "stdout",
     "output_type": "stream",
     "text": [
      "train loss:  0.001915315566983027\n",
      "Val loss:  0.24840310501015705\n",
      "train accuracy:  0.9980657640232108\n",
      "Val accuracy:  0.6173913043478261\n",
      "Current time: 23.414 minutes. Time expected till completion: 15.609 minutes\n",
      "Epoch 61 of 100\n"
     ]
    },
    {
     "name": "stderr",
     "output_type": "stream",
     "text": [
      "100%|██████████| 130/130 [00:15<00:00,  8.37it/s]\n",
      "100%|██████████| 15/15 [00:01<00:00, 13.88it/s]\n"
     ]
    },
    {
     "name": "stdout",
     "output_type": "stream",
     "text": [
      "train loss:  0.002846271417122172\n",
      "Val loss:  0.2583184151545815\n",
      "train accuracy:  0.9970986460348162\n",
      "Val accuracy:  0.5826086956521739\n",
      "Current time: 23.691 minutes. Time expected till completion: 15.147 minutes\n",
      "Epoch 62 of 100\n"
     ]
    },
    {
     "name": "stderr",
     "output_type": "stream",
     "text": [
      "100%|██████████| 130/130 [00:16<00:00,  7.98it/s]\n",
      "100%|██████████| 15/15 [00:01<00:00, 13.17it/s]\n"
     ]
    },
    {
     "name": "stdout",
     "output_type": "stream",
     "text": [
      "train loss:  0.001963275176532858\n",
      "Val loss:  0.2491344400074171\n",
      "train accuracy:  0.9990328820116054\n",
      "Val accuracy:  0.6347826086956522\n",
      "Current time: 23.982 minutes. Time expected till completion: 14.699 minutes\n",
      "Epoch 63 of 100\n"
     ]
    },
    {
     "name": "stderr",
     "output_type": "stream",
     "text": [
      "100%|██████████| 130/130 [00:15<00:00,  8.21it/s]\n",
      "100%|██████████| 15/15 [00:01<00:00, 10.57it/s]\n"
     ]
    },
    {
     "name": "stdout",
     "output_type": "stream",
     "text": [
      "train loss:  0.0026653889244997865\n",
      "Val loss:  0.2633114148741183\n",
      "train accuracy:  0.9970986460348162\n",
      "Val accuracy:  0.6434782608695652\n",
      "Current time: 24.270 minutes. Time expected till completion: 14.254 minutes\n",
      "Epoch 64 of 100\n"
     ]
    },
    {
     "name": "stderr",
     "output_type": "stream",
     "text": [
      "100%|██████████| 130/130 [00:16<00:00,  7.83it/s]\n",
      "100%|██████████| 15/15 [00:01<00:00, 14.45it/s]\n"
     ]
    },
    {
     "name": "stdout",
     "output_type": "stream",
     "text": [
      "train loss:  0.0024085882050536907\n",
      "Val loss:  0.24383972559286202\n",
      "train accuracy:  0.9980657640232108\n",
      "Val accuracy:  0.6434782608695652\n",
      "Current time: 24.564 minutes. Time expected till completion: 13.817 minutes\n",
      "Epoch 65 of 100\n"
     ]
    },
    {
     "name": "stderr",
     "output_type": "stream",
     "text": [
      "100%|██████████| 130/130 [00:15<00:00,  8.24it/s]\n",
      "100%|██████████| 15/15 [00:01<00:00, 14.89it/s]\n"
     ]
    },
    {
     "name": "stdout",
     "output_type": "stream",
     "text": [
      "train loss:  0.0018233091055377966\n",
      "Val loss:  0.24527790164170057\n",
      "train accuracy:  0.9980657640232108\n",
      "Val accuracy:  0.6347826086956522\n",
      "Current time: 24.844 minutes. Time expected till completion: 13.377 minutes\n",
      "Epoch 66 of 100\n"
     ]
    },
    {
     "name": "stderr",
     "output_type": "stream",
     "text": [
      "100%|██████████| 130/130 [00:17<00:00,  7.45it/s]\n",
      "100%|██████████| 15/15 [00:01<00:00, 10.99it/s]\n"
     ]
    },
    {
     "name": "stdout",
     "output_type": "stream",
     "text": [
      "train loss:  0.0022965544106067666\n",
      "Val loss:  0.2564104936045149\n",
      "train accuracy:  0.9970986460348162\n",
      "Val accuracy:  0.6608695652173913\n",
      "Current time: 25.158 minutes. Time expected till completion: 12.960 minutes\n",
      "Epoch 67 of 100\n"
     ]
    },
    {
     "name": "stderr",
     "output_type": "stream",
     "text": [
      "100%|██████████| 130/130 [00:18<00:00,  7.05it/s]\n",
      "100%|██████████| 15/15 [00:02<00:00,  7.02it/s]\n"
     ]
    },
    {
     "name": "stdout",
     "output_type": "stream",
     "text": [
      "train loss:  0.0013661400475631588\n",
      "Val loss:  0.25429186199022374\n",
      "train accuracy:  0.9990328820116054\n",
      "Val accuracy:  0.6521739130434783\n",
      "Current time: 25.501 minutes. Time expected till completion: 12.560 minutes\n",
      "Epoch 68 of 100\n"
     ]
    },
    {
     "name": "stderr",
     "output_type": "stream",
     "text": [
      "100%|██████████| 130/130 [00:17<00:00,  7.38it/s]\n",
      "100%|██████████| 15/15 [00:01<00:00, 13.50it/s]\n"
     ]
    },
    {
     "name": "stdout",
     "output_type": "stream",
     "text": [
      "train loss:  0.007352448250275156\n",
      "Val loss:  0.2477893653123275\n",
      "train accuracy:  0.9825918762088974\n",
      "Val accuracy:  0.6260869565217392\n",
      "Current time: 25.813 minutes. Time expected till completion: 12.147 minutes\n",
      "Epoch 69 of 100\n"
     ]
    },
    {
     "name": "stderr",
     "output_type": "stream",
     "text": [
      "100%|██████████| 130/130 [00:16<00:00,  7.76it/s]\n",
      "100%|██████████| 15/15 [00:01<00:00, 13.34it/s]\n"
     ]
    },
    {
     "name": "stdout",
     "output_type": "stream",
     "text": [
      "train loss:  0.0022921257679250698\n",
      "Val loss:  0.2472905278853748\n",
      "train accuracy:  0.9970986460348162\n",
      "Val accuracy:  0.6608695652173913\n",
      "Current time: 26.111 minutes. Time expected till completion: 11.731 minutes\n",
      "Epoch 70 of 100\n"
     ]
    },
    {
     "name": "stderr",
     "output_type": "stream",
     "text": [
      "100%|██████████| 130/130 [00:16<00:00,  7.65it/s]\n",
      "100%|██████████| 15/15 [00:01<00:00, 10.89it/s]\n"
     ]
    },
    {
     "name": "stdout",
     "output_type": "stream",
     "text": [
      "train loss:  0.001476732585648961\n",
      "Val loss:  0.25876354912052985\n",
      "train accuracy:  0.9990328820116054\n",
      "Val accuracy:  0.6434782608695652\n",
      "Current time: 26.418 minutes. Time expected till completion: 11.322 minutes\n",
      "Epoch 71 of 100\n"
     ]
    },
    {
     "name": "stderr",
     "output_type": "stream",
     "text": [
      "100%|██████████| 130/130 [00:16<00:00,  8.09it/s]\n",
      "100%|██████████| 15/15 [00:01<00:00, 14.65it/s]\n"
     ]
    },
    {
     "name": "stdout",
     "output_type": "stream",
     "text": [
      "train loss:  0.0015631845635864108\n",
      "Val loss:  0.2687026290142018\n",
      "train accuracy:  0.9990328820116054\n",
      "Val accuracy:  0.6086956521739131\n",
      "Current time: 26.703 minutes. Time expected till completion: 10.907 minutes\n",
      "Epoch 72 of 100\n"
     ]
    },
    {
     "name": "stderr",
     "output_type": "stream",
     "text": [
      "100%|██████████| 130/130 [00:16<00:00,  8.08it/s]\n",
      "100%|██████████| 15/15 [00:01<00:00, 14.74it/s]\n"
     ]
    },
    {
     "name": "stdout",
     "output_type": "stream",
     "text": [
      "train loss:  0.0014375631462280932\n",
      "Val loss:  0.263339327664479\n",
      "train accuracy:  0.9990328820116054\n",
      "Val accuracy:  0.6608695652173913\n",
      "Current time: 26.988 minutes. Time expected till completion: 10.495 minutes\n",
      "Epoch 73 of 100\n"
     ]
    },
    {
     "name": "stderr",
     "output_type": "stream",
     "text": [
      "100%|██████████| 130/130 [00:15<00:00,  8.55it/s]\n",
      "100%|██████████| 15/15 [00:01<00:00, 14.88it/s]\n"
     ]
    },
    {
     "name": "stdout",
     "output_type": "stream",
     "text": [
      "train loss:  0.0023574677080772113\n",
      "Val loss:  0.28542719159437263\n",
      "train accuracy:  0.9970986460348162\n",
      "Val accuracy:  0.591304347826087\n",
      "Current time: 27.258 minutes. Time expected till completion: 10.082 minutes\n",
      "Epoch 74 of 100\n"
     ]
    },
    {
     "name": "stderr",
     "output_type": "stream",
     "text": [
      "100%|██████████| 130/130 [00:15<00:00,  8.33it/s]\n",
      "100%|██████████| 15/15 [00:01<00:00, 14.66it/s]\n"
     ]
    },
    {
     "name": "stdout",
     "output_type": "stream",
     "text": [
      "train loss:  0.0014292820973004976\n",
      "Val loss:  0.268885226936444\n",
      "train accuracy:  0.9990328820116054\n",
      "Val accuracy:  0.6260869565217392\n",
      "Current time: 27.536 minutes. Time expected till completion: 9.675 minutes\n",
      "Epoch 75 of 100\n"
     ]
    },
    {
     "name": "stderr",
     "output_type": "stream",
     "text": [
      "100%|██████████| 130/130 [00:15<00:00,  8.51it/s]\n",
      "100%|██████████| 15/15 [00:01<00:00, 14.97it/s]\n"
     ]
    },
    {
     "name": "stdout",
     "output_type": "stream",
     "text": [
      "train loss:  0.002516261018735309\n",
      "Val loss:  0.25704685397770094\n",
      "train accuracy:  0.9980657640232108\n",
      "Val accuracy:  0.6782608695652174\n",
      "Best model at the moment with Val_acc 67.83, saving...\n",
      "Current time: 27.808 minutes. Time expected till completion: 9.269 minutes\n",
      "Epoch 76 of 100\n"
     ]
    },
    {
     "name": "stderr",
     "output_type": "stream",
     "text": [
      "100%|██████████| 130/130 [00:15<00:00,  8.19it/s]\n",
      "100%|██████████| 15/15 [00:01<00:00, 10.48it/s]\n"
     ]
    },
    {
     "name": "stdout",
     "output_type": "stream",
     "text": [
      "train loss:  0.0011489146922280871\n",
      "Val loss:  0.2534791604332302\n",
      "train accuracy:  0.9990328820116054\n",
      "Val accuracy:  0.6434782608695652\n",
      "Current time: 28.097 minutes. Time expected till completion: 8.873 minutes\n",
      "Epoch 77 of 100\n"
     ]
    },
    {
     "name": "stderr",
     "output_type": "stream",
     "text": [
      "100%|██████████| 130/130 [00:16<00:00,  7.68it/s]\n",
      "100%|██████████| 15/15 [00:01<00:00, 13.24it/s]\n"
     ]
    },
    {
     "name": "stdout",
     "output_type": "stream",
     "text": [
      "train loss:  0.0012469524135139845\n",
      "Val loss:  0.26475620490053425\n",
      "train accuracy:  0.9990328820116054\n",
      "Val accuracy:  0.6782608695652174\n",
      "Current time: 28.398 minutes. Time expected till completion: 8.482 minutes\n",
      "Epoch 78 of 100\n"
     ]
    },
    {
     "name": "stderr",
     "output_type": "stream",
     "text": [
      "100%|██████████| 130/130 [00:16<00:00,  7.92it/s]\n",
      "100%|██████████| 15/15 [00:01<00:00, 10.84it/s]\n"
     ]
    },
    {
     "name": "stdout",
     "output_type": "stream",
     "text": [
      "train loss:  0.0011678903400067085\n",
      "Val loss:  0.26233462046669875\n",
      "train accuracy:  0.9990328820116054\n",
      "Val accuracy:  0.6695652173913044\n",
      "Current time: 28.695 minutes. Time expected till completion: 8.093 minutes\n",
      "Epoch 79 of 100\n"
     ]
    },
    {
     "name": "stderr",
     "output_type": "stream",
     "text": [
      "100%|██████████| 130/130 [00:17<00:00,  7.51it/s]\n",
      "100%|██████████| 15/15 [00:01<00:00, 13.61it/s]\n"
     ]
    },
    {
     "name": "stdout",
     "output_type": "stream",
     "text": [
      "train loss:  0.0018255104171005221\n",
      "Val loss:  0.26831310313680895\n",
      "train accuracy:  0.9980657640232108\n",
      "Val accuracy:  0.6521739130434783\n",
      "Current time: 29.002 minutes. Time expected till completion: 7.709 minutes\n",
      "Epoch 80 of 100\n"
     ]
    },
    {
     "name": "stderr",
     "output_type": "stream",
     "text": [
      "100%|██████████| 130/130 [00:17<00:00,  7.54it/s]\n",
      "100%|██████████| 15/15 [00:01<00:00, 13.06it/s]\n"
     ]
    },
    {
     "name": "stdout",
     "output_type": "stream",
     "text": [
      "train loss:  0.0018010101924627628\n",
      "Val loss:  0.2586682696705279\n",
      "train accuracy:  0.9980657640232108\n",
      "Val accuracy:  0.6608695652173913\n",
      "Current time: 29.308 minutes. Time expected till completion: 7.327 minutes\n",
      "Epoch 81 of 100\n"
     ]
    },
    {
     "name": "stderr",
     "output_type": "stream",
     "text": [
      "100%|██████████| 130/130 [00:17<00:00,  7.59it/s]\n",
      "100%|██████████| 15/15 [00:01<00:00, 14.28it/s]\n"
     ]
    },
    {
     "name": "stdout",
     "output_type": "stream",
     "text": [
      "train loss:  0.00337850318101822\n",
      "Val loss:  0.26555057906586194\n",
      "train accuracy:  0.9932301740812379\n",
      "Val accuracy:  0.6434782608695652\n",
      "Current time: 29.612 minutes. Time expected till completion: 6.946 minutes\n",
      "Epoch 82 of 100\n"
     ]
    },
    {
     "name": "stderr",
     "output_type": "stream",
     "text": [
      "100%|██████████| 130/130 [00:16<00:00,  8.02it/s]\n",
      "100%|██████████| 15/15 [00:01<00:00, 10.92it/s]\n"
     ]
    },
    {
     "name": "stdout",
     "output_type": "stream",
     "text": [
      "train loss:  0.0019797015637473465\n",
      "Val loss:  0.2709356283364089\n",
      "train accuracy:  0.9970986460348162\n",
      "Val accuracy:  0.6173913043478261\n",
      "Current time: 29.905 minutes. Time expected till completion: 6.565 minutes\n",
      "Epoch 83 of 100\n"
     ]
    },
    {
     "name": "stderr",
     "output_type": "stream",
     "text": [
      "100%|██████████| 130/130 [00:17<00:00,  7.56it/s]\n",
      "100%|██████████| 15/15 [00:01<00:00, 13.99it/s]\n"
     ]
    },
    {
     "name": "stdout",
     "output_type": "stream",
     "text": [
      "train loss:  0.001007406906819333\n",
      "Val loss:  0.33137771033722424\n",
      "train accuracy:  0.9990328820116054\n",
      "Val accuracy:  0.6173913043478261\n",
      "Current time: 30.210 minutes. Time expected till completion: 6.188 minutes\n",
      "Epoch 84 of 100\n"
     ]
    },
    {
     "name": "stderr",
     "output_type": "stream",
     "text": [
      "100%|██████████| 130/130 [00:16<00:00,  7.74it/s]\n",
      "100%|██████████| 15/15 [00:01<00:00, 10.90it/s]\n"
     ]
    },
    {
     "name": "stdout",
     "output_type": "stream",
     "text": [
      "train loss:  0.0021285233105992406\n",
      "Val loss:  0.2647167049024416\n",
      "train accuracy:  0.9980657640232108\n",
      "Val accuracy:  0.6434782608695652\n",
      "Current time: 30.513 minutes. Time expected till completion: 5.812 minutes\n",
      "Epoch 85 of 100\n"
     ]
    },
    {
     "name": "stderr",
     "output_type": "stream",
     "text": [
      "100%|██████████| 130/130 [00:15<00:00,  8.13it/s]\n",
      "100%|██████████| 15/15 [00:01<00:00, 13.73it/s]\n"
     ]
    },
    {
     "name": "stdout",
     "output_type": "stream",
     "text": [
      "train loss:  0.0011962742982788023\n",
      "Val loss:  0.3000690790622131\n",
      "train accuracy:  0.9990328820116054\n",
      "Val accuracy:  0.6260869565217392\n",
      "Current time: 30.798 minutes. Time expected till completion: 5.435 minutes\n",
      "Epoch 86 of 100\n"
     ]
    },
    {
     "name": "stderr",
     "output_type": "stream",
     "text": [
      "100%|██████████| 130/130 [00:16<00:00,  7.70it/s]\n",
      "100%|██████████| 15/15 [00:01<00:00, 12.88it/s]\n"
     ]
    },
    {
     "name": "stdout",
     "output_type": "stream",
     "text": [
      "train loss:  0.003244923559533309\n",
      "Val loss:  0.2796962812542915\n",
      "train accuracy:  0.9932301740812379\n",
      "Val accuracy:  0.6347826086956522\n",
      "Current time: 31.099 minutes. Time expected till completion: 5.063 minutes\n",
      "Epoch 87 of 100\n"
     ]
    },
    {
     "name": "stderr",
     "output_type": "stream",
     "text": [
      "100%|██████████| 130/130 [00:15<00:00,  8.18it/s]\n",
      "100%|██████████| 15/15 [00:01<00:00, 13.89it/s]\n"
     ]
    },
    {
     "name": "stdout",
     "output_type": "stream",
     "text": [
      "train loss:  0.0017662422220203287\n",
      "Val loss:  0.2846508812645207\n",
      "train accuracy:  0.9980657640232108\n",
      "Val accuracy:  0.6173913043478261\n",
      "Current time: 31.382 minutes. Time expected till completion: 4.689 minutes\n",
      "Epoch 88 of 100\n"
     ]
    },
    {
     "name": "stderr",
     "output_type": "stream",
     "text": [
      "100%|██████████| 130/130 [00:16<00:00,  7.95it/s]\n",
      "100%|██████████| 15/15 [00:01<00:00, 14.70it/s]\n"
     ]
    },
    {
     "name": "stdout",
     "output_type": "stream",
     "text": [
      "train loss:  0.0019104828305629836\n",
      "Val loss:  0.27477484196424484\n",
      "train accuracy:  0.9980657640232108\n",
      "Val accuracy:  0.6347826086956522\n",
      "Current time: 31.672 minutes. Time expected till completion: 4.319 minutes\n",
      "Epoch 89 of 100\n"
     ]
    },
    {
     "name": "stderr",
     "output_type": "stream",
     "text": [
      "100%|██████████| 130/130 [00:16<00:00,  8.01it/s]\n",
      "100%|██████████| 15/15 [00:01<00:00, 12.98it/s]\n"
     ]
    },
    {
     "name": "stdout",
     "output_type": "stream",
     "text": [
      "train loss:  0.001609871929586411\n",
      "Val loss:  0.27370466771333113\n",
      "train accuracy:  0.9980657640232108\n",
      "Val accuracy:  0.6173913043478261\n",
      "Current time: 31.962 minutes. Time expected till completion: 3.950 minutes\n",
      "Epoch 90 of 100\n"
     ]
    },
    {
     "name": "stderr",
     "output_type": "stream",
     "text": [
      "100%|██████████| 130/130 [00:16<00:00,  7.87it/s]\n",
      "100%|██████████| 15/15 [00:01<00:00, 13.93it/s]\n"
     ]
    },
    {
     "name": "stdout",
     "output_type": "stream",
     "text": [
      "train loss:  0.0011644590178664347\n",
      "Val loss:  0.2733007091542949\n",
      "train accuracy:  0.9990328820116054\n",
      "Val accuracy:  0.6434782608695652\n",
      "Current time: 32.255 minutes. Time expected till completion: 3.584 minutes\n",
      "Epoch 91 of 100\n"
     ]
    },
    {
     "name": "stderr",
     "output_type": "stream",
     "text": [
      "100%|██████████| 130/130 [00:16<00:00,  7.72it/s]\n",
      "100%|██████████| 15/15 [00:01<00:00, 14.22it/s]\n"
     ]
    },
    {
     "name": "stdout",
     "output_type": "stream",
     "text": [
      "train loss:  0.001474781039310135\n",
      "Val loss:  0.27905551344156265\n",
      "train accuracy:  0.9980657640232108\n",
      "Val accuracy:  0.6434782608695652\n",
      "Current time: 32.554 minutes. Time expected till completion: 3.220 minutes\n",
      "Epoch 92 of 100\n"
     ]
    },
    {
     "name": "stderr",
     "output_type": "stream",
     "text": [
      "100%|██████████| 130/130 [00:16<00:00,  7.80it/s]\n",
      "100%|██████████| 15/15 [00:01<00:00, 11.74it/s]\n"
     ]
    },
    {
     "name": "stdout",
     "output_type": "stream",
     "text": [
      "train loss:  0.0010632667570750723\n",
      "Val loss:  0.27904202886249707\n",
      "train accuracy:  0.9990328820116054\n",
      "Val accuracy:  0.6434782608695652\n",
      "Current time: 32.853 minutes. Time expected till completion: 2.857 minutes\n",
      "Epoch 93 of 100\n"
     ]
    },
    {
     "name": "stderr",
     "output_type": "stream",
     "text": [
      "100%|██████████| 130/130 [00:16<00:00,  7.86it/s]\n",
      "100%|██████████| 15/15 [00:01<00:00, 12.34it/s]\n"
     ]
    },
    {
     "name": "stdout",
     "output_type": "stream",
     "text": [
      "train loss:  0.0009581296825332804\n",
      "Val loss:  0.27692166216995406\n",
      "train accuracy:  0.9990328820116054\n",
      "Val accuracy:  0.6608695652173913\n",
      "Current time: 33.149 minutes. Time expected till completion: 2.495 minutes\n",
      "Epoch 94 of 100\n"
     ]
    },
    {
     "name": "stderr",
     "output_type": "stream",
     "text": [
      "100%|██████████| 130/130 [00:16<00:00,  7.75it/s]\n",
      "100%|██████████| 15/15 [00:01<00:00, 11.70it/s]\n"
     ]
    },
    {
     "name": "stdout",
     "output_type": "stream",
     "text": [
      "train loss:  0.0009582433741489278\n",
      "Val loss:  0.27706351079370667\n",
      "train accuracy:  0.9990328820116054\n",
      "Val accuracy:  0.6434782608695652\n",
      "Current time: 33.451 minutes. Time expected till completion: 2.135 minutes\n",
      "Epoch 95 of 100\n"
     ]
    },
    {
     "name": "stderr",
     "output_type": "stream",
     "text": [
      "100%|██████████| 130/130 [00:15<00:00,  8.18it/s]\n",
      "100%|██████████| 15/15 [00:01<00:00, 13.37it/s]\n"
     ]
    },
    {
     "name": "stdout",
     "output_type": "stream",
     "text": [
      "train loss:  0.0015287972101993776\n",
      "Val loss:  0.2816503282474435\n",
      "train accuracy:  0.9980657640232108\n",
      "Val accuracy:  0.6434782608695652\n",
      "Current time: 33.734 minutes. Time expected till completion: 1.775 minutes\n",
      "Epoch 96 of 100\n"
     ]
    },
    {
     "name": "stderr",
     "output_type": "stream",
     "text": [
      "100%|██████████| 130/130 [00:15<00:00,  8.27it/s]\n",
      "100%|██████████| 15/15 [00:01<00:00, 12.03it/s]\n"
     ]
    },
    {
     "name": "stdout",
     "output_type": "stream",
     "text": [
      "train loss:  0.0014722779737094173\n",
      "Val loss:  0.27378711557906604\n",
      "train accuracy:  0.9980657640232108\n",
      "Val accuracy:  0.6608695652173913\n",
      "Current time: 34.017 minutes. Time expected till completion: 1.417 minutes\n",
      "Epoch 97 of 100\n"
     ]
    },
    {
     "name": "stderr",
     "output_type": "stream",
     "text": [
      "100%|██████████| 130/130 [00:16<00:00,  8.07it/s]\n",
      "100%|██████████| 15/15 [00:01<00:00, 13.80it/s]\n"
     ]
    },
    {
     "name": "stdout",
     "output_type": "stream",
     "text": [
      "train loss:  0.0015990286441420216\n",
      "Val loss:  0.27133438282686734\n",
      "train accuracy:  0.9980657640232108\n",
      "Val accuracy:  0.6608695652173913\n",
      "Current time: 34.304 minutes. Time expected till completion: 1.061 minutes\n",
      "Epoch 98 of 100\n"
     ]
    },
    {
     "name": "stderr",
     "output_type": "stream",
     "text": [
      "100%|██████████| 130/130 [00:16<00:00,  7.98it/s]\n",
      "100%|██████████| 15/15 [00:01<00:00, 13.92it/s]\n"
     ]
    },
    {
     "name": "stdout",
     "output_type": "stream",
     "text": [
      "train loss:  0.0014051416401713313\n",
      "Val loss:  0.2702173274496327\n",
      "train accuracy:  0.9980657640232108\n",
      "Val accuracy:  0.6521739130434783\n",
      "Current time: 34.594 minutes. Time expected till completion: 0.706 minutes\n",
      "Epoch 99 of 100\n"
     ]
    },
    {
     "name": "stderr",
     "output_type": "stream",
     "text": [
      "100%|██████████| 130/130 [00:15<00:00,  8.19it/s]\n",
      "100%|██████████| 15/15 [00:58<00:00,  3.93s/it]\n"
     ]
    },
    {
     "name": "stdout",
     "output_type": "stream",
     "text": [
      "train loss:  0.0008640616971018095\n",
      "Val loss:  0.2725302006887353\n",
      "train accuracy:  0.9990328820116054\n",
      "Val accuracy:  0.6695652173913044\n",
      "Current time: 35.842 minutes. Time expected till completion: 0.362 minutes\n",
      "Epoch 100 of 100\n"
     ]
    },
    {
     "name": "stderr",
     "output_type": "stream",
     "text": [
      "100%|██████████| 130/130 [00:48<00:00,  2.70it/s]\n",
      "100%|██████████| 15/15 [00:01<00:00, 14.18it/s]\n"
     ]
    },
    {
     "name": "stdout",
     "output_type": "stream",
     "text": [
      "train loss:  0.0013092963180175534\n",
      "Val loss:  0.26913777926693794\n",
      "train accuracy:  0.9980657640232108\n",
      "Val accuracy:  0.6869565217391305\n",
      "Best model at the moment with Val_acc 68.7, saving...\n",
      "Saving model 2 checkpoint\n"
     ]
    },
    {
     "data": {
      "image/png": "[encoded data removed]",
      "text/plain": [
       "<Figure size 1500x600 with 2 Axes>"
      ]
     },
     "metadata": {},
     "output_type": "display_data"
    },
    {
     "data": {
      "image/png": "[encoded data removed]",
      "text/plain": [
       "<Figure size 1500x600 with 2 Axes>"
      ]
     },
     "metadata": {},
     "output_type": "display_data"
    },
    {
     "name": "stdout",
     "output_type": "stream",
     "text": [
      "Current time: 38.795 minutes. Time expected till completion: 0.000 minutes\n",
      "Finished training in: 38.813 minutes\n"
     ]
    }
   ],
   "source": [
    "\n",
    "best_model_val_acc = -1\n",
    "\n",
    "train_loss, val_loss = [], []\n",
    "train_accuracy, val_accuracy = [], []\n",
    "\n",
    "# Load checkpoints\n",
    "names = os.listdir(model_checkpoints)\n",
    "for elem in names:\n",
    "    if(elem==\"metrics_losss_accuracy_m2.csv\"):\n",
    "        print(\"Loading Metrics\")\n",
    "        dd = pd.read_csv(model_checkpoints + \"metrics_losss_accuracy_m2.csv\")\n",
    "        train_loss = dd[\"train_loss\"].tolist()\n",
    "        val_loss = dd[\"val_loss\"].tolist()\n",
    "        train_accuracy = dd[\"train_accuracy\"].tolist()\n",
    "        val_accuracy = dd[\"val_accuracy\"].tolist()\n",
    "\n",
    "# count time\n",
    "start = time.time()\n",
    "for epoch in range(model_epoch_m2_check, model_epochs):\n",
    "    # Print current epoch\n",
    "    print(f\"Epoch {epoch + 1} of {model_epochs}\")\n",
    "    \n",
    "    if(epoch%10 == 0):\n",
    "        update_optimizer(optimizer_2, 0.001)\n",
    "        \n",
    "    ############################################################################\n",
    "    ################################ Train model ############################### \n",
    "    ############################################################################\n",
    "    modelpy.train()\n",
    "    running_loss=0\n",
    "    total=0\n",
    "    correct=0\n",
    "    # loop for every training batch (one epoch)\n",
    "    for bi, data in tqdm(enumerate(train_loader), total=len(train_loader)): # use tqdm package to track running time\n",
    "        \n",
    "        # Get the tensors\n",
    "        images = data[0].to(device)# use the gpu\n",
    "        labels = data[1].to(device)# use the gpu\n",
    "        \n",
    "        # Optimize second model\n",
    "        \n",
    "        #create the output from the CNN base on the give batch images\n",
    "        out_m2 = modelpy(images)\n",
    "        # count the loss function \n",
    "        loss_2 = criterion_2(out_m2, labels)    \n",
    "        \n",
    "        # BackPropagate on model 2\n",
    "        ######################\n",
    "        optimizer_2.zero_grad()\n",
    "        ######################\n",
    "        # count the backpropagation\n",
    "        loss_2.backward()\n",
    "        # learning\n",
    "        optimizer_2.step()\n",
    "        \n",
    "        \n",
    "        \n",
    "        # add new value to the main loss\n",
    "        running_loss += loss_2.item()\n",
    "        \n",
    "        # calculate accuracy\n",
    "        predictions = torch.argmax(out_m2, dim=1)\n",
    "        total += labels.size(0)\n",
    "        correct +=(predictions == labels).sum().item()\n",
    "        \n",
    "        \n",
    "    train_epoch_loss = running_loss/len(train_loader.dataset)\n",
    "    \n",
    "    train_epoch_accuracy = correct/total\n",
    "    \n",
    "    ############################################################################\n",
    "    ################################ Eval model ################################ \n",
    "    ############################################################################\n",
    "    modelpy.eval()\n",
    "    running_loss = 0.0\n",
    "    correct=0\n",
    "    total=0\n",
    "    with torch.no_grad():\n",
    "        for bi, data in tqdm(enumerate(valid_loader), total=len(valid_loader)):\n",
    "            # Get the tensors\n",
    "            images = data[0].to(device)# use the gpu\n",
    "            label = data[1].to(device)# use the gpu\n",
    "            \n",
    "            #create the output from the CNN base on the give batch images\n",
    "            outputs = modelpy(images)\n",
    "            # count the loss function\n",
    "            loss = criterion_2(outputs, label)\n",
    "            \n",
    "            # Add loss of each item (total items in a batch = batch size) .\n",
    "            running_loss += loss.item()\n",
    "            \n",
    "            # calculate accuracy\n",
    "            predictions = torch.argmax(outputs, dim=1)\n",
    "            total += label.size(0)\n",
    "            correct +=(predictions == label).sum().item()\n",
    "            \n",
    "    val_epoch_loss = running_loss/len(valid_loader.dataset) \n",
    "    val_epoch_accuracy = correct/total\n",
    "    \n",
    "    \n",
    "    print(\"train loss: \", train_epoch_loss)\n",
    "    print(\"Val loss: \", val_epoch_loss)\n",
    "    print(\"train accuracy: \", train_epoch_accuracy)\n",
    "    print(\"Val accuracy: \", val_epoch_accuracy)\n",
    "\n",
    "    \n",
    "    # save results\n",
    "    train_loss.append(train_epoch_loss)\n",
    "    val_loss.append(val_epoch_loss)\n",
    "    train_accuracy.append(train_epoch_accuracy)\n",
    "    val_accuracy.append(val_epoch_accuracy)\n",
    "    \n",
    "    # Save best model\n",
    "    if(best_model_val_acc < val_epoch_accuracy):\n",
    "        print(f\"Best model at the moment with Val_acc {round(val_epoch_accuracy*100,2)}, saving...\")\n",
    "        # Save Model\n",
    "        bestmodel_name = \"model_2_bestModel.pt\"\n",
    "        torch.save(modelpy, PATH+bestmodel_name)\n",
    "        best_model_val_acc = val_epoch_accuracy\n",
    "    \n",
    "    # Save model with all information every 100 epochs. Can be used \n",
    "    # resuming training. optim\n",
    "    if (epoch+1) % checkpoints_save == 0: # checkpoints_save\n",
    "        \n",
    "        end = time.time()\n",
    "        time_elapsed = (end-start)+previous_time\n",
    "        \n",
    "        # Save Model\n",
    "        print(\"Saving model 2 checkpoint\")\n",
    "        save_model(epoch, time_elapsed, modelpy, optimizer_2, criterion_2, path = model_checkpoints + \"model_ckpt_m2.pth\")\n",
    "        # save the metrics\n",
    "        save_metrics(train_loss, val_loss, train_accuracy, val_accuracy, path = model_checkpoints + \"metrics_losss_accuracy_m2.csv\")\n",
    "        \n",
    "        # save model at epoch\n",
    "        save_model(epoch, time_elapsed, modelpy, optimizer_2, criterion_2, path = model_checkpoints + \"model_ckpt_m2_\"+str(epoch+1)+\".pth\")\n",
    "        \n",
    "        \n",
    "        # Check the evolution at this point\n",
    "        plot_loss_accuracy(train_loss, val_loss, train_accuracy, val_accuracy)\n",
    "        \n",
    "        \n",
    "    ep_time = time.time()\n",
    "    print(f\"Current time: {(((ep_time-start)+previous_time)/60):.3f} minutes. Time expected till completion: {(((((ep_time-start)+previous_time)/(epoch + 1)) * (model_epochs-(epoch + 1)))/60):.3f} minutes\")\n",
    "    \n",
    "end = time.time()\n",
    "print(f\"Finished training in: {(((end-start)+previous_time)/60):.3f} minutes\") "
   ]
  },
  {
   "cell_type": "code",
   "execution_count": 18,
   "id": "4e5ed21a",
   "metadata": {},
   "outputs": [
    {
     "data": {
      "text/plain": [
       "0.6869565217391305"
      ]
     },
     "execution_count": 18,
     "metadata": {},
     "output_type": "execute_result"
    }
   ],
   "source": [
    "best_model_val_acc"
   ]
  },
  {
   "cell_type": "code",
   "execution_count": 19,
   "id": "ed221571",
   "metadata": {},
   "outputs": [
    {
     "data": {
      "image/png": "[encoded data removed]",
      "text/plain": [
       "<Figure size 1500x600 with 2 Axes>"
      ]
     },
     "metadata": {},
     "output_type": "display_data"
    },
    {
     "data": {
      "image/png": "[encoded data removed]",
      "text/plain": [
       "<Figure size 1500x600 with 2 Axes>"
      ]
     },
     "metadata": {},
     "output_type": "display_data"
    }
   ],
   "source": [
    "plot_loss_accuracy(train_loss, val_loss, train_accuracy, val_accuracy)"
   ]
  },
  {
   "cell_type": "markdown",
   "id": "bd64aa02",
   "metadata": {},
   "source": [
    "## Save model"
   ]
  },
  {
   "cell_type": "code",
   "execution_count": 20,
   "id": "1372dc3b",
   "metadata": {},
   "outputs": [],
   "source": [
    "# Save Model\n",
    "NAME2 = \"model_2.pt\"\n",
    "\n",
    "torch.save(modelpy, PATH+NAME2)"
   ]
  },
  {
   "cell_type": "markdown",
   "id": "659394e6",
   "metadata": {},
   "source": [
    "# Load Last Model"
   ]
  },
  {
   "cell_type": "code",
   "execution_count": 21,
   "id": "cec94a4a",
   "metadata": {},
   "outputs": [
    {
     "data": {
      "text/plain": [
       "ClassificationNet(\n",
       "  (model_fe): Sequential(\n",
       "    (0): Sequential(\n",
       "      (0): Conv2d(3, 64, kernel_size=(11, 11), stride=(4, 4), padding=(2, 2))\n",
       "      (1): ReLU(inplace=True)\n",
       "      (2): MaxPool2d(kernel_size=3, stride=2, padding=0, dilation=1, ceil_mode=False)\n",
       "      (3): Conv2d(64, 192, kernel_size=(5, 5), stride=(1, 1), padding=(2, 2))\n",
       "      (4): ReLU(inplace=True)\n",
       "      (5): MaxPool2d(kernel_size=3, stride=2, padding=0, dilation=1, ceil_mode=False)\n",
       "      (6): Conv2d(192, 384, kernel_size=(3, 3), stride=(1, 1), padding=(1, 1))\n",
       "      (7): ReLU(inplace=True)\n",
       "      (8): Conv2d(384, 256, kernel_size=(3, 3), stride=(1, 1), padding=(1, 1))\n",
       "      (9): ReLU(inplace=True)\n",
       "      (10): Conv2d(256, 256, kernel_size=(3, 3), stride=(1, 1), padding=(1, 1))\n",
       "      (11): ReLU(inplace=True)\n",
       "      (12): MaxPool2d(kernel_size=3, stride=2, padding=0, dilation=1, ceil_mode=False)\n",
       "    )\n",
       "    (1): AdaptiveAvgPool2d(output_size=(6, 6))\n",
       "  )\n",
       "  (flatten): Flatten(start_dim=1, end_dim=-1)\n",
       "  (last_classifier): Linear(in_features=9216, out_features=4, bias=True)\n",
       ")"
      ]
     },
     "execution_count": 21,
     "metadata": {},
     "output_type": "execute_result"
    }
   ],
   "source": [
    "# Load the model\n",
    "NAME = \"model_2.pt\"\n",
    "modelpy = torch.load(PATH+NAME, map_location=device)\n",
    "modelpy.eval()"
   ]
  },
  {
   "cell_type": "markdown",
   "id": "c59a28ee",
   "metadata": {},
   "source": [
    "## Evaluate Last Model"
   ]
  },
  {
   "cell_type": "code",
   "execution_count": 22,
   "id": "f3ae8b5b",
   "metadata": {},
   "outputs": [],
   "source": [
    "def accuracy_given_set(mm2, valid_loader, device, name=\"Validation\"):\n",
    "    # Evaluate the Validation Set\n",
    "    mm2.eval()\n",
    "    correct = 0\n",
    "    total = 0\n",
    "    with torch.no_grad():\n",
    "        for bi, data in tqdm(enumerate(valid_loader), total=len(valid_loader)):\n",
    "            new_images = data[0].to(device)\n",
    "\n",
    "            outputs = mm2(new_images)\n",
    "            predictions = torch.argmax(outputs, dim=1)\n",
    "\n",
    "            total += data[1].size(0)\n",
    "            correct +=(predictions == data[1].to(device)).sum().item()\n",
    "        \n",
    "    print(f'Accuracy of the network on the {total} {name} instances: {100 * correct / total}%')"
   ]
  },
  {
   "cell_type": "code",
   "execution_count": 23,
   "id": "22395e00",
   "metadata": {},
   "outputs": [
    {
     "name": "stderr",
     "output_type": "stream",
     "text": [
      "100%|██████████| 130/130 [00:11<00:00, 11.15it/s]\n"
     ]
    },
    {
     "name": "stdout",
     "output_type": "stream",
     "text": [
      "Accuracy of the network on the 1034 Train instances: 99.90328820116054%\n"
     ]
    },
    {
     "name": "stderr",
     "output_type": "stream",
     "text": [
      "100%|██████████| 15/15 [00:01<00:00, 10.18it/s]"
     ]
    },
    {
     "name": "stdout",
     "output_type": "stream",
     "text": [
      "Accuracy of the network on the 115 Validation instances: 68.69565217391305%\n"
     ]
    },
    {
     "name": "stderr",
     "output_type": "stream",
     "text": [
      "\n"
     ]
    }
   ],
   "source": [
    "# Calculate accuracy for Validation and Train sets\n",
    "accuracy_given_set(modelpy, train_loader, device, name=\"Train\")\n",
    "accuracy_given_set(modelpy, valid_loader, device, name=\"Validation\")"
   ]
  },
  {
   "cell_type": "markdown",
   "id": "684ca86a",
   "metadata": {},
   "source": [
    "## Test Predictions Last Model"
   ]
  },
  {
   "cell_type": "code",
   "execution_count": 24,
   "id": "bf9cecb3",
   "metadata": {},
   "outputs": [],
   "source": [
    "def make_predictions(mm2, loader, device):\n",
    "    # Evaluate the Validation Set\n",
    "    mm2.eval()\n",
    "    predictions_list = []\n",
    "    name_list = []\n",
    "    \n",
    "    with torch.no_grad():\n",
    "        for bi, data in tqdm(enumerate(loader), total=len(loader)):\n",
    "            new_images = data[0].to(device)\n",
    "        \n",
    "            outputs = mm2(new_images)\n",
    "            predictions = torch.argmax(outputs, dim=1)\n",
    "        \n",
    "            predictions_list.append(predictions[0].item())\n",
    "            name_list.append(data[1][0])\n",
    "        \n",
    "    return(predictions_list, name_list)"
   ]
  },
  {
   "cell_type": "code",
   "execution_count": 25,
   "id": "9e74681b",
   "metadata": {},
   "outputs": [
    {
     "name": "stderr",
     "output_type": "stream",
     "text": [
      "100%|██████████| 380/380 [01:10<00:00,  5.41it/s]\n"
     ]
    },
    {
     "data": {
      "text/plain": [
       "(array([0, 1, 2]), array([162, 168,  50], dtype=int64))"
      ]
     },
     "execution_count": 25,
     "metadata": {},
     "output_type": "execute_result"
    }
   ],
   "source": [
    "pred, names = make_predictions(modelpy, test_loader, device)\n",
    "\n",
    "np.unique(np.array(pred),return_counts=True)"
   ]
  },
  {
   "cell_type": "code",
   "execution_count": 26,
   "id": "7c810cb5",
   "metadata": {},
   "outputs": [],
   "source": [
    "save_predictions_as_csv(names, pred, name=\"GGCv2_plus_clas_v01_AlexNet_prediction.csv\")"
   ]
  },
  {
   "attachments": {
    "image-3.png": {
     "image/png": "[encoded data removed]"
    }
   },
   "cell_type": "markdown",
   "id": "de614b36",
   "metadata": {},
   "source": [
    "![image-3.png](attachment:image-3.png)"
   ]
  },
  {
   "cell_type": "markdown",
   "id": "40cafa2a",
   "metadata": {},
   "source": [
    "# Load Best Model"
   ]
  },
  {
   "cell_type": "code",
   "execution_count": 27,
   "id": "7ec7342e",
   "metadata": {},
   "outputs": [
    {
     "data": {
      "text/plain": [
       "ClassificationNet(\n",
       "  (model_fe): Sequential(\n",
       "    (0): Sequential(\n",
       "      (0): Conv2d(3, 64, kernel_size=(11, 11), stride=(4, 4), padding=(2, 2))\n",
       "      (1): ReLU(inplace=True)\n",
       "      (2): MaxPool2d(kernel_size=3, stride=2, padding=0, dilation=1, ceil_mode=False)\n",
       "      (3): Conv2d(64, 192, kernel_size=(5, 5), stride=(1, 1), padding=(2, 2))\n",
       "      (4): ReLU(inplace=True)\n",
       "      (5): MaxPool2d(kernel_size=3, stride=2, padding=0, dilation=1, ceil_mode=False)\n",
       "      (6): Conv2d(192, 384, kernel_size=(3, 3), stride=(1, 1), padding=(1, 1))\n",
       "      (7): ReLU(inplace=True)\n",
       "      (8): Conv2d(384, 256, kernel_size=(3, 3), stride=(1, 1), padding=(1, 1))\n",
       "      (9): ReLU(inplace=True)\n",
       "      (10): Conv2d(256, 256, kernel_size=(3, 3), stride=(1, 1), padding=(1, 1))\n",
       "      (11): ReLU(inplace=True)\n",
       "      (12): MaxPool2d(kernel_size=3, stride=2, padding=0, dilation=1, ceil_mode=False)\n",
       "    )\n",
       "    (1): AdaptiveAvgPool2d(output_size=(6, 6))\n",
       "  )\n",
       "  (flatten): Flatten(start_dim=1, end_dim=-1)\n",
       "  (last_classifier): Linear(in_features=9216, out_features=4, bias=True)\n",
       ")"
      ]
     },
     "execution_count": 27,
     "metadata": {},
     "output_type": "execute_result"
    }
   ],
   "source": [
    "# Load the model\n",
    "NAME = \"model_2_bestModel.pt\"\n",
    "modelpy_bestModel = torch.load(PATH+NAME, map_location=device)\n",
    "modelpy_bestModel.eval()"
   ]
  },
  {
   "cell_type": "markdown",
   "id": "f0364695",
   "metadata": {},
   "source": [
    "## Evaluate Best Model"
   ]
  },
  {
   "cell_type": "code",
   "execution_count": 28,
   "id": "bea07e43",
   "metadata": {},
   "outputs": [
    {
     "name": "stderr",
     "output_type": "stream",
     "text": [
      "100%|██████████| 130/130 [00:12<00:00, 10.29it/s]\n"
     ]
    },
    {
     "name": "stdout",
     "output_type": "stream",
     "text": [
      "Accuracy of the network on the 1034 Train instances: 99.90328820116054%\n"
     ]
    },
    {
     "name": "stderr",
     "output_type": "stream",
     "text": [
      "100%|██████████| 15/15 [00:01<00:00, 13.47it/s]"
     ]
    },
    {
     "name": "stdout",
     "output_type": "stream",
     "text": [
      "Accuracy of the network on the 115 Validation instances: 68.69565217391305%\n"
     ]
    },
    {
     "name": "stderr",
     "output_type": "stream",
     "text": [
      "\n"
     ]
    }
   ],
   "source": [
    "# Calculate accuracy for Validation and Train sets\n",
    "accuracy_given_set(modelpy_bestModel, train_loader, device, name=\"Train\")\n",
    "accuracy_given_set(modelpy_bestModel, valid_loader, device, name=\"Validation\")"
   ]
  },
  {
   "cell_type": "markdown",
   "id": "d9849f30",
   "metadata": {},
   "source": [
    "## Test Predictions Best Model"
   ]
  },
  {
   "cell_type": "code",
   "execution_count": 29,
   "id": "6ab75bc9",
   "metadata": {},
   "outputs": [
    {
     "name": "stderr",
     "output_type": "stream",
     "text": [
      "100%|██████████| 380/380 [00:05<00:00, 74.60it/s]\n"
     ]
    },
    {
     "data": {
      "text/plain": [
       "(array([0, 1, 2]), array([162, 168,  50], dtype=int64))"
      ]
     },
     "execution_count": 29,
     "metadata": {},
     "output_type": "execute_result"
    }
   ],
   "source": [
    "pred, names = make_predictions(modelpy_bestModel, test_loader, device)\n",
    "\n",
    "np.unique(np.array(pred),return_counts=True)"
   ]
  },
  {
   "cell_type": "code",
   "execution_count": 30,
   "id": "0e32a2e4",
   "metadata": {},
   "outputs": [],
   "source": [
    "save_predictions_as_csv(names, pred, name=\"GGCv2_plus_clas_v01_AlexNet_best_prediction.csv\")"
   ]
  },
  {
   "attachments": {
    "image-3.png": {
     "image/png": "[encoded data removed]"
    }
   },
   "cell_type": "markdown",
   "id": "f60af6e1",
   "metadata": {},
   "source": [
    "![image-3.png](attachment:image-3.png)"
   ]
  },
  {
   "cell_type": "code",
   "execution_count": null,
   "id": "dff142f5",
   "metadata": {},
   "outputs": [],
   "source": []
  }
 ],
 "metadata": {
  "kernelspec": {
   "display_name": "Python 3 (ipykernel)",
   "language": "python",
   "name": "python3"
  },
  "language_info": {
   "codemirror_mode": {
    "name": "ipython",
    "version": 3
   },
   "file_extension": ".py",
   "mimetype": "text/x-python",
   "name": "python",
   "nbconvert_exporter": "python",
   "pygments_lexer": "ipython3",
   "version": "3.8.13"
  }
 },
 "nbformat": 4,
 "nbformat_minor": 5
}
